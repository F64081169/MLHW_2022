{
  "cells": [
    {
      "cell_type": "markdown",
      "metadata": {
        "id": "view-in-github",
        "colab_type": "text"
      },
      "source": [
        "<a href=\"https://colab.research.google.com/github/F64081169/MLHW_2022/blob/main/ML2022Spring_HW1.ipynb\" target=\"_parent\"><img src=\"https://colab.research.google.com/assets/colab-badge.svg\" alt=\"Open In Colab\"/></a>"
      ]
    },
    {
      "cell_type": "markdown",
      "metadata": {
        "id": "guE34D3Fj2R9"
      },
      "source": [
        "# **Homework 1: COVID-19 Cases Prediction (Regression)**"
      ]
    },
    {
      "cell_type": "markdown",
      "source": [
        "Objectives:\n",
        "* Solve a regression problem with deep neural networks (DNN).\n",
        "* Understand basic DNN training tips.\n",
        "* Familiarize yourself with PyTorch.\n",
        "\n",
        "If you have any questions, please contact the TAs via TA hours, NTU COOL, or email to mlta-2022-spring@googlegroups.com"
      ],
      "metadata": {
        "id": "V57zhcTp1Xxb"
      }
    },
    {
      "cell_type": "markdown",
      "metadata": {
        "id": "Tm2aXcb-j9Fc"
      },
      "source": [
        "# Download data\n",
        "If the Google Drive links below do not work, you can download data from [Kaggle](https://www.kaggle.com/c/ml2022spring-hw1/data), and upload data manually to the workspace."
      ]
    },
    {
      "cell_type": "code",
      "execution_count": 13,
      "metadata": {
        "id": "YPmfl-awlKZA",
        "outputId": "8e2b7c09-cf52-4240-bec3-8fe9cc0e2627",
        "colab": {
          "base_uri": "https://localhost:8080/"
        }
      },
      "outputs": [
        {
          "output_type": "stream",
          "name": "stdout",
          "text": [
            "Downloading...\n",
            "From: https://drive.google.com/uc?id=1kLSW_-cW2Huj7bh84YTdimGBOJaODiOS\n",
            "To: /content/covid.train.csv\n",
            "100% 2.49M/2.49M [00:00<00:00, 185MB/s]\n",
            "Downloading...\n",
            "From: https://drive.google.com/uc?id=1iiI5qROrAhZn-o4FPqsE97bMzDEFvIdg\n",
            "To: /content/covid.test.csv\n",
            "100% 993k/993k [00:00<00:00, 120MB/s]\n"
          ]
        }
      ],
      "source": [
        "!gdown --id '1kLSW_-cW2Huj7bh84YTdimGBOJaODiOS' --output covid.train.csv\n",
        "!gdown --id '1iiI5qROrAhZn-o4FPqsE97bMzDEFvIdg' --output covid.test.csv"
      ]
    },
    {
      "cell_type": "markdown",
      "metadata": {
        "id": "igqIMEgu64-F"
      },
      "source": [
        "# Import packages"
      ]
    },
    {
      "cell_type": "code",
      "execution_count": 14,
      "metadata": {
        "id": "xybQNYCXYu13"
      },
      "outputs": [],
      "source": [
        "# Numerical Operations\n",
        "import math\n",
        "import numpy as np\n",
        "\n",
        "# Reading/Writing Data\n",
        "import pandas as pd\n",
        "import os\n",
        "import csv\n",
        "\n",
        "# For Progress Bar\n",
        "from tqdm import tqdm\n",
        "\n",
        "# Pytorch\n",
        "import torch \n",
        "import torch.nn as nn\n",
        "from torch.utils.data import Dataset, DataLoader, random_split\n",
        "\n",
        "# For plotting learning curve\n",
        "from torch.utils.tensorboard import SummaryWriter"
      ]
    },
    {
      "cell_type": "markdown",
      "source": [
        "# Some Utility Functions\n",
        "\n",
        "You do not need to modify this part."
      ],
      "metadata": {
        "id": "fTAVqRfc2KK3"
      }
    },
    {
      "cell_type": "code",
      "source": [
        "def same_seed(seed): \n",
        "    '''Fixes random number generator seeds for reproducibility.'''\n",
        "    torch.backends.cudnn.deterministic = True\n",
        "    torch.backends.cudnn.benchmark = False\n",
        "    np.random.seed(seed)\n",
        "    torch.manual_seed(seed)\n",
        "    if torch.cuda.is_available():\n",
        "        torch.cuda.manual_seed_all(seed)\n",
        "\n",
        "def train_valid_split(data_set, valid_ratio, seed):\n",
        "    '''Split provided training data into training set and validation set'''\n",
        "    valid_set_size = int(valid_ratio * len(data_set)) \n",
        "    train_set_size = len(data_set) - valid_set_size\n",
        "    train_set, valid_set = random_split(data_set, [train_set_size, valid_set_size], generator=torch.Generator().manual_seed(seed))\n",
        "    return np.array(train_set), np.array(valid_set)\n",
        "\n",
        "def predict(test_loader, model, device):\n",
        "    model.eval() # Set your model to evaluation mode.\n",
        "    preds = []\n",
        "    for x in tqdm(test_loader):\n",
        "        x = x.to(device)                        \n",
        "        with torch.no_grad():                   \n",
        "            pred = model(x)                     \n",
        "            preds.append(pred.detach().cpu())   \n",
        "    preds = torch.cat(preds, dim=0).numpy()  \n",
        "    return preds"
      ],
      "metadata": {
        "id": "RbrcpfYN2I-H"
      },
      "execution_count": 15,
      "outputs": []
    },
    {
      "cell_type": "markdown",
      "metadata": {
        "id": "IqO3lTm78nNO"
      },
      "source": [
        "# Dataset"
      ]
    },
    {
      "cell_type": "code",
      "execution_count": 16,
      "metadata": {
        "id": "-mjaJM0wprMs"
      },
      "outputs": [],
      "source": [
        "class COVID19Dataset(Dataset):\n",
        "    '''\n",
        "    x: Features.\n",
        "    y: Targets, if none, do prediction.\n",
        "    '''\n",
        "    def __init__(self, x, y=None):\n",
        "        if y is None:\n",
        "            self.y = y\n",
        "        else:\n",
        "            self.y = torch.FloatTensor(y)\n",
        "        self.x = torch.FloatTensor(x)\n",
        "\n",
        "    def __getitem__(self, idx):\n",
        "        if self.y is None:\n",
        "            return self.x[idx]\n",
        "        else:\n",
        "            return self.x[idx], self.y[idx]\n",
        "\n",
        "    def __len__(self):\n",
        "        return len(self.x)"
      ]
    },
    {
      "cell_type": "markdown",
      "source": [
        "# Neural Network Model\n",
        "Try out different model architectures by modifying the class below."
      ],
      "metadata": {
        "id": "m73ooU75CL_j"
      }
    },
    {
      "cell_type": "code",
      "execution_count": 17,
      "metadata": {
        "id": "Qn97_WvvrEkG"
      },
      "outputs": [],
      "source": [
        "class My_Model(nn.Module):\n",
        "    def __init__(self, input_dim):\n",
        "        super(My_Model, self).__init__()\n",
        "        # TODO: modify model's structure, be aware of dimensions. \n",
        "        self.layers = nn.Sequential(\n",
        "            nn.Linear(input_dim, 32),\n",
        "            nn.Dropout(0.5),\n",
        "            nn.ReLU(),\n",
        "            nn.Linear(32, 16),\n",
        "            nn.Dropout(0.5),\n",
        "            nn.ReLU(),\n",
        "            nn.Linear(16, 8),\n",
        "            nn.ReLU(),\n",
        "            nn.Linear(8, 1)\n",
        "        )\n",
        "\n",
        "    def forward(self, x):\n",
        "        x = self.layers(x)\n",
        "        x = x.squeeze(1) # (B, 1) -> (B)\n",
        "        return x"
      ]
    },
    {
      "cell_type": "markdown",
      "metadata": {
        "id": "x5-LKF6R8xeq"
      },
      "source": [
        "# Feature Selection\n",
        "Choose features you deem useful by modifying the function below."
      ]
    },
    {
      "cell_type": "code",
      "source": [
        "def select_feat(train_data, valid_data, test_data, select_all=True):\n",
        "    '''Selects useful features to perform regression'''\n",
        "    y_train, y_valid = train_data[:,-1], valid_data[:,-1]\n",
        "    raw_x_train, raw_x_valid, raw_x_test = train_data[:,:-1], valid_data[:,:-1], test_data\n",
        "\n",
        "    if select_all:\n",
        "        feat_idx = list(range(raw_x_train.shape[1]))\n",
        "    else:\n",
        "        feat_idx = [0,1,2,3,4,5,6,7,8,9,38,39,40,41,43,47,48,49,53,\n",
        "                    54,55,56,57,59,63,64,65,69,\n",
        "                    70,71,72,73,75,79,80,81,85,\n",
        "                    86,87,88,89,91,95,96,97,101,\n",
        "                    102,103,104,105,107,111,112,113] # TODO: Select suitable feature columns.\n",
        "        \n",
        "    return raw_x_train[:,feat_idx], raw_x_valid[:,feat_idx], raw_x_test[:,feat_idx], y_train, y_valid"
      ],
      "metadata": {
        "id": "0FEnKRaIIeKp"
      },
      "execution_count": 18,
      "outputs": []
    },
    {
      "cell_type": "markdown",
      "source": [
        "# Training Loop"
      ],
      "metadata": {
        "id": "kADIPNQ2Ih5X"
      }
    },
    {
      "cell_type": "code",
      "execution_count": 19,
      "metadata": {
        "id": "k4Rq8_TztAhq"
      },
      "outputs": [],
      "source": [
        "def trainer(train_loader, valid_loader, model, config, device):\n",
        "\n",
        "    criterion = nn.MSELoss(reduction='mean') # Define your loss function, do not modify this.\n",
        "\n",
        "    # Define your optimization algorithm. \n",
        "    # TODO: Please check https://pytorch.org/docs/stable/optim.html to get more available algorithms.\n",
        "    # TODO: L2 regularization (optimizer(weight decay...) or implement by your self).\n",
        "    optimizer = torch.optim.Adam(model.parameters(), lr=config['learning_rate'], weight_decay=config['weight_decay']) \n",
        "\n",
        "    writer = SummaryWriter() # Writer of tensoboard.\n",
        "\n",
        "    if not os.path.isdir('./models'):\n",
        "        os.mkdir('./models') # Create directory of saving models.\n",
        "\n",
        "    n_epochs, best_loss, step, early_stop_count = config['n_epochs'], math.inf, 0, 0\n",
        "\n",
        "    for epoch in range(n_epochs):\n",
        "        model.train() # Set your model to train mode.\n",
        "        loss_record = []\n",
        "\n",
        "        # tqdm is a package to visualize your training progress.\n",
        "        train_pbar = tqdm(train_loader, position=0, leave=True)\n",
        "\n",
        "        for x, y in train_pbar:\n",
        "            optimizer.zero_grad()               # Set gradient to zero.\n",
        "            x, y = x.to(device), y.to(device)   # Move your data to device. \n",
        "            pred = model(x)             \n",
        "            loss = criterion(pred, y)\n",
        "            loss.backward()                     # Compute gradient(backpropagation).\n",
        "            optimizer.step()                    # Update parameters.\n",
        "            step += 1\n",
        "            loss_record.append(loss.detach().item())\n",
        "            \n",
        "            # Display current epoch number and loss on tqdm progress bar.\n",
        "            train_pbar.set_description(f'Epoch [{epoch+1}/{n_epochs}]')\n",
        "            train_pbar.set_postfix({'loss': loss.detach().item()})\n",
        "\n",
        "        mean_train_loss = sum(loss_record)/len(loss_record)\n",
        "        writer.add_scalar('Loss/train', mean_train_loss, step)\n",
        "\n",
        "        model.eval() # Set your model to evaluation mode.\n",
        "        loss_record = []\n",
        "        for x, y in valid_loader:\n",
        "            x, y = x.to(device), y.to(device)\n",
        "            with torch.no_grad():\n",
        "                pred = model(x)\n",
        "                loss = criterion(pred, y)\n",
        "\n",
        "            loss_record.append(loss.item())\n",
        "            \n",
        "        mean_valid_loss = sum(loss_record)/len(loss_record)\n",
        "        print(f'Epoch [{epoch+1}/{n_epochs}]: Train loss: {mean_train_loss:.4f}, Valid loss: {mean_valid_loss:.4f}')\n",
        "        writer.add_scalar('Loss/valid', mean_valid_loss, step)\n",
        "\n",
        "        if mean_valid_loss < best_loss:\n",
        "            best_loss = mean_valid_loss\n",
        "            torch.save(model.state_dict(), config['save_path']) # Save your best model\n",
        "            print('Saving model with loss {:.3f}...'.format(best_loss))\n",
        "            early_stop_count = 0\n",
        "        else: \n",
        "            early_stop_count += 1\n",
        "\n",
        "        if early_stop_count >= config['early_stop']:\n",
        "            print('\\nModel is not improving, so we halt the training session.')\n",
        "            return"
      ]
    },
    {
      "cell_type": "markdown",
      "metadata": {
        "id": "0pgkOh2e9UjE"
      },
      "source": [
        "# Configurations\n",
        "`config` contains hyper-parameters for training and the path to save your model."
      ]
    },
    {
      "cell_type": "code",
      "execution_count": 20,
      "metadata": {
        "id": "QoWPUahCtoT6"
      },
      "outputs": [],
      "source": [
        "device = 'cuda' if torch.cuda.is_available() else 'cpu'\n",
        "config = {\n",
        "    'seed': 5201314,      # Your seed number, you can pick your lucky number. :)\n",
        "    'select_all': True,   # Whether to use all features.\n",
        "    'valid_ratio': 0.2,   # validation_size = train_size * valid_ratio\n",
        "    'n_epochs': 5000,     # Number of epochs.            \n",
        "    'batch_size': 256, \n",
        "    'learning_rate': 1e-5,              \n",
        "    'early_stop': 400,    # If model has not improved for this many consecutive epochs, stop training.     \n",
        "    'save_path': './models/model.ckpt',  # Your model will be saved here.\n",
        "    'weight_decay' : 1e-4\n",
        "}"
      ]
    },
    {
      "cell_type": "markdown",
      "metadata": {
        "id": "lrS-aJJh9XkW"
      },
      "source": [
        "# Dataloader\n",
        "Read data from files and set up training, validation, and testing sets. You do not need to modify this part."
      ]
    },
    {
      "cell_type": "code",
      "execution_count": 21,
      "metadata": {
        "id": "2jc7ZfDot2t9",
        "outputId": "95441081-73b8-474e-dd6a-899650dcd7bd",
        "colab": {
          "base_uri": "https://localhost:8080/"
        }
      },
      "outputs": [
        {
          "output_type": "stream",
          "name": "stdout",
          "text": [
            "train_data size: (2160, 118) \n",
            "valid_data size: (539, 118) \n",
            "test_data size: (1078, 117)\n",
            "number of features: 117\n"
          ]
        }
      ],
      "source": [
        "# Set seed for reproducibility\n",
        "same_seed(config['seed'])\n",
        "\n",
        "\n",
        "# train_data size: 2699 x 118 (id + 37 states + 16 features x 5 days) \n",
        "# test_data size: 1078 x 117 (without last day's positive rate)\n",
        "train_data, test_data = pd.read_csv('./covid.train.csv').values, pd.read_csv('./covid.test.csv').values\n",
        "train_data, valid_data = train_valid_split(train_data, config['valid_ratio'], config['seed'])\n",
        "\n",
        "# Print out the data size.\n",
        "print(f\"\"\"train_data size: {train_data.shape} \n",
        "valid_data size: {valid_data.shape} \n",
        "test_data size: {test_data.shape}\"\"\")\n",
        "\n",
        "# Select features\n",
        "x_train, x_valid, x_test, y_train, y_valid = select_feat(train_data, valid_data, test_data, config['select_all'])\n",
        "\n",
        "# Print out the number of features.\n",
        "print(f'number of features: {x_train.shape[1]}')\n",
        "\n",
        "train_dataset, valid_dataset, test_dataset = COVID19Dataset(x_train, y_train), \\\n",
        "                                            COVID19Dataset(x_valid, y_valid), \\\n",
        "                                            COVID19Dataset(x_test)\n",
        "\n",
        "# Pytorch data loader loads pytorch dataset into batches.\n",
        "train_loader = DataLoader(train_dataset, batch_size=config['batch_size'], shuffle=True, pin_memory=True)\n",
        "valid_loader = DataLoader(valid_dataset, batch_size=config['batch_size'], shuffle=True, pin_memory=True)\n",
        "test_loader = DataLoader(test_dataset, batch_size=config['batch_size'], shuffle=False, pin_memory=True)"
      ]
    },
    {
      "cell_type": "markdown",
      "metadata": {
        "id": "0OBYgjCA-YwD"
      },
      "source": [
        "# Start training!"
      ]
    },
    {
      "cell_type": "code",
      "execution_count": null,
      "metadata": {
        "colab": {
          "base_uri": "https://localhost:8080/"
        },
        "id": "YdttVRkAfu2t",
        "outputId": "580c058c-584c-423e-aed7-bcd2b1439d58"
      },
      "outputs": [
        {
          "output_type": "stream",
          "name": "stderr",
          "text": [
            "Epoch [1/5000]: 100%|██████████| 9/9 [00:00<00:00, 65.64it/s, loss=161]\n"
          ]
        },
        {
          "output_type": "stream",
          "name": "stdout",
          "text": [
            "Epoch [1/5000]: Train loss: 198.5589, Valid loss: 156.5770\n",
            "Saving model with loss 156.577...\n"
          ]
        },
        {
          "output_type": "stream",
          "name": "stderr",
          "text": [
            "Epoch [2/5000]: 100%|██████████| 9/9 [00:00<00:00, 29.60it/s, loss=153]\n"
          ]
        },
        {
          "output_type": "stream",
          "name": "stdout",
          "text": [
            "Epoch [2/5000]: Train loss: 184.6433, Valid loss: 135.0469\n",
            "Saving model with loss 135.047...\n"
          ]
        },
        {
          "output_type": "stream",
          "name": "stderr",
          "text": [
            "Epoch [3/5000]: 100%|██████████| 9/9 [00:00<00:00, 65.96it/s, loss=195]\n"
          ]
        },
        {
          "output_type": "stream",
          "name": "stdout",
          "text": [
            "Epoch [3/5000]: Train loss: 191.6781, Valid loss: 130.1601\n",
            "Saving model with loss 130.160...\n"
          ]
        },
        {
          "output_type": "stream",
          "name": "stderr",
          "text": [
            "Epoch [4/5000]: 100%|██████████| 9/9 [00:00<00:00, 57.00it/s, loss=155]\n"
          ]
        },
        {
          "output_type": "stream",
          "name": "stdout",
          "text": [
            "Epoch [4/5000]: Train loss: 187.1857, Valid loss: 149.7625\n"
          ]
        },
        {
          "output_type": "stream",
          "name": "stderr",
          "text": [
            "Epoch [5/5000]: 100%|██████████| 9/9 [00:00<00:00, 66.03it/s, loss=194]\n"
          ]
        },
        {
          "output_type": "stream",
          "name": "stdout",
          "text": [
            "Epoch [5/5000]: Train loss: 187.7007, Valid loss: 131.7958\n"
          ]
        },
        {
          "output_type": "stream",
          "name": "stderr",
          "text": [
            "Epoch [6/5000]: 100%|██████████| 9/9 [00:00<00:00, 67.22it/s, loss=196]\n"
          ]
        },
        {
          "output_type": "stream",
          "name": "stdout",
          "text": [
            "Epoch [6/5000]: Train loss: 186.6546, Valid loss: 143.4900\n"
          ]
        },
        {
          "output_type": "stream",
          "name": "stderr",
          "text": [
            "Epoch [7/5000]: 100%|██████████| 9/9 [00:00<00:00, 70.77it/s, loss=169]\n"
          ]
        },
        {
          "output_type": "stream",
          "name": "stdout",
          "text": [
            "Epoch [7/5000]: Train loss: 186.0983, Valid loss: 129.7640\n",
            "Saving model with loss 129.764...\n"
          ]
        },
        {
          "output_type": "stream",
          "name": "stderr",
          "text": [
            "Epoch [8/5000]: 100%|██████████| 9/9 [00:00<00:00, 68.10it/s, loss=160]\n"
          ]
        },
        {
          "output_type": "stream",
          "name": "stdout",
          "text": [
            "Epoch [8/5000]: Train loss: 184.5965, Valid loss: 134.9947\n"
          ]
        },
        {
          "output_type": "stream",
          "name": "stderr",
          "text": [
            "Epoch [9/5000]: 100%|██████████| 9/9 [00:00<00:00, 62.98it/s, loss=124]\n"
          ]
        },
        {
          "output_type": "stream",
          "name": "stdout",
          "text": [
            "Epoch [9/5000]: Train loss: 176.3140, Valid loss: 134.4985\n"
          ]
        },
        {
          "output_type": "stream",
          "name": "stderr",
          "text": [
            "Epoch [10/5000]: 100%|██████████| 9/9 [00:00<00:00, 64.63it/s, loss=177]\n"
          ]
        },
        {
          "output_type": "stream",
          "name": "stdout",
          "text": [
            "Epoch [10/5000]: Train loss: 169.9764, Valid loss: 122.8540\n",
            "Saving model with loss 122.854...\n"
          ]
        },
        {
          "output_type": "stream",
          "name": "stderr",
          "text": [
            "Epoch [11/5000]: 100%|██████████| 9/9 [00:00<00:00, 66.36it/s, loss=155]\n"
          ]
        },
        {
          "output_type": "stream",
          "name": "stdout",
          "text": [
            "Epoch [11/5000]: Train loss: 178.5579, Valid loss: 124.4727\n"
          ]
        },
        {
          "output_type": "stream",
          "name": "stderr",
          "text": [
            "Epoch [12/5000]: 100%|██████████| 9/9 [00:00<00:00, 69.89it/s, loss=193]\n"
          ]
        },
        {
          "output_type": "stream",
          "name": "stdout",
          "text": [
            "Epoch [12/5000]: Train loss: 177.2907, Valid loss: 120.3626\n",
            "Saving model with loss 120.363...\n"
          ]
        },
        {
          "output_type": "stream",
          "name": "stderr",
          "text": [
            "Epoch [13/5000]: 100%|██████████| 9/9 [00:00<00:00, 67.45it/s, loss=164]\n"
          ]
        },
        {
          "output_type": "stream",
          "name": "stdout",
          "text": [
            "Epoch [13/5000]: Train loss: 182.9421, Valid loss: 135.1133\n"
          ]
        },
        {
          "output_type": "stream",
          "name": "stderr",
          "text": [
            "Epoch [14/5000]: 100%|██████████| 9/9 [00:00<00:00, 71.20it/s, loss=166]\n"
          ]
        },
        {
          "output_type": "stream",
          "name": "stdout",
          "text": [
            "Epoch [14/5000]: Train loss: 176.0171, Valid loss: 114.1049\n",
            "Saving model with loss 114.105...\n"
          ]
        },
        {
          "output_type": "stream",
          "name": "stderr",
          "text": [
            "Epoch [15/5000]: 100%|██████████| 9/9 [00:00<00:00, 66.82it/s, loss=158]\n"
          ]
        },
        {
          "output_type": "stream",
          "name": "stdout",
          "text": [
            "Epoch [15/5000]: Train loss: 163.9277, Valid loss: 128.8371\n"
          ]
        },
        {
          "output_type": "stream",
          "name": "stderr",
          "text": [
            "Epoch [16/5000]: 100%|██████████| 9/9 [00:00<00:00, 69.88it/s, loss=137]\n"
          ]
        },
        {
          "output_type": "stream",
          "name": "stdout",
          "text": [
            "Epoch [16/5000]: Train loss: 168.3596, Valid loss: 116.1482\n"
          ]
        },
        {
          "output_type": "stream",
          "name": "stderr",
          "text": [
            "Epoch [17/5000]: 100%|██████████| 9/9 [00:00<00:00, 60.48it/s, loss=178]\n"
          ]
        },
        {
          "output_type": "stream",
          "name": "stdout",
          "text": [
            "Epoch [17/5000]: Train loss: 171.9746, Valid loss: 114.7418\n"
          ]
        },
        {
          "output_type": "stream",
          "name": "stderr",
          "text": [
            "Epoch [18/5000]: 100%|██████████| 9/9 [00:00<00:00, 71.01it/s, loss=153]\n"
          ]
        },
        {
          "output_type": "stream",
          "name": "stdout",
          "text": [
            "Epoch [18/5000]: Train loss: 161.5882, Valid loss: 112.1235\n",
            "Saving model with loss 112.123...\n"
          ]
        },
        {
          "output_type": "stream",
          "name": "stderr",
          "text": [
            "Epoch [19/5000]: 100%|██████████| 9/9 [00:00<00:00, 68.36it/s, loss=168]\n"
          ]
        },
        {
          "output_type": "stream",
          "name": "stdout",
          "text": [
            "Epoch [19/5000]: Train loss: 166.8665, Valid loss: 134.5238\n"
          ]
        },
        {
          "output_type": "stream",
          "name": "stderr",
          "text": [
            "Epoch [20/5000]: 100%|██████████| 9/9 [00:00<00:00, 68.13it/s, loss=180]\n"
          ]
        },
        {
          "output_type": "stream",
          "name": "stdout",
          "text": [
            "Epoch [20/5000]: Train loss: 173.1022, Valid loss: 114.7206\n"
          ]
        },
        {
          "output_type": "stream",
          "name": "stderr",
          "text": [
            "Epoch [21/5000]: 100%|██████████| 9/9 [00:00<00:00, 64.06it/s, loss=143]\n"
          ]
        },
        {
          "output_type": "stream",
          "name": "stdout",
          "text": [
            "Epoch [21/5000]: Train loss: 163.9721, Valid loss: 106.4205\n",
            "Saving model with loss 106.420...\n"
          ]
        },
        {
          "output_type": "stream",
          "name": "stderr",
          "text": [
            "Epoch [22/5000]: 100%|██████████| 9/9 [00:00<00:00, 68.05it/s, loss=216]\n"
          ]
        },
        {
          "output_type": "stream",
          "name": "stdout",
          "text": [
            "Epoch [22/5000]: Train loss: 170.3337, Valid loss: 116.5472\n"
          ]
        },
        {
          "output_type": "stream",
          "name": "stderr",
          "text": [
            "Epoch [23/5000]: 100%|██████████| 9/9 [00:00<00:00, 71.57it/s, loss=152]\n"
          ]
        },
        {
          "output_type": "stream",
          "name": "stdout",
          "text": [
            "Epoch [23/5000]: Train loss: 162.8544, Valid loss: 122.6432\n"
          ]
        },
        {
          "output_type": "stream",
          "name": "stderr",
          "text": [
            "Epoch [24/5000]: 100%|██████████| 9/9 [00:00<00:00, 67.19it/s, loss=165]\n"
          ]
        },
        {
          "output_type": "stream",
          "name": "stdout",
          "text": [
            "Epoch [24/5000]: Train loss: 161.4050, Valid loss: 108.7445\n"
          ]
        },
        {
          "output_type": "stream",
          "name": "stderr",
          "text": [
            "Epoch [25/5000]: 100%|██████████| 9/9 [00:00<00:00, 67.83it/s, loss=147]\n"
          ]
        },
        {
          "output_type": "stream",
          "name": "stdout",
          "text": [
            "Epoch [25/5000]: Train loss: 153.4483, Valid loss: 117.6745\n"
          ]
        },
        {
          "output_type": "stream",
          "name": "stderr",
          "text": [
            "Epoch [26/5000]: 100%|██████████| 9/9 [00:00<00:00, 69.97it/s, loss=224]\n"
          ]
        },
        {
          "output_type": "stream",
          "name": "stdout",
          "text": [
            "Epoch [26/5000]: Train loss: 165.2188, Valid loss: 104.2988\n",
            "Saving model with loss 104.299...\n"
          ]
        },
        {
          "output_type": "stream",
          "name": "stderr",
          "text": [
            "Epoch [27/5000]: 100%|██████████| 9/9 [00:00<00:00, 65.01it/s, loss=133]\n"
          ]
        },
        {
          "output_type": "stream",
          "name": "stdout",
          "text": [
            "Epoch [27/5000]: Train loss: 165.8016, Valid loss: 102.5061\n",
            "Saving model with loss 102.506...\n"
          ]
        },
        {
          "output_type": "stream",
          "name": "stderr",
          "text": [
            "Epoch [28/5000]: 100%|██████████| 9/9 [00:00<00:00, 69.11it/s, loss=139]\n"
          ]
        },
        {
          "output_type": "stream",
          "name": "stdout",
          "text": [
            "Epoch [28/5000]: Train loss: 158.6389, Valid loss: 92.4811\n",
            "Saving model with loss 92.481...\n"
          ]
        },
        {
          "output_type": "stream",
          "name": "stderr",
          "text": [
            "Epoch [29/5000]: 100%|██████████| 9/9 [00:00<00:00, 65.62it/s, loss=160]\n"
          ]
        },
        {
          "output_type": "stream",
          "name": "stdout",
          "text": [
            "Epoch [29/5000]: Train loss: 159.2766, Valid loss: 110.4821\n"
          ]
        },
        {
          "output_type": "stream",
          "name": "stderr",
          "text": [
            "Epoch [30/5000]: 100%|██████████| 9/9 [00:00<00:00, 65.39it/s, loss=147]\n"
          ]
        },
        {
          "output_type": "stream",
          "name": "stdout",
          "text": [
            "Epoch [30/5000]: Train loss: 151.0267, Valid loss: 114.7886\n"
          ]
        },
        {
          "output_type": "stream",
          "name": "stderr",
          "text": [
            "Epoch [31/5000]: 100%|██████████| 9/9 [00:00<00:00, 69.58it/s, loss=146]\n"
          ]
        },
        {
          "output_type": "stream",
          "name": "stdout",
          "text": [
            "Epoch [31/5000]: Train loss: 151.1112, Valid loss: 96.7125\n"
          ]
        },
        {
          "output_type": "stream",
          "name": "stderr",
          "text": [
            "Epoch [32/5000]: 100%|██████████| 9/9 [00:00<00:00, 68.24it/s, loss=126]\n"
          ]
        },
        {
          "output_type": "stream",
          "name": "stdout",
          "text": [
            "Epoch [32/5000]: Train loss: 151.1552, Valid loss: 121.7810\n"
          ]
        },
        {
          "output_type": "stream",
          "name": "stderr",
          "text": [
            "Epoch [33/5000]: 100%|██████████| 9/9 [00:00<00:00, 68.64it/s, loss=144]\n"
          ]
        },
        {
          "output_type": "stream",
          "name": "stdout",
          "text": [
            "Epoch [33/5000]: Train loss: 155.6033, Valid loss: 103.9413\n"
          ]
        },
        {
          "output_type": "stream",
          "name": "stderr",
          "text": [
            "Epoch [34/5000]: 100%|██████████| 9/9 [00:00<00:00, 65.69it/s, loss=140]\n"
          ]
        },
        {
          "output_type": "stream",
          "name": "stdout",
          "text": [
            "Epoch [34/5000]: Train loss: 155.8900, Valid loss: 103.7567\n"
          ]
        },
        {
          "output_type": "stream",
          "name": "stderr",
          "text": [
            "Epoch [35/5000]: 100%|██████████| 9/9 [00:00<00:00, 71.96it/s, loss=144]\n"
          ]
        },
        {
          "output_type": "stream",
          "name": "stdout",
          "text": [
            "Epoch [35/5000]: Train loss: 150.5385, Valid loss: 107.8320\n"
          ]
        },
        {
          "output_type": "stream",
          "name": "stderr",
          "text": [
            "Epoch [36/5000]: 100%|██████████| 9/9 [00:00<00:00, 62.66it/s, loss=154]\n"
          ]
        },
        {
          "output_type": "stream",
          "name": "stdout",
          "text": [
            "Epoch [36/5000]: Train loss: 150.5847, Valid loss: 129.0095\n"
          ]
        },
        {
          "output_type": "stream",
          "name": "stderr",
          "text": [
            "Epoch [37/5000]: 100%|██████████| 9/9 [00:00<00:00, 63.25it/s, loss=112]\n"
          ]
        },
        {
          "output_type": "stream",
          "name": "stdout",
          "text": [
            "Epoch [37/5000]: Train loss: 144.8785, Valid loss: 112.0240\n"
          ]
        },
        {
          "output_type": "stream",
          "name": "stderr",
          "text": [
            "Epoch [38/5000]: 100%|██████████| 9/9 [00:00<00:00, 69.51it/s, loss=158]\n"
          ]
        },
        {
          "output_type": "stream",
          "name": "stdout",
          "text": [
            "Epoch [38/5000]: Train loss: 149.8881, Valid loss: 102.0476\n"
          ]
        },
        {
          "output_type": "stream",
          "name": "stderr",
          "text": [
            "Epoch [39/5000]: 100%|██████████| 9/9 [00:00<00:00, 67.06it/s, loss=158]\n"
          ]
        },
        {
          "output_type": "stream",
          "name": "stdout",
          "text": [
            "Epoch [39/5000]: Train loss: 146.4547, Valid loss: 108.6489\n"
          ]
        },
        {
          "output_type": "stream",
          "name": "stderr",
          "text": [
            "Epoch [40/5000]: 100%|██████████| 9/9 [00:00<00:00, 63.90it/s, loss=171]\n"
          ]
        },
        {
          "output_type": "stream",
          "name": "stdout",
          "text": [
            "Epoch [40/5000]: Train loss: 154.5866, Valid loss: 100.8305\n"
          ]
        },
        {
          "output_type": "stream",
          "name": "stderr",
          "text": [
            "Epoch [41/5000]: 100%|██████████| 9/9 [00:00<00:00, 65.02it/s, loss=143]\n"
          ]
        },
        {
          "output_type": "stream",
          "name": "stdout",
          "text": [
            "Epoch [41/5000]: Train loss: 145.2198, Valid loss: 89.3532\n",
            "Saving model with loss 89.353...\n"
          ]
        },
        {
          "output_type": "stream",
          "name": "stderr",
          "text": [
            "Epoch [42/5000]: 100%|██████████| 9/9 [00:00<00:00, 64.30it/s, loss=131]\n"
          ]
        },
        {
          "output_type": "stream",
          "name": "stdout",
          "text": [
            "Epoch [42/5000]: Train loss: 144.4446, Valid loss: 103.8600\n"
          ]
        },
        {
          "output_type": "stream",
          "name": "stderr",
          "text": [
            "Epoch [43/5000]: 100%|██████████| 9/9 [00:00<00:00, 58.41it/s, loss=162]\n"
          ]
        },
        {
          "output_type": "stream",
          "name": "stdout",
          "text": [
            "Epoch [43/5000]: Train loss: 145.9695, Valid loss: 111.3425\n"
          ]
        },
        {
          "output_type": "stream",
          "name": "stderr",
          "text": [
            "Epoch [44/5000]: 100%|██████████| 9/9 [00:00<00:00, 64.83it/s, loss=164]\n"
          ]
        },
        {
          "output_type": "stream",
          "name": "stdout",
          "text": [
            "Epoch [44/5000]: Train loss: 145.0599, Valid loss: 89.3037\n",
            "Saving model with loss 89.304...\n"
          ]
        },
        {
          "output_type": "stream",
          "name": "stderr",
          "text": [
            "Epoch [45/5000]: 100%|██████████| 9/9 [00:00<00:00, 66.95it/s, loss=161]\n"
          ]
        },
        {
          "output_type": "stream",
          "name": "stdout",
          "text": [
            "Epoch [45/5000]: Train loss: 147.3940, Valid loss: 88.1332\n",
            "Saving model with loss 88.133...\n"
          ]
        },
        {
          "output_type": "stream",
          "name": "stderr",
          "text": [
            "Epoch [46/5000]: 100%|██████████| 9/9 [00:00<00:00, 69.92it/s, loss=141]\n"
          ]
        },
        {
          "output_type": "stream",
          "name": "stdout",
          "text": [
            "Epoch [46/5000]: Train loss: 146.4301, Valid loss: 105.2982\n"
          ]
        },
        {
          "output_type": "stream",
          "name": "stderr",
          "text": [
            "Epoch [47/5000]: 100%|██████████| 9/9 [00:00<00:00, 65.89it/s, loss=122]\n"
          ]
        },
        {
          "output_type": "stream",
          "name": "stdout",
          "text": [
            "Epoch [47/5000]: Train loss: 141.1058, Valid loss: 96.1431\n"
          ]
        },
        {
          "output_type": "stream",
          "name": "stderr",
          "text": [
            "Epoch [48/5000]: 100%|██████████| 9/9 [00:00<00:00, 65.11it/s, loss=132]\n"
          ]
        },
        {
          "output_type": "stream",
          "name": "stdout",
          "text": [
            "Epoch [48/5000]: Train loss: 135.9187, Valid loss: 102.2053\n"
          ]
        },
        {
          "output_type": "stream",
          "name": "stderr",
          "text": [
            "Epoch [49/5000]: 100%|██████████| 9/9 [00:00<00:00, 60.76it/s, loss=163]\n"
          ]
        },
        {
          "output_type": "stream",
          "name": "stdout",
          "text": [
            "Epoch [49/5000]: Train loss: 141.3713, Valid loss: 92.8455\n"
          ]
        },
        {
          "output_type": "stream",
          "name": "stderr",
          "text": [
            "Epoch [50/5000]: 100%|██████████| 9/9 [00:00<00:00, 67.26it/s, loss=158]\n"
          ]
        },
        {
          "output_type": "stream",
          "name": "stdout",
          "text": [
            "Epoch [50/5000]: Train loss: 139.6816, Valid loss: 94.6789\n"
          ]
        },
        {
          "output_type": "stream",
          "name": "stderr",
          "text": [
            "Epoch [51/5000]: 100%|██████████| 9/9 [00:00<00:00, 63.72it/s, loss=171]\n"
          ]
        },
        {
          "output_type": "stream",
          "name": "stdout",
          "text": [
            "Epoch [51/5000]: Train loss: 137.3274, Valid loss: 88.7474\n"
          ]
        },
        {
          "output_type": "stream",
          "name": "stderr",
          "text": [
            "Epoch [52/5000]: 100%|██████████| 9/9 [00:00<00:00, 63.35it/s, loss=143]\n"
          ]
        },
        {
          "output_type": "stream",
          "name": "stdout",
          "text": [
            "Epoch [52/5000]: Train loss: 135.3982, Valid loss: 90.9284\n"
          ]
        },
        {
          "output_type": "stream",
          "name": "stderr",
          "text": [
            "Epoch [53/5000]: 100%|██████████| 9/9 [00:00<00:00, 71.83it/s, loss=145]\n"
          ]
        },
        {
          "output_type": "stream",
          "name": "stdout",
          "text": [
            "Epoch [53/5000]: Train loss: 134.8679, Valid loss: 88.1831\n"
          ]
        },
        {
          "output_type": "stream",
          "name": "stderr",
          "text": [
            "Epoch [54/5000]: 100%|██████████| 9/9 [00:00<00:00, 69.29it/s, loss=137]\n"
          ]
        },
        {
          "output_type": "stream",
          "name": "stdout",
          "text": [
            "Epoch [54/5000]: Train loss: 138.3430, Valid loss: 78.9682\n",
            "Saving model with loss 78.968...\n"
          ]
        },
        {
          "output_type": "stream",
          "name": "stderr",
          "text": [
            "Epoch [55/5000]: 100%|██████████| 9/9 [00:00<00:00, 66.97it/s, loss=174]\n"
          ]
        },
        {
          "output_type": "stream",
          "name": "stdout",
          "text": [
            "Epoch [55/5000]: Train loss: 141.5451, Valid loss: 82.1118\n"
          ]
        },
        {
          "output_type": "stream",
          "name": "stderr",
          "text": [
            "Epoch [56/5000]: 100%|██████████| 9/9 [00:00<00:00, 63.43it/s, loss=118]\n"
          ]
        },
        {
          "output_type": "stream",
          "name": "stdout",
          "text": [
            "Epoch [56/5000]: Train loss: 130.4730, Valid loss: 89.6960\n"
          ]
        },
        {
          "output_type": "stream",
          "name": "stderr",
          "text": [
            "Epoch [57/5000]: 100%|██████████| 9/9 [00:00<00:00, 68.45it/s, loss=142]\n"
          ]
        },
        {
          "output_type": "stream",
          "name": "stdout",
          "text": [
            "Epoch [57/5000]: Train loss: 134.1406, Valid loss: 82.6757\n"
          ]
        },
        {
          "output_type": "stream",
          "name": "stderr",
          "text": [
            "Epoch [58/5000]: 100%|██████████| 9/9 [00:00<00:00, 69.87it/s, loss=153]\n"
          ]
        },
        {
          "output_type": "stream",
          "name": "stdout",
          "text": [
            "Epoch [58/5000]: Train loss: 133.4335, Valid loss: 91.9364\n"
          ]
        },
        {
          "output_type": "stream",
          "name": "stderr",
          "text": [
            "Epoch [59/5000]: 100%|██████████| 9/9 [00:00<00:00, 63.15it/s, loss=128]\n"
          ]
        },
        {
          "output_type": "stream",
          "name": "stdout",
          "text": [
            "Epoch [59/5000]: Train loss: 137.3503, Valid loss: 87.2643\n"
          ]
        },
        {
          "output_type": "stream",
          "name": "stderr",
          "text": [
            "Epoch [60/5000]: 100%|██████████| 9/9 [00:00<00:00, 66.14it/s, loss=118]\n"
          ]
        },
        {
          "output_type": "stream",
          "name": "stdout",
          "text": [
            "Epoch [60/5000]: Train loss: 130.9354, Valid loss: 91.9038\n"
          ]
        },
        {
          "output_type": "stream",
          "name": "stderr",
          "text": [
            "Epoch [61/5000]: 100%|██████████| 9/9 [00:00<00:00, 62.96it/s, loss=109]\n"
          ]
        },
        {
          "output_type": "stream",
          "name": "stdout",
          "text": [
            "Epoch [61/5000]: Train loss: 132.0006, Valid loss: 76.6893\n",
            "Saving model with loss 76.689...\n"
          ]
        },
        {
          "output_type": "stream",
          "name": "stderr",
          "text": [
            "Epoch [62/5000]: 100%|██████████| 9/9 [00:00<00:00, 59.11it/s, loss=128]\n"
          ]
        },
        {
          "output_type": "stream",
          "name": "stdout",
          "text": [
            "Epoch [62/5000]: Train loss: 130.8002, Valid loss: 101.1849\n"
          ]
        },
        {
          "output_type": "stream",
          "name": "stderr",
          "text": [
            "Epoch [63/5000]: 100%|██████████| 9/9 [00:00<00:00, 65.12it/s, loss=115]\n"
          ]
        },
        {
          "output_type": "stream",
          "name": "stdout",
          "text": [
            "Epoch [63/5000]: Train loss: 127.6964, Valid loss: 72.9742\n",
            "Saving model with loss 72.974...\n"
          ]
        },
        {
          "output_type": "stream",
          "name": "stderr",
          "text": [
            "Epoch [64/5000]: 100%|██████████| 9/9 [00:00<00:00, 67.48it/s, loss=109]\n"
          ]
        },
        {
          "output_type": "stream",
          "name": "stdout",
          "text": [
            "Epoch [64/5000]: Train loss: 131.2610, Valid loss: 80.9958\n"
          ]
        },
        {
          "output_type": "stream",
          "name": "stderr",
          "text": [
            "Epoch [65/5000]: 100%|██████████| 9/9 [00:00<00:00, 62.53it/s, loss=117]\n"
          ]
        },
        {
          "output_type": "stream",
          "name": "stdout",
          "text": [
            "Epoch [65/5000]: Train loss: 128.6951, Valid loss: 80.8129\n"
          ]
        },
        {
          "output_type": "stream",
          "name": "stderr",
          "text": [
            "Epoch [66/5000]: 100%|██████████| 9/9 [00:00<00:00, 60.89it/s, loss=129]\n"
          ]
        },
        {
          "output_type": "stream",
          "name": "stdout",
          "text": [
            "Epoch [66/5000]: Train loss: 131.1632, Valid loss: 84.2707\n"
          ]
        },
        {
          "output_type": "stream",
          "name": "stderr",
          "text": [
            "Epoch [67/5000]: 100%|██████████| 9/9 [00:00<00:00, 67.79it/s, loss=109]\n"
          ]
        },
        {
          "output_type": "stream",
          "name": "stdout",
          "text": [
            "Epoch [67/5000]: Train loss: 127.6427, Valid loss: 87.1874\n"
          ]
        },
        {
          "output_type": "stream",
          "name": "stderr",
          "text": [
            "Epoch [68/5000]: 100%|██████████| 9/9 [00:00<00:00, 63.51it/s, loss=135]\n"
          ]
        },
        {
          "output_type": "stream",
          "name": "stdout",
          "text": [
            "Epoch [68/5000]: Train loss: 128.2609, Valid loss: 76.2788\n"
          ]
        },
        {
          "output_type": "stream",
          "name": "stderr",
          "text": [
            "Epoch [69/5000]: 100%|██████████| 9/9 [00:00<00:00, 71.73it/s, loss=126]\n"
          ]
        },
        {
          "output_type": "stream",
          "name": "stdout",
          "text": [
            "Epoch [69/5000]: Train loss: 129.4787, Valid loss: 83.3984\n"
          ]
        },
        {
          "output_type": "stream",
          "name": "stderr",
          "text": [
            "Epoch [70/5000]: 100%|██████████| 9/9 [00:00<00:00, 64.08it/s, loss=133]\n"
          ]
        },
        {
          "output_type": "stream",
          "name": "stdout",
          "text": [
            "Epoch [70/5000]: Train loss: 126.2502, Valid loss: 75.1495\n"
          ]
        },
        {
          "output_type": "stream",
          "name": "stderr",
          "text": [
            "Epoch [71/5000]: 100%|██████████| 9/9 [00:00<00:00, 67.70it/s, loss=164]\n"
          ]
        },
        {
          "output_type": "stream",
          "name": "stdout",
          "text": [
            "Epoch [71/5000]: Train loss: 134.3833, Valid loss: 72.0577\n",
            "Saving model with loss 72.058...\n"
          ]
        },
        {
          "output_type": "stream",
          "name": "stderr",
          "text": [
            "Epoch [72/5000]: 100%|██████████| 9/9 [00:00<00:00, 65.42it/s, loss=152]\n"
          ]
        },
        {
          "output_type": "stream",
          "name": "stdout",
          "text": [
            "Epoch [72/5000]: Train loss: 131.2514, Valid loss: 92.6143\n"
          ]
        },
        {
          "output_type": "stream",
          "name": "stderr",
          "text": [
            "Epoch [73/5000]: 100%|██████████| 9/9 [00:00<00:00, 63.08it/s, loss=110]\n"
          ]
        },
        {
          "output_type": "stream",
          "name": "stdout",
          "text": [
            "Epoch [73/5000]: Train loss: 122.3066, Valid loss: 81.1271\n"
          ]
        },
        {
          "output_type": "stream",
          "name": "stderr",
          "text": [
            "Epoch [74/5000]: 100%|██████████| 9/9 [00:00<00:00, 65.05it/s, loss=91.2]\n"
          ]
        },
        {
          "output_type": "stream",
          "name": "stdout",
          "text": [
            "Epoch [74/5000]: Train loss: 123.9504, Valid loss: 78.8220\n"
          ]
        },
        {
          "output_type": "stream",
          "name": "stderr",
          "text": [
            "Epoch [75/5000]: 100%|██████████| 9/9 [00:00<00:00, 66.42it/s, loss=128]\n"
          ]
        },
        {
          "output_type": "stream",
          "name": "stdout",
          "text": [
            "Epoch [75/5000]: Train loss: 121.2593, Valid loss: 65.1045\n",
            "Saving model with loss 65.104...\n"
          ]
        },
        {
          "output_type": "stream",
          "name": "stderr",
          "text": [
            "Epoch [76/5000]: 100%|██████████| 9/9 [00:00<00:00, 69.49it/s, loss=134]\n"
          ]
        },
        {
          "output_type": "stream",
          "name": "stdout",
          "text": [
            "Epoch [76/5000]: Train loss: 122.5017, Valid loss: 85.9204\n"
          ]
        },
        {
          "output_type": "stream",
          "name": "stderr",
          "text": [
            "Epoch [77/5000]: 100%|██████████| 9/9 [00:00<00:00, 64.53it/s, loss=84]\n"
          ]
        },
        {
          "output_type": "stream",
          "name": "stdout",
          "text": [
            "Epoch [77/5000]: Train loss: 119.2624, Valid loss: 81.8320\n"
          ]
        },
        {
          "output_type": "stream",
          "name": "stderr",
          "text": [
            "Epoch [78/5000]: 100%|██████████| 9/9 [00:00<00:00, 63.10it/s, loss=105]\n"
          ]
        },
        {
          "output_type": "stream",
          "name": "stdout",
          "text": [
            "Epoch [78/5000]: Train loss: 122.8743, Valid loss: 70.3495\n"
          ]
        },
        {
          "output_type": "stream",
          "name": "stderr",
          "text": [
            "Epoch [79/5000]: 100%|██████████| 9/9 [00:00<00:00, 64.94it/s, loss=135]\n"
          ]
        },
        {
          "output_type": "stream",
          "name": "stdout",
          "text": [
            "Epoch [79/5000]: Train loss: 125.8050, Valid loss: 73.6700\n"
          ]
        },
        {
          "output_type": "stream",
          "name": "stderr",
          "text": [
            "Epoch [80/5000]: 100%|██████████| 9/9 [00:00<00:00, 68.35it/s, loss=104]\n"
          ]
        },
        {
          "output_type": "stream",
          "name": "stdout",
          "text": [
            "Epoch [80/5000]: Train loss: 113.9827, Valid loss: 70.3026\n"
          ]
        },
        {
          "output_type": "stream",
          "name": "stderr",
          "text": [
            "Epoch [81/5000]: 100%|██████████| 9/9 [00:00<00:00, 63.71it/s, loss=120]\n"
          ]
        },
        {
          "output_type": "stream",
          "name": "stdout",
          "text": [
            "Epoch [81/5000]: Train loss: 120.2014, Valid loss: 78.6811\n"
          ]
        },
        {
          "output_type": "stream",
          "name": "stderr",
          "text": [
            "Epoch [82/5000]: 100%|██████████| 9/9 [00:00<00:00, 64.12it/s, loss=116]\n"
          ]
        },
        {
          "output_type": "stream",
          "name": "stdout",
          "text": [
            "Epoch [82/5000]: Train loss: 123.6560, Valid loss: 94.9882\n"
          ]
        },
        {
          "output_type": "stream",
          "name": "stderr",
          "text": [
            "Epoch [83/5000]: 100%|██████████| 9/9 [00:00<00:00, 29.04it/s, loss=126]\n"
          ]
        },
        {
          "output_type": "stream",
          "name": "stdout",
          "text": [
            "Epoch [83/5000]: Train loss: 123.3562, Valid loss: 77.0735\n"
          ]
        },
        {
          "output_type": "stream",
          "name": "stderr",
          "text": [
            "Epoch [84/5000]: 100%|██████████| 9/9 [00:00<00:00, 62.15it/s, loss=113]\n"
          ]
        },
        {
          "output_type": "stream",
          "name": "stdout",
          "text": [
            "Epoch [84/5000]: Train loss: 118.0628, Valid loss: 65.7043\n"
          ]
        },
        {
          "output_type": "stream",
          "name": "stderr",
          "text": [
            "Epoch [85/5000]: 100%|██████████| 9/9 [00:00<00:00, 64.85it/s, loss=101]\n"
          ]
        },
        {
          "output_type": "stream",
          "name": "stdout",
          "text": [
            "Epoch [85/5000]: Train loss: 118.2931, Valid loss: 67.3855\n"
          ]
        },
        {
          "output_type": "stream",
          "name": "stderr",
          "text": [
            "Epoch [86/5000]: 100%|██████████| 9/9 [00:00<00:00, 64.48it/s, loss=95]\n"
          ]
        },
        {
          "output_type": "stream",
          "name": "stdout",
          "text": [
            "Epoch [86/5000]: Train loss: 113.1275, Valid loss: 71.0747\n"
          ]
        },
        {
          "output_type": "stream",
          "name": "stderr",
          "text": [
            "Epoch [87/5000]: 100%|██████████| 9/9 [00:00<00:00, 64.52it/s, loss=105]\n"
          ]
        },
        {
          "output_type": "stream",
          "name": "stdout",
          "text": [
            "Epoch [87/5000]: Train loss: 117.6992, Valid loss: 64.6678\n",
            "Saving model with loss 64.668...\n"
          ]
        },
        {
          "output_type": "stream",
          "name": "stderr",
          "text": [
            "Epoch [88/5000]: 100%|██████████| 9/9 [00:00<00:00, 65.77it/s, loss=114]\n"
          ]
        },
        {
          "output_type": "stream",
          "name": "stdout",
          "text": [
            "Epoch [88/5000]: Train loss: 114.0222, Valid loss: 75.1404\n"
          ]
        },
        {
          "output_type": "stream",
          "name": "stderr",
          "text": [
            "Epoch [89/5000]: 100%|██████████| 9/9 [00:00<00:00, 63.56it/s, loss=94.4]\n"
          ]
        },
        {
          "output_type": "stream",
          "name": "stdout",
          "text": [
            "Epoch [89/5000]: Train loss: 119.1870, Valid loss: 71.5401\n"
          ]
        },
        {
          "output_type": "stream",
          "name": "stderr",
          "text": [
            "Epoch [90/5000]: 100%|██████████| 9/9 [00:00<00:00, 65.19it/s, loss=130]\n"
          ]
        },
        {
          "output_type": "stream",
          "name": "stdout",
          "text": [
            "Epoch [90/5000]: Train loss: 118.0922, Valid loss: 78.5520\n"
          ]
        },
        {
          "output_type": "stream",
          "name": "stderr",
          "text": [
            "Epoch [91/5000]: 100%|██████████| 9/9 [00:00<00:00, 65.73it/s, loss=84.9]\n"
          ]
        },
        {
          "output_type": "stream",
          "name": "stdout",
          "text": [
            "Epoch [91/5000]: Train loss: 117.2816, Valid loss: 68.5897\n"
          ]
        },
        {
          "output_type": "stream",
          "name": "stderr",
          "text": [
            "Epoch [92/5000]: 100%|██████████| 9/9 [00:00<00:00, 65.76it/s, loss=83.2]\n"
          ]
        },
        {
          "output_type": "stream",
          "name": "stdout",
          "text": [
            "Epoch [92/5000]: Train loss: 117.7548, Valid loss: 60.0724\n",
            "Saving model with loss 60.072...\n"
          ]
        },
        {
          "output_type": "stream",
          "name": "stderr",
          "text": [
            "Epoch [93/5000]: 100%|██████████| 9/9 [00:00<00:00, 65.76it/s, loss=124]\n"
          ]
        },
        {
          "output_type": "stream",
          "name": "stdout",
          "text": [
            "Epoch [93/5000]: Train loss: 116.2705, Valid loss: 62.5943\n"
          ]
        },
        {
          "output_type": "stream",
          "name": "stderr",
          "text": [
            "Epoch [94/5000]: 100%|██████████| 9/9 [00:00<00:00, 64.00it/s, loss=125]\n"
          ]
        },
        {
          "output_type": "stream",
          "name": "stdout",
          "text": [
            "Epoch [94/5000]: Train loss: 114.8269, Valid loss: 73.9406\n"
          ]
        },
        {
          "output_type": "stream",
          "name": "stderr",
          "text": [
            "Epoch [95/5000]: 100%|██████████| 9/9 [00:00<00:00, 59.19it/s, loss=97.8]\n"
          ]
        },
        {
          "output_type": "stream",
          "name": "stdout",
          "text": [
            "Epoch [95/5000]: Train loss: 113.5793, Valid loss: 76.5812\n"
          ]
        },
        {
          "output_type": "stream",
          "name": "stderr",
          "text": [
            "Epoch [96/5000]: 100%|██████████| 9/9 [00:00<00:00, 67.81it/s, loss=108]\n"
          ]
        },
        {
          "output_type": "stream",
          "name": "stdout",
          "text": [
            "Epoch [96/5000]: Train loss: 114.7684, Valid loss: 59.1286\n",
            "Saving model with loss 59.129...\n"
          ]
        },
        {
          "output_type": "stream",
          "name": "stderr",
          "text": [
            "Epoch [97/5000]: 100%|██████████| 9/9 [00:00<00:00, 65.28it/s, loss=104]\n"
          ]
        },
        {
          "output_type": "stream",
          "name": "stdout",
          "text": [
            "Epoch [97/5000]: Train loss: 109.0675, Valid loss: 60.2217\n"
          ]
        },
        {
          "output_type": "stream",
          "name": "stderr",
          "text": [
            "Epoch [98/5000]: 100%|██████████| 9/9 [00:00<00:00, 64.38it/s, loss=96.1]\n"
          ]
        },
        {
          "output_type": "stream",
          "name": "stdout",
          "text": [
            "Epoch [98/5000]: Train loss: 119.4890, Valid loss: 71.1464\n"
          ]
        },
        {
          "output_type": "stream",
          "name": "stderr",
          "text": [
            "Epoch [99/5000]: 100%|██████████| 9/9 [00:00<00:00, 63.11it/s, loss=100]\n"
          ]
        },
        {
          "output_type": "stream",
          "name": "stdout",
          "text": [
            "Epoch [99/5000]: Train loss: 113.3005, Valid loss: 71.2699\n"
          ]
        },
        {
          "output_type": "stream",
          "name": "stderr",
          "text": [
            "Epoch [100/5000]: 100%|██████████| 9/9 [00:00<00:00, 61.53it/s, loss=90]\n"
          ]
        },
        {
          "output_type": "stream",
          "name": "stdout",
          "text": [
            "Epoch [100/5000]: Train loss: 112.4959, Valid loss: 59.1072\n",
            "Saving model with loss 59.107...\n"
          ]
        },
        {
          "output_type": "stream",
          "name": "stderr",
          "text": [
            "Epoch [101/5000]: 100%|██████████| 9/9 [00:00<00:00, 59.61it/s, loss=117]\n"
          ]
        },
        {
          "output_type": "stream",
          "name": "stdout",
          "text": [
            "Epoch [101/5000]: Train loss: 117.2885, Valid loss: 65.1057\n"
          ]
        },
        {
          "output_type": "stream",
          "name": "stderr",
          "text": [
            "Epoch [102/5000]: 100%|██████████| 9/9 [00:00<00:00, 58.65it/s, loss=107]\n"
          ]
        },
        {
          "output_type": "stream",
          "name": "stdout",
          "text": [
            "Epoch [102/5000]: Train loss: 115.1043, Valid loss: 68.1334\n"
          ]
        },
        {
          "output_type": "stream",
          "name": "stderr",
          "text": [
            "Epoch [103/5000]: 100%|██████████| 9/9 [00:00<00:00, 60.64it/s, loss=93.4]\n"
          ]
        },
        {
          "output_type": "stream",
          "name": "stdout",
          "text": [
            "Epoch [103/5000]: Train loss: 110.6921, Valid loss: 71.0389\n"
          ]
        },
        {
          "output_type": "stream",
          "name": "stderr",
          "text": [
            "Epoch [104/5000]: 100%|██████████| 9/9 [00:00<00:00, 64.76it/s, loss=134]\n"
          ]
        },
        {
          "output_type": "stream",
          "name": "stdout",
          "text": [
            "Epoch [104/5000]: Train loss: 115.0027, Valid loss: 77.8733\n"
          ]
        },
        {
          "output_type": "stream",
          "name": "stderr",
          "text": [
            "Epoch [105/5000]: 100%|██████████| 9/9 [00:00<00:00, 61.45it/s, loss=140]\n"
          ]
        },
        {
          "output_type": "stream",
          "name": "stdout",
          "text": [
            "Epoch [105/5000]: Train loss: 113.6464, Valid loss: 64.9189\n"
          ]
        },
        {
          "output_type": "stream",
          "name": "stderr",
          "text": [
            "Epoch [106/5000]: 100%|██████████| 9/9 [00:00<00:00, 64.91it/s, loss=97.1]\n"
          ]
        },
        {
          "output_type": "stream",
          "name": "stdout",
          "text": [
            "Epoch [106/5000]: Train loss: 109.7272, Valid loss: 57.9835\n",
            "Saving model with loss 57.984...\n"
          ]
        },
        {
          "output_type": "stream",
          "name": "stderr",
          "text": [
            "Epoch [107/5000]: 100%|██████████| 9/9 [00:00<00:00, 60.31it/s, loss=121]\n"
          ]
        },
        {
          "output_type": "stream",
          "name": "stdout",
          "text": [
            "Epoch [107/5000]: Train loss: 112.6233, Valid loss: 60.1312\n"
          ]
        },
        {
          "output_type": "stream",
          "name": "stderr",
          "text": [
            "Epoch [108/5000]: 100%|██████████| 9/9 [00:00<00:00, 63.32it/s, loss=118]\n"
          ]
        },
        {
          "output_type": "stream",
          "name": "stdout",
          "text": [
            "Epoch [108/5000]: Train loss: 109.3100, Valid loss: 67.4671\n"
          ]
        },
        {
          "output_type": "stream",
          "name": "stderr",
          "text": [
            "Epoch [109/5000]: 100%|██████████| 9/9 [00:00<00:00, 62.73it/s, loss=87.9]\n"
          ]
        },
        {
          "output_type": "stream",
          "name": "stdout",
          "text": [
            "Epoch [109/5000]: Train loss: 109.9260, Valid loss: 62.9655\n"
          ]
        },
        {
          "output_type": "stream",
          "name": "stderr",
          "text": [
            "Epoch [110/5000]: 100%|██████████| 9/9 [00:00<00:00, 64.29it/s, loss=96.1]\n"
          ]
        },
        {
          "output_type": "stream",
          "name": "stdout",
          "text": [
            "Epoch [110/5000]: Train loss: 111.7291, Valid loss: 58.3344\n"
          ]
        },
        {
          "output_type": "stream",
          "name": "stderr",
          "text": [
            "Epoch [111/5000]: 100%|██████████| 9/9 [00:00<00:00, 60.50it/s, loss=102]\n"
          ]
        },
        {
          "output_type": "stream",
          "name": "stdout",
          "text": [
            "Epoch [111/5000]: Train loss: 110.3266, Valid loss: 68.6219\n"
          ]
        },
        {
          "output_type": "stream",
          "name": "stderr",
          "text": [
            "Epoch [112/5000]: 100%|██████████| 9/9 [00:00<00:00, 61.39it/s, loss=119]\n"
          ]
        },
        {
          "output_type": "stream",
          "name": "stdout",
          "text": [
            "Epoch [112/5000]: Train loss: 110.9058, Valid loss: 64.5349\n"
          ]
        },
        {
          "output_type": "stream",
          "name": "stderr",
          "text": [
            "Epoch [113/5000]: 100%|██████████| 9/9 [00:00<00:00, 65.12it/s, loss=86]\n"
          ]
        },
        {
          "output_type": "stream",
          "name": "stdout",
          "text": [
            "Epoch [113/5000]: Train loss: 109.8706, Valid loss: 65.4029\n"
          ]
        },
        {
          "output_type": "stream",
          "name": "stderr",
          "text": [
            "Epoch [114/5000]: 100%|██████████| 9/9 [00:00<00:00, 63.20it/s, loss=134]\n"
          ]
        },
        {
          "output_type": "stream",
          "name": "stdout",
          "text": [
            "Epoch [114/5000]: Train loss: 109.4502, Valid loss: 65.9382\n"
          ]
        },
        {
          "output_type": "stream",
          "name": "stderr",
          "text": [
            "Epoch [115/5000]: 100%|██████████| 9/9 [00:00<00:00, 58.93it/s, loss=116]\n"
          ]
        },
        {
          "output_type": "stream",
          "name": "stdout",
          "text": [
            "Epoch [115/5000]: Train loss: 109.7336, Valid loss: 60.8638\n"
          ]
        },
        {
          "output_type": "stream",
          "name": "stderr",
          "text": [
            "Epoch [116/5000]: 100%|██████████| 9/9 [00:00<00:00, 62.18it/s, loss=123]\n"
          ]
        },
        {
          "output_type": "stream",
          "name": "stdout",
          "text": [
            "Epoch [116/5000]: Train loss: 111.9741, Valid loss: 49.2076\n",
            "Saving model with loss 49.208...\n"
          ]
        },
        {
          "output_type": "stream",
          "name": "stderr",
          "text": [
            "Epoch [117/5000]: 100%|██████████| 9/9 [00:00<00:00, 63.49it/s, loss=94.9]\n"
          ]
        },
        {
          "output_type": "stream",
          "name": "stdout",
          "text": [
            "Epoch [117/5000]: Train loss: 108.4060, Valid loss: 64.1264\n"
          ]
        },
        {
          "output_type": "stream",
          "name": "stderr",
          "text": [
            "Epoch [118/5000]: 100%|██████████| 9/9 [00:00<00:00, 62.55it/s, loss=95.6]\n"
          ]
        },
        {
          "output_type": "stream",
          "name": "stdout",
          "text": [
            "Epoch [118/5000]: Train loss: 109.3292, Valid loss: 56.7704\n"
          ]
        },
        {
          "output_type": "stream",
          "name": "stderr",
          "text": [
            "Epoch [119/5000]: 100%|██████████| 9/9 [00:00<00:00, 69.00it/s, loss=106]\n"
          ]
        },
        {
          "output_type": "stream",
          "name": "stdout",
          "text": [
            "Epoch [119/5000]: Train loss: 104.9773, Valid loss: 68.4420\n"
          ]
        },
        {
          "output_type": "stream",
          "name": "stderr",
          "text": [
            "Epoch [120/5000]: 100%|██████████| 9/9 [00:00<00:00, 59.59it/s, loss=94.8]\n"
          ]
        },
        {
          "output_type": "stream",
          "name": "stdout",
          "text": [
            "Epoch [120/5000]: Train loss: 111.9294, Valid loss: 71.7409\n"
          ]
        },
        {
          "output_type": "stream",
          "name": "stderr",
          "text": [
            "Epoch [121/5000]: 100%|██████████| 9/9 [00:00<00:00, 57.00it/s, loss=119]\n"
          ]
        },
        {
          "output_type": "stream",
          "name": "stdout",
          "text": [
            "Epoch [121/5000]: Train loss: 110.7858, Valid loss: 56.6164\n"
          ]
        },
        {
          "output_type": "stream",
          "name": "stderr",
          "text": [
            "Epoch [122/5000]: 100%|██████████| 9/9 [00:00<00:00, 64.60it/s, loss=82.6]\n"
          ]
        },
        {
          "output_type": "stream",
          "name": "stdout",
          "text": [
            "Epoch [122/5000]: Train loss: 104.8890, Valid loss: 62.5523\n"
          ]
        },
        {
          "output_type": "stream",
          "name": "stderr",
          "text": [
            "Epoch [123/5000]: 100%|██████████| 9/9 [00:00<00:00, 60.29it/s, loss=128]\n"
          ]
        },
        {
          "output_type": "stream",
          "name": "stdout",
          "text": [
            "Epoch [123/5000]: Train loss: 111.2064, Valid loss: 51.9403\n"
          ]
        },
        {
          "output_type": "stream",
          "name": "stderr",
          "text": [
            "Epoch [124/5000]: 100%|██████████| 9/9 [00:00<00:00, 64.97it/s, loss=78.1]\n"
          ]
        },
        {
          "output_type": "stream",
          "name": "stdout",
          "text": [
            "Epoch [124/5000]: Train loss: 108.0414, Valid loss: 69.5118\n"
          ]
        },
        {
          "output_type": "stream",
          "name": "stderr",
          "text": [
            "Epoch [125/5000]: 100%|██████████| 9/9 [00:00<00:00, 64.47it/s, loss=106]\n"
          ]
        },
        {
          "output_type": "stream",
          "name": "stdout",
          "text": [
            "Epoch [125/5000]: Train loss: 99.7481, Valid loss: 63.3202\n"
          ]
        },
        {
          "output_type": "stream",
          "name": "stderr",
          "text": [
            "Epoch [126/5000]: 100%|██████████| 9/9 [00:00<00:00, 64.53it/s, loss=110]\n"
          ]
        },
        {
          "output_type": "stream",
          "name": "stdout",
          "text": [
            "Epoch [126/5000]: Train loss: 105.3446, Valid loss: 62.6769\n"
          ]
        },
        {
          "output_type": "stream",
          "name": "stderr",
          "text": [
            "Epoch [127/5000]: 100%|██████████| 9/9 [00:00<00:00, 63.13it/s, loss=114]\n"
          ]
        },
        {
          "output_type": "stream",
          "name": "stdout",
          "text": [
            "Epoch [127/5000]: Train loss: 103.9689, Valid loss: 53.9703\n"
          ]
        },
        {
          "output_type": "stream",
          "name": "stderr",
          "text": [
            "Epoch [128/5000]: 100%|██████████| 9/9 [00:00<00:00, 65.21it/s, loss=88.6]\n"
          ]
        },
        {
          "output_type": "stream",
          "name": "stdout",
          "text": [
            "Epoch [128/5000]: Train loss: 103.7555, Valid loss: 55.7228\n"
          ]
        },
        {
          "output_type": "stream",
          "name": "stderr",
          "text": [
            "Epoch [129/5000]: 100%|██████████| 9/9 [00:00<00:00, 61.73it/s, loss=118]\n"
          ]
        },
        {
          "output_type": "stream",
          "name": "stdout",
          "text": [
            "Epoch [129/5000]: Train loss: 104.6753, Valid loss: 66.2141\n"
          ]
        },
        {
          "output_type": "stream",
          "name": "stderr",
          "text": [
            "Epoch [130/5000]: 100%|██████████| 9/9 [00:00<00:00, 56.68it/s, loss=71.9]\n"
          ]
        },
        {
          "output_type": "stream",
          "name": "stdout",
          "text": [
            "Epoch [130/5000]: Train loss: 99.7598, Valid loss: 52.6083\n"
          ]
        },
        {
          "output_type": "stream",
          "name": "stderr",
          "text": [
            "Epoch [131/5000]: 100%|██████████| 9/9 [00:00<00:00, 60.63it/s, loss=77]\n"
          ]
        },
        {
          "output_type": "stream",
          "name": "stdout",
          "text": [
            "Epoch [131/5000]: Train loss: 102.0509, Valid loss: 65.0058\n"
          ]
        },
        {
          "output_type": "stream",
          "name": "stderr",
          "text": [
            "Epoch [132/5000]: 100%|██████████| 9/9 [00:00<00:00, 64.00it/s, loss=78.1]\n"
          ]
        },
        {
          "output_type": "stream",
          "name": "stdout",
          "text": [
            "Epoch [132/5000]: Train loss: 106.6504, Valid loss: 65.2538\n"
          ]
        },
        {
          "output_type": "stream",
          "name": "stderr",
          "text": [
            "Epoch [133/5000]: 100%|██████████| 9/9 [00:00<00:00, 62.70it/s, loss=95.4]\n"
          ]
        },
        {
          "output_type": "stream",
          "name": "stdout",
          "text": [
            "Epoch [133/5000]: Train loss: 104.7406, Valid loss: 57.9205\n"
          ]
        },
        {
          "output_type": "stream",
          "name": "stderr",
          "text": [
            "Epoch [134/5000]: 100%|██████████| 9/9 [00:00<00:00, 64.71it/s, loss=119]\n"
          ]
        },
        {
          "output_type": "stream",
          "name": "stdout",
          "text": [
            "Epoch [134/5000]: Train loss: 105.9911, Valid loss: 55.9712\n"
          ]
        },
        {
          "output_type": "stream",
          "name": "stderr",
          "text": [
            "Epoch [135/5000]: 100%|██████████| 9/9 [00:00<00:00, 60.87it/s, loss=97.4]\n"
          ]
        },
        {
          "output_type": "stream",
          "name": "stdout",
          "text": [
            "Epoch [135/5000]: Train loss: 105.1143, Valid loss: 55.4432\n"
          ]
        },
        {
          "output_type": "stream",
          "name": "stderr",
          "text": [
            "Epoch [136/5000]: 100%|██████████| 9/9 [00:00<00:00, 62.98it/s, loss=74.9]\n"
          ]
        },
        {
          "output_type": "stream",
          "name": "stdout",
          "text": [
            "Epoch [136/5000]: Train loss: 96.7129, Valid loss: 53.5257\n"
          ]
        },
        {
          "output_type": "stream",
          "name": "stderr",
          "text": [
            "Epoch [137/5000]: 100%|██████████| 9/9 [00:00<00:00, 60.38it/s, loss=125]\n"
          ]
        },
        {
          "output_type": "stream",
          "name": "stdout",
          "text": [
            "Epoch [137/5000]: Train loss: 103.6696, Valid loss: 70.0148\n"
          ]
        },
        {
          "output_type": "stream",
          "name": "stderr",
          "text": [
            "Epoch [138/5000]: 100%|██████████| 9/9 [00:00<00:00, 66.54it/s, loss=85]\n"
          ]
        },
        {
          "output_type": "stream",
          "name": "stdout",
          "text": [
            "Epoch [138/5000]: Train loss: 103.1463, Valid loss: 52.1779\n"
          ]
        },
        {
          "output_type": "stream",
          "name": "stderr",
          "text": [
            "Epoch [139/5000]: 100%|██████████| 9/9 [00:00<00:00, 48.60it/s, loss=102]\n"
          ]
        },
        {
          "output_type": "stream",
          "name": "stdout",
          "text": [
            "Epoch [139/5000]: Train loss: 105.4109, Valid loss: 60.3974\n"
          ]
        },
        {
          "output_type": "stream",
          "name": "stderr",
          "text": [
            "Epoch [140/5000]: 100%|██████████| 9/9 [00:00<00:00, 54.42it/s, loss=92.3]\n"
          ]
        },
        {
          "output_type": "stream",
          "name": "stdout",
          "text": [
            "Epoch [140/5000]: Train loss: 103.5868, Valid loss: 72.7529\n"
          ]
        },
        {
          "output_type": "stream",
          "name": "stderr",
          "text": [
            "Epoch [141/5000]: 100%|██████████| 9/9 [00:00<00:00, 54.80it/s, loss=109]\n"
          ]
        },
        {
          "output_type": "stream",
          "name": "stdout",
          "text": [
            "Epoch [141/5000]: Train loss: 104.3610, Valid loss: 57.8773\n"
          ]
        },
        {
          "output_type": "stream",
          "name": "stderr",
          "text": [
            "Epoch [142/5000]: 100%|██████████| 9/9 [00:00<00:00, 63.09it/s, loss=73.8]\n"
          ]
        },
        {
          "output_type": "stream",
          "name": "stdout",
          "text": [
            "Epoch [142/5000]: Train loss: 99.4870, Valid loss: 56.7196\n"
          ]
        },
        {
          "output_type": "stream",
          "name": "stderr",
          "text": [
            "Epoch [143/5000]: 100%|██████████| 9/9 [00:00<00:00, 63.26it/s, loss=98.1]\n"
          ]
        },
        {
          "output_type": "stream",
          "name": "stdout",
          "text": [
            "Epoch [143/5000]: Train loss: 100.3686, Valid loss: 54.2430\n"
          ]
        },
        {
          "output_type": "stream",
          "name": "stderr",
          "text": [
            "Epoch [144/5000]: 100%|██████████| 9/9 [00:00<00:00, 64.47it/s, loss=102]\n"
          ]
        },
        {
          "output_type": "stream",
          "name": "stdout",
          "text": [
            "Epoch [144/5000]: Train loss: 102.0236, Valid loss: 56.7510\n"
          ]
        },
        {
          "output_type": "stream",
          "name": "stderr",
          "text": [
            "Epoch [145/5000]: 100%|██████████| 9/9 [00:00<00:00, 58.72it/s, loss=96.4]\n"
          ]
        },
        {
          "output_type": "stream",
          "name": "stdout",
          "text": [
            "Epoch [145/5000]: Train loss: 103.3262, Valid loss: 59.0609\n"
          ]
        },
        {
          "output_type": "stream",
          "name": "stderr",
          "text": [
            "Epoch [146/5000]: 100%|██████████| 9/9 [00:00<00:00, 63.93it/s, loss=87.6]\n"
          ]
        },
        {
          "output_type": "stream",
          "name": "stdout",
          "text": [
            "Epoch [146/5000]: Train loss: 98.5053, Valid loss: 46.8955\n",
            "Saving model with loss 46.896...\n"
          ]
        },
        {
          "output_type": "stream",
          "name": "stderr",
          "text": [
            "Epoch [147/5000]: 100%|██████████| 9/9 [00:00<00:00, 57.18it/s, loss=90.5]\n"
          ]
        },
        {
          "output_type": "stream",
          "name": "stdout",
          "text": [
            "Epoch [147/5000]: Train loss: 97.8332, Valid loss: 61.4001\n"
          ]
        },
        {
          "output_type": "stream",
          "name": "stderr",
          "text": [
            "Epoch [148/5000]: 100%|██████████| 9/9 [00:00<00:00, 62.76it/s, loss=103]\n"
          ]
        },
        {
          "output_type": "stream",
          "name": "stdout",
          "text": [
            "Epoch [148/5000]: Train loss: 100.4683, Valid loss: 57.6990\n"
          ]
        },
        {
          "output_type": "stream",
          "name": "stderr",
          "text": [
            "Epoch [149/5000]: 100%|██████████| 9/9 [00:00<00:00, 64.26it/s, loss=94.9]\n"
          ]
        },
        {
          "output_type": "stream",
          "name": "stdout",
          "text": [
            "Epoch [149/5000]: Train loss: 101.2155, Valid loss: 58.5702\n"
          ]
        },
        {
          "output_type": "stream",
          "name": "stderr",
          "text": [
            "Epoch [150/5000]: 100%|██████████| 9/9 [00:00<00:00, 61.98it/s, loss=75.5]\n"
          ]
        },
        {
          "output_type": "stream",
          "name": "stdout",
          "text": [
            "Epoch [150/5000]: Train loss: 93.7825, Valid loss: 53.8315\n"
          ]
        },
        {
          "output_type": "stream",
          "name": "stderr",
          "text": [
            "Epoch [151/5000]: 100%|██████████| 9/9 [00:00<00:00, 68.58it/s, loss=160]\n"
          ]
        },
        {
          "output_type": "stream",
          "name": "stdout",
          "text": [
            "Epoch [151/5000]: Train loss: 105.1463, Valid loss: 53.6814\n"
          ]
        },
        {
          "output_type": "stream",
          "name": "stderr",
          "text": [
            "Epoch [152/5000]: 100%|██████████| 9/9 [00:00<00:00, 67.05it/s, loss=89]\n"
          ]
        },
        {
          "output_type": "stream",
          "name": "stdout",
          "text": [
            "Epoch [152/5000]: Train loss: 98.7161, Valid loss: 60.5024\n"
          ]
        },
        {
          "output_type": "stream",
          "name": "stderr",
          "text": [
            "Epoch [153/5000]: 100%|██████████| 9/9 [00:00<00:00, 60.24it/s, loss=104]\n"
          ]
        },
        {
          "output_type": "stream",
          "name": "stdout",
          "text": [
            "Epoch [153/5000]: Train loss: 93.6271, Valid loss: 70.7646\n"
          ]
        },
        {
          "output_type": "stream",
          "name": "stderr",
          "text": [
            "Epoch [154/5000]: 100%|██████████| 9/9 [00:00<00:00, 61.84it/s, loss=117]\n"
          ]
        },
        {
          "output_type": "stream",
          "name": "stdout",
          "text": [
            "Epoch [154/5000]: Train loss: 99.7313, Valid loss: 57.8435\n"
          ]
        },
        {
          "output_type": "stream",
          "name": "stderr",
          "text": [
            "Epoch [155/5000]: 100%|██████████| 9/9 [00:00<00:00, 68.75it/s, loss=76]\n"
          ]
        },
        {
          "output_type": "stream",
          "name": "stdout",
          "text": [
            "Epoch [155/5000]: Train loss: 97.3532, Valid loss: 53.8601\n"
          ]
        },
        {
          "output_type": "stream",
          "name": "stderr",
          "text": [
            "Epoch [156/5000]: 100%|██████████| 9/9 [00:00<00:00, 73.44it/s, loss=95.6]\n"
          ]
        },
        {
          "output_type": "stream",
          "name": "stdout",
          "text": [
            "Epoch [156/5000]: Train loss: 96.0665, Valid loss: 53.3224\n"
          ]
        },
        {
          "output_type": "stream",
          "name": "stderr",
          "text": [
            "Epoch [157/5000]: 100%|██████████| 9/9 [00:00<00:00, 65.53it/s, loss=103]\n"
          ]
        },
        {
          "output_type": "stream",
          "name": "stdout",
          "text": [
            "Epoch [157/5000]: Train loss: 102.0995, Valid loss: 55.5362\n"
          ]
        },
        {
          "output_type": "stream",
          "name": "stderr",
          "text": [
            "Epoch [158/5000]: 100%|██████████| 9/9 [00:00<00:00, 67.72it/s, loss=129]\n"
          ]
        },
        {
          "output_type": "stream",
          "name": "stdout",
          "text": [
            "Epoch [158/5000]: Train loss: 102.5849, Valid loss: 49.6727\n"
          ]
        },
        {
          "output_type": "stream",
          "name": "stderr",
          "text": [
            "Epoch [159/5000]: 100%|██████████| 9/9 [00:00<00:00, 68.52it/s, loss=90.4]\n"
          ]
        },
        {
          "output_type": "stream",
          "name": "stdout",
          "text": [
            "Epoch [159/5000]: Train loss: 99.3648, Valid loss: 54.4212\n"
          ]
        },
        {
          "output_type": "stream",
          "name": "stderr",
          "text": [
            "Epoch [160/5000]: 100%|██████████| 9/9 [00:00<00:00, 67.39it/s, loss=65]\n"
          ]
        },
        {
          "output_type": "stream",
          "name": "stdout",
          "text": [
            "Epoch [160/5000]: Train loss: 94.5477, Valid loss: 63.6898\n"
          ]
        },
        {
          "output_type": "stream",
          "name": "stderr",
          "text": [
            "Epoch [161/5000]: 100%|██████████| 9/9 [00:00<00:00, 62.71it/s, loss=95.7]\n"
          ]
        },
        {
          "output_type": "stream",
          "name": "stdout",
          "text": [
            "Epoch [161/5000]: Train loss: 93.5220, Valid loss: 52.6158\n"
          ]
        },
        {
          "output_type": "stream",
          "name": "stderr",
          "text": [
            "Epoch [162/5000]: 100%|██████████| 9/9 [00:00<00:00, 58.45it/s, loss=92.9]\n"
          ]
        },
        {
          "output_type": "stream",
          "name": "stdout",
          "text": [
            "Epoch [162/5000]: Train loss: 99.1502, Valid loss: 60.7907\n"
          ]
        },
        {
          "output_type": "stream",
          "name": "stderr",
          "text": [
            "Epoch [163/5000]: 100%|██████████| 9/9 [00:00<00:00, 29.13it/s, loss=102]\n"
          ]
        },
        {
          "output_type": "stream",
          "name": "stdout",
          "text": [
            "Epoch [163/5000]: Train loss: 97.6924, Valid loss: 66.6039\n"
          ]
        },
        {
          "output_type": "stream",
          "name": "stderr",
          "text": [
            "Epoch [164/5000]: 100%|██████████| 9/9 [00:00<00:00, 58.86it/s, loss=85.7]\n"
          ]
        },
        {
          "output_type": "stream",
          "name": "stdout",
          "text": [
            "Epoch [164/5000]: Train loss: 95.1778, Valid loss: 51.9933\n"
          ]
        },
        {
          "output_type": "stream",
          "name": "stderr",
          "text": [
            "Epoch [165/5000]: 100%|██████████| 9/9 [00:00<00:00, 65.17it/s, loss=85.2]\n"
          ]
        },
        {
          "output_type": "stream",
          "name": "stdout",
          "text": [
            "Epoch [165/5000]: Train loss: 93.3781, Valid loss: 53.3046\n"
          ]
        },
        {
          "output_type": "stream",
          "name": "stderr",
          "text": [
            "Epoch [166/5000]: 100%|██████████| 9/9 [00:00<00:00, 58.56it/s, loss=84]\n"
          ]
        },
        {
          "output_type": "stream",
          "name": "stdout",
          "text": [
            "Epoch [166/5000]: Train loss: 95.4333, Valid loss: 59.2304\n"
          ]
        },
        {
          "output_type": "stream",
          "name": "stderr",
          "text": [
            "Epoch [167/5000]: 100%|██████████| 9/9 [00:00<00:00, 65.80it/s, loss=88.8]\n"
          ]
        },
        {
          "output_type": "stream",
          "name": "stdout",
          "text": [
            "Epoch [167/5000]: Train loss: 95.1539, Valid loss: 54.4732\n"
          ]
        },
        {
          "output_type": "stream",
          "name": "stderr",
          "text": [
            "Epoch [168/5000]: 100%|██████████| 9/9 [00:00<00:00, 63.47it/s, loss=122]\n"
          ]
        },
        {
          "output_type": "stream",
          "name": "stdout",
          "text": [
            "Epoch [168/5000]: Train loss: 99.5039, Valid loss: 61.0391\n"
          ]
        },
        {
          "output_type": "stream",
          "name": "stderr",
          "text": [
            "Epoch [169/5000]: 100%|██████████| 9/9 [00:00<00:00, 59.19it/s, loss=86.5]\n"
          ]
        },
        {
          "output_type": "stream",
          "name": "stdout",
          "text": [
            "Epoch [169/5000]: Train loss: 94.2018, Valid loss: 55.9319\n"
          ]
        },
        {
          "output_type": "stream",
          "name": "stderr",
          "text": [
            "Epoch [170/5000]: 100%|██████████| 9/9 [00:00<00:00, 62.47it/s, loss=113]\n"
          ]
        },
        {
          "output_type": "stream",
          "name": "stdout",
          "text": [
            "Epoch [170/5000]: Train loss: 100.0498, Valid loss: 60.7555\n"
          ]
        },
        {
          "output_type": "stream",
          "name": "stderr",
          "text": [
            "Epoch [171/5000]: 100%|██████████| 9/9 [00:00<00:00, 61.92it/s, loss=116]\n"
          ]
        },
        {
          "output_type": "stream",
          "name": "stdout",
          "text": [
            "Epoch [171/5000]: Train loss: 96.0438, Valid loss: 64.6545\n"
          ]
        },
        {
          "output_type": "stream",
          "name": "stderr",
          "text": [
            "Epoch [172/5000]: 100%|██████████| 9/9 [00:00<00:00, 50.89it/s, loss=103]\n"
          ]
        },
        {
          "output_type": "stream",
          "name": "stdout",
          "text": [
            "Epoch [172/5000]: Train loss: 98.3497, Valid loss: 51.0100\n"
          ]
        },
        {
          "output_type": "stream",
          "name": "stderr",
          "text": [
            "Epoch [173/5000]: 100%|██████████| 9/9 [00:00<00:00, 74.21it/s, loss=93.8]\n"
          ]
        },
        {
          "output_type": "stream",
          "name": "stdout",
          "text": [
            "Epoch [173/5000]: Train loss: 93.7822, Valid loss: 62.4548\n"
          ]
        },
        {
          "output_type": "stream",
          "name": "stderr",
          "text": [
            "Epoch [174/5000]: 100%|██████████| 9/9 [00:00<00:00, 71.69it/s, loss=93.8]\n"
          ]
        },
        {
          "output_type": "stream",
          "name": "stdout",
          "text": [
            "Epoch [174/5000]: Train loss: 96.3347, Valid loss: 62.8064\n"
          ]
        },
        {
          "output_type": "stream",
          "name": "stderr",
          "text": [
            "Epoch [175/5000]: 100%|██████████| 9/9 [00:00<00:00, 65.31it/s, loss=124]\n"
          ]
        },
        {
          "output_type": "stream",
          "name": "stdout",
          "text": [
            "Epoch [175/5000]: Train loss: 96.1491, Valid loss: 60.2134\n"
          ]
        },
        {
          "output_type": "stream",
          "name": "stderr",
          "text": [
            "Epoch [176/5000]: 100%|██████████| 9/9 [00:00<00:00, 64.70it/s, loss=105]\n"
          ]
        },
        {
          "output_type": "stream",
          "name": "stdout",
          "text": [
            "Epoch [176/5000]: Train loss: 100.2696, Valid loss: 60.1917\n"
          ]
        },
        {
          "output_type": "stream",
          "name": "stderr",
          "text": [
            "Epoch [177/5000]: 100%|██████████| 9/9 [00:00<00:00, 67.39it/s, loss=106]\n"
          ]
        },
        {
          "output_type": "stream",
          "name": "stdout",
          "text": [
            "Epoch [177/5000]: Train loss: 94.7472, Valid loss: 60.6054\n"
          ]
        },
        {
          "output_type": "stream",
          "name": "stderr",
          "text": [
            "Epoch [178/5000]: 100%|██████████| 9/9 [00:00<00:00, 63.41it/s, loss=79.3]\n"
          ]
        },
        {
          "output_type": "stream",
          "name": "stdout",
          "text": [
            "Epoch [178/5000]: Train loss: 94.3832, Valid loss: 55.3090\n"
          ]
        },
        {
          "output_type": "stream",
          "name": "stderr",
          "text": [
            "Epoch [179/5000]: 100%|██████████| 9/9 [00:00<00:00, 61.82it/s, loss=103]\n"
          ]
        },
        {
          "output_type": "stream",
          "name": "stdout",
          "text": [
            "Epoch [179/5000]: Train loss: 95.1870, Valid loss: 54.8522\n"
          ]
        },
        {
          "output_type": "stream",
          "name": "stderr",
          "text": [
            "Epoch [180/5000]: 100%|██████████| 9/9 [00:00<00:00, 60.53it/s, loss=92.6]\n"
          ]
        },
        {
          "output_type": "stream",
          "name": "stdout",
          "text": [
            "Epoch [180/5000]: Train loss: 93.1085, Valid loss: 50.9196\n"
          ]
        },
        {
          "output_type": "stream",
          "name": "stderr",
          "text": [
            "Epoch [181/5000]: 100%|██████████| 9/9 [00:00<00:00, 55.59it/s, loss=95.5]\n"
          ]
        },
        {
          "output_type": "stream",
          "name": "stdout",
          "text": [
            "Epoch [181/5000]: Train loss: 92.0395, Valid loss: 58.9173\n"
          ]
        },
        {
          "output_type": "stream",
          "name": "stderr",
          "text": [
            "Epoch [182/5000]: 100%|██████████| 9/9 [00:00<00:00, 63.22it/s, loss=103]\n"
          ]
        },
        {
          "output_type": "stream",
          "name": "stdout",
          "text": [
            "Epoch [182/5000]: Train loss: 97.5526, Valid loss: 69.0671\n"
          ]
        },
        {
          "output_type": "stream",
          "name": "stderr",
          "text": [
            "Epoch [183/5000]: 100%|██████████| 9/9 [00:00<00:00, 64.62it/s, loss=61]\n"
          ]
        },
        {
          "output_type": "stream",
          "name": "stdout",
          "text": [
            "Epoch [183/5000]: Train loss: 85.4612, Valid loss: 53.7210\n"
          ]
        },
        {
          "output_type": "stream",
          "name": "stderr",
          "text": [
            "Epoch [184/5000]: 100%|██████████| 9/9 [00:00<00:00, 59.25it/s, loss=101]\n"
          ]
        },
        {
          "output_type": "stream",
          "name": "stdout",
          "text": [
            "Epoch [184/5000]: Train loss: 94.6392, Valid loss: 53.8338\n"
          ]
        },
        {
          "output_type": "stream",
          "name": "stderr",
          "text": [
            "Epoch [185/5000]: 100%|██████████| 9/9 [00:00<00:00, 57.13it/s, loss=77.5]\n"
          ]
        },
        {
          "output_type": "stream",
          "name": "stdout",
          "text": [
            "Epoch [185/5000]: Train loss: 90.0799, Valid loss: 62.7586\n"
          ]
        },
        {
          "output_type": "stream",
          "name": "stderr",
          "text": [
            "Epoch [186/5000]: 100%|██████████| 9/9 [00:00<00:00, 65.65it/s, loss=87.2]\n"
          ]
        },
        {
          "output_type": "stream",
          "name": "stdout",
          "text": [
            "Epoch [186/5000]: Train loss: 93.4954, Valid loss: 50.0146\n"
          ]
        },
        {
          "output_type": "stream",
          "name": "stderr",
          "text": [
            "Epoch [187/5000]: 100%|██████████| 9/9 [00:00<00:00, 60.61it/s, loss=73]\n"
          ]
        },
        {
          "output_type": "stream",
          "name": "stdout",
          "text": [
            "Epoch [187/5000]: Train loss: 90.3330, Valid loss: 58.9914\n"
          ]
        },
        {
          "output_type": "stream",
          "name": "stderr",
          "text": [
            "Epoch [188/5000]: 100%|██████████| 9/9 [00:00<00:00, 61.52it/s, loss=97.5]\n"
          ]
        },
        {
          "output_type": "stream",
          "name": "stdout",
          "text": [
            "Epoch [188/5000]: Train loss: 92.9336, Valid loss: 51.9982\n"
          ]
        },
        {
          "output_type": "stream",
          "name": "stderr",
          "text": [
            "Epoch [189/5000]: 100%|██████████| 9/9 [00:00<00:00, 68.12it/s, loss=91.3]\n"
          ]
        },
        {
          "output_type": "stream",
          "name": "stdout",
          "text": [
            "Epoch [189/5000]: Train loss: 91.2263, Valid loss: 49.8185\n"
          ]
        },
        {
          "output_type": "stream",
          "name": "stderr",
          "text": [
            "Epoch [190/5000]: 100%|██████████| 9/9 [00:00<00:00, 60.54it/s, loss=78]\n"
          ]
        },
        {
          "output_type": "stream",
          "name": "stdout",
          "text": [
            "Epoch [190/5000]: Train loss: 88.6891, Valid loss: 49.5042\n"
          ]
        },
        {
          "output_type": "stream",
          "name": "stderr",
          "text": [
            "Epoch [191/5000]: 100%|██████████| 9/9 [00:00<00:00, 60.85it/s, loss=107]\n"
          ]
        },
        {
          "output_type": "stream",
          "name": "stdout",
          "text": [
            "Epoch [191/5000]: Train loss: 91.4239, Valid loss: 59.9349\n"
          ]
        },
        {
          "output_type": "stream",
          "name": "stderr",
          "text": [
            "Epoch [192/5000]: 100%|██████████| 9/9 [00:00<00:00, 62.46it/s, loss=83]\n"
          ]
        },
        {
          "output_type": "stream",
          "name": "stdout",
          "text": [
            "Epoch [192/5000]: Train loss: 93.2955, Valid loss: 56.3772\n"
          ]
        },
        {
          "output_type": "stream",
          "name": "stderr",
          "text": [
            "Epoch [193/5000]: 100%|██████████| 9/9 [00:00<00:00, 63.73it/s, loss=74.7]\n"
          ]
        },
        {
          "output_type": "stream",
          "name": "stdout",
          "text": [
            "Epoch [193/5000]: Train loss: 91.7049, Valid loss: 51.7292\n"
          ]
        },
        {
          "output_type": "stream",
          "name": "stderr",
          "text": [
            "Epoch [194/5000]: 100%|██████████| 9/9 [00:00<00:00, 62.84it/s, loss=86]\n"
          ]
        },
        {
          "output_type": "stream",
          "name": "stdout",
          "text": [
            "Epoch [194/5000]: Train loss: 92.0752, Valid loss: 54.3344\n"
          ]
        },
        {
          "output_type": "stream",
          "name": "stderr",
          "text": [
            "Epoch [195/5000]: 100%|██████████| 9/9 [00:00<00:00, 66.51it/s, loss=104]\n"
          ]
        },
        {
          "output_type": "stream",
          "name": "stdout",
          "text": [
            "Epoch [195/5000]: Train loss: 91.1468, Valid loss: 56.8400\n"
          ]
        },
        {
          "output_type": "stream",
          "name": "stderr",
          "text": [
            "Epoch [196/5000]: 100%|██████████| 9/9 [00:00<00:00, 68.06it/s, loss=90.8]\n"
          ]
        },
        {
          "output_type": "stream",
          "name": "stdout",
          "text": [
            "Epoch [196/5000]: Train loss: 92.6107, Valid loss: 57.5943\n"
          ]
        },
        {
          "output_type": "stream",
          "name": "stderr",
          "text": [
            "Epoch [197/5000]: 100%|██████████| 9/9 [00:00<00:00, 64.45it/s, loss=64.8]\n"
          ]
        },
        {
          "output_type": "stream",
          "name": "stdout",
          "text": [
            "Epoch [197/5000]: Train loss: 87.6629, Valid loss: 48.7661\n"
          ]
        },
        {
          "output_type": "stream",
          "name": "stderr",
          "text": [
            "Epoch [198/5000]: 100%|██████████| 9/9 [00:00<00:00, 63.13it/s, loss=128]\n"
          ]
        },
        {
          "output_type": "stream",
          "name": "stdout",
          "text": [
            "Epoch [198/5000]: Train loss: 90.7632, Valid loss: 50.0053\n"
          ]
        },
        {
          "output_type": "stream",
          "name": "stderr",
          "text": [
            "Epoch [199/5000]: 100%|██████████| 9/9 [00:00<00:00, 66.03it/s, loss=79.7]\n"
          ]
        },
        {
          "output_type": "stream",
          "name": "stdout",
          "text": [
            "Epoch [199/5000]: Train loss: 88.9337, Valid loss: 56.6890\n"
          ]
        },
        {
          "output_type": "stream",
          "name": "stderr",
          "text": [
            "Epoch [200/5000]: 100%|██████████| 9/9 [00:00<00:00, 59.06it/s, loss=50.6]\n"
          ]
        },
        {
          "output_type": "stream",
          "name": "stdout",
          "text": [
            "Epoch [200/5000]: Train loss: 84.8610, Valid loss: 54.2846\n"
          ]
        },
        {
          "output_type": "stream",
          "name": "stderr",
          "text": [
            "Epoch [201/5000]: 100%|██████████| 9/9 [00:00<00:00, 65.41it/s, loss=95.9]\n"
          ]
        },
        {
          "output_type": "stream",
          "name": "stdout",
          "text": [
            "Epoch [201/5000]: Train loss: 91.0699, Valid loss: 56.5375\n"
          ]
        },
        {
          "output_type": "stream",
          "name": "stderr",
          "text": [
            "Epoch [202/5000]: 100%|██████████| 9/9 [00:00<00:00, 65.76it/s, loss=88]\n"
          ]
        },
        {
          "output_type": "stream",
          "name": "stdout",
          "text": [
            "Epoch [202/5000]: Train loss: 87.6465, Valid loss: 46.7107\n",
            "Saving model with loss 46.711...\n"
          ]
        },
        {
          "output_type": "stream",
          "name": "stderr",
          "text": [
            "Epoch [203/5000]: 100%|██████████| 9/9 [00:00<00:00, 68.19it/s, loss=91.4]\n"
          ]
        },
        {
          "output_type": "stream",
          "name": "stdout",
          "text": [
            "Epoch [203/5000]: Train loss: 87.7363, Valid loss: 51.6196\n"
          ]
        },
        {
          "output_type": "stream",
          "name": "stderr",
          "text": [
            "Epoch [204/5000]: 100%|██████████| 9/9 [00:00<00:00, 62.52it/s, loss=68.4]\n"
          ]
        },
        {
          "output_type": "stream",
          "name": "stdout",
          "text": [
            "Epoch [204/5000]: Train loss: 87.9089, Valid loss: 51.8068\n"
          ]
        },
        {
          "output_type": "stream",
          "name": "stderr",
          "text": [
            "Epoch [205/5000]: 100%|██████████| 9/9 [00:00<00:00, 54.73it/s, loss=101]\n"
          ]
        },
        {
          "output_type": "stream",
          "name": "stdout",
          "text": [
            "Epoch [205/5000]: Train loss: 90.7867, Valid loss: 63.5398\n"
          ]
        },
        {
          "output_type": "stream",
          "name": "stderr",
          "text": [
            "Epoch [206/5000]: 100%|██████████| 9/9 [00:00<00:00, 59.89it/s, loss=87.6]\n"
          ]
        },
        {
          "output_type": "stream",
          "name": "stdout",
          "text": [
            "Epoch [206/5000]: Train loss: 89.3948, Valid loss: 50.9254\n"
          ]
        },
        {
          "output_type": "stream",
          "name": "stderr",
          "text": [
            "Epoch [207/5000]: 100%|██████████| 9/9 [00:00<00:00, 65.37it/s, loss=84.9]\n"
          ]
        },
        {
          "output_type": "stream",
          "name": "stdout",
          "text": [
            "Epoch [207/5000]: Train loss: 90.6109, Valid loss: 51.2951\n"
          ]
        },
        {
          "output_type": "stream",
          "name": "stderr",
          "text": [
            "Epoch [208/5000]: 100%|██████████| 9/9 [00:00<00:00, 67.37it/s, loss=72.7]\n"
          ]
        },
        {
          "output_type": "stream",
          "name": "stdout",
          "text": [
            "Epoch [208/5000]: Train loss: 85.6166, Valid loss: 46.7817\n"
          ]
        },
        {
          "output_type": "stream",
          "name": "stderr",
          "text": [
            "Epoch [209/5000]: 100%|██████████| 9/9 [00:00<00:00, 72.59it/s, loss=98.2]\n"
          ]
        },
        {
          "output_type": "stream",
          "name": "stdout",
          "text": [
            "Epoch [209/5000]: Train loss: 86.7041, Valid loss: 56.1859\n"
          ]
        },
        {
          "output_type": "stream",
          "name": "stderr",
          "text": [
            "Epoch [210/5000]: 100%|██████████| 9/9 [00:00<00:00, 63.43it/s, loss=102]\n"
          ]
        },
        {
          "output_type": "stream",
          "name": "stdout",
          "text": [
            "Epoch [210/5000]: Train loss: 88.1863, Valid loss: 52.6224\n"
          ]
        },
        {
          "output_type": "stream",
          "name": "stderr",
          "text": [
            "Epoch [211/5000]: 100%|██████████| 9/9 [00:00<00:00, 62.55it/s, loss=89.9]\n"
          ]
        },
        {
          "output_type": "stream",
          "name": "stdout",
          "text": [
            "Epoch [211/5000]: Train loss: 90.0872, Valid loss: 55.5951\n"
          ]
        },
        {
          "output_type": "stream",
          "name": "stderr",
          "text": [
            "Epoch [212/5000]: 100%|██████████| 9/9 [00:00<00:00, 64.04it/s, loss=90]\n"
          ]
        },
        {
          "output_type": "stream",
          "name": "stdout",
          "text": [
            "Epoch [212/5000]: Train loss: 87.7094, Valid loss: 53.2789\n"
          ]
        },
        {
          "output_type": "stream",
          "name": "stderr",
          "text": [
            "Epoch [213/5000]: 100%|██████████| 9/9 [00:00<00:00, 52.24it/s, loss=83.1]\n"
          ]
        },
        {
          "output_type": "stream",
          "name": "stdout",
          "text": [
            "Epoch [213/5000]: Train loss: 88.5870, Valid loss: 46.6596\n",
            "Saving model with loss 46.660...\n"
          ]
        },
        {
          "output_type": "stream",
          "name": "stderr",
          "text": [
            "Epoch [214/5000]: 100%|██████████| 9/9 [00:00<00:00, 57.93it/s, loss=90.5]\n"
          ]
        },
        {
          "output_type": "stream",
          "name": "stdout",
          "text": [
            "Epoch [214/5000]: Train loss: 89.4283, Valid loss: 50.4276\n"
          ]
        },
        {
          "output_type": "stream",
          "name": "stderr",
          "text": [
            "Epoch [215/5000]: 100%|██████████| 9/9 [00:00<00:00, 60.62it/s, loss=111]\n"
          ]
        },
        {
          "output_type": "stream",
          "name": "stdout",
          "text": [
            "Epoch [215/5000]: Train loss: 87.9991, Valid loss: 46.7183\n"
          ]
        },
        {
          "output_type": "stream",
          "name": "stderr",
          "text": [
            "Epoch [216/5000]: 100%|██████████| 9/9 [00:00<00:00, 66.13it/s, loss=71.2]\n"
          ]
        },
        {
          "output_type": "stream",
          "name": "stdout",
          "text": [
            "Epoch [216/5000]: Train loss: 86.0647, Valid loss: 48.2606\n"
          ]
        },
        {
          "output_type": "stream",
          "name": "stderr",
          "text": [
            "Epoch [217/5000]: 100%|██████████| 9/9 [00:00<00:00, 67.09it/s, loss=62.6]\n"
          ]
        },
        {
          "output_type": "stream",
          "name": "stdout",
          "text": [
            "Epoch [217/5000]: Train loss: 83.1958, Valid loss: 51.4994\n"
          ]
        },
        {
          "output_type": "stream",
          "name": "stderr",
          "text": [
            "Epoch [218/5000]: 100%|██████████| 9/9 [00:00<00:00, 61.15it/s, loss=78.3]\n"
          ]
        },
        {
          "output_type": "stream",
          "name": "stdout",
          "text": [
            "Epoch [218/5000]: Train loss: 87.9594, Valid loss: 54.5941\n"
          ]
        },
        {
          "output_type": "stream",
          "name": "stderr",
          "text": [
            "Epoch [219/5000]: 100%|██████████| 9/9 [00:00<00:00, 62.83it/s, loss=115]\n"
          ]
        },
        {
          "output_type": "stream",
          "name": "stdout",
          "text": [
            "Epoch [219/5000]: Train loss: 92.3851, Valid loss: 53.2344\n"
          ]
        },
        {
          "output_type": "stream",
          "name": "stderr",
          "text": [
            "Epoch [220/5000]: 100%|██████████| 9/9 [00:00<00:00, 62.00it/s, loss=75.5]\n"
          ]
        },
        {
          "output_type": "stream",
          "name": "stdout",
          "text": [
            "Epoch [220/5000]: Train loss: 85.8893, Valid loss: 49.7934\n"
          ]
        },
        {
          "output_type": "stream",
          "name": "stderr",
          "text": [
            "Epoch [221/5000]: 100%|██████████| 9/9 [00:00<00:00, 65.39it/s, loss=84.1]\n"
          ]
        },
        {
          "output_type": "stream",
          "name": "stdout",
          "text": [
            "Epoch [221/5000]: Train loss: 84.1003, Valid loss: 50.1633\n"
          ]
        },
        {
          "output_type": "stream",
          "name": "stderr",
          "text": [
            "Epoch [222/5000]: 100%|██████████| 9/9 [00:00<00:00, 57.69it/s, loss=111]\n"
          ]
        },
        {
          "output_type": "stream",
          "name": "stdout",
          "text": [
            "Epoch [222/5000]: Train loss: 89.4695, Valid loss: 47.5434\n"
          ]
        },
        {
          "output_type": "stream",
          "name": "stderr",
          "text": [
            "Epoch [223/5000]: 100%|██████████| 9/9 [00:00<00:00, 57.71it/s, loss=75.9]\n"
          ]
        },
        {
          "output_type": "stream",
          "name": "stdout",
          "text": [
            "Epoch [223/5000]: Train loss: 86.7140, Valid loss: 49.5465\n"
          ]
        },
        {
          "output_type": "stream",
          "name": "stderr",
          "text": [
            "Epoch [224/5000]: 100%|██████████| 9/9 [00:00<00:00, 53.39it/s, loss=84.8]\n"
          ]
        },
        {
          "output_type": "stream",
          "name": "stdout",
          "text": [
            "Epoch [224/5000]: Train loss: 82.3873, Valid loss: 55.0636\n"
          ]
        },
        {
          "output_type": "stream",
          "name": "stderr",
          "text": [
            "Epoch [225/5000]: 100%|██████████| 9/9 [00:00<00:00, 66.02it/s, loss=88.3]\n"
          ]
        },
        {
          "output_type": "stream",
          "name": "stdout",
          "text": [
            "Epoch [225/5000]: Train loss: 83.0833, Valid loss: 55.3637\n"
          ]
        },
        {
          "output_type": "stream",
          "name": "stderr",
          "text": [
            "Epoch [226/5000]: 100%|██████████| 9/9 [00:00<00:00, 65.45it/s, loss=89.3]\n"
          ]
        },
        {
          "output_type": "stream",
          "name": "stdout",
          "text": [
            "Epoch [226/5000]: Train loss: 86.7764, Valid loss: 58.6480\n"
          ]
        },
        {
          "output_type": "stream",
          "name": "stderr",
          "text": [
            "Epoch [227/5000]: 100%|██████████| 9/9 [00:00<00:00, 66.66it/s, loss=117]\n"
          ]
        },
        {
          "output_type": "stream",
          "name": "stdout",
          "text": [
            "Epoch [227/5000]: Train loss: 90.9308, Valid loss: 61.5897\n"
          ]
        },
        {
          "output_type": "stream",
          "name": "stderr",
          "text": [
            "Epoch [228/5000]: 100%|██████████| 9/9 [00:00<00:00, 63.29it/s, loss=88.4]\n"
          ]
        },
        {
          "output_type": "stream",
          "name": "stdout",
          "text": [
            "Epoch [228/5000]: Train loss: 85.9592, Valid loss: 48.5465\n"
          ]
        },
        {
          "output_type": "stream",
          "name": "stderr",
          "text": [
            "Epoch [229/5000]: 100%|██████████| 9/9 [00:00<00:00, 64.82it/s, loss=89.6]\n"
          ]
        },
        {
          "output_type": "stream",
          "name": "stdout",
          "text": [
            "Epoch [229/5000]: Train loss: 82.1854, Valid loss: 51.9636\n"
          ]
        },
        {
          "output_type": "stream",
          "name": "stderr",
          "text": [
            "Epoch [230/5000]: 100%|██████████| 9/9 [00:00<00:00, 65.11it/s, loss=87.7]\n"
          ]
        },
        {
          "output_type": "stream",
          "name": "stdout",
          "text": [
            "Epoch [230/5000]: Train loss: 82.1725, Valid loss: 49.4196\n"
          ]
        },
        {
          "output_type": "stream",
          "name": "stderr",
          "text": [
            "Epoch [231/5000]: 100%|██████████| 9/9 [00:00<00:00, 70.50it/s, loss=94.8]\n"
          ]
        },
        {
          "output_type": "stream",
          "name": "stdout",
          "text": [
            "Epoch [231/5000]: Train loss: 81.6157, Valid loss: 67.3345\n"
          ]
        },
        {
          "output_type": "stream",
          "name": "stderr",
          "text": [
            "Epoch [232/5000]: 100%|██████████| 9/9 [00:00<00:00, 72.82it/s, loss=86.2]\n"
          ]
        },
        {
          "output_type": "stream",
          "name": "stdout",
          "text": [
            "Epoch [232/5000]: Train loss: 86.6656, Valid loss: 54.7819\n"
          ]
        },
        {
          "output_type": "stream",
          "name": "stderr",
          "text": [
            "Epoch [233/5000]: 100%|██████████| 9/9 [00:00<00:00, 61.33it/s, loss=76.7]\n"
          ]
        },
        {
          "output_type": "stream",
          "name": "stdout",
          "text": [
            "Epoch [233/5000]: Train loss: 82.8220, Valid loss: 51.2369\n"
          ]
        },
        {
          "output_type": "stream",
          "name": "stderr",
          "text": [
            "Epoch [234/5000]: 100%|██████████| 9/9 [00:00<00:00, 73.57it/s, loss=94.8]\n"
          ]
        },
        {
          "output_type": "stream",
          "name": "stdout",
          "text": [
            "Epoch [234/5000]: Train loss: 88.6126, Valid loss: 50.5841\n"
          ]
        },
        {
          "output_type": "stream",
          "name": "stderr",
          "text": [
            "Epoch [235/5000]: 100%|██████████| 9/9 [00:00<00:00, 64.75it/s, loss=93.7]\n"
          ]
        },
        {
          "output_type": "stream",
          "name": "stdout",
          "text": [
            "Epoch [235/5000]: Train loss: 85.9397, Valid loss: 52.0032\n"
          ]
        },
        {
          "output_type": "stream",
          "name": "stderr",
          "text": [
            "Epoch [236/5000]: 100%|██████████| 9/9 [00:00<00:00, 61.98it/s, loss=72.5]\n"
          ]
        },
        {
          "output_type": "stream",
          "name": "stdout",
          "text": [
            "Epoch [236/5000]: Train loss: 87.6128, Valid loss: 50.8953\n"
          ]
        },
        {
          "output_type": "stream",
          "name": "stderr",
          "text": [
            "Epoch [237/5000]: 100%|██████████| 9/9 [00:00<00:00, 57.76it/s, loss=69.2]\n"
          ]
        },
        {
          "output_type": "stream",
          "name": "stdout",
          "text": [
            "Epoch [237/5000]: Train loss: 83.3011, Valid loss: 55.1126\n"
          ]
        },
        {
          "output_type": "stream",
          "name": "stderr",
          "text": [
            "Epoch [238/5000]: 100%|██████████| 9/9 [00:00<00:00, 62.30it/s, loss=72.8]\n"
          ]
        },
        {
          "output_type": "stream",
          "name": "stdout",
          "text": [
            "Epoch [238/5000]: Train loss: 81.8663, Valid loss: 50.6777\n"
          ]
        },
        {
          "output_type": "stream",
          "name": "stderr",
          "text": [
            "Epoch [239/5000]: 100%|██████████| 9/9 [00:00<00:00, 63.93it/s, loss=104]\n"
          ]
        },
        {
          "output_type": "stream",
          "name": "stdout",
          "text": [
            "Epoch [239/5000]: Train loss: 86.4837, Valid loss: 47.7055\n"
          ]
        },
        {
          "output_type": "stream",
          "name": "stderr",
          "text": [
            "Epoch [240/5000]: 100%|██████████| 9/9 [00:00<00:00, 57.11it/s, loss=71.2]\n"
          ]
        },
        {
          "output_type": "stream",
          "name": "stdout",
          "text": [
            "Epoch [240/5000]: Train loss: 80.6844, Valid loss: 54.2186\n"
          ]
        },
        {
          "output_type": "stream",
          "name": "stderr",
          "text": [
            "Epoch [241/5000]: 100%|██████████| 9/9 [00:00<00:00, 59.40it/s, loss=97.9]\n"
          ]
        },
        {
          "output_type": "stream",
          "name": "stdout",
          "text": [
            "Epoch [241/5000]: Train loss: 82.8167, Valid loss: 50.0781\n"
          ]
        },
        {
          "output_type": "stream",
          "name": "stderr",
          "text": [
            "Epoch [242/5000]: 100%|██████████| 9/9 [00:00<00:00, 59.89it/s, loss=88.1]\n"
          ]
        },
        {
          "output_type": "stream",
          "name": "stdout",
          "text": [
            "Epoch [242/5000]: Train loss: 86.3169, Valid loss: 52.5333\n"
          ]
        },
        {
          "output_type": "stream",
          "name": "stderr",
          "text": [
            "Epoch [243/5000]: 100%|██████████| 9/9 [00:00<00:00, 49.29it/s, loss=74]\n"
          ]
        },
        {
          "output_type": "stream",
          "name": "stdout",
          "text": [
            "Epoch [243/5000]: Train loss: 80.6431, Valid loss: 52.5560\n"
          ]
        },
        {
          "output_type": "stream",
          "name": "stderr",
          "text": [
            "Epoch [244/5000]: 100%|██████████| 9/9 [00:00<00:00, 56.02it/s, loss=60.2]\n"
          ]
        },
        {
          "output_type": "stream",
          "name": "stdout",
          "text": [
            "Epoch [244/5000]: Train loss: 81.4132, Valid loss: 52.3904\n"
          ]
        },
        {
          "output_type": "stream",
          "name": "stderr",
          "text": [
            "Epoch [245/5000]: 100%|██████████| 9/9 [00:00<00:00, 26.59it/s, loss=68.8]\n"
          ]
        },
        {
          "output_type": "stream",
          "name": "stdout",
          "text": [
            "Epoch [245/5000]: Train loss: 80.3512, Valid loss: 55.2082\n"
          ]
        },
        {
          "output_type": "stream",
          "name": "stderr",
          "text": [
            "Epoch [246/5000]: 100%|██████████| 9/9 [00:00<00:00, 61.62it/s, loss=86.3]\n"
          ]
        },
        {
          "output_type": "stream",
          "name": "stdout",
          "text": [
            "Epoch [246/5000]: Train loss: 84.5182, Valid loss: 46.0895\n",
            "Saving model with loss 46.090...\n"
          ]
        },
        {
          "output_type": "stream",
          "name": "stderr",
          "text": [
            "Epoch [247/5000]: 100%|██████████| 9/9 [00:00<00:00, 64.27it/s, loss=54.1]\n"
          ]
        },
        {
          "output_type": "stream",
          "name": "stdout",
          "text": [
            "Epoch [247/5000]: Train loss: 80.0404, Valid loss: 56.6651\n"
          ]
        },
        {
          "output_type": "stream",
          "name": "stderr",
          "text": [
            "Epoch [248/5000]: 100%|██████████| 9/9 [00:00<00:00, 61.12it/s, loss=68.7]\n"
          ]
        },
        {
          "output_type": "stream",
          "name": "stdout",
          "text": [
            "Epoch [248/5000]: Train loss: 83.1535, Valid loss: 48.4502\n"
          ]
        },
        {
          "output_type": "stream",
          "name": "stderr",
          "text": [
            "Epoch [249/5000]: 100%|██████████| 9/9 [00:00<00:00, 66.10it/s, loss=56.3]\n"
          ]
        },
        {
          "output_type": "stream",
          "name": "stdout",
          "text": [
            "Epoch [249/5000]: Train loss: 81.7117, Valid loss: 48.7399\n"
          ]
        },
        {
          "output_type": "stream",
          "name": "stderr",
          "text": [
            "Epoch [250/5000]: 100%|██████████| 9/9 [00:00<00:00, 69.92it/s, loss=90]\n"
          ]
        },
        {
          "output_type": "stream",
          "name": "stdout",
          "text": [
            "Epoch [250/5000]: Train loss: 82.4723, Valid loss: 47.6098\n"
          ]
        },
        {
          "output_type": "stream",
          "name": "stderr",
          "text": [
            "Epoch [251/5000]: 100%|██████████| 9/9 [00:00<00:00, 56.01it/s, loss=83.5]\n"
          ]
        },
        {
          "output_type": "stream",
          "name": "stdout",
          "text": [
            "Epoch [251/5000]: Train loss: 82.3672, Valid loss: 44.8796\n",
            "Saving model with loss 44.880...\n"
          ]
        },
        {
          "output_type": "stream",
          "name": "stderr",
          "text": [
            "Epoch [252/5000]: 100%|██████████| 9/9 [00:00<00:00, 56.17it/s, loss=75.7]\n"
          ]
        },
        {
          "output_type": "stream",
          "name": "stdout",
          "text": [
            "Epoch [252/5000]: Train loss: 84.2489, Valid loss: 49.2309\n"
          ]
        },
        {
          "output_type": "stream",
          "name": "stderr",
          "text": [
            "Epoch [253/5000]: 100%|██████████| 9/9 [00:00<00:00, 61.33it/s, loss=91.8]\n"
          ]
        },
        {
          "output_type": "stream",
          "name": "stdout",
          "text": [
            "Epoch [253/5000]: Train loss: 82.8757, Valid loss: 47.4535\n"
          ]
        },
        {
          "output_type": "stream",
          "name": "stderr",
          "text": [
            "Epoch [254/5000]: 100%|██████████| 9/9 [00:00<00:00, 52.11it/s, loss=73.9]"
          ]
        },
        {
          "output_type": "stream",
          "name": "stdout",
          "text": [
            "Epoch [254/5000]: Train loss: 81.2481, Valid loss: 49.4066"
          ]
        },
        {
          "output_type": "stream",
          "name": "stderr",
          "text": [
            "\n"
          ]
        },
        {
          "output_type": "stream",
          "name": "stdout",
          "text": [
            "\n"
          ]
        },
        {
          "output_type": "stream",
          "name": "stderr",
          "text": [
            "Epoch [255/5000]: 100%|██████████| 9/9 [00:00<00:00, 51.99it/s, loss=111]\n"
          ]
        },
        {
          "output_type": "stream",
          "name": "stdout",
          "text": [
            "Epoch [255/5000]: Train loss: 84.6775, Valid loss: 44.2465\n",
            "Saving model with loss 44.247...\n"
          ]
        },
        {
          "output_type": "stream",
          "name": "stderr",
          "text": [
            "Epoch [256/5000]: 100%|██████████| 9/9 [00:00<00:00, 55.90it/s, loss=71.4]\n"
          ]
        },
        {
          "output_type": "stream",
          "name": "stdout",
          "text": [
            "Epoch [256/5000]: Train loss: 77.6394, Valid loss: 50.6250\n"
          ]
        },
        {
          "output_type": "stream",
          "name": "stderr",
          "text": [
            "Epoch [257/5000]: 100%|██████████| 9/9 [00:00<00:00, 65.38it/s, loss=74.1]\n"
          ]
        },
        {
          "output_type": "stream",
          "name": "stdout",
          "text": [
            "Epoch [257/5000]: Train loss: 77.8463, Valid loss: 50.5099\n"
          ]
        },
        {
          "output_type": "stream",
          "name": "stderr",
          "text": [
            "Epoch [258/5000]: 100%|██████████| 9/9 [00:00<00:00, 51.29it/s, loss=80.7]\n"
          ]
        },
        {
          "output_type": "stream",
          "name": "stdout",
          "text": [
            "Epoch [258/5000]: Train loss: 80.7310, Valid loss: 51.7588\n"
          ]
        },
        {
          "output_type": "stream",
          "name": "stderr",
          "text": [
            "Epoch [259/5000]: 100%|██████████| 9/9 [00:00<00:00, 60.20it/s, loss=76]\n"
          ]
        },
        {
          "output_type": "stream",
          "name": "stdout",
          "text": [
            "Epoch [259/5000]: Train loss: 82.6332, Valid loss: 54.8594\n"
          ]
        },
        {
          "output_type": "stream",
          "name": "stderr",
          "text": [
            "Epoch [260/5000]: 100%|██████████| 9/9 [00:00<00:00, 61.92it/s, loss=88.8]\n"
          ]
        },
        {
          "output_type": "stream",
          "name": "stdout",
          "text": [
            "Epoch [260/5000]: Train loss: 80.6738, Valid loss: 49.5074\n"
          ]
        },
        {
          "output_type": "stream",
          "name": "stderr",
          "text": [
            "Epoch [261/5000]: 100%|██████████| 9/9 [00:00<00:00, 64.67it/s, loss=58.6]\n"
          ]
        },
        {
          "output_type": "stream",
          "name": "stdout",
          "text": [
            "Epoch [261/5000]: Train loss: 77.3664, Valid loss: 46.3246\n"
          ]
        },
        {
          "output_type": "stream",
          "name": "stderr",
          "text": [
            "Epoch [262/5000]: 100%|██████████| 9/9 [00:00<00:00, 70.67it/s, loss=86.8]\n"
          ]
        },
        {
          "output_type": "stream",
          "name": "stdout",
          "text": [
            "Epoch [262/5000]: Train loss: 80.0015, Valid loss: 52.1387\n"
          ]
        },
        {
          "output_type": "stream",
          "name": "stderr",
          "text": [
            "Epoch [263/5000]: 100%|██████████| 9/9 [00:00<00:00, 61.66it/s, loss=90.5]\n"
          ]
        },
        {
          "output_type": "stream",
          "name": "stdout",
          "text": [
            "Epoch [263/5000]: Train loss: 80.0831, Valid loss: 53.2443\n"
          ]
        },
        {
          "output_type": "stream",
          "name": "stderr",
          "text": [
            "Epoch [264/5000]: 100%|██████████| 9/9 [00:00<00:00, 55.86it/s, loss=100]\n"
          ]
        },
        {
          "output_type": "stream",
          "name": "stdout",
          "text": [
            "Epoch [264/5000]: Train loss: 81.7088, Valid loss: 52.2105\n"
          ]
        },
        {
          "output_type": "stream",
          "name": "stderr",
          "text": [
            "Epoch [265/5000]: 100%|██████████| 9/9 [00:00<00:00, 59.80it/s, loss=105]\n"
          ]
        },
        {
          "output_type": "stream",
          "name": "stdout",
          "text": [
            "Epoch [265/5000]: Train loss: 83.7099, Valid loss: 51.4488\n"
          ]
        },
        {
          "output_type": "stream",
          "name": "stderr",
          "text": [
            "Epoch [266/5000]: 100%|██████████| 9/9 [00:00<00:00, 59.34it/s, loss=71.1]\n"
          ]
        },
        {
          "output_type": "stream",
          "name": "stdout",
          "text": [
            "Epoch [266/5000]: Train loss: 77.9003, Valid loss: 58.7570\n"
          ]
        },
        {
          "output_type": "stream",
          "name": "stderr",
          "text": [
            "Epoch [267/5000]: 100%|██████████| 9/9 [00:00<00:00, 52.52it/s, loss=72.8]\n"
          ]
        },
        {
          "output_type": "stream",
          "name": "stdout",
          "text": [
            "Epoch [267/5000]: Train loss: 78.2638, Valid loss: 49.0919\n"
          ]
        },
        {
          "output_type": "stream",
          "name": "stderr",
          "text": [
            "Epoch [268/5000]: 100%|██████████| 9/9 [00:00<00:00, 61.46it/s, loss=65.8]\n"
          ]
        },
        {
          "output_type": "stream",
          "name": "stdout",
          "text": [
            "Epoch [268/5000]: Train loss: 76.5993, Valid loss: 55.6908\n"
          ]
        },
        {
          "output_type": "stream",
          "name": "stderr",
          "text": [
            "Epoch [269/5000]: 100%|██████████| 9/9 [00:00<00:00, 59.12it/s, loss=103]\n"
          ]
        },
        {
          "output_type": "stream",
          "name": "stdout",
          "text": [
            "Epoch [269/5000]: Train loss: 83.6757, Valid loss: 49.1884\n"
          ]
        },
        {
          "output_type": "stream",
          "name": "stderr",
          "text": [
            "Epoch [270/5000]: 100%|██████████| 9/9 [00:00<00:00, 56.35it/s, loss=75.2]\n"
          ]
        },
        {
          "output_type": "stream",
          "name": "stdout",
          "text": [
            "Epoch [270/5000]: Train loss: 77.4783, Valid loss: 55.3305\n"
          ]
        },
        {
          "output_type": "stream",
          "name": "stderr",
          "text": [
            "Epoch [271/5000]: 100%|██████████| 9/9 [00:00<00:00, 64.92it/s, loss=75.8]\n"
          ]
        },
        {
          "output_type": "stream",
          "name": "stdout",
          "text": [
            "Epoch [271/5000]: Train loss: 77.8697, Valid loss: 56.0420\n"
          ]
        },
        {
          "output_type": "stream",
          "name": "stderr",
          "text": [
            "Epoch [272/5000]: 100%|██████████| 9/9 [00:00<00:00, 58.96it/s, loss=76]\n"
          ]
        },
        {
          "output_type": "stream",
          "name": "stdout",
          "text": [
            "Epoch [272/5000]: Train loss: 76.0900, Valid loss: 46.9142\n"
          ]
        },
        {
          "output_type": "stream",
          "name": "stderr",
          "text": [
            "Epoch [273/5000]: 100%|██████████| 9/9 [00:00<00:00, 68.09it/s, loss=80.2]\n"
          ]
        },
        {
          "output_type": "stream",
          "name": "stdout",
          "text": [
            "Epoch [273/5000]: Train loss: 78.9478, Valid loss: 71.2462\n"
          ]
        },
        {
          "output_type": "stream",
          "name": "stderr",
          "text": [
            "Epoch [274/5000]: 100%|██████████| 9/9 [00:00<00:00, 56.35it/s, loss=93.4]\n"
          ]
        },
        {
          "output_type": "stream",
          "name": "stdout",
          "text": [
            "Epoch [274/5000]: Train loss: 78.4434, Valid loss: 51.5374\n"
          ]
        },
        {
          "output_type": "stream",
          "name": "stderr",
          "text": [
            "Epoch [275/5000]: 100%|██████████| 9/9 [00:00<00:00, 59.58it/s, loss=84.4]\n"
          ]
        },
        {
          "output_type": "stream",
          "name": "stdout",
          "text": [
            "Epoch [275/5000]: Train loss: 77.8423, Valid loss: 44.9571\n"
          ]
        },
        {
          "output_type": "stream",
          "name": "stderr",
          "text": [
            "Epoch [276/5000]: 100%|██████████| 9/9 [00:00<00:00, 59.87it/s, loss=73]\n"
          ]
        },
        {
          "output_type": "stream",
          "name": "stdout",
          "text": [
            "Epoch [276/5000]: Train loss: 78.0727, Valid loss: 58.8983\n"
          ]
        },
        {
          "output_type": "stream",
          "name": "stderr",
          "text": [
            "Epoch [277/5000]: 100%|██████████| 9/9 [00:00<00:00, 61.26it/s, loss=95.4]\n"
          ]
        },
        {
          "output_type": "stream",
          "name": "stdout",
          "text": [
            "Epoch [277/5000]: Train loss: 78.6523, Valid loss: 51.5998\n"
          ]
        },
        {
          "output_type": "stream",
          "name": "stderr",
          "text": [
            "Epoch [278/5000]: 100%|██████████| 9/9 [00:00<00:00, 66.98it/s, loss=73.1]\n"
          ]
        },
        {
          "output_type": "stream",
          "name": "stdout",
          "text": [
            "Epoch [278/5000]: Train loss: 77.8274, Valid loss: 49.0817\n"
          ]
        },
        {
          "output_type": "stream",
          "name": "stderr",
          "text": [
            "Epoch [279/5000]: 100%|██████████| 9/9 [00:00<00:00, 59.20it/s, loss=83]\n"
          ]
        },
        {
          "output_type": "stream",
          "name": "stdout",
          "text": [
            "Epoch [279/5000]: Train loss: 78.1074, Valid loss: 48.1280\n"
          ]
        },
        {
          "output_type": "stream",
          "name": "stderr",
          "text": [
            "Epoch [280/5000]: 100%|██████████| 9/9 [00:00<00:00, 67.77it/s, loss=75.1]\n"
          ]
        },
        {
          "output_type": "stream",
          "name": "stdout",
          "text": [
            "Epoch [280/5000]: Train loss: 78.1679, Valid loss: 52.8724\n"
          ]
        },
        {
          "output_type": "stream",
          "name": "stderr",
          "text": [
            "Epoch [281/5000]: 100%|██████████| 9/9 [00:00<00:00, 71.58it/s, loss=68.4]\n"
          ]
        },
        {
          "output_type": "stream",
          "name": "stdout",
          "text": [
            "Epoch [281/5000]: Train loss: 79.4695, Valid loss: 48.9172\n"
          ]
        },
        {
          "output_type": "stream",
          "name": "stderr",
          "text": [
            "Epoch [282/5000]: 100%|██████████| 9/9 [00:00<00:00, 63.90it/s, loss=62]\n"
          ]
        },
        {
          "output_type": "stream",
          "name": "stdout",
          "text": [
            "Epoch [282/5000]: Train loss: 73.3491, Valid loss: 54.3758\n"
          ]
        },
        {
          "output_type": "stream",
          "name": "stderr",
          "text": [
            "Epoch [283/5000]: 100%|██████████| 9/9 [00:00<00:00, 68.79it/s, loss=65.9]\n"
          ]
        },
        {
          "output_type": "stream",
          "name": "stdout",
          "text": [
            "Epoch [283/5000]: Train loss: 80.0327, Valid loss: 51.6092\n"
          ]
        },
        {
          "output_type": "stream",
          "name": "stderr",
          "text": [
            "Epoch [284/5000]: 100%|██████████| 9/9 [00:00<00:00, 68.14it/s, loss=92.7]\n"
          ]
        },
        {
          "output_type": "stream",
          "name": "stdout",
          "text": [
            "Epoch [284/5000]: Train loss: 79.7998, Valid loss: 52.1015\n"
          ]
        },
        {
          "output_type": "stream",
          "name": "stderr",
          "text": [
            "Epoch [285/5000]: 100%|██████████| 9/9 [00:00<00:00, 57.17it/s, loss=85]\n"
          ]
        },
        {
          "output_type": "stream",
          "name": "stdout",
          "text": [
            "Epoch [285/5000]: Train loss: 78.7939, Valid loss: 54.1754\n"
          ]
        },
        {
          "output_type": "stream",
          "name": "stderr",
          "text": [
            "Epoch [286/5000]: 100%|██████████| 9/9 [00:00<00:00, 60.99it/s, loss=97.9]\n"
          ]
        },
        {
          "output_type": "stream",
          "name": "stdout",
          "text": [
            "Epoch [286/5000]: Train loss: 80.0299, Valid loss: 45.9046\n"
          ]
        },
        {
          "output_type": "stream",
          "name": "stderr",
          "text": [
            "Epoch [287/5000]: 100%|██████████| 9/9 [00:00<00:00, 50.64it/s, loss=65.1]\n"
          ]
        },
        {
          "output_type": "stream",
          "name": "stdout",
          "text": [
            "Epoch [287/5000]: Train loss: 76.1691, Valid loss: 53.1592\n"
          ]
        },
        {
          "output_type": "stream",
          "name": "stderr",
          "text": [
            "Epoch [288/5000]: 100%|██████████| 9/9 [00:00<00:00, 63.40it/s, loss=76]\n"
          ]
        },
        {
          "output_type": "stream",
          "name": "stdout",
          "text": [
            "Epoch [288/5000]: Train loss: 77.0641, Valid loss: 44.6673\n"
          ]
        },
        {
          "output_type": "stream",
          "name": "stderr",
          "text": [
            "Epoch [289/5000]: 100%|██████████| 9/9 [00:00<00:00, 49.67it/s, loss=69]\n"
          ]
        },
        {
          "output_type": "stream",
          "name": "stdout",
          "text": [
            "Epoch [289/5000]: Train loss: 78.2174, Valid loss: 52.8466\n"
          ]
        },
        {
          "output_type": "stream",
          "name": "stderr",
          "text": [
            "Epoch [290/5000]: 100%|██████████| 9/9 [00:00<00:00, 59.64it/s, loss=79.2]\n"
          ]
        },
        {
          "output_type": "stream",
          "name": "stdout",
          "text": [
            "Epoch [290/5000]: Train loss: 77.0607, Valid loss: 54.1796\n"
          ]
        },
        {
          "output_type": "stream",
          "name": "stderr",
          "text": [
            "Epoch [291/5000]: 100%|██████████| 9/9 [00:00<00:00, 59.55it/s, loss=73.5]\n"
          ]
        },
        {
          "output_type": "stream",
          "name": "stdout",
          "text": [
            "Epoch [291/5000]: Train loss: 73.9768, Valid loss: 49.8120\n"
          ]
        },
        {
          "output_type": "stream",
          "name": "stderr",
          "text": [
            "Epoch [292/5000]: 100%|██████████| 9/9 [00:00<00:00, 63.65it/s, loss=65]\n"
          ]
        },
        {
          "output_type": "stream",
          "name": "stdout",
          "text": [
            "Epoch [292/5000]: Train loss: 73.9470, Valid loss: 46.2340\n"
          ]
        },
        {
          "output_type": "stream",
          "name": "stderr",
          "text": [
            "Epoch [293/5000]: 100%|██████████| 9/9 [00:00<00:00, 68.95it/s, loss=65.1]\n"
          ]
        },
        {
          "output_type": "stream",
          "name": "stdout",
          "text": [
            "Epoch [293/5000]: Train loss: 71.7356, Valid loss: 45.3814\n"
          ]
        },
        {
          "output_type": "stream",
          "name": "stderr",
          "text": [
            "Epoch [294/5000]: 100%|██████████| 9/9 [00:00<00:00, 69.50it/s, loss=60.7]\n"
          ]
        },
        {
          "output_type": "stream",
          "name": "stdout",
          "text": [
            "Epoch [294/5000]: Train loss: 77.3046, Valid loss: 48.4214\n"
          ]
        },
        {
          "output_type": "stream",
          "name": "stderr",
          "text": [
            "Epoch [295/5000]: 100%|██████████| 9/9 [00:00<00:00, 69.71it/s, loss=86]\n"
          ]
        },
        {
          "output_type": "stream",
          "name": "stdout",
          "text": [
            "Epoch [295/5000]: Train loss: 75.5391, Valid loss: 45.7151\n"
          ]
        },
        {
          "output_type": "stream",
          "name": "stderr",
          "text": [
            "Epoch [296/5000]: 100%|██████████| 9/9 [00:00<00:00, 68.30it/s, loss=63.5]\n"
          ]
        },
        {
          "output_type": "stream",
          "name": "stdout",
          "text": [
            "Epoch [296/5000]: Train loss: 73.4995, Valid loss: 43.4458\n",
            "Saving model with loss 43.446...\n"
          ]
        },
        {
          "output_type": "stream",
          "name": "stderr",
          "text": [
            "Epoch [297/5000]: 100%|██████████| 9/9 [00:00<00:00, 64.17it/s, loss=64.8]\n"
          ]
        },
        {
          "output_type": "stream",
          "name": "stdout",
          "text": [
            "Epoch [297/5000]: Train loss: 76.3992, Valid loss: 49.1002\n"
          ]
        },
        {
          "output_type": "stream",
          "name": "stderr",
          "text": [
            "Epoch [298/5000]: 100%|██████████| 9/9 [00:00<00:00, 53.52it/s, loss=86.2]\n"
          ]
        },
        {
          "output_type": "stream",
          "name": "stdout",
          "text": [
            "Epoch [298/5000]: Train loss: 75.2936, Valid loss: 49.3205\n"
          ]
        },
        {
          "output_type": "stream",
          "name": "stderr",
          "text": [
            "Epoch [299/5000]: 100%|██████████| 9/9 [00:00<00:00, 52.37it/s, loss=66.4]\n"
          ]
        },
        {
          "output_type": "stream",
          "name": "stdout",
          "text": [
            "Epoch [299/5000]: Train loss: 76.0820, Valid loss: 43.5884\n"
          ]
        },
        {
          "output_type": "stream",
          "name": "stderr",
          "text": [
            "Epoch [300/5000]: 100%|██████████| 9/9 [00:00<00:00, 51.39it/s, loss=86.7]\n"
          ]
        },
        {
          "output_type": "stream",
          "name": "stdout",
          "text": [
            "Epoch [300/5000]: Train loss: 76.7794, Valid loss: 50.7828\n"
          ]
        },
        {
          "output_type": "stream",
          "name": "stderr",
          "text": [
            "Epoch [301/5000]: 100%|██████████| 9/9 [00:00<00:00, 54.96it/s, loss=76.6]\n"
          ]
        },
        {
          "output_type": "stream",
          "name": "stdout",
          "text": [
            "Epoch [301/5000]: Train loss: 76.8099, Valid loss: 56.8462\n"
          ]
        },
        {
          "output_type": "stream",
          "name": "stderr",
          "text": [
            "Epoch [302/5000]: 100%|██████████| 9/9 [00:00<00:00, 66.70it/s, loss=65.4]\n"
          ]
        },
        {
          "output_type": "stream",
          "name": "stdout",
          "text": [
            "Epoch [302/5000]: Train loss: 71.5866, Valid loss: 44.7982\n"
          ]
        },
        {
          "output_type": "stream",
          "name": "stderr",
          "text": [
            "Epoch [303/5000]: 100%|██████████| 9/9 [00:00<00:00, 58.44it/s, loss=58.7]\n"
          ]
        },
        {
          "output_type": "stream",
          "name": "stdout",
          "text": [
            "Epoch [303/5000]: Train loss: 74.9219, Valid loss: 49.1581\n"
          ]
        },
        {
          "output_type": "stream",
          "name": "stderr",
          "text": [
            "Epoch [304/5000]: 100%|██████████| 9/9 [00:00<00:00, 55.27it/s, loss=80.7]\n"
          ]
        },
        {
          "output_type": "stream",
          "name": "stdout",
          "text": [
            "Epoch [304/5000]: Train loss: 74.7369, Valid loss: 48.1105\n"
          ]
        },
        {
          "output_type": "stream",
          "name": "stderr",
          "text": [
            "Epoch [305/5000]: 100%|██████████| 9/9 [00:00<00:00, 65.44it/s, loss=82.4]\n"
          ]
        },
        {
          "output_type": "stream",
          "name": "stdout",
          "text": [
            "Epoch [305/5000]: Train loss: 76.0584, Valid loss: 47.6835\n"
          ]
        },
        {
          "output_type": "stream",
          "name": "stderr",
          "text": [
            "Epoch [306/5000]: 100%|██████████| 9/9 [00:00<00:00, 70.44it/s, loss=71.7]\n"
          ]
        },
        {
          "output_type": "stream",
          "name": "stdout",
          "text": [
            "Epoch [306/5000]: Train loss: 72.6644, Valid loss: 46.4604\n"
          ]
        },
        {
          "output_type": "stream",
          "name": "stderr",
          "text": [
            "Epoch [307/5000]: 100%|██████████| 9/9 [00:00<00:00, 65.45it/s, loss=83]\n"
          ]
        },
        {
          "output_type": "stream",
          "name": "stdout",
          "text": [
            "Epoch [307/5000]: Train loss: 69.2683, Valid loss: 45.1202\n"
          ]
        },
        {
          "output_type": "stream",
          "name": "stderr",
          "text": [
            "Epoch [308/5000]: 100%|██████████| 9/9 [00:00<00:00, 72.01it/s, loss=79.6]\n"
          ]
        },
        {
          "output_type": "stream",
          "name": "stdout",
          "text": [
            "Epoch [308/5000]: Train loss: 78.2042, Valid loss: 53.5249\n"
          ]
        },
        {
          "output_type": "stream",
          "name": "stderr",
          "text": [
            "Epoch [309/5000]: 100%|██████████| 9/9 [00:00<00:00, 67.30it/s, loss=78.3]\n"
          ]
        },
        {
          "output_type": "stream",
          "name": "stdout",
          "text": [
            "Epoch [309/5000]: Train loss: 77.0920, Valid loss: 48.2888\n"
          ]
        },
        {
          "output_type": "stream",
          "name": "stderr",
          "text": [
            "Epoch [310/5000]: 100%|██████████| 9/9 [00:00<00:00, 64.49it/s, loss=72]\n"
          ]
        },
        {
          "output_type": "stream",
          "name": "stdout",
          "text": [
            "Epoch [310/5000]: Train loss: 76.8715, Valid loss: 45.8075\n"
          ]
        },
        {
          "output_type": "stream",
          "name": "stderr",
          "text": [
            "Epoch [311/5000]: 100%|██████████| 9/9 [00:00<00:00, 61.98it/s, loss=84]\n"
          ]
        },
        {
          "output_type": "stream",
          "name": "stdout",
          "text": [
            "Epoch [311/5000]: Train loss: 72.8691, Valid loss: 40.0798\n",
            "Saving model with loss 40.080...\n"
          ]
        },
        {
          "output_type": "stream",
          "name": "stderr",
          "text": [
            "Epoch [312/5000]: 100%|██████████| 9/9 [00:00<00:00, 68.34it/s, loss=64.7]\n"
          ]
        },
        {
          "output_type": "stream",
          "name": "stdout",
          "text": [
            "Epoch [312/5000]: Train loss: 72.2118, Valid loss: 52.3342\n"
          ]
        },
        {
          "output_type": "stream",
          "name": "stderr",
          "text": [
            "Epoch [313/5000]: 100%|██████████| 9/9 [00:00<00:00, 69.52it/s, loss=82.1]\n"
          ]
        },
        {
          "output_type": "stream",
          "name": "stdout",
          "text": [
            "Epoch [313/5000]: Train loss: 75.7571, Valid loss: 55.4621\n"
          ]
        },
        {
          "output_type": "stream",
          "name": "stderr",
          "text": [
            "Epoch [314/5000]: 100%|██████████| 9/9 [00:00<00:00, 64.15it/s, loss=65.4]\n"
          ]
        },
        {
          "output_type": "stream",
          "name": "stdout",
          "text": [
            "Epoch [314/5000]: Train loss: 75.1053, Valid loss: 47.5275\n"
          ]
        },
        {
          "output_type": "stream",
          "name": "stderr",
          "text": [
            "Epoch [315/5000]: 100%|██████████| 9/9 [00:00<00:00, 64.05it/s, loss=92.6]\n"
          ]
        },
        {
          "output_type": "stream",
          "name": "stdout",
          "text": [
            "Epoch [315/5000]: Train loss: 74.0843, Valid loss: 47.8492\n"
          ]
        },
        {
          "output_type": "stream",
          "name": "stderr",
          "text": [
            "Epoch [316/5000]: 100%|██████████| 9/9 [00:00<00:00, 59.24it/s, loss=85.9]\n"
          ]
        },
        {
          "output_type": "stream",
          "name": "stdout",
          "text": [
            "Epoch [316/5000]: Train loss: 74.4604, Valid loss: 47.4370\n"
          ]
        },
        {
          "output_type": "stream",
          "name": "stderr",
          "text": [
            "Epoch [317/5000]: 100%|██████████| 9/9 [00:00<00:00, 60.82it/s, loss=74.9]\n"
          ]
        },
        {
          "output_type": "stream",
          "name": "stdout",
          "text": [
            "Epoch [317/5000]: Train loss: 72.4772, Valid loss: 43.8843\n"
          ]
        },
        {
          "output_type": "stream",
          "name": "stderr",
          "text": [
            "Epoch [318/5000]: 100%|██████████| 9/9 [00:00<00:00, 68.76it/s, loss=81.7]\n"
          ]
        },
        {
          "output_type": "stream",
          "name": "stdout",
          "text": [
            "Epoch [318/5000]: Train loss: 75.6143, Valid loss: 50.8304\n"
          ]
        },
        {
          "output_type": "stream",
          "name": "stderr",
          "text": [
            "Epoch [319/5000]: 100%|██████████| 9/9 [00:00<00:00, 50.95it/s, loss=66.1]\n"
          ]
        },
        {
          "output_type": "stream",
          "name": "stdout",
          "text": [
            "Epoch [319/5000]: Train loss: 73.0107, Valid loss: 51.5179\n"
          ]
        },
        {
          "output_type": "stream",
          "name": "stderr",
          "text": [
            "Epoch [320/5000]: 100%|██████████| 9/9 [00:00<00:00, 64.44it/s, loss=56.5]\n"
          ]
        },
        {
          "output_type": "stream",
          "name": "stdout",
          "text": [
            "Epoch [320/5000]: Train loss: 69.7596, Valid loss: 43.1969\n"
          ]
        },
        {
          "output_type": "stream",
          "name": "stderr",
          "text": [
            "Epoch [321/5000]: 100%|██████████| 9/9 [00:00<00:00, 49.98it/s, loss=68.3]\n"
          ]
        },
        {
          "output_type": "stream",
          "name": "stdout",
          "text": [
            "Epoch [321/5000]: Train loss: 72.1342, Valid loss: 52.0176\n"
          ]
        },
        {
          "output_type": "stream",
          "name": "stderr",
          "text": [
            "Epoch [322/5000]: 100%|██████████| 9/9 [00:00<00:00, 70.35it/s, loss=97.9]\n"
          ]
        },
        {
          "output_type": "stream",
          "name": "stdout",
          "text": [
            "Epoch [322/5000]: Train loss: 74.5897, Valid loss: 43.5169\n"
          ]
        },
        {
          "output_type": "stream",
          "name": "stderr",
          "text": [
            "Epoch [323/5000]: 100%|██████████| 9/9 [00:00<00:00, 64.45it/s, loss=63.9]\n"
          ]
        },
        {
          "output_type": "stream",
          "name": "stdout",
          "text": [
            "Epoch [323/5000]: Train loss: 75.1375, Valid loss: 47.6334\n"
          ]
        },
        {
          "output_type": "stream",
          "name": "stderr",
          "text": [
            "Epoch [324/5000]: 100%|██████████| 9/9 [00:00<00:00, 74.65it/s, loss=73.8]\n"
          ]
        },
        {
          "output_type": "stream",
          "name": "stdout",
          "text": [
            "Epoch [324/5000]: Train loss: 72.2306, Valid loss: 52.5641\n"
          ]
        },
        {
          "output_type": "stream",
          "name": "stderr",
          "text": [
            "Epoch [325/5000]: 100%|██████████| 9/9 [00:00<00:00, 62.70it/s, loss=53.8]\n"
          ]
        },
        {
          "output_type": "stream",
          "name": "stdout",
          "text": [
            "Epoch [325/5000]: Train loss: 71.7302, Valid loss: 49.5906\n"
          ]
        },
        {
          "output_type": "stream",
          "name": "stderr",
          "text": [
            "Epoch [326/5000]: 100%|██████████| 9/9 [00:00<00:00, 58.96it/s, loss=84.3]\n"
          ]
        },
        {
          "output_type": "stream",
          "name": "stdout",
          "text": [
            "Epoch [326/5000]: Train loss: 74.9708, Valid loss: 46.9584\n"
          ]
        },
        {
          "output_type": "stream",
          "name": "stderr",
          "text": [
            "Epoch [327/5000]: 100%|██████████| 9/9 [00:00<00:00, 24.06it/s, loss=69.7]\n"
          ]
        },
        {
          "output_type": "stream",
          "name": "stdout",
          "text": [
            "Epoch [327/5000]: Train loss: 73.2539, Valid loss: 42.5726\n"
          ]
        },
        {
          "output_type": "stream",
          "name": "stderr",
          "text": [
            "Epoch [328/5000]: 100%|██████████| 9/9 [00:00<00:00, 62.36it/s, loss=77.2]\n"
          ]
        },
        {
          "output_type": "stream",
          "name": "stdout",
          "text": [
            "Epoch [328/5000]: Train loss: 72.6461, Valid loss: 48.9135\n"
          ]
        },
        {
          "output_type": "stream",
          "name": "stderr",
          "text": [
            "Epoch [329/5000]: 100%|██████████| 9/9 [00:00<00:00, 67.71it/s, loss=76.4]\n"
          ]
        },
        {
          "output_type": "stream",
          "name": "stdout",
          "text": [
            "Epoch [329/5000]: Train loss: 73.4841, Valid loss: 48.0523\n"
          ]
        },
        {
          "output_type": "stream",
          "name": "stderr",
          "text": [
            "Epoch [330/5000]: 100%|██████████| 9/9 [00:00<00:00, 67.51it/s, loss=82.6]\n"
          ]
        },
        {
          "output_type": "stream",
          "name": "stdout",
          "text": [
            "Epoch [330/5000]: Train loss: 70.5820, Valid loss: 44.6969\n"
          ]
        },
        {
          "output_type": "stream",
          "name": "stderr",
          "text": [
            "Epoch [331/5000]: 100%|██████████| 9/9 [00:00<00:00, 59.47it/s, loss=77.8]\n"
          ]
        },
        {
          "output_type": "stream",
          "name": "stdout",
          "text": [
            "Epoch [331/5000]: Train loss: 72.6707, Valid loss: 43.6848\n"
          ]
        },
        {
          "output_type": "stream",
          "name": "stderr",
          "text": [
            "Epoch [332/5000]: 100%|██████████| 9/9 [00:00<00:00, 54.17it/s, loss=66.8]\n"
          ]
        },
        {
          "output_type": "stream",
          "name": "stdout",
          "text": [
            "Epoch [332/5000]: Train loss: 70.2532, Valid loss: 42.5448\n"
          ]
        },
        {
          "output_type": "stream",
          "name": "stderr",
          "text": [
            "Epoch [333/5000]: 100%|██████████| 9/9 [00:00<00:00, 58.66it/s, loss=85.8]\n"
          ]
        },
        {
          "output_type": "stream",
          "name": "stdout",
          "text": [
            "Epoch [333/5000]: Train loss: 71.2884, Valid loss: 43.2664\n"
          ]
        },
        {
          "output_type": "stream",
          "name": "stderr",
          "text": [
            "Epoch [334/5000]: 100%|██████████| 9/9 [00:00<00:00, 60.16it/s, loss=68.5]\n"
          ]
        },
        {
          "output_type": "stream",
          "name": "stdout",
          "text": [
            "Epoch [334/5000]: Train loss: 69.4249, Valid loss: 52.1999\n"
          ]
        },
        {
          "output_type": "stream",
          "name": "stderr",
          "text": [
            "Epoch [335/5000]: 100%|██████████| 9/9 [00:00<00:00, 63.42it/s, loss=58]\n"
          ]
        },
        {
          "output_type": "stream",
          "name": "stdout",
          "text": [
            "Epoch [335/5000]: Train loss: 68.8440, Valid loss: 42.3036\n"
          ]
        },
        {
          "output_type": "stream",
          "name": "stderr",
          "text": [
            "Epoch [336/5000]: 100%|██████████| 9/9 [00:00<00:00, 53.59it/s, loss=73.9]\n"
          ]
        },
        {
          "output_type": "stream",
          "name": "stdout",
          "text": [
            "Epoch [336/5000]: Train loss: 70.6114, Valid loss: 51.4177\n"
          ]
        },
        {
          "output_type": "stream",
          "name": "stderr",
          "text": [
            "Epoch [337/5000]: 100%|██████████| 9/9 [00:00<00:00, 59.46it/s, loss=62.8]\n"
          ]
        },
        {
          "output_type": "stream",
          "name": "stdout",
          "text": [
            "Epoch [337/5000]: Train loss: 68.6458, Valid loss: 46.5532\n"
          ]
        },
        {
          "output_type": "stream",
          "name": "stderr",
          "text": [
            "Epoch [338/5000]: 100%|██████████| 9/9 [00:00<00:00, 59.24it/s, loss=88.9]\n"
          ]
        },
        {
          "output_type": "stream",
          "name": "stdout",
          "text": [
            "Epoch [338/5000]: Train loss: 74.3712, Valid loss: 48.2593\n"
          ]
        },
        {
          "output_type": "stream",
          "name": "stderr",
          "text": [
            "Epoch [339/5000]: 100%|██████████| 9/9 [00:00<00:00, 54.41it/s, loss=67]\n"
          ]
        },
        {
          "output_type": "stream",
          "name": "stdout",
          "text": [
            "Epoch [339/5000]: Train loss: 72.2091, Valid loss: 43.4712\n"
          ]
        },
        {
          "output_type": "stream",
          "name": "stderr",
          "text": [
            "Epoch [340/5000]: 100%|██████████| 9/9 [00:00<00:00, 51.49it/s, loss=72.8]\n"
          ]
        },
        {
          "output_type": "stream",
          "name": "stdout",
          "text": [
            "Epoch [340/5000]: Train loss: 70.0588, Valid loss: 45.2940\n"
          ]
        },
        {
          "output_type": "stream",
          "name": "stderr",
          "text": [
            "Epoch [341/5000]: 100%|██████████| 9/9 [00:00<00:00, 66.45it/s, loss=64.4]\n"
          ]
        },
        {
          "output_type": "stream",
          "name": "stdout",
          "text": [
            "Epoch [341/5000]: Train loss: 71.8138, Valid loss: 45.5947\n"
          ]
        },
        {
          "output_type": "stream",
          "name": "stderr",
          "text": [
            "Epoch [342/5000]: 100%|██████████| 9/9 [00:00<00:00, 65.05it/s, loss=78.8]\n"
          ]
        },
        {
          "output_type": "stream",
          "name": "stdout",
          "text": [
            "Epoch [342/5000]: Train loss: 72.0766, Valid loss: 47.8414\n"
          ]
        },
        {
          "output_type": "stream",
          "name": "stderr",
          "text": [
            "Epoch [343/5000]: 100%|██████████| 9/9 [00:00<00:00, 51.42it/s, loss=81.1]\n"
          ]
        },
        {
          "output_type": "stream",
          "name": "stdout",
          "text": [
            "Epoch [343/5000]: Train loss: 72.9969, Valid loss: 46.9962\n"
          ]
        },
        {
          "output_type": "stream",
          "name": "stderr",
          "text": [
            "Epoch [344/5000]: 100%|██████████| 9/9 [00:00<00:00, 58.00it/s, loss=67.3]\n"
          ]
        },
        {
          "output_type": "stream",
          "name": "stdout",
          "text": [
            "Epoch [344/5000]: Train loss: 70.5198, Valid loss: 48.6668\n"
          ]
        },
        {
          "output_type": "stream",
          "name": "stderr",
          "text": [
            "Epoch [345/5000]: 100%|██████████| 9/9 [00:00<00:00, 62.85it/s, loss=61.3]\n"
          ]
        },
        {
          "output_type": "stream",
          "name": "stdout",
          "text": [
            "Epoch [345/5000]: Train loss: 70.9920, Valid loss: 44.1617\n"
          ]
        },
        {
          "output_type": "stream",
          "name": "stderr",
          "text": [
            "Epoch [346/5000]: 100%|██████████| 9/9 [00:00<00:00, 67.08it/s, loss=51.3]\n"
          ]
        },
        {
          "output_type": "stream",
          "name": "stdout",
          "text": [
            "Epoch [346/5000]: Train loss: 69.7167, Valid loss: 44.9811\n"
          ]
        },
        {
          "output_type": "stream",
          "name": "stderr",
          "text": [
            "Epoch [347/5000]: 100%|██████████| 9/9 [00:00<00:00, 73.30it/s, loss=77.7]\n"
          ]
        },
        {
          "output_type": "stream",
          "name": "stdout",
          "text": [
            "Epoch [347/5000]: Train loss: 72.5902, Valid loss: 45.8433\n"
          ]
        },
        {
          "output_type": "stream",
          "name": "stderr",
          "text": [
            "Epoch [348/5000]: 100%|██████████| 9/9 [00:00<00:00, 61.77it/s, loss=87.5]\n"
          ]
        },
        {
          "output_type": "stream",
          "name": "stdout",
          "text": [
            "Epoch [348/5000]: Train loss: 72.4709, Valid loss: 45.1247\n"
          ]
        },
        {
          "output_type": "stream",
          "name": "stderr",
          "text": [
            "Epoch [349/5000]: 100%|██████████| 9/9 [00:00<00:00, 68.61it/s, loss=72.7]\n"
          ]
        },
        {
          "output_type": "stream",
          "name": "stdout",
          "text": [
            "Epoch [349/5000]: Train loss: 72.4675, Valid loss: 55.6126\n"
          ]
        },
        {
          "output_type": "stream",
          "name": "stderr",
          "text": [
            "Epoch [350/5000]: 100%|██████████| 9/9 [00:00<00:00, 66.23it/s, loss=71.5]\n"
          ]
        },
        {
          "output_type": "stream",
          "name": "stdout",
          "text": [
            "Epoch [350/5000]: Train loss: 69.7966, Valid loss: 51.0226\n"
          ]
        },
        {
          "output_type": "stream",
          "name": "stderr",
          "text": [
            "Epoch [351/5000]: 100%|██████████| 9/9 [00:00<00:00, 67.79it/s, loss=66]\n"
          ]
        },
        {
          "output_type": "stream",
          "name": "stdout",
          "text": [
            "Epoch [351/5000]: Train loss: 70.0159, Valid loss: 48.8762\n"
          ]
        },
        {
          "output_type": "stream",
          "name": "stderr",
          "text": [
            "Epoch [352/5000]: 100%|██████████| 9/9 [00:00<00:00, 70.05it/s, loss=59.1]\n"
          ]
        },
        {
          "output_type": "stream",
          "name": "stdout",
          "text": [
            "Epoch [352/5000]: Train loss: 67.7524, Valid loss: 46.1311\n"
          ]
        },
        {
          "output_type": "stream",
          "name": "stderr",
          "text": [
            "Epoch [353/5000]: 100%|██████████| 9/9 [00:00<00:00, 64.61it/s, loss=88.1]\n"
          ]
        },
        {
          "output_type": "stream",
          "name": "stdout",
          "text": [
            "Epoch [353/5000]: Train loss: 69.4358, Valid loss: 49.2373\n"
          ]
        },
        {
          "output_type": "stream",
          "name": "stderr",
          "text": [
            "Epoch [354/5000]: 100%|██████████| 9/9 [00:00<00:00, 62.48it/s, loss=74.5]\n"
          ]
        },
        {
          "output_type": "stream",
          "name": "stdout",
          "text": [
            "Epoch [354/5000]: Train loss: 69.7635, Valid loss: 50.4970\n"
          ]
        },
        {
          "output_type": "stream",
          "name": "stderr",
          "text": [
            "Epoch [355/5000]: 100%|██████████| 9/9 [00:00<00:00, 56.72it/s, loss=59.9]\n"
          ]
        },
        {
          "output_type": "stream",
          "name": "stdout",
          "text": [
            "Epoch [355/5000]: Train loss: 65.4994, Valid loss: 52.9077\n"
          ]
        },
        {
          "output_type": "stream",
          "name": "stderr",
          "text": [
            "Epoch [356/5000]: 100%|██████████| 9/9 [00:00<00:00, 60.34it/s, loss=64.7]\n"
          ]
        },
        {
          "output_type": "stream",
          "name": "stdout",
          "text": [
            "Epoch [356/5000]: Train loss: 69.5664, Valid loss: 43.0913\n"
          ]
        },
        {
          "output_type": "stream",
          "name": "stderr",
          "text": [
            "Epoch [357/5000]: 100%|██████████| 9/9 [00:00<00:00, 56.93it/s, loss=74.5]\n"
          ]
        },
        {
          "output_type": "stream",
          "name": "stdout",
          "text": [
            "Epoch [357/5000]: Train loss: 67.7138, Valid loss: 46.4592\n"
          ]
        },
        {
          "output_type": "stream",
          "name": "stderr",
          "text": [
            "Epoch [358/5000]: 100%|██████████| 9/9 [00:00<00:00, 67.82it/s, loss=72.5]\n"
          ]
        },
        {
          "output_type": "stream",
          "name": "stdout",
          "text": [
            "Epoch [358/5000]: Train loss: 69.9415, Valid loss: 43.7915\n"
          ]
        },
        {
          "output_type": "stream",
          "name": "stderr",
          "text": [
            "Epoch [359/5000]: 100%|██████████| 9/9 [00:00<00:00, 59.94it/s, loss=84.7]\n"
          ]
        },
        {
          "output_type": "stream",
          "name": "stdout",
          "text": [
            "Epoch [359/5000]: Train loss: 70.3824, Valid loss: 47.1356\n"
          ]
        },
        {
          "output_type": "stream",
          "name": "stderr",
          "text": [
            "Epoch [360/5000]: 100%|██████████| 9/9 [00:00<00:00, 63.10it/s, loss=79]\n"
          ]
        },
        {
          "output_type": "stream",
          "name": "stdout",
          "text": [
            "Epoch [360/5000]: Train loss: 69.5502, Valid loss: 42.5438\n"
          ]
        },
        {
          "output_type": "stream",
          "name": "stderr",
          "text": [
            "Epoch [361/5000]: 100%|██████████| 9/9 [00:00<00:00, 66.37it/s, loss=48.1]\n"
          ]
        },
        {
          "output_type": "stream",
          "name": "stdout",
          "text": [
            "Epoch [361/5000]: Train loss: 69.7503, Valid loss: 50.9700\n"
          ]
        },
        {
          "output_type": "stream",
          "name": "stderr",
          "text": [
            "Epoch [362/5000]: 100%|██████████| 9/9 [00:00<00:00, 69.54it/s, loss=67.9]\n"
          ]
        },
        {
          "output_type": "stream",
          "name": "stdout",
          "text": [
            "Epoch [362/5000]: Train loss: 67.9425, Valid loss: 44.2037\n"
          ]
        },
        {
          "output_type": "stream",
          "name": "stderr",
          "text": [
            "Epoch [363/5000]: 100%|██████████| 9/9 [00:00<00:00, 76.23it/s, loss=71.3]\n"
          ]
        },
        {
          "output_type": "stream",
          "name": "stdout",
          "text": [
            "Epoch [363/5000]: Train loss: 70.3971, Valid loss: 46.4126\n"
          ]
        },
        {
          "output_type": "stream",
          "name": "stderr",
          "text": [
            "Epoch [364/5000]: 100%|██████████| 9/9 [00:00<00:00, 75.21it/s, loss=87.6]\n"
          ]
        },
        {
          "output_type": "stream",
          "name": "stdout",
          "text": [
            "Epoch [364/5000]: Train loss: 69.5242, Valid loss: 43.8042\n"
          ]
        },
        {
          "output_type": "stream",
          "name": "stderr",
          "text": [
            "Epoch [365/5000]: 100%|██████████| 9/9 [00:00<00:00, 76.56it/s, loss=60.1]\n"
          ]
        },
        {
          "output_type": "stream",
          "name": "stdout",
          "text": [
            "Epoch [365/5000]: Train loss: 68.5684, Valid loss: 46.0803\n"
          ]
        },
        {
          "output_type": "stream",
          "name": "stderr",
          "text": [
            "Epoch [366/5000]: 100%|██████████| 9/9 [00:00<00:00, 66.97it/s, loss=50.1]\n"
          ]
        },
        {
          "output_type": "stream",
          "name": "stdout",
          "text": [
            "Epoch [366/5000]: Train loss: 66.4155, Valid loss: 37.3663\n",
            "Saving model with loss 37.366...\n"
          ]
        },
        {
          "output_type": "stream",
          "name": "stderr",
          "text": [
            "Epoch [367/5000]: 100%|██████████| 9/9 [00:00<00:00, 66.87it/s, loss=67]\n"
          ]
        },
        {
          "output_type": "stream",
          "name": "stdout",
          "text": [
            "Epoch [367/5000]: Train loss: 66.3820, Valid loss: 40.4507\n"
          ]
        },
        {
          "output_type": "stream",
          "name": "stderr",
          "text": [
            "Epoch [368/5000]: 100%|██████████| 9/9 [00:00<00:00, 69.66it/s, loss=66.1]\n"
          ]
        },
        {
          "output_type": "stream",
          "name": "stdout",
          "text": [
            "Epoch [368/5000]: Train loss: 64.4922, Valid loss: 49.4184\n"
          ]
        },
        {
          "output_type": "stream",
          "name": "stderr",
          "text": [
            "Epoch [369/5000]: 100%|██████████| 9/9 [00:00<00:00, 71.72it/s, loss=68.2]\n"
          ]
        },
        {
          "output_type": "stream",
          "name": "stdout",
          "text": [
            "Epoch [369/5000]: Train loss: 67.9057, Valid loss: 40.3502\n"
          ]
        },
        {
          "output_type": "stream",
          "name": "stderr",
          "text": [
            "Epoch [370/5000]: 100%|██████████| 9/9 [00:00<00:00, 72.34it/s, loss=47.1]\n"
          ]
        },
        {
          "output_type": "stream",
          "name": "stdout",
          "text": [
            "Epoch [370/5000]: Train loss: 65.8112, Valid loss: 43.2018\n"
          ]
        },
        {
          "output_type": "stream",
          "name": "stderr",
          "text": [
            "Epoch [371/5000]: 100%|██████████| 9/9 [00:00<00:00, 73.40it/s, loss=60.7]\n"
          ]
        },
        {
          "output_type": "stream",
          "name": "stdout",
          "text": [
            "Epoch [371/5000]: Train loss: 66.2954, Valid loss: 42.0056\n"
          ]
        },
        {
          "output_type": "stream",
          "name": "stderr",
          "text": [
            "Epoch [372/5000]: 100%|██████████| 9/9 [00:00<00:00, 69.98it/s, loss=69.4]\n"
          ]
        },
        {
          "output_type": "stream",
          "name": "stdout",
          "text": [
            "Epoch [372/5000]: Train loss: 65.4577, Valid loss: 45.3724\n"
          ]
        },
        {
          "output_type": "stream",
          "name": "stderr",
          "text": [
            "Epoch [373/5000]: 100%|██████████| 9/9 [00:00<00:00, 50.96it/s, loss=58.3]\n"
          ]
        },
        {
          "output_type": "stream",
          "name": "stdout",
          "text": [
            "Epoch [373/5000]: Train loss: 68.4713, Valid loss: 48.0361\n"
          ]
        },
        {
          "output_type": "stream",
          "name": "stderr",
          "text": [
            "Epoch [374/5000]: 100%|██████████| 9/9 [00:00<00:00, 62.74it/s, loss=66.5]\n"
          ]
        },
        {
          "output_type": "stream",
          "name": "stdout",
          "text": [
            "Epoch [374/5000]: Train loss: 67.2815, Valid loss: 49.6286\n"
          ]
        },
        {
          "output_type": "stream",
          "name": "stderr",
          "text": [
            "Epoch [375/5000]: 100%|██████████| 9/9 [00:00<00:00, 57.01it/s, loss=59.9]\n"
          ]
        },
        {
          "output_type": "stream",
          "name": "stdout",
          "text": [
            "Epoch [375/5000]: Train loss: 65.5137, Valid loss: 40.3054\n"
          ]
        },
        {
          "output_type": "stream",
          "name": "stderr",
          "text": [
            "Epoch [376/5000]: 100%|██████████| 9/9 [00:00<00:00, 69.03it/s, loss=54.3]\n"
          ]
        },
        {
          "output_type": "stream",
          "name": "stdout",
          "text": [
            "Epoch [376/5000]: Train loss: 69.3683, Valid loss: 38.6221\n"
          ]
        },
        {
          "output_type": "stream",
          "name": "stderr",
          "text": [
            "Epoch [377/5000]: 100%|██████████| 9/9 [00:00<00:00, 56.54it/s, loss=66.5]\n"
          ]
        },
        {
          "output_type": "stream",
          "name": "stdout",
          "text": [
            "Epoch [377/5000]: Train loss: 67.3341, Valid loss: 45.0738\n"
          ]
        },
        {
          "output_type": "stream",
          "name": "stderr",
          "text": [
            "Epoch [378/5000]: 100%|██████████| 9/9 [00:00<00:00, 64.64it/s, loss=54.9]\n"
          ]
        },
        {
          "output_type": "stream",
          "name": "stdout",
          "text": [
            "Epoch [378/5000]: Train loss: 66.4862, Valid loss: 42.7683\n"
          ]
        },
        {
          "output_type": "stream",
          "name": "stderr",
          "text": [
            "Epoch [379/5000]: 100%|██████████| 9/9 [00:00<00:00, 63.85it/s, loss=57.1]\n"
          ]
        },
        {
          "output_type": "stream",
          "name": "stdout",
          "text": [
            "Epoch [379/5000]: Train loss: 65.8743, Valid loss: 49.4870\n"
          ]
        },
        {
          "output_type": "stream",
          "name": "stderr",
          "text": [
            "Epoch [380/5000]: 100%|██████████| 9/9 [00:00<00:00, 66.66it/s, loss=64.8]\n"
          ]
        },
        {
          "output_type": "stream",
          "name": "stdout",
          "text": [
            "Epoch [380/5000]: Train loss: 66.1011, Valid loss: 47.5537\n"
          ]
        },
        {
          "output_type": "stream",
          "name": "stderr",
          "text": [
            "Epoch [381/5000]: 100%|██████████| 9/9 [00:00<00:00, 60.52it/s, loss=32.8]\n"
          ]
        },
        {
          "output_type": "stream",
          "name": "stdout",
          "text": [
            "Epoch [381/5000]: Train loss: 62.6318, Valid loss: 42.9833\n"
          ]
        },
        {
          "output_type": "stream",
          "name": "stderr",
          "text": [
            "Epoch [382/5000]: 100%|██████████| 9/9 [00:00<00:00, 53.56it/s, loss=54.9]\n"
          ]
        },
        {
          "output_type": "stream",
          "name": "stdout",
          "text": [
            "Epoch [382/5000]: Train loss: 66.5645, Valid loss: 49.5771\n"
          ]
        },
        {
          "output_type": "stream",
          "name": "stderr",
          "text": [
            "Epoch [383/5000]: 100%|██████████| 9/9 [00:00<00:00, 55.99it/s, loss=57.6]\n"
          ]
        },
        {
          "output_type": "stream",
          "name": "stdout",
          "text": [
            "Epoch [383/5000]: Train loss: 67.2429, Valid loss: 48.2639\n"
          ]
        },
        {
          "output_type": "stream",
          "name": "stderr",
          "text": [
            "Epoch [384/5000]: 100%|██████████| 9/9 [00:00<00:00, 62.47it/s, loss=76.5]\n"
          ]
        },
        {
          "output_type": "stream",
          "name": "stdout",
          "text": [
            "Epoch [384/5000]: Train loss: 66.8655, Valid loss: 50.6126\n"
          ]
        },
        {
          "output_type": "stream",
          "name": "stderr",
          "text": [
            "Epoch [385/5000]: 100%|██████████| 9/9 [00:00<00:00, 54.89it/s, loss=67.2]\n"
          ]
        },
        {
          "output_type": "stream",
          "name": "stdout",
          "text": [
            "Epoch [385/5000]: Train loss: 68.3408, Valid loss: 44.3128\n"
          ]
        },
        {
          "output_type": "stream",
          "name": "stderr",
          "text": [
            "Epoch [386/5000]: 100%|██████████| 9/9 [00:00<00:00, 60.53it/s, loss=47.5]\n"
          ]
        },
        {
          "output_type": "stream",
          "name": "stdout",
          "text": [
            "Epoch [386/5000]: Train loss: 66.8316, Valid loss: 47.3106\n"
          ]
        },
        {
          "output_type": "stream",
          "name": "stderr",
          "text": [
            "Epoch [387/5000]: 100%|██████████| 9/9 [00:00<00:00, 60.01it/s, loss=64.9]\n"
          ]
        },
        {
          "output_type": "stream",
          "name": "stdout",
          "text": [
            "Epoch [387/5000]: Train loss: 67.1398, Valid loss: 40.4262\n"
          ]
        },
        {
          "output_type": "stream",
          "name": "stderr",
          "text": [
            "Epoch [388/5000]: 100%|██████████| 9/9 [00:00<00:00, 58.83it/s, loss=91.7]\n"
          ]
        },
        {
          "output_type": "stream",
          "name": "stdout",
          "text": [
            "Epoch [388/5000]: Train loss: 68.4288, Valid loss: 49.0631\n"
          ]
        },
        {
          "output_type": "stream",
          "name": "stderr",
          "text": [
            "Epoch [389/5000]: 100%|██████████| 9/9 [00:00<00:00, 52.90it/s, loss=69.9]\n"
          ]
        },
        {
          "output_type": "stream",
          "name": "stdout",
          "text": [
            "Epoch [389/5000]: Train loss: 67.0059, Valid loss: 43.5613\n"
          ]
        },
        {
          "output_type": "stream",
          "name": "stderr",
          "text": [
            "Epoch [390/5000]: 100%|██████████| 9/9 [00:00<00:00, 55.66it/s, loss=78.3]\n"
          ]
        },
        {
          "output_type": "stream",
          "name": "stdout",
          "text": [
            "Epoch [390/5000]: Train loss: 64.0636, Valid loss: 41.7223\n"
          ]
        },
        {
          "output_type": "stream",
          "name": "stderr",
          "text": [
            "Epoch [391/5000]: 100%|██████████| 9/9 [00:00<00:00, 69.58it/s, loss=63.2]\n"
          ]
        },
        {
          "output_type": "stream",
          "name": "stdout",
          "text": [
            "Epoch [391/5000]: Train loss: 66.9154, Valid loss: 42.7848\n"
          ]
        },
        {
          "output_type": "stream",
          "name": "stderr",
          "text": [
            "Epoch [392/5000]: 100%|██████████| 9/9 [00:00<00:00, 70.74it/s, loss=64.8]\n"
          ]
        },
        {
          "output_type": "stream",
          "name": "stdout",
          "text": [
            "Epoch [392/5000]: Train loss: 65.1212, Valid loss: 43.1466\n"
          ]
        },
        {
          "output_type": "stream",
          "name": "stderr",
          "text": [
            "Epoch [393/5000]: 100%|██████████| 9/9 [00:00<00:00, 68.01it/s, loss=69.1]\n"
          ]
        },
        {
          "output_type": "stream",
          "name": "stdout",
          "text": [
            "Epoch [393/5000]: Train loss: 64.6079, Valid loss: 42.8928\n"
          ]
        },
        {
          "output_type": "stream",
          "name": "stderr",
          "text": [
            "Epoch [394/5000]: 100%|██████████| 9/9 [00:00<00:00, 70.64it/s, loss=49.1]\n"
          ]
        },
        {
          "output_type": "stream",
          "name": "stdout",
          "text": [
            "Epoch [394/5000]: Train loss: 62.8267, Valid loss: 40.2643\n"
          ]
        },
        {
          "output_type": "stream",
          "name": "stderr",
          "text": [
            "Epoch [395/5000]: 100%|██████████| 9/9 [00:00<00:00, 59.78it/s, loss=77.8]\n"
          ]
        },
        {
          "output_type": "stream",
          "name": "stdout",
          "text": [
            "Epoch [395/5000]: Train loss: 64.7246, Valid loss: 46.4241\n"
          ]
        },
        {
          "output_type": "stream",
          "name": "stderr",
          "text": [
            "Epoch [396/5000]: 100%|██████████| 9/9 [00:00<00:00, 54.54it/s, loss=60.4]\n"
          ]
        },
        {
          "output_type": "stream",
          "name": "stdout",
          "text": [
            "Epoch [396/5000]: Train loss: 65.4251, Valid loss: 45.7371\n"
          ]
        },
        {
          "output_type": "stream",
          "name": "stderr",
          "text": [
            "Epoch [397/5000]: 100%|██████████| 9/9 [00:00<00:00, 66.40it/s, loss=65.1]\n"
          ]
        },
        {
          "output_type": "stream",
          "name": "stdout",
          "text": [
            "Epoch [397/5000]: Train loss: 64.0735, Valid loss: 38.4576\n"
          ]
        },
        {
          "output_type": "stream",
          "name": "stderr",
          "text": [
            "Epoch [398/5000]: 100%|██████████| 9/9 [00:00<00:00, 59.92it/s, loss=62.8]\n"
          ]
        },
        {
          "output_type": "stream",
          "name": "stdout",
          "text": [
            "Epoch [398/5000]: Train loss: 65.2134, Valid loss: 38.3539\n"
          ]
        },
        {
          "output_type": "stream",
          "name": "stderr",
          "text": [
            "Epoch [399/5000]: 100%|██████████| 9/9 [00:00<00:00, 59.68it/s, loss=75.3]\n"
          ]
        },
        {
          "output_type": "stream",
          "name": "stdout",
          "text": [
            "Epoch [399/5000]: Train loss: 67.6214, Valid loss: 42.9000\n"
          ]
        },
        {
          "output_type": "stream",
          "name": "stderr",
          "text": [
            "Epoch [400/5000]: 100%|██████████| 9/9 [00:00<00:00, 58.34it/s, loss=56.4]\n"
          ]
        },
        {
          "output_type": "stream",
          "name": "stdout",
          "text": [
            "Epoch [400/5000]: Train loss: 64.5497, Valid loss: 43.8679\n"
          ]
        },
        {
          "output_type": "stream",
          "name": "stderr",
          "text": [
            "Epoch [401/5000]: 100%|██████████| 9/9 [00:00<00:00, 69.21it/s, loss=54.5]\n"
          ]
        },
        {
          "output_type": "stream",
          "name": "stdout",
          "text": [
            "Epoch [401/5000]: Train loss: 62.8845, Valid loss: 37.8301\n"
          ]
        },
        {
          "output_type": "stream",
          "name": "stderr",
          "text": [
            "Epoch [402/5000]: 100%|██████████| 9/9 [00:00<00:00, 67.08it/s, loss=75]\n"
          ]
        },
        {
          "output_type": "stream",
          "name": "stdout",
          "text": [
            "Epoch [402/5000]: Train loss: 68.0015, Valid loss: 47.8871\n"
          ]
        },
        {
          "output_type": "stream",
          "name": "stderr",
          "text": [
            "Epoch [403/5000]: 100%|██████████| 9/9 [00:00<00:00, 60.01it/s, loss=73.4]\n"
          ]
        },
        {
          "output_type": "stream",
          "name": "stdout",
          "text": [
            "Epoch [403/5000]: Train loss: 63.9378, Valid loss: 41.5768\n"
          ]
        },
        {
          "output_type": "stream",
          "name": "stderr",
          "text": [
            "Epoch [404/5000]: 100%|██████████| 9/9 [00:00<00:00, 52.02it/s, loss=71.9]\n"
          ]
        },
        {
          "output_type": "stream",
          "name": "stdout",
          "text": [
            "Epoch [404/5000]: Train loss: 66.1961, Valid loss: 38.7088\n"
          ]
        },
        {
          "output_type": "stream",
          "name": "stderr",
          "text": [
            "Epoch [405/5000]: 100%|██████████| 9/9 [00:00<00:00, 52.58it/s, loss=47.8]"
          ]
        },
        {
          "output_type": "stream",
          "name": "stdout",
          "text": [
            "Epoch [405/5000]: Train loss: 63.4620, Valid loss: 47.4094"
          ]
        },
        {
          "output_type": "stream",
          "name": "stderr",
          "text": [
            "\n"
          ]
        },
        {
          "output_type": "stream",
          "name": "stdout",
          "text": [
            "\n"
          ]
        },
        {
          "output_type": "stream",
          "name": "stderr",
          "text": [
            "Epoch [406/5000]: 100%|██████████| 9/9 [00:00<00:00, 57.13it/s, loss=64.1]\n"
          ]
        },
        {
          "output_type": "stream",
          "name": "stdout",
          "text": [
            "Epoch [406/5000]: Train loss: 64.0278, Valid loss: 43.2521\n"
          ]
        },
        {
          "output_type": "stream",
          "name": "stderr",
          "text": [
            "Epoch [407/5000]: 100%|██████████| 9/9 [00:00<00:00, 51.43it/s, loss=48.4]\n"
          ]
        },
        {
          "output_type": "stream",
          "name": "stdout",
          "text": [
            "Epoch [407/5000]: Train loss: 64.1719, Valid loss: 39.4409\n"
          ]
        },
        {
          "output_type": "stream",
          "name": "stderr",
          "text": [
            "Epoch [408/5000]: 100%|██████████| 9/9 [00:00<00:00, 57.19it/s, loss=62.3]\n"
          ]
        },
        {
          "output_type": "stream",
          "name": "stdout",
          "text": [
            "Epoch [408/5000]: Train loss: 63.6830, Valid loss: 38.6843\n"
          ]
        },
        {
          "output_type": "stream",
          "name": "stderr",
          "text": [
            "Epoch [409/5000]: 100%|██████████| 9/9 [00:00<00:00, 55.50it/s, loss=62.8]\n"
          ]
        },
        {
          "output_type": "stream",
          "name": "stdout",
          "text": [
            "Epoch [409/5000]: Train loss: 63.5705, Valid loss: 35.2093\n",
            "Saving model with loss 35.209...\n"
          ]
        },
        {
          "output_type": "stream",
          "name": "stderr",
          "text": [
            "Epoch [410/5000]: 100%|██████████| 9/9 [00:00<00:00, 61.19it/s, loss=72.7]\n"
          ]
        },
        {
          "output_type": "stream",
          "name": "stdout",
          "text": [
            "Epoch [410/5000]: Train loss: 63.8510, Valid loss: 48.9462\n"
          ]
        },
        {
          "output_type": "stream",
          "name": "stderr",
          "text": [
            "Epoch [411/5000]: 100%|██████████| 9/9 [00:00<00:00, 57.78it/s, loss=59.3]\n"
          ]
        },
        {
          "output_type": "stream",
          "name": "stdout",
          "text": [
            "Epoch [411/5000]: Train loss: 60.3642, Valid loss: 37.9662\n"
          ]
        },
        {
          "output_type": "stream",
          "name": "stderr",
          "text": [
            "Epoch [412/5000]: 100%|██████████| 9/9 [00:00<00:00, 54.79it/s, loss=49.6]\n"
          ]
        },
        {
          "output_type": "stream",
          "name": "stdout",
          "text": [
            "Epoch [412/5000]: Train loss: 63.5858, Valid loss: 40.8654\n"
          ]
        },
        {
          "output_type": "stream",
          "name": "stderr",
          "text": [
            "Epoch [413/5000]: 100%|██████████| 9/9 [00:00<00:00, 67.47it/s, loss=62.6]\n"
          ]
        },
        {
          "output_type": "stream",
          "name": "stdout",
          "text": [
            "Epoch [413/5000]: Train loss: 62.0220, Valid loss: 43.7355\n"
          ]
        },
        {
          "output_type": "stream",
          "name": "stderr",
          "text": [
            "Epoch [414/5000]: 100%|██████████| 9/9 [00:00<00:00, 70.52it/s, loss=66.8]\n"
          ]
        },
        {
          "output_type": "stream",
          "name": "stdout",
          "text": [
            "Epoch [414/5000]: Train loss: 62.3320, Valid loss: 42.6165\n"
          ]
        },
        {
          "output_type": "stream",
          "name": "stderr",
          "text": [
            "Epoch [415/5000]: 100%|██████████| 9/9 [00:00<00:00, 58.98it/s, loss=51.5]\n"
          ]
        },
        {
          "output_type": "stream",
          "name": "stdout",
          "text": [
            "Epoch [415/5000]: Train loss: 59.8780, Valid loss: 42.5574\n"
          ]
        },
        {
          "output_type": "stream",
          "name": "stderr",
          "text": [
            "Epoch [416/5000]: 100%|██████████| 9/9 [00:00<00:00, 58.77it/s, loss=78.2]\n"
          ]
        },
        {
          "output_type": "stream",
          "name": "stdout",
          "text": [
            "Epoch [416/5000]: Train loss: 65.1335, Valid loss: 44.0723\n"
          ]
        },
        {
          "output_type": "stream",
          "name": "stderr",
          "text": [
            "Epoch [417/5000]: 100%|██████████| 9/9 [00:00<00:00, 56.73it/s, loss=78.2]\n"
          ]
        },
        {
          "output_type": "stream",
          "name": "stdout",
          "text": [
            "Epoch [417/5000]: Train loss: 67.2594, Valid loss: 35.0544\n",
            "Saving model with loss 35.054...\n"
          ]
        },
        {
          "output_type": "stream",
          "name": "stderr",
          "text": [
            "Epoch [418/5000]: 100%|██████████| 9/9 [00:00<00:00, 53.02it/s, loss=47.1]\n"
          ]
        },
        {
          "output_type": "stream",
          "name": "stdout",
          "text": [
            "Epoch [418/5000]: Train loss: 59.9316, Valid loss: 44.4037\n"
          ]
        },
        {
          "output_type": "stream",
          "name": "stderr",
          "text": [
            "Epoch [419/5000]: 100%|██████████| 9/9 [00:00<00:00, 57.58it/s, loss=77]\n"
          ]
        },
        {
          "output_type": "stream",
          "name": "stdout",
          "text": [
            "Epoch [419/5000]: Train loss: 64.2152, Valid loss: 36.2067\n"
          ]
        },
        {
          "output_type": "stream",
          "name": "stderr",
          "text": [
            "Epoch [420/5000]: 100%|██████████| 9/9 [00:00<00:00, 62.41it/s, loss=64.3]\n"
          ]
        },
        {
          "output_type": "stream",
          "name": "stdout",
          "text": [
            "Epoch [420/5000]: Train loss: 62.3938, Valid loss: 46.3480\n"
          ]
        },
        {
          "output_type": "stream",
          "name": "stderr",
          "text": [
            "Epoch [421/5000]: 100%|██████████| 9/9 [00:00<00:00, 56.27it/s, loss=54]\n"
          ]
        },
        {
          "output_type": "stream",
          "name": "stdout",
          "text": [
            "Epoch [421/5000]: Train loss: 62.9249, Valid loss: 41.9413\n"
          ]
        },
        {
          "output_type": "stream",
          "name": "stderr",
          "text": [
            "Epoch [422/5000]: 100%|██████████| 9/9 [00:00<00:00, 58.69it/s, loss=66.7]\n"
          ]
        },
        {
          "output_type": "stream",
          "name": "stdout",
          "text": [
            "Epoch [422/5000]: Train loss: 62.6616, Valid loss: 40.1564\n"
          ]
        },
        {
          "output_type": "stream",
          "name": "stderr",
          "text": [
            "Epoch [423/5000]: 100%|██████████| 9/9 [00:00<00:00, 62.76it/s, loss=69.9]\n"
          ]
        },
        {
          "output_type": "stream",
          "name": "stdout",
          "text": [
            "Epoch [423/5000]: Train loss: 62.7134, Valid loss: 42.7664\n"
          ]
        },
        {
          "output_type": "stream",
          "name": "stderr",
          "text": [
            "Epoch [424/5000]: 100%|██████████| 9/9 [00:00<00:00, 51.47it/s, loss=64.4]\n"
          ]
        },
        {
          "output_type": "stream",
          "name": "stdout",
          "text": [
            "Epoch [424/5000]: Train loss: 61.9932, Valid loss: 45.5144\n"
          ]
        },
        {
          "output_type": "stream",
          "name": "stderr",
          "text": [
            "Epoch [425/5000]: 100%|██████████| 9/9 [00:00<00:00, 63.03it/s, loss=81]\n"
          ]
        },
        {
          "output_type": "stream",
          "name": "stdout",
          "text": [
            "Epoch [425/5000]: Train loss: 62.6360, Valid loss: 38.8271\n"
          ]
        },
        {
          "output_type": "stream",
          "name": "stderr",
          "text": [
            "Epoch [426/5000]: 100%|██████████| 9/9 [00:00<00:00, 63.27it/s, loss=72.4]\n"
          ]
        },
        {
          "output_type": "stream",
          "name": "stdout",
          "text": [
            "Epoch [426/5000]: Train loss: 62.9267, Valid loss: 35.9642\n"
          ]
        },
        {
          "output_type": "stream",
          "name": "stderr",
          "text": [
            "Epoch [427/5000]: 100%|██████████| 9/9 [00:00<00:00, 56.83it/s, loss=67.5]\n"
          ]
        },
        {
          "output_type": "stream",
          "name": "stdout",
          "text": [
            "Epoch [427/5000]: Train loss: 64.7660, Valid loss: 45.2353\n"
          ]
        },
        {
          "output_type": "stream",
          "name": "stderr",
          "text": [
            "Epoch [428/5000]: 100%|██████████| 9/9 [00:00<00:00, 52.40it/s, loss=64.3]\n"
          ]
        },
        {
          "output_type": "stream",
          "name": "stdout",
          "text": [
            "Epoch [428/5000]: Train loss: 61.1231, Valid loss: 41.0783\n"
          ]
        },
        {
          "output_type": "stream",
          "name": "stderr",
          "text": [
            "Epoch [429/5000]: 100%|██████████| 9/9 [00:00<00:00, 60.40it/s, loss=62.1]\n"
          ]
        },
        {
          "output_type": "stream",
          "name": "stdout",
          "text": [
            "Epoch [429/5000]: Train loss: 60.1731, Valid loss: 51.4698\n"
          ]
        },
        {
          "output_type": "stream",
          "name": "stderr",
          "text": [
            "Epoch [430/5000]: 100%|██████████| 9/9 [00:00<00:00, 62.78it/s, loss=63]\n"
          ]
        },
        {
          "output_type": "stream",
          "name": "stdout",
          "text": [
            "Epoch [430/5000]: Train loss: 58.9008, Valid loss: 47.4560\n"
          ]
        },
        {
          "output_type": "stream",
          "name": "stderr",
          "text": [
            "Epoch [431/5000]: 100%|██████████| 9/9 [00:00<00:00, 69.88it/s, loss=70.5]\n"
          ]
        },
        {
          "output_type": "stream",
          "name": "stdout",
          "text": [
            "Epoch [431/5000]: Train loss: 64.0808, Valid loss: 43.8689\n"
          ]
        },
        {
          "output_type": "stream",
          "name": "stderr",
          "text": [
            "Epoch [432/5000]: 100%|██████████| 9/9 [00:00<00:00, 68.44it/s, loss=41.9]\n"
          ]
        },
        {
          "output_type": "stream",
          "name": "stdout",
          "text": [
            "Epoch [432/5000]: Train loss: 61.2811, Valid loss: 41.8605\n"
          ]
        },
        {
          "output_type": "stream",
          "name": "stderr",
          "text": [
            "Epoch [433/5000]: 100%|██████████| 9/9 [00:00<00:00, 66.63it/s, loss=59.1]\n"
          ]
        },
        {
          "output_type": "stream",
          "name": "stdout",
          "text": [
            "Epoch [433/5000]: Train loss: 63.2001, Valid loss: 41.0183\n"
          ]
        },
        {
          "output_type": "stream",
          "name": "stderr",
          "text": [
            "Epoch [434/5000]: 100%|██████████| 9/9 [00:00<00:00, 72.02it/s, loss=64.3]\n"
          ]
        },
        {
          "output_type": "stream",
          "name": "stdout",
          "text": [
            "Epoch [434/5000]: Train loss: 60.8546, Valid loss: 33.6493\n",
            "Saving model with loss 33.649...\n"
          ]
        },
        {
          "output_type": "stream",
          "name": "stderr",
          "text": [
            "Epoch [435/5000]: 100%|██████████| 9/9 [00:00<00:00, 65.82it/s, loss=56.4]\n"
          ]
        },
        {
          "output_type": "stream",
          "name": "stdout",
          "text": [
            "Epoch [435/5000]: Train loss: 59.6850, Valid loss: 48.1206\n"
          ]
        },
        {
          "output_type": "stream",
          "name": "stderr",
          "text": [
            "Epoch [436/5000]: 100%|██████████| 9/9 [00:00<00:00, 68.60it/s, loss=62.6]\n"
          ]
        },
        {
          "output_type": "stream",
          "name": "stdout",
          "text": [
            "Epoch [436/5000]: Train loss: 62.7926, Valid loss: 40.4748\n"
          ]
        },
        {
          "output_type": "stream",
          "name": "stderr",
          "text": [
            "Epoch [437/5000]: 100%|██████████| 9/9 [00:00<00:00, 67.25it/s, loss=63.1]\n"
          ]
        },
        {
          "output_type": "stream",
          "name": "stdout",
          "text": [
            "Epoch [437/5000]: Train loss: 60.7190, Valid loss: 49.3816\n"
          ]
        },
        {
          "output_type": "stream",
          "name": "stderr",
          "text": [
            "Epoch [438/5000]: 100%|██████████| 9/9 [00:00<00:00, 68.02it/s, loss=60.6]\n"
          ]
        },
        {
          "output_type": "stream",
          "name": "stdout",
          "text": [
            "Epoch [438/5000]: Train loss: 61.0422, Valid loss: 38.8388\n"
          ]
        },
        {
          "output_type": "stream",
          "name": "stderr",
          "text": [
            "Epoch [439/5000]: 100%|██████████| 9/9 [00:00<00:00, 63.82it/s, loss=42.3]\n"
          ]
        },
        {
          "output_type": "stream",
          "name": "stdout",
          "text": [
            "Epoch [439/5000]: Train loss: 59.6155, Valid loss: 50.1231\n"
          ]
        },
        {
          "output_type": "stream",
          "name": "stderr",
          "text": [
            "Epoch [440/5000]: 100%|██████████| 9/9 [00:00<00:00, 58.71it/s, loss=74.3]\n"
          ]
        },
        {
          "output_type": "stream",
          "name": "stdout",
          "text": [
            "Epoch [440/5000]: Train loss: 63.2336, Valid loss: 37.7859\n"
          ]
        },
        {
          "output_type": "stream",
          "name": "stderr",
          "text": [
            "Epoch [441/5000]: 100%|██████████| 9/9 [00:00<00:00, 60.43it/s, loss=59.7]\n"
          ]
        },
        {
          "output_type": "stream",
          "name": "stdout",
          "text": [
            "Epoch [441/5000]: Train loss: 61.1522, Valid loss: 36.4516\n"
          ]
        },
        {
          "output_type": "stream",
          "name": "stderr",
          "text": [
            "Epoch [442/5000]: 100%|██████████| 9/9 [00:00<00:00, 51.53it/s, loss=69.2]\n"
          ]
        },
        {
          "output_type": "stream",
          "name": "stdout",
          "text": [
            "Epoch [442/5000]: Train loss: 63.2533, Valid loss: 42.8361\n"
          ]
        },
        {
          "output_type": "stream",
          "name": "stderr",
          "text": [
            "Epoch [443/5000]: 100%|██████████| 9/9 [00:00<00:00, 63.60it/s, loss=72.5]\n"
          ]
        },
        {
          "output_type": "stream",
          "name": "stdout",
          "text": [
            "Epoch [443/5000]: Train loss: 60.4073, Valid loss: 43.4828\n"
          ]
        },
        {
          "output_type": "stream",
          "name": "stderr",
          "text": [
            "Epoch [444/5000]: 100%|██████████| 9/9 [00:00<00:00, 72.52it/s, loss=73.1]\n"
          ]
        },
        {
          "output_type": "stream",
          "name": "stdout",
          "text": [
            "Epoch [444/5000]: Train loss: 64.2590, Valid loss: 41.6290\n"
          ]
        },
        {
          "output_type": "stream",
          "name": "stderr",
          "text": [
            "Epoch [445/5000]: 100%|██████████| 9/9 [00:00<00:00, 69.50it/s, loss=62.9]\n"
          ]
        },
        {
          "output_type": "stream",
          "name": "stdout",
          "text": [
            "Epoch [445/5000]: Train loss: 61.9633, Valid loss: 38.5434\n"
          ]
        },
        {
          "output_type": "stream",
          "name": "stderr",
          "text": [
            "Epoch [446/5000]: 100%|██████████| 9/9 [00:00<00:00, 64.46it/s, loss=57]\n"
          ]
        },
        {
          "output_type": "stream",
          "name": "stdout",
          "text": [
            "Epoch [446/5000]: Train loss: 59.0782, Valid loss: 35.1921\n"
          ]
        },
        {
          "output_type": "stream",
          "name": "stderr",
          "text": [
            "Epoch [447/5000]: 100%|██████████| 9/9 [00:00<00:00, 76.75it/s, loss=76.1]\n"
          ]
        },
        {
          "output_type": "stream",
          "name": "stdout",
          "text": [
            "Epoch [447/5000]: Train loss: 62.3697, Valid loss: 33.4879\n",
            "Saving model with loss 33.488...\n"
          ]
        },
        {
          "output_type": "stream",
          "name": "stderr",
          "text": [
            "Epoch [448/5000]: 100%|██████████| 9/9 [00:00<00:00, 65.18it/s, loss=63.7]\n"
          ]
        },
        {
          "output_type": "stream",
          "name": "stdout",
          "text": [
            "Epoch [448/5000]: Train loss: 58.7105, Valid loss: 38.2675\n"
          ]
        },
        {
          "output_type": "stream",
          "name": "stderr",
          "text": [
            "Epoch [449/5000]: 100%|██████████| 9/9 [00:00<00:00, 75.30it/s, loss=69.9]\n"
          ]
        },
        {
          "output_type": "stream",
          "name": "stdout",
          "text": [
            "Epoch [449/5000]: Train loss: 61.7633, Valid loss: 40.0035\n"
          ]
        },
        {
          "output_type": "stream",
          "name": "stderr",
          "text": [
            "Epoch [450/5000]: 100%|██████████| 9/9 [00:00<00:00, 72.48it/s, loss=51.5]\n"
          ]
        },
        {
          "output_type": "stream",
          "name": "stdout",
          "text": [
            "Epoch [450/5000]: Train loss: 59.8633, Valid loss: 36.4955\n"
          ]
        },
        {
          "output_type": "stream",
          "name": "stderr",
          "text": [
            "Epoch [451/5000]: 100%|██████████| 9/9 [00:00<00:00, 70.06it/s, loss=55.8]\n"
          ]
        },
        {
          "output_type": "stream",
          "name": "stdout",
          "text": [
            "Epoch [451/5000]: Train loss: 59.9106, Valid loss: 39.5803\n"
          ]
        },
        {
          "output_type": "stream",
          "name": "stderr",
          "text": [
            "Epoch [452/5000]: 100%|██████████| 9/9 [00:00<00:00, 55.97it/s, loss=61.6]\n"
          ]
        },
        {
          "output_type": "stream",
          "name": "stdout",
          "text": [
            "Epoch [452/5000]: Train loss: 63.1801, Valid loss: 37.9402\n"
          ]
        },
        {
          "output_type": "stream",
          "name": "stderr",
          "text": [
            "Epoch [453/5000]: 100%|██████████| 9/9 [00:00<00:00, 50.69it/s, loss=56.3]\n"
          ]
        },
        {
          "output_type": "stream",
          "name": "stdout",
          "text": [
            "Epoch [453/5000]: Train loss: 61.5541, Valid loss: 40.9515\n"
          ]
        },
        {
          "output_type": "stream",
          "name": "stderr",
          "text": [
            "Epoch [454/5000]: 100%|██████████| 9/9 [00:00<00:00, 52.48it/s, loss=74.4]\n"
          ]
        },
        {
          "output_type": "stream",
          "name": "stdout",
          "text": [
            "Epoch [454/5000]: Train loss: 60.4602, Valid loss: 41.6088\n"
          ]
        },
        {
          "output_type": "stream",
          "name": "stderr",
          "text": [
            "Epoch [455/5000]: 100%|██████████| 9/9 [00:00<00:00, 59.26it/s, loss=54.2]\n"
          ]
        },
        {
          "output_type": "stream",
          "name": "stdout",
          "text": [
            "Epoch [455/5000]: Train loss: 59.2895, Valid loss: 36.0657\n"
          ]
        },
        {
          "output_type": "stream",
          "name": "stderr",
          "text": [
            "Epoch [456/5000]: 100%|██████████| 9/9 [00:00<00:00, 55.39it/s, loss=64.1]\n"
          ]
        },
        {
          "output_type": "stream",
          "name": "stdout",
          "text": [
            "Epoch [456/5000]: Train loss: 61.9513, Valid loss: 41.2897\n"
          ]
        },
        {
          "output_type": "stream",
          "name": "stderr",
          "text": [
            "Epoch [457/5000]: 100%|██████████| 9/9 [00:00<00:00, 62.88it/s, loss=55.6]\n"
          ]
        },
        {
          "output_type": "stream",
          "name": "stdout",
          "text": [
            "Epoch [457/5000]: Train loss: 60.4765, Valid loss: 40.1787\n"
          ]
        },
        {
          "output_type": "stream",
          "name": "stderr",
          "text": [
            "Epoch [458/5000]: 100%|██████████| 9/9 [00:00<00:00, 70.46it/s, loss=53.5]\n"
          ]
        },
        {
          "output_type": "stream",
          "name": "stdout",
          "text": [
            "Epoch [458/5000]: Train loss: 58.2438, Valid loss: 39.3222\n"
          ]
        },
        {
          "output_type": "stream",
          "name": "stderr",
          "text": [
            "Epoch [459/5000]: 100%|██████████| 9/9 [00:00<00:00, 64.29it/s, loss=59.3]\n"
          ]
        },
        {
          "output_type": "stream",
          "name": "stdout",
          "text": [
            "Epoch [459/5000]: Train loss: 61.3767, Valid loss: 39.5828\n"
          ]
        },
        {
          "output_type": "stream",
          "name": "stderr",
          "text": [
            "Epoch [460/5000]: 100%|██████████| 9/9 [00:00<00:00, 72.56it/s, loss=61.5]\n"
          ]
        },
        {
          "output_type": "stream",
          "name": "stdout",
          "text": [
            "Epoch [460/5000]: Train loss: 60.1554, Valid loss: 48.4889\n"
          ]
        },
        {
          "output_type": "stream",
          "name": "stderr",
          "text": [
            "Epoch [461/5000]: 100%|██████████| 9/9 [00:00<00:00, 74.11it/s, loss=58.6]\n"
          ]
        },
        {
          "output_type": "stream",
          "name": "stdout",
          "text": [
            "Epoch [461/5000]: Train loss: 61.3866, Valid loss: 34.3824\n"
          ]
        },
        {
          "output_type": "stream",
          "name": "stderr",
          "text": [
            "Epoch [462/5000]: 100%|██████████| 9/9 [00:00<00:00, 66.00it/s, loss=64.8]\n"
          ]
        },
        {
          "output_type": "stream",
          "name": "stdout",
          "text": [
            "Epoch [462/5000]: Train loss: 62.5006, Valid loss: 39.2948\n"
          ]
        },
        {
          "output_type": "stream",
          "name": "stderr",
          "text": [
            "Epoch [463/5000]: 100%|██████████| 9/9 [00:00<00:00, 71.12it/s, loss=44]\n"
          ]
        },
        {
          "output_type": "stream",
          "name": "stdout",
          "text": [
            "Epoch [463/5000]: Train loss: 56.9000, Valid loss: 39.7355\n"
          ]
        },
        {
          "output_type": "stream",
          "name": "stderr",
          "text": [
            "Epoch [464/5000]: 100%|██████████| 9/9 [00:00<00:00, 65.23it/s, loss=72.1]\n"
          ]
        },
        {
          "output_type": "stream",
          "name": "stdout",
          "text": [
            "Epoch [464/5000]: Train loss: 58.1856, Valid loss: 32.5605\n",
            "Saving model with loss 32.561...\n"
          ]
        },
        {
          "output_type": "stream",
          "name": "stderr",
          "text": [
            "Epoch [465/5000]: 100%|██████████| 9/9 [00:00<00:00, 53.70it/s, loss=62.1]\n"
          ]
        },
        {
          "output_type": "stream",
          "name": "stdout",
          "text": [
            "Epoch [465/5000]: Train loss: 59.6703, Valid loss: 41.3545\n"
          ]
        },
        {
          "output_type": "stream",
          "name": "stderr",
          "text": [
            "Epoch [466/5000]: 100%|██████████| 9/9 [00:00<00:00, 57.42it/s, loss=66.9]\n"
          ]
        },
        {
          "output_type": "stream",
          "name": "stdout",
          "text": [
            "Epoch [466/5000]: Train loss: 59.0499, Valid loss: 44.2486\n"
          ]
        },
        {
          "output_type": "stream",
          "name": "stderr",
          "text": [
            "Epoch [467/5000]: 100%|██████████| 9/9 [00:00<00:00, 55.28it/s, loss=54.8]\n"
          ]
        },
        {
          "output_type": "stream",
          "name": "stdout",
          "text": [
            "Epoch [467/5000]: Train loss: 58.8266, Valid loss: 35.0092\n"
          ]
        },
        {
          "output_type": "stream",
          "name": "stderr",
          "text": [
            "Epoch [468/5000]: 100%|██████████| 9/9 [00:00<00:00, 65.78it/s, loss=57.5]\n"
          ]
        },
        {
          "output_type": "stream",
          "name": "stdout",
          "text": [
            "Epoch [468/5000]: Train loss: 61.6481, Valid loss: 45.2518\n"
          ]
        },
        {
          "output_type": "stream",
          "name": "stderr",
          "text": [
            "Epoch [469/5000]: 100%|██████████| 9/9 [00:00<00:00, 57.72it/s, loss=67]\n"
          ]
        },
        {
          "output_type": "stream",
          "name": "stdout",
          "text": [
            "Epoch [469/5000]: Train loss: 59.3542, Valid loss: 34.4906\n"
          ]
        },
        {
          "output_type": "stream",
          "name": "stderr",
          "text": [
            "Epoch [470/5000]: 100%|██████████| 9/9 [00:00<00:00, 58.88it/s, loss=67.1]\n"
          ]
        },
        {
          "output_type": "stream",
          "name": "stdout",
          "text": [
            "Epoch [470/5000]: Train loss: 59.4833, Valid loss: 39.3633\n"
          ]
        },
        {
          "output_type": "stream",
          "name": "stderr",
          "text": [
            "Epoch [471/5000]: 100%|██████████| 9/9 [00:00<00:00, 55.40it/s, loss=53.7]\n"
          ]
        },
        {
          "output_type": "stream",
          "name": "stdout",
          "text": [
            "Epoch [471/5000]: Train loss: 59.6581, Valid loss: 37.4678\n"
          ]
        },
        {
          "output_type": "stream",
          "name": "stderr",
          "text": [
            "Epoch [472/5000]: 100%|██████████| 9/9 [00:00<00:00, 61.22it/s, loss=62.7]\n"
          ]
        },
        {
          "output_type": "stream",
          "name": "stdout",
          "text": [
            "Epoch [472/5000]: Train loss: 58.0206, Valid loss: 36.5008\n"
          ]
        },
        {
          "output_type": "stream",
          "name": "stderr",
          "text": [
            "Epoch [473/5000]: 100%|██████████| 9/9 [00:00<00:00, 67.33it/s, loss=40.4]\n"
          ]
        },
        {
          "output_type": "stream",
          "name": "stdout",
          "text": [
            "Epoch [473/5000]: Train loss: 56.6130, Valid loss: 36.9757\n"
          ]
        },
        {
          "output_type": "stream",
          "name": "stderr",
          "text": [
            "Epoch [474/5000]: 100%|██████████| 9/9 [00:00<00:00, 64.80it/s, loss=54.8]\n"
          ]
        },
        {
          "output_type": "stream",
          "name": "stdout",
          "text": [
            "Epoch [474/5000]: Train loss: 56.8978, Valid loss: 32.5326\n",
            "Saving model with loss 32.533...\n"
          ]
        },
        {
          "output_type": "stream",
          "name": "stderr",
          "text": [
            "Epoch [475/5000]: 100%|██████████| 9/9 [00:00<00:00, 59.85it/s, loss=47.9]\n"
          ]
        },
        {
          "output_type": "stream",
          "name": "stdout",
          "text": [
            "Epoch [475/5000]: Train loss: 55.2592, Valid loss: 36.3675\n"
          ]
        },
        {
          "output_type": "stream",
          "name": "stderr",
          "text": [
            "Epoch [476/5000]: 100%|██████████| 9/9 [00:00<00:00, 61.17it/s, loss=60.8]\n"
          ]
        },
        {
          "output_type": "stream",
          "name": "stdout",
          "text": [
            "Epoch [476/5000]: Train loss: 58.3365, Valid loss: 44.5514\n"
          ]
        },
        {
          "output_type": "stream",
          "name": "stderr",
          "text": [
            "Epoch [477/5000]: 100%|██████████| 9/9 [00:00<00:00, 64.34it/s, loss=55.2]\n"
          ]
        },
        {
          "output_type": "stream",
          "name": "stdout",
          "text": [
            "Epoch [477/5000]: Train loss: 58.5266, Valid loss: 38.2466\n"
          ]
        },
        {
          "output_type": "stream",
          "name": "stderr",
          "text": [
            "Epoch [478/5000]: 100%|██████████| 9/9 [00:00<00:00, 69.76it/s, loss=55.8]\n"
          ]
        },
        {
          "output_type": "stream",
          "name": "stdout",
          "text": [
            "Epoch [478/5000]: Train loss: 57.2298, Valid loss: 35.6015\n"
          ]
        },
        {
          "output_type": "stream",
          "name": "stderr",
          "text": [
            "Epoch [479/5000]: 100%|██████████| 9/9 [00:00<00:00, 49.58it/s, loss=66.5]\n"
          ]
        },
        {
          "output_type": "stream",
          "name": "stdout",
          "text": [
            "Epoch [479/5000]: Train loss: 58.2507, Valid loss: 35.5728\n"
          ]
        },
        {
          "output_type": "stream",
          "name": "stderr",
          "text": [
            "Epoch [480/5000]: 100%|██████████| 9/9 [00:00<00:00, 63.51it/s, loss=56.1]\n"
          ]
        },
        {
          "output_type": "stream",
          "name": "stdout",
          "text": [
            "Epoch [480/5000]: Train loss: 55.2808, Valid loss: 34.8981\n"
          ]
        },
        {
          "output_type": "stream",
          "name": "stderr",
          "text": [
            "Epoch [481/5000]: 100%|██████████| 9/9 [00:00<00:00, 69.50it/s, loss=62.1]\n"
          ]
        },
        {
          "output_type": "stream",
          "name": "stdout",
          "text": [
            "Epoch [481/5000]: Train loss: 59.9249, Valid loss: 34.6996\n"
          ]
        },
        {
          "output_type": "stream",
          "name": "stderr",
          "text": [
            "Epoch [482/5000]: 100%|██████████| 9/9 [00:00<00:00, 61.71it/s, loss=59.8]\n"
          ]
        },
        {
          "output_type": "stream",
          "name": "stdout",
          "text": [
            "Epoch [482/5000]: Train loss: 58.4835, Valid loss: 38.8625\n"
          ]
        },
        {
          "output_type": "stream",
          "name": "stderr",
          "text": [
            "Epoch [483/5000]: 100%|██████████| 9/9 [00:00<00:00, 55.56it/s, loss=59.8]\n"
          ]
        },
        {
          "output_type": "stream",
          "name": "stdout",
          "text": [
            "Epoch [483/5000]: Train loss: 57.4249, Valid loss: 35.8524\n"
          ]
        },
        {
          "output_type": "stream",
          "name": "stderr",
          "text": [
            "Epoch [484/5000]: 100%|██████████| 9/9 [00:00<00:00, 73.81it/s, loss=47.8]\n"
          ]
        },
        {
          "output_type": "stream",
          "name": "stdout",
          "text": [
            "Epoch [484/5000]: Train loss: 57.9832, Valid loss: 37.8762\n"
          ]
        },
        {
          "output_type": "stream",
          "name": "stderr",
          "text": [
            "Epoch [485/5000]: 100%|██████████| 9/9 [00:00<00:00, 76.52it/s, loss=78.8]\n"
          ]
        },
        {
          "output_type": "stream",
          "name": "stdout",
          "text": [
            "Epoch [485/5000]: Train loss: 56.6318, Valid loss: 34.8070\n"
          ]
        },
        {
          "output_type": "stream",
          "name": "stderr",
          "text": [
            "Epoch [486/5000]: 100%|██████████| 9/9 [00:00<00:00, 72.61it/s, loss=41.1]\n"
          ]
        },
        {
          "output_type": "stream",
          "name": "stdout",
          "text": [
            "Epoch [486/5000]: Train loss: 55.3491, Valid loss: 36.3788\n"
          ]
        },
        {
          "output_type": "stream",
          "name": "stderr",
          "text": [
            "Epoch [487/5000]: 100%|██████████| 9/9 [00:00<00:00, 74.36it/s, loss=64.2]\n"
          ]
        },
        {
          "output_type": "stream",
          "name": "stdout",
          "text": [
            "Epoch [487/5000]: Train loss: 58.9199, Valid loss: 36.6902\n"
          ]
        },
        {
          "output_type": "stream",
          "name": "stderr",
          "text": [
            "Epoch [488/5000]: 100%|██████████| 9/9 [00:00<00:00, 50.50it/s, loss=73.7]\n"
          ]
        },
        {
          "output_type": "stream",
          "name": "stdout",
          "text": [
            "Epoch [488/5000]: Train loss: 58.0886, Valid loss: 38.5967\n"
          ]
        },
        {
          "output_type": "stream",
          "name": "stderr",
          "text": [
            "Epoch [489/5000]: 100%|██████████| 9/9 [00:00<00:00, 54.75it/s, loss=50]\n"
          ]
        },
        {
          "output_type": "stream",
          "name": "stdout",
          "text": [
            "Epoch [489/5000]: Train loss: 56.8685, Valid loss: 39.2562\n"
          ]
        },
        {
          "output_type": "stream",
          "name": "stderr",
          "text": [
            "Epoch [490/5000]: 100%|██████████| 9/9 [00:00<00:00, 53.27it/s, loss=60.4]\n"
          ]
        },
        {
          "output_type": "stream",
          "name": "stdout",
          "text": [
            "Epoch [490/5000]: Train loss: 59.5959, Valid loss: 41.0152\n"
          ]
        },
        {
          "output_type": "stream",
          "name": "stderr",
          "text": [
            "Epoch [491/5000]: 100%|██████████| 9/9 [00:00<00:00, 25.37it/s, loss=58.9]\n"
          ]
        },
        {
          "output_type": "stream",
          "name": "stdout",
          "text": [
            "Epoch [491/5000]: Train loss: 57.2858, Valid loss: 32.1837\n",
            "Saving model with loss 32.184...\n"
          ]
        },
        {
          "output_type": "stream",
          "name": "stderr",
          "text": [
            "Epoch [492/5000]: 100%|██████████| 9/9 [00:00<00:00, 69.98it/s, loss=70.6]\n"
          ]
        },
        {
          "output_type": "stream",
          "name": "stdout",
          "text": [
            "Epoch [492/5000]: Train loss: 58.7882, Valid loss: 38.0288\n"
          ]
        },
        {
          "output_type": "stream",
          "name": "stderr",
          "text": [
            "Epoch [493/5000]: 100%|██████████| 9/9 [00:00<00:00, 54.80it/s, loss=65.9]\n"
          ]
        },
        {
          "output_type": "stream",
          "name": "stdout",
          "text": [
            "Epoch [493/5000]: Train loss: 57.4343, Valid loss: 39.9342\n"
          ]
        },
        {
          "output_type": "stream",
          "name": "stderr",
          "text": [
            "Epoch [494/5000]: 100%|██████████| 9/9 [00:00<00:00, 76.69it/s, loss=59.2]\n"
          ]
        },
        {
          "output_type": "stream",
          "name": "stdout",
          "text": [
            "Epoch [494/5000]: Train loss: 56.7149, Valid loss: 35.3720\n"
          ]
        },
        {
          "output_type": "stream",
          "name": "stderr",
          "text": [
            "Epoch [495/5000]: 100%|██████████| 9/9 [00:00<00:00, 56.85it/s, loss=52.7]\n"
          ]
        },
        {
          "output_type": "stream",
          "name": "stdout",
          "text": [
            "Epoch [495/5000]: Train loss: 54.2577, Valid loss: 40.1600\n"
          ]
        },
        {
          "output_type": "stream",
          "name": "stderr",
          "text": [
            "Epoch [496/5000]: 100%|██████████| 9/9 [00:00<00:00, 59.27it/s, loss=47.1]\n"
          ]
        },
        {
          "output_type": "stream",
          "name": "stdout",
          "text": [
            "Epoch [496/5000]: Train loss: 54.2101, Valid loss: 33.8360\n"
          ]
        },
        {
          "output_type": "stream",
          "name": "stderr",
          "text": [
            "Epoch [497/5000]: 100%|██████████| 9/9 [00:00<00:00, 52.38it/s, loss=47.6]\n"
          ]
        },
        {
          "output_type": "stream",
          "name": "stdout",
          "text": [
            "Epoch [497/5000]: Train loss: 58.0477, Valid loss: 32.4291\n"
          ]
        },
        {
          "output_type": "stream",
          "name": "stderr",
          "text": [
            "Epoch [498/5000]: 100%|██████████| 9/9 [00:00<00:00, 58.27it/s, loss=46.8]\n"
          ]
        },
        {
          "output_type": "stream",
          "name": "stdout",
          "text": [
            "Epoch [498/5000]: Train loss: 57.1915, Valid loss: 42.6509\n"
          ]
        },
        {
          "output_type": "stream",
          "name": "stderr",
          "text": [
            "Epoch [499/5000]: 100%|██████████| 9/9 [00:00<00:00, 57.53it/s, loss=67.9]\n"
          ]
        },
        {
          "output_type": "stream",
          "name": "stdout",
          "text": [
            "Epoch [499/5000]: Train loss: 59.0867, Valid loss: 40.2588\n"
          ]
        },
        {
          "output_type": "stream",
          "name": "stderr",
          "text": [
            "Epoch [500/5000]: 100%|██████████| 9/9 [00:00<00:00, 68.93it/s, loss=46.3]\n"
          ]
        },
        {
          "output_type": "stream",
          "name": "stdout",
          "text": [
            "Epoch [500/5000]: Train loss: 54.8493, Valid loss: 40.5162\n"
          ]
        },
        {
          "output_type": "stream",
          "name": "stderr",
          "text": [
            "Epoch [501/5000]: 100%|██████████| 9/9 [00:00<00:00, 63.28it/s, loss=60.3]\n"
          ]
        },
        {
          "output_type": "stream",
          "name": "stdout",
          "text": [
            "Epoch [501/5000]: Train loss: 57.8323, Valid loss: 41.9241\n"
          ]
        },
        {
          "output_type": "stream",
          "name": "stderr",
          "text": [
            "Epoch [502/5000]: 100%|██████████| 9/9 [00:00<00:00, 70.80it/s, loss=37.8]\n"
          ]
        },
        {
          "output_type": "stream",
          "name": "stdout",
          "text": [
            "Epoch [502/5000]: Train loss: 57.2341, Valid loss: 36.3673\n"
          ]
        },
        {
          "output_type": "stream",
          "name": "stderr",
          "text": [
            "Epoch [503/5000]: 100%|██████████| 9/9 [00:00<00:00, 52.98it/s, loss=67.7]\n"
          ]
        },
        {
          "output_type": "stream",
          "name": "stdout",
          "text": [
            "Epoch [503/5000]: Train loss: 56.2464, Valid loss: 36.2077\n"
          ]
        },
        {
          "output_type": "stream",
          "name": "stderr",
          "text": [
            "Epoch [504/5000]: 100%|██████████| 9/9 [00:00<00:00, 59.91it/s, loss=58.1]\n"
          ]
        },
        {
          "output_type": "stream",
          "name": "stdout",
          "text": [
            "Epoch [504/5000]: Train loss: 58.0380, Valid loss: 37.1395\n"
          ]
        },
        {
          "output_type": "stream",
          "name": "stderr",
          "text": [
            "Epoch [505/5000]: 100%|██████████| 9/9 [00:00<00:00, 63.54it/s, loss=51.6]\n"
          ]
        },
        {
          "output_type": "stream",
          "name": "stdout",
          "text": [
            "Epoch [505/5000]: Train loss: 54.8553, Valid loss: 43.6999\n"
          ]
        },
        {
          "output_type": "stream",
          "name": "stderr",
          "text": [
            "Epoch [506/5000]: 100%|██████████| 9/9 [00:00<00:00, 72.40it/s, loss=62.6]\n"
          ]
        },
        {
          "output_type": "stream",
          "name": "stdout",
          "text": [
            "Epoch [506/5000]: Train loss: 55.3845, Valid loss: 38.8574\n"
          ]
        },
        {
          "output_type": "stream",
          "name": "stderr",
          "text": [
            "Epoch [507/5000]: 100%|██████████| 9/9 [00:00<00:00, 63.80it/s, loss=60.9]\n"
          ]
        },
        {
          "output_type": "stream",
          "name": "stdout",
          "text": [
            "Epoch [507/5000]: Train loss: 57.2767, Valid loss: 30.1164\n",
            "Saving model with loss 30.116...\n"
          ]
        },
        {
          "output_type": "stream",
          "name": "stderr",
          "text": [
            "Epoch [508/5000]: 100%|██████████| 9/9 [00:00<00:00, 53.91it/s, loss=55.2]\n"
          ]
        },
        {
          "output_type": "stream",
          "name": "stdout",
          "text": [
            "Epoch [508/5000]: Train loss: 56.8460, Valid loss: 35.6952\n"
          ]
        },
        {
          "output_type": "stream",
          "name": "stderr",
          "text": [
            "Epoch [509/5000]: 100%|██████████| 9/9 [00:00<00:00, 64.76it/s, loss=49.7]\n"
          ]
        },
        {
          "output_type": "stream",
          "name": "stdout",
          "text": [
            "Epoch [509/5000]: Train loss: 53.7507, Valid loss: 34.4379\n"
          ]
        },
        {
          "output_type": "stream",
          "name": "stderr",
          "text": [
            "Epoch [510/5000]: 100%|██████████| 9/9 [00:00<00:00, 62.56it/s, loss=55.7]\n"
          ]
        },
        {
          "output_type": "stream",
          "name": "stdout",
          "text": [
            "Epoch [510/5000]: Train loss: 56.1432, Valid loss: 36.9674\n"
          ]
        },
        {
          "output_type": "stream",
          "name": "stderr",
          "text": [
            "Epoch [511/5000]: 100%|██████████| 9/9 [00:00<00:00, 54.70it/s, loss=52.6]\n"
          ]
        },
        {
          "output_type": "stream",
          "name": "stdout",
          "text": [
            "Epoch [511/5000]: Train loss: 54.8807, Valid loss: 38.6793\n"
          ]
        },
        {
          "output_type": "stream",
          "name": "stderr",
          "text": [
            "Epoch [512/5000]: 100%|██████████| 9/9 [00:00<00:00, 56.53it/s, loss=61.3]\n"
          ]
        },
        {
          "output_type": "stream",
          "name": "stdout",
          "text": [
            "Epoch [512/5000]: Train loss: 55.5239, Valid loss: 40.7596\n"
          ]
        },
        {
          "output_type": "stream",
          "name": "stderr",
          "text": [
            "Epoch [513/5000]: 100%|██████████| 9/9 [00:00<00:00, 59.65it/s, loss=63]\n"
          ]
        },
        {
          "output_type": "stream",
          "name": "stdout",
          "text": [
            "Epoch [513/5000]: Train loss: 56.3609, Valid loss: 43.3948\n"
          ]
        },
        {
          "output_type": "stream",
          "name": "stderr",
          "text": [
            "Epoch [514/5000]: 100%|██████████| 9/9 [00:00<00:00, 67.81it/s, loss=54.9]\n"
          ]
        },
        {
          "output_type": "stream",
          "name": "stdout",
          "text": [
            "Epoch [514/5000]: Train loss: 55.6118, Valid loss: 33.3682\n"
          ]
        },
        {
          "output_type": "stream",
          "name": "stderr",
          "text": [
            "Epoch [515/5000]: 100%|██████████| 9/9 [00:00<00:00, 54.20it/s, loss=51.1]\n"
          ]
        },
        {
          "output_type": "stream",
          "name": "stdout",
          "text": [
            "Epoch [515/5000]: Train loss: 57.8222, Valid loss: 35.5007\n"
          ]
        },
        {
          "output_type": "stream",
          "name": "stderr",
          "text": [
            "Epoch [516/5000]: 100%|██████████| 9/9 [00:00<00:00, 61.23it/s, loss=43.5]\n"
          ]
        },
        {
          "output_type": "stream",
          "name": "stdout",
          "text": [
            "Epoch [516/5000]: Train loss: 53.6750, Valid loss: 40.1257\n"
          ]
        },
        {
          "output_type": "stream",
          "name": "stderr",
          "text": [
            "Epoch [517/5000]: 100%|██████████| 9/9 [00:00<00:00, 64.94it/s, loss=42.7]\n"
          ]
        },
        {
          "output_type": "stream",
          "name": "stdout",
          "text": [
            "Epoch [517/5000]: Train loss: 53.8088, Valid loss: 41.4442\n"
          ]
        },
        {
          "output_type": "stream",
          "name": "stderr",
          "text": [
            "Epoch [518/5000]: 100%|██████████| 9/9 [00:00<00:00, 57.31it/s, loss=55.9]\n"
          ]
        },
        {
          "output_type": "stream",
          "name": "stdout",
          "text": [
            "Epoch [518/5000]: Train loss: 55.0289, Valid loss: 40.6742\n"
          ]
        },
        {
          "output_type": "stream",
          "name": "stderr",
          "text": [
            "Epoch [519/5000]: 100%|██████████| 9/9 [00:00<00:00, 55.71it/s, loss=58.3]\n"
          ]
        },
        {
          "output_type": "stream",
          "name": "stdout",
          "text": [
            "Epoch [519/5000]: Train loss: 56.8631, Valid loss: 34.3845\n"
          ]
        },
        {
          "output_type": "stream",
          "name": "stderr",
          "text": [
            "Epoch [520/5000]: 100%|██████████| 9/9 [00:00<00:00, 62.68it/s, loss=58.5]\n"
          ]
        },
        {
          "output_type": "stream",
          "name": "stdout",
          "text": [
            "Epoch [520/5000]: Train loss: 58.7086, Valid loss: 35.0905\n"
          ]
        },
        {
          "output_type": "stream",
          "name": "stderr",
          "text": [
            "Epoch [521/5000]: 100%|██████████| 9/9 [00:00<00:00, 70.77it/s, loss=37.9]\n"
          ]
        },
        {
          "output_type": "stream",
          "name": "stdout",
          "text": [
            "Epoch [521/5000]: Train loss: 54.1256, Valid loss: 45.2692\n"
          ]
        },
        {
          "output_type": "stream",
          "name": "stderr",
          "text": [
            "Epoch [522/5000]: 100%|██████████| 9/9 [00:00<00:00, 59.19it/s, loss=49.6]\n"
          ]
        },
        {
          "output_type": "stream",
          "name": "stdout",
          "text": [
            "Epoch [522/5000]: Train loss: 55.5287, Valid loss: 31.8131\n"
          ]
        },
        {
          "output_type": "stream",
          "name": "stderr",
          "text": [
            "Epoch [523/5000]: 100%|██████████| 9/9 [00:00<00:00, 57.52it/s, loss=58.9]\n"
          ]
        },
        {
          "output_type": "stream",
          "name": "stdout",
          "text": [
            "Epoch [523/5000]: Train loss: 55.7146, Valid loss: 33.6547\n"
          ]
        },
        {
          "output_type": "stream",
          "name": "stderr",
          "text": [
            "Epoch [524/5000]: 100%|██████████| 9/9 [00:00<00:00, 52.91it/s, loss=52.3]\n"
          ]
        },
        {
          "output_type": "stream",
          "name": "stdout",
          "text": [
            "Epoch [524/5000]: Train loss: 53.7120, Valid loss: 40.3772\n"
          ]
        },
        {
          "output_type": "stream",
          "name": "stderr",
          "text": [
            "Epoch [525/5000]: 100%|██████████| 9/9 [00:00<00:00, 58.45it/s, loss=60.6]\n"
          ]
        },
        {
          "output_type": "stream",
          "name": "stdout",
          "text": [
            "Epoch [525/5000]: Train loss: 56.9873, Valid loss: 32.5002\n"
          ]
        },
        {
          "output_type": "stream",
          "name": "stderr",
          "text": [
            "Epoch [526/5000]: 100%|██████████| 9/9 [00:00<00:00, 54.26it/s, loss=48.9]\n"
          ]
        },
        {
          "output_type": "stream",
          "name": "stdout",
          "text": [
            "Epoch [526/5000]: Train loss: 53.7247, Valid loss: 40.4982\n"
          ]
        },
        {
          "output_type": "stream",
          "name": "stderr",
          "text": [
            "Epoch [527/5000]: 100%|██████████| 9/9 [00:00<00:00, 57.50it/s, loss=48.1]\n"
          ]
        },
        {
          "output_type": "stream",
          "name": "stdout",
          "text": [
            "Epoch [527/5000]: Train loss: 51.0887, Valid loss: 37.0165\n"
          ]
        },
        {
          "output_type": "stream",
          "name": "stderr",
          "text": [
            "Epoch [528/5000]: 100%|██████████| 9/9 [00:00<00:00, 60.24it/s, loss=58.5]\n"
          ]
        },
        {
          "output_type": "stream",
          "name": "stdout",
          "text": [
            "Epoch [528/5000]: Train loss: 54.9390, Valid loss: 35.8018\n"
          ]
        },
        {
          "output_type": "stream",
          "name": "stderr",
          "text": [
            "Epoch [529/5000]: 100%|██████████| 9/9 [00:00<00:00, 69.51it/s, loss=70.2]\n"
          ]
        },
        {
          "output_type": "stream",
          "name": "stdout",
          "text": [
            "Epoch [529/5000]: Train loss: 54.0734, Valid loss: 34.2451\n"
          ]
        },
        {
          "output_type": "stream",
          "name": "stderr",
          "text": [
            "Epoch [530/5000]: 100%|██████████| 9/9 [00:00<00:00, 56.36it/s, loss=56.6]\n"
          ]
        },
        {
          "output_type": "stream",
          "name": "stdout",
          "text": [
            "Epoch [530/5000]: Train loss: 56.7415, Valid loss: 37.6959\n"
          ]
        },
        {
          "output_type": "stream",
          "name": "stderr",
          "text": [
            "Epoch [531/5000]: 100%|██████████| 9/9 [00:00<00:00, 64.95it/s, loss=44.3]\n"
          ]
        },
        {
          "output_type": "stream",
          "name": "stdout",
          "text": [
            "Epoch [531/5000]: Train loss: 51.6818, Valid loss: 35.5670\n"
          ]
        },
        {
          "output_type": "stream",
          "name": "stderr",
          "text": [
            "Epoch [532/5000]: 100%|██████████| 9/9 [00:00<00:00, 66.82it/s, loss=49.8]\n"
          ]
        },
        {
          "output_type": "stream",
          "name": "stdout",
          "text": [
            "Epoch [532/5000]: Train loss: 53.8458, Valid loss: 37.5328\n"
          ]
        },
        {
          "output_type": "stream",
          "name": "stderr",
          "text": [
            "Epoch [533/5000]: 100%|██████████| 9/9 [00:00<00:00, 57.47it/s, loss=50.3]\n"
          ]
        },
        {
          "output_type": "stream",
          "name": "stdout",
          "text": [
            "Epoch [533/5000]: Train loss: 55.0601, Valid loss: 37.0356\n"
          ]
        },
        {
          "output_type": "stream",
          "name": "stderr",
          "text": [
            "Epoch [534/5000]: 100%|██████████| 9/9 [00:00<00:00, 74.90it/s, loss=47.7]\n"
          ]
        },
        {
          "output_type": "stream",
          "name": "stdout",
          "text": [
            "Epoch [534/5000]: Train loss: 51.7926, Valid loss: 31.0897\n"
          ]
        },
        {
          "output_type": "stream",
          "name": "stderr",
          "text": [
            "Epoch [535/5000]: 100%|██████████| 9/9 [00:00<00:00, 79.04it/s, loss=51.8]\n"
          ]
        },
        {
          "output_type": "stream",
          "name": "stdout",
          "text": [
            "Epoch [535/5000]: Train loss: 55.5888, Valid loss: 35.3570\n"
          ]
        },
        {
          "output_type": "stream",
          "name": "stderr",
          "text": [
            "Epoch [536/5000]: 100%|██████████| 9/9 [00:00<00:00, 69.25it/s, loss=68.3]\n"
          ]
        },
        {
          "output_type": "stream",
          "name": "stdout",
          "text": [
            "Epoch [536/5000]: Train loss: 53.2149, Valid loss: 43.7829\n"
          ]
        },
        {
          "output_type": "stream",
          "name": "stderr",
          "text": [
            "Epoch [537/5000]: 100%|██████████| 9/9 [00:00<00:00, 72.05it/s, loss=56.5]\n"
          ]
        },
        {
          "output_type": "stream",
          "name": "stdout",
          "text": [
            "Epoch [537/5000]: Train loss: 56.0796, Valid loss: 37.3591\n"
          ]
        },
        {
          "output_type": "stream",
          "name": "stderr",
          "text": [
            "Epoch [538/5000]: 100%|██████████| 9/9 [00:00<00:00, 65.33it/s, loss=52.8]\n"
          ]
        },
        {
          "output_type": "stream",
          "name": "stdout",
          "text": [
            "Epoch [538/5000]: Train loss: 53.2925, Valid loss: 40.0057\n"
          ]
        },
        {
          "output_type": "stream",
          "name": "stderr",
          "text": [
            "Epoch [539/5000]: 100%|██████████| 9/9 [00:00<00:00, 55.27it/s, loss=51.3]\n"
          ]
        },
        {
          "output_type": "stream",
          "name": "stdout",
          "text": [
            "Epoch [539/5000]: Train loss: 54.6790, Valid loss: 41.7869\n"
          ]
        },
        {
          "output_type": "stream",
          "name": "stderr",
          "text": [
            "Epoch [540/5000]: 100%|██████████| 9/9 [00:00<00:00, 63.74it/s, loss=60.7]\n"
          ]
        },
        {
          "output_type": "stream",
          "name": "stdout",
          "text": [
            "Epoch [540/5000]: Train loss: 56.0527, Valid loss: 34.1308\n"
          ]
        },
        {
          "output_type": "stream",
          "name": "stderr",
          "text": [
            "Epoch [541/5000]: 100%|██████████| 9/9 [00:00<00:00, 64.03it/s, loss=53.3]\n"
          ]
        },
        {
          "output_type": "stream",
          "name": "stdout",
          "text": [
            "Epoch [541/5000]: Train loss: 54.3794, Valid loss: 36.8338\n"
          ]
        },
        {
          "output_type": "stream",
          "name": "stderr",
          "text": [
            "Epoch [542/5000]: 100%|██████████| 9/9 [00:00<00:00, 59.33it/s, loss=44.3]\n"
          ]
        },
        {
          "output_type": "stream",
          "name": "stdout",
          "text": [
            "Epoch [542/5000]: Train loss: 51.7038, Valid loss: 38.7828\n"
          ]
        },
        {
          "output_type": "stream",
          "name": "stderr",
          "text": [
            "Epoch [543/5000]: 100%|██████████| 9/9 [00:00<00:00, 65.48it/s, loss=54.6]\n"
          ]
        },
        {
          "output_type": "stream",
          "name": "stdout",
          "text": [
            "Epoch [543/5000]: Train loss: 53.2460, Valid loss: 42.1591\n"
          ]
        },
        {
          "output_type": "stream",
          "name": "stderr",
          "text": [
            "Epoch [544/5000]: 100%|██████████| 9/9 [00:00<00:00, 57.94it/s, loss=65]\n"
          ]
        },
        {
          "output_type": "stream",
          "name": "stdout",
          "text": [
            "Epoch [544/5000]: Train loss: 55.1852, Valid loss: 36.7123\n"
          ]
        },
        {
          "output_type": "stream",
          "name": "stderr",
          "text": [
            "Epoch [545/5000]: 100%|██████████| 9/9 [00:00<00:00, 69.78it/s, loss=44.5]\n"
          ]
        },
        {
          "output_type": "stream",
          "name": "stdout",
          "text": [
            "Epoch [545/5000]: Train loss: 49.7236, Valid loss: 37.9396\n"
          ]
        },
        {
          "output_type": "stream",
          "name": "stderr",
          "text": [
            "Epoch [546/5000]: 100%|██████████| 9/9 [00:00<00:00, 68.76it/s, loss=60.8]\n"
          ]
        },
        {
          "output_type": "stream",
          "name": "stdout",
          "text": [
            "Epoch [546/5000]: Train loss: 53.2512, Valid loss: 42.0040\n"
          ]
        },
        {
          "output_type": "stream",
          "name": "stderr",
          "text": [
            "Epoch [547/5000]: 100%|██████████| 9/9 [00:00<00:00, 74.20it/s, loss=45.3]\n"
          ]
        },
        {
          "output_type": "stream",
          "name": "stdout",
          "text": [
            "Epoch [547/5000]: Train loss: 52.9423, Valid loss: 36.6891\n"
          ]
        },
        {
          "output_type": "stream",
          "name": "stderr",
          "text": [
            "Epoch [548/5000]: 100%|██████████| 9/9 [00:00<00:00, 73.19it/s, loss=53.1]\n"
          ]
        },
        {
          "output_type": "stream",
          "name": "stdout",
          "text": [
            "Epoch [548/5000]: Train loss: 51.2326, Valid loss: 41.9302\n"
          ]
        },
        {
          "output_type": "stream",
          "name": "stderr",
          "text": [
            "Epoch [549/5000]: 100%|██████████| 9/9 [00:00<00:00, 71.96it/s, loss=61.7]\n"
          ]
        },
        {
          "output_type": "stream",
          "name": "stdout",
          "text": [
            "Epoch [549/5000]: Train loss: 52.3321, Valid loss: 33.9385\n"
          ]
        },
        {
          "output_type": "stream",
          "name": "stderr",
          "text": [
            "Epoch [550/5000]: 100%|██████████| 9/9 [00:00<00:00, 59.25it/s, loss=41.7]\n"
          ]
        },
        {
          "output_type": "stream",
          "name": "stdout",
          "text": [
            "Epoch [550/5000]: Train loss: 55.4188, Valid loss: 35.0241\n"
          ]
        },
        {
          "output_type": "stream",
          "name": "stderr",
          "text": [
            "Epoch [551/5000]: 100%|██████████| 9/9 [00:00<00:00, 52.81it/s, loss=48.7]\n"
          ]
        },
        {
          "output_type": "stream",
          "name": "stdout",
          "text": [
            "Epoch [551/5000]: Train loss: 52.9721, Valid loss: 36.0368\n"
          ]
        },
        {
          "output_type": "stream",
          "name": "stderr",
          "text": [
            "Epoch [552/5000]: 100%|██████████| 9/9 [00:00<00:00, 54.35it/s, loss=47.2]\n"
          ]
        },
        {
          "output_type": "stream",
          "name": "stdout",
          "text": [
            "Epoch [552/5000]: Train loss: 51.7575, Valid loss: 43.2711\n"
          ]
        },
        {
          "output_type": "stream",
          "name": "stderr",
          "text": [
            "Epoch [553/5000]: 100%|██████████| 9/9 [00:00<00:00, 58.28it/s, loss=73.4]\n"
          ]
        },
        {
          "output_type": "stream",
          "name": "stdout",
          "text": [
            "Epoch [553/5000]: Train loss: 53.6099, Valid loss: 34.9521\n"
          ]
        },
        {
          "output_type": "stream",
          "name": "stderr",
          "text": [
            "Epoch [554/5000]: 100%|██████████| 9/9 [00:00<00:00, 63.36it/s, loss=50.7]\n"
          ]
        },
        {
          "output_type": "stream",
          "name": "stdout",
          "text": [
            "Epoch [554/5000]: Train loss: 54.1358, Valid loss: 37.5676\n"
          ]
        },
        {
          "output_type": "stream",
          "name": "stderr",
          "text": [
            "Epoch [555/5000]: 100%|██████████| 9/9 [00:00<00:00, 52.00it/s, loss=58.5]\n"
          ]
        },
        {
          "output_type": "stream",
          "name": "stdout",
          "text": [
            "Epoch [555/5000]: Train loss: 53.5457, Valid loss: 30.5649\n"
          ]
        },
        {
          "output_type": "stream",
          "name": "stderr",
          "text": [
            "Epoch [556/5000]: 100%|██████████| 9/9 [00:00<00:00, 69.76it/s, loss=53.5]\n"
          ]
        },
        {
          "output_type": "stream",
          "name": "stdout",
          "text": [
            "Epoch [556/5000]: Train loss: 52.1895, Valid loss: 37.2580\n"
          ]
        },
        {
          "output_type": "stream",
          "name": "stderr",
          "text": [
            "Epoch [557/5000]: 100%|██████████| 9/9 [00:00<00:00, 57.14it/s, loss=58.9]\n"
          ]
        },
        {
          "output_type": "stream",
          "name": "stdout",
          "text": [
            "Epoch [557/5000]: Train loss: 52.9668, Valid loss: 31.0533\n"
          ]
        },
        {
          "output_type": "stream",
          "name": "stderr",
          "text": [
            "Epoch [558/5000]: 100%|██████████| 9/9 [00:00<00:00, 65.53it/s, loss=45.6]\n"
          ]
        },
        {
          "output_type": "stream",
          "name": "stdout",
          "text": [
            "Epoch [558/5000]: Train loss: 49.5746, Valid loss: 32.9228\n"
          ]
        },
        {
          "output_type": "stream",
          "name": "stderr",
          "text": [
            "Epoch [559/5000]: 100%|██████████| 9/9 [00:00<00:00, 77.01it/s, loss=56.4]\n"
          ]
        },
        {
          "output_type": "stream",
          "name": "stdout",
          "text": [
            "Epoch [559/5000]: Train loss: 54.4095, Valid loss: 35.7204\n"
          ]
        },
        {
          "output_type": "stream",
          "name": "stderr",
          "text": [
            "Epoch [560/5000]: 100%|██████████| 9/9 [00:00<00:00, 54.65it/s, loss=43.6]\n"
          ]
        },
        {
          "output_type": "stream",
          "name": "stdout",
          "text": [
            "Epoch [560/5000]: Train loss: 53.1083, Valid loss: 36.6224\n"
          ]
        },
        {
          "output_type": "stream",
          "name": "stderr",
          "text": [
            "Epoch [561/5000]: 100%|██████████| 9/9 [00:00<00:00, 55.02it/s, loss=43.9]\n"
          ]
        },
        {
          "output_type": "stream",
          "name": "stdout",
          "text": [
            "Epoch [561/5000]: Train loss: 51.0963, Valid loss: 34.9335\n"
          ]
        },
        {
          "output_type": "stream",
          "name": "stderr",
          "text": [
            "Epoch [562/5000]: 100%|██████████| 9/9 [00:00<00:00, 62.32it/s, loss=58.7]\n"
          ]
        },
        {
          "output_type": "stream",
          "name": "stdout",
          "text": [
            "Epoch [562/5000]: Train loss: 51.0355, Valid loss: 33.6968\n"
          ]
        },
        {
          "output_type": "stream",
          "name": "stderr",
          "text": [
            "Epoch [563/5000]: 100%|██████████| 9/9 [00:00<00:00, 59.89it/s, loss=53.3]\n"
          ]
        },
        {
          "output_type": "stream",
          "name": "stdout",
          "text": [
            "Epoch [563/5000]: Train loss: 53.3920, Valid loss: 42.3460\n"
          ]
        },
        {
          "output_type": "stream",
          "name": "stderr",
          "text": [
            "Epoch [564/5000]: 100%|██████████| 9/9 [00:00<00:00, 73.36it/s, loss=47]\n"
          ]
        },
        {
          "output_type": "stream",
          "name": "stdout",
          "text": [
            "Epoch [564/5000]: Train loss: 50.2690, Valid loss: 35.0476\n"
          ]
        },
        {
          "output_type": "stream",
          "name": "stderr",
          "text": [
            "Epoch [565/5000]: 100%|██████████| 9/9 [00:00<00:00, 75.61it/s, loss=50.1]\n"
          ]
        },
        {
          "output_type": "stream",
          "name": "stdout",
          "text": [
            "Epoch [565/5000]: Train loss: 52.1824, Valid loss: 35.2046\n"
          ]
        },
        {
          "output_type": "stream",
          "name": "stderr",
          "text": [
            "Epoch [566/5000]: 100%|██████████| 9/9 [00:00<00:00, 60.97it/s, loss=52.4]\n"
          ]
        },
        {
          "output_type": "stream",
          "name": "stdout",
          "text": [
            "Epoch [566/5000]: Train loss: 50.8813, Valid loss: 34.5853\n"
          ]
        },
        {
          "output_type": "stream",
          "name": "stderr",
          "text": [
            "Epoch [567/5000]: 100%|██████████| 9/9 [00:00<00:00, 65.04it/s, loss=52.1]\n"
          ]
        },
        {
          "output_type": "stream",
          "name": "stdout",
          "text": [
            "Epoch [567/5000]: Train loss: 53.1563, Valid loss: 37.2409\n"
          ]
        },
        {
          "output_type": "stream",
          "name": "stderr",
          "text": [
            "Epoch [568/5000]: 100%|██████████| 9/9 [00:00<00:00, 59.71it/s, loss=51.9]\n"
          ]
        },
        {
          "output_type": "stream",
          "name": "stdout",
          "text": [
            "Epoch [568/5000]: Train loss: 52.3839, Valid loss: 30.4552\n"
          ]
        },
        {
          "output_type": "stream",
          "name": "stderr",
          "text": [
            "Epoch [569/5000]: 100%|██████████| 9/9 [00:00<00:00, 50.75it/s, loss=59.8]\n"
          ]
        },
        {
          "output_type": "stream",
          "name": "stdout",
          "text": [
            "Epoch [569/5000]: Train loss: 51.3751, Valid loss: 34.8944\n"
          ]
        },
        {
          "output_type": "stream",
          "name": "stderr",
          "text": [
            "Epoch [570/5000]: 100%|██████████| 9/9 [00:00<00:00, 73.43it/s, loss=48.1]\n"
          ]
        },
        {
          "output_type": "stream",
          "name": "stdout",
          "text": [
            "Epoch [570/5000]: Train loss: 51.0022, Valid loss: 28.4313\n",
            "Saving model with loss 28.431...\n"
          ]
        },
        {
          "output_type": "stream",
          "name": "stderr",
          "text": [
            "Epoch [571/5000]: 100%|██████████| 9/9 [00:00<00:00, 55.69it/s, loss=39.6]\n"
          ]
        },
        {
          "output_type": "stream",
          "name": "stdout",
          "text": [
            "Epoch [571/5000]: Train loss: 50.7712, Valid loss: 31.0203\n"
          ]
        },
        {
          "output_type": "stream",
          "name": "stderr",
          "text": [
            "Epoch [572/5000]: 100%|██████████| 9/9 [00:00<00:00, 58.75it/s, loss=43.3]\n"
          ]
        },
        {
          "output_type": "stream",
          "name": "stdout",
          "text": [
            "Epoch [572/5000]: Train loss: 51.3104, Valid loss: 33.1731\n"
          ]
        },
        {
          "output_type": "stream",
          "name": "stderr",
          "text": [
            "Epoch [573/5000]: 100%|██████████| 9/9 [00:00<00:00, 22.34it/s, loss=46.2]\n"
          ]
        },
        {
          "output_type": "stream",
          "name": "stdout",
          "text": [
            "Epoch [573/5000]: Train loss: 50.7833, Valid loss: 32.5012\n"
          ]
        },
        {
          "output_type": "stream",
          "name": "stderr",
          "text": [
            "Epoch [574/5000]: 100%|██████████| 9/9 [00:00<00:00, 56.48it/s, loss=56.5]\n"
          ]
        },
        {
          "output_type": "stream",
          "name": "stdout",
          "text": [
            "Epoch [574/5000]: Train loss: 51.3566, Valid loss: 30.6535\n"
          ]
        },
        {
          "output_type": "stream",
          "name": "stderr",
          "text": [
            "Epoch [575/5000]: 100%|██████████| 9/9 [00:00<00:00, 70.56it/s, loss=44.7]\n"
          ]
        },
        {
          "output_type": "stream",
          "name": "stdout",
          "text": [
            "Epoch [575/5000]: Train loss: 49.3602, Valid loss: 39.2860\n"
          ]
        },
        {
          "output_type": "stream",
          "name": "stderr",
          "text": [
            "Epoch [576/5000]: 100%|██████████| 9/9 [00:00<00:00, 74.87it/s, loss=49.4]\n"
          ]
        },
        {
          "output_type": "stream",
          "name": "stdout",
          "text": [
            "Epoch [576/5000]: Train loss: 51.2407, Valid loss: 36.6669\n"
          ]
        },
        {
          "output_type": "stream",
          "name": "stderr",
          "text": [
            "Epoch [577/5000]: 100%|██████████| 9/9 [00:00<00:00, 69.66it/s, loss=50.8]\n"
          ]
        },
        {
          "output_type": "stream",
          "name": "stdout",
          "text": [
            "Epoch [577/5000]: Train loss: 51.5507, Valid loss: 34.9602\n"
          ]
        },
        {
          "output_type": "stream",
          "name": "stderr",
          "text": [
            "Epoch [578/5000]: 100%|██████████| 9/9 [00:00<00:00, 71.03it/s, loss=47.1]\n"
          ]
        },
        {
          "output_type": "stream",
          "name": "stdout",
          "text": [
            "Epoch [578/5000]: Train loss: 51.3516, Valid loss: 32.0698\n"
          ]
        },
        {
          "output_type": "stream",
          "name": "stderr",
          "text": [
            "Epoch [579/5000]: 100%|██████████| 9/9 [00:00<00:00, 68.42it/s, loss=48.4]\n"
          ]
        },
        {
          "output_type": "stream",
          "name": "stdout",
          "text": [
            "Epoch [579/5000]: Train loss: 51.7913, Valid loss: 36.8831\n"
          ]
        },
        {
          "output_type": "stream",
          "name": "stderr",
          "text": [
            "Epoch [580/5000]: 100%|██████████| 9/9 [00:00<00:00, 65.13it/s, loss=57.2]\n"
          ]
        },
        {
          "output_type": "stream",
          "name": "stdout",
          "text": [
            "Epoch [580/5000]: Train loss: 51.9122, Valid loss: 31.1339\n"
          ]
        },
        {
          "output_type": "stream",
          "name": "stderr",
          "text": [
            "Epoch [581/5000]: 100%|██████████| 9/9 [00:00<00:00, 65.63it/s, loss=47.7]\n"
          ]
        },
        {
          "output_type": "stream",
          "name": "stdout",
          "text": [
            "Epoch [581/5000]: Train loss: 50.6690, Valid loss: 29.4558\n"
          ]
        },
        {
          "output_type": "stream",
          "name": "stderr",
          "text": [
            "Epoch [582/5000]: 100%|██████████| 9/9 [00:00<00:00, 56.56it/s, loss=58.9]\n"
          ]
        },
        {
          "output_type": "stream",
          "name": "stdout",
          "text": [
            "Epoch [582/5000]: Train loss: 51.3442, Valid loss: 31.5971\n"
          ]
        },
        {
          "output_type": "stream",
          "name": "stderr",
          "text": [
            "Epoch [583/5000]: 100%|██████████| 9/9 [00:00<00:00, 62.20it/s, loss=52.8]\n"
          ]
        },
        {
          "output_type": "stream",
          "name": "stdout",
          "text": [
            "Epoch [583/5000]: Train loss: 50.7569, Valid loss: 37.1845\n"
          ]
        },
        {
          "output_type": "stream",
          "name": "stderr",
          "text": [
            "Epoch [584/5000]: 100%|██████████| 9/9 [00:00<00:00, 57.76it/s, loss=49.2]\n"
          ]
        },
        {
          "output_type": "stream",
          "name": "stdout",
          "text": [
            "Epoch [584/5000]: Train loss: 49.7822, Valid loss: 41.4818\n"
          ]
        },
        {
          "output_type": "stream",
          "name": "stderr",
          "text": [
            "Epoch [585/5000]: 100%|██████████| 9/9 [00:00<00:00, 78.50it/s, loss=71.1]\n"
          ]
        },
        {
          "output_type": "stream",
          "name": "stdout",
          "text": [
            "Epoch [585/5000]: Train loss: 54.4473, Valid loss: 29.2231\n"
          ]
        },
        {
          "output_type": "stream",
          "name": "stderr",
          "text": [
            "Epoch [586/5000]: 100%|██████████| 9/9 [00:00<00:00, 61.72it/s, loss=40.1]\n"
          ]
        },
        {
          "output_type": "stream",
          "name": "stdout",
          "text": [
            "Epoch [586/5000]: Train loss: 47.6805, Valid loss: 33.7518\n"
          ]
        },
        {
          "output_type": "stream",
          "name": "stderr",
          "text": [
            "Epoch [587/5000]: 100%|██████████| 9/9 [00:00<00:00, 56.94it/s, loss=51.9]\n"
          ]
        },
        {
          "output_type": "stream",
          "name": "stdout",
          "text": [
            "Epoch [587/5000]: Train loss: 51.9866, Valid loss: 34.7082\n"
          ]
        },
        {
          "output_type": "stream",
          "name": "stderr",
          "text": [
            "Epoch [588/5000]: 100%|██████████| 9/9 [00:00<00:00, 65.48it/s, loss=56.4]\n"
          ]
        },
        {
          "output_type": "stream",
          "name": "stdout",
          "text": [
            "Epoch [588/5000]: Train loss: 51.6336, Valid loss: 31.2644\n"
          ]
        },
        {
          "output_type": "stream",
          "name": "stderr",
          "text": [
            "Epoch [589/5000]: 100%|██████████| 9/9 [00:00<00:00, 59.40it/s, loss=41.9]\n"
          ]
        },
        {
          "output_type": "stream",
          "name": "stdout",
          "text": [
            "Epoch [589/5000]: Train loss: 49.9294, Valid loss: 34.3775\n"
          ]
        },
        {
          "output_type": "stream",
          "name": "stderr",
          "text": [
            "Epoch [590/5000]: 100%|██████████| 9/9 [00:00<00:00, 59.05it/s, loss=47.3]\n"
          ]
        },
        {
          "output_type": "stream",
          "name": "stdout",
          "text": [
            "Epoch [590/5000]: Train loss: 50.6496, Valid loss: 29.9816\n"
          ]
        },
        {
          "output_type": "stream",
          "name": "stderr",
          "text": [
            "Epoch [591/5000]: 100%|██████████| 9/9 [00:00<00:00, 56.94it/s, loss=62.3]\n"
          ]
        },
        {
          "output_type": "stream",
          "name": "stdout",
          "text": [
            "Epoch [591/5000]: Train loss: 50.9757, Valid loss: 30.4781\n"
          ]
        },
        {
          "output_type": "stream",
          "name": "stderr",
          "text": [
            "Epoch [592/5000]: 100%|██████████| 9/9 [00:00<00:00, 62.39it/s, loss=45.8]\n"
          ]
        },
        {
          "output_type": "stream",
          "name": "stdout",
          "text": [
            "Epoch [592/5000]: Train loss: 51.4871, Valid loss: 37.2319\n"
          ]
        },
        {
          "output_type": "stream",
          "name": "stderr",
          "text": [
            "Epoch [593/5000]: 100%|██████████| 9/9 [00:00<00:00, 59.77it/s, loss=72.1]\n"
          ]
        },
        {
          "output_type": "stream",
          "name": "stdout",
          "text": [
            "Epoch [593/5000]: Train loss: 52.2572, Valid loss: 34.0233\n"
          ]
        },
        {
          "output_type": "stream",
          "name": "stderr",
          "text": [
            "Epoch [594/5000]: 100%|██████████| 9/9 [00:00<00:00, 58.99it/s, loss=48.4]\n"
          ]
        },
        {
          "output_type": "stream",
          "name": "stdout",
          "text": [
            "Epoch [594/5000]: Train loss: 49.4346, Valid loss: 32.4288\n"
          ]
        },
        {
          "output_type": "stream",
          "name": "stderr",
          "text": [
            "Epoch [595/5000]: 100%|██████████| 9/9 [00:00<00:00, 70.02it/s, loss=35.8]\n"
          ]
        },
        {
          "output_type": "stream",
          "name": "stdout",
          "text": [
            "Epoch [595/5000]: Train loss: 49.7602, Valid loss: 36.8878\n"
          ]
        },
        {
          "output_type": "stream",
          "name": "stderr",
          "text": [
            "Epoch [596/5000]: 100%|██████████| 9/9 [00:00<00:00, 69.14it/s, loss=56.7]\n"
          ]
        },
        {
          "output_type": "stream",
          "name": "stdout",
          "text": [
            "Epoch [596/5000]: Train loss: 49.3040, Valid loss: 38.1084\n"
          ]
        },
        {
          "output_type": "stream",
          "name": "stderr",
          "text": [
            "Epoch [597/5000]: 100%|██████████| 9/9 [00:00<00:00, 64.14it/s, loss=48.7]\n"
          ]
        },
        {
          "output_type": "stream",
          "name": "stdout",
          "text": [
            "Epoch [597/5000]: Train loss: 51.1150, Valid loss: 32.6542\n"
          ]
        },
        {
          "output_type": "stream",
          "name": "stderr",
          "text": [
            "Epoch [598/5000]: 100%|██████████| 9/9 [00:00<00:00, 68.67it/s, loss=38.2]\n"
          ]
        },
        {
          "output_type": "stream",
          "name": "stdout",
          "text": [
            "Epoch [598/5000]: Train loss: 49.4414, Valid loss: 34.3848\n"
          ]
        },
        {
          "output_type": "stream",
          "name": "stderr",
          "text": [
            "Epoch [599/5000]: 100%|██████████| 9/9 [00:00<00:00, 60.27it/s, loss=53]\n"
          ]
        },
        {
          "output_type": "stream",
          "name": "stdout",
          "text": [
            "Epoch [599/5000]: Train loss: 50.1852, Valid loss: 31.4326\n"
          ]
        },
        {
          "output_type": "stream",
          "name": "stderr",
          "text": [
            "Epoch [600/5000]: 100%|██████████| 9/9 [00:00<00:00, 70.66it/s, loss=46]\n"
          ]
        },
        {
          "output_type": "stream",
          "name": "stdout",
          "text": [
            "Epoch [600/5000]: Train loss: 50.2150, Valid loss: 30.9805\n"
          ]
        },
        {
          "output_type": "stream",
          "name": "stderr",
          "text": [
            "Epoch [601/5000]: 100%|██████████| 9/9 [00:00<00:00, 65.90it/s, loss=43]\n"
          ]
        },
        {
          "output_type": "stream",
          "name": "stdout",
          "text": [
            "Epoch [601/5000]: Train loss: 49.2674, Valid loss: 33.1260\n"
          ]
        },
        {
          "output_type": "stream",
          "name": "stderr",
          "text": [
            "Epoch [602/5000]: 100%|██████████| 9/9 [00:00<00:00, 69.64it/s, loss=55.2]\n"
          ]
        },
        {
          "output_type": "stream",
          "name": "stdout",
          "text": [
            "Epoch [602/5000]: Train loss: 50.2903, Valid loss: 39.0841\n"
          ]
        },
        {
          "output_type": "stream",
          "name": "stderr",
          "text": [
            "Epoch [603/5000]: 100%|██████████| 9/9 [00:00<00:00, 67.87it/s, loss=45.6]\n"
          ]
        },
        {
          "output_type": "stream",
          "name": "stdout",
          "text": [
            "Epoch [603/5000]: Train loss: 49.6349, Valid loss: 34.6629\n"
          ]
        },
        {
          "output_type": "stream",
          "name": "stderr",
          "text": [
            "Epoch [604/5000]: 100%|██████████| 9/9 [00:00<00:00, 70.21it/s, loss=54.9]\n"
          ]
        },
        {
          "output_type": "stream",
          "name": "stdout",
          "text": [
            "Epoch [604/5000]: Train loss: 49.5692, Valid loss: 33.5818\n"
          ]
        },
        {
          "output_type": "stream",
          "name": "stderr",
          "text": [
            "Epoch [605/5000]: 100%|██████████| 9/9 [00:00<00:00, 69.30it/s, loss=49.2]\n"
          ]
        },
        {
          "output_type": "stream",
          "name": "stdout",
          "text": [
            "Epoch [605/5000]: Train loss: 50.5552, Valid loss: 36.1560\n"
          ]
        },
        {
          "output_type": "stream",
          "name": "stderr",
          "text": [
            "Epoch [606/5000]: 100%|██████████| 9/9 [00:00<00:00, 68.47it/s, loss=31.1]\n"
          ]
        },
        {
          "output_type": "stream",
          "name": "stdout",
          "text": [
            "Epoch [606/5000]: Train loss: 47.7645, Valid loss: 34.2076\n"
          ]
        },
        {
          "output_type": "stream",
          "name": "stderr",
          "text": [
            "Epoch [607/5000]: 100%|██████████| 9/9 [00:00<00:00, 70.40it/s, loss=56.8]\n"
          ]
        },
        {
          "output_type": "stream",
          "name": "stdout",
          "text": [
            "Epoch [607/5000]: Train loss: 49.9604, Valid loss: 34.3772\n"
          ]
        },
        {
          "output_type": "stream",
          "name": "stderr",
          "text": [
            "Epoch [608/5000]: 100%|██████████| 9/9 [00:00<00:00, 71.77it/s, loss=58.6]\n"
          ]
        },
        {
          "output_type": "stream",
          "name": "stdout",
          "text": [
            "Epoch [608/5000]: Train loss: 51.2368, Valid loss: 28.2520\n",
            "Saving model with loss 28.252...\n"
          ]
        },
        {
          "output_type": "stream",
          "name": "stderr",
          "text": [
            "Epoch [609/5000]: 100%|██████████| 9/9 [00:00<00:00, 72.60it/s, loss=51.8]\n"
          ]
        },
        {
          "output_type": "stream",
          "name": "stdout",
          "text": [
            "Epoch [609/5000]: Train loss: 48.7136, Valid loss: 33.4243\n"
          ]
        },
        {
          "output_type": "stream",
          "name": "stderr",
          "text": [
            "Epoch [610/5000]: 100%|██████████| 9/9 [00:00<00:00, 70.94it/s, loss=48.8]\n"
          ]
        },
        {
          "output_type": "stream",
          "name": "stdout",
          "text": [
            "Epoch [610/5000]: Train loss: 48.3439, Valid loss: 30.9106\n"
          ]
        },
        {
          "output_type": "stream",
          "name": "stderr",
          "text": [
            "Epoch [611/5000]: 100%|██████████| 9/9 [00:00<00:00, 58.14it/s, loss=33.4]\n"
          ]
        },
        {
          "output_type": "stream",
          "name": "stdout",
          "text": [
            "Epoch [611/5000]: Train loss: 47.7671, Valid loss: 32.2374\n"
          ]
        },
        {
          "output_type": "stream",
          "name": "stderr",
          "text": [
            "Epoch [612/5000]: 100%|██████████| 9/9 [00:00<00:00, 63.93it/s, loss=51.1]\n"
          ]
        },
        {
          "output_type": "stream",
          "name": "stdout",
          "text": [
            "Epoch [612/5000]: Train loss: 47.6178, Valid loss: 31.8300\n"
          ]
        },
        {
          "output_type": "stream",
          "name": "stderr",
          "text": [
            "Epoch [613/5000]: 100%|██████████| 9/9 [00:00<00:00, 59.62it/s, loss=56.9]\n"
          ]
        },
        {
          "output_type": "stream",
          "name": "stdout",
          "text": [
            "Epoch [613/5000]: Train loss: 48.2818, Valid loss: 32.0313\n"
          ]
        },
        {
          "output_type": "stream",
          "name": "stderr",
          "text": [
            "Epoch [614/5000]: 100%|██████████| 9/9 [00:00<00:00, 57.85it/s, loss=48.6]\n"
          ]
        },
        {
          "output_type": "stream",
          "name": "stdout",
          "text": [
            "Epoch [614/5000]: Train loss: 48.6061, Valid loss: 31.2461\n"
          ]
        },
        {
          "output_type": "stream",
          "name": "stderr",
          "text": [
            "Epoch [615/5000]: 100%|██████████| 9/9 [00:00<00:00, 62.37it/s, loss=57.9]\n"
          ]
        },
        {
          "output_type": "stream",
          "name": "stdout",
          "text": [
            "Epoch [615/5000]: Train loss: 51.2701, Valid loss: 29.6155\n"
          ]
        },
        {
          "output_type": "stream",
          "name": "stderr",
          "text": [
            "Epoch [616/5000]: 100%|██████████| 9/9 [00:00<00:00, 65.77it/s, loss=61.5]\n"
          ]
        },
        {
          "output_type": "stream",
          "name": "stdout",
          "text": [
            "Epoch [616/5000]: Train loss: 52.4528, Valid loss: 35.4833\n"
          ]
        },
        {
          "output_type": "stream",
          "name": "stderr",
          "text": [
            "Epoch [617/5000]: 100%|██████████| 9/9 [00:00<00:00, 72.01it/s, loss=29]\n"
          ]
        },
        {
          "output_type": "stream",
          "name": "stdout",
          "text": [
            "Epoch [617/5000]: Train loss: 44.9751, Valid loss: 30.4015\n"
          ]
        },
        {
          "output_type": "stream",
          "name": "stderr",
          "text": [
            "Epoch [618/5000]: 100%|██████████| 9/9 [00:00<00:00, 72.31it/s, loss=69.5]\n"
          ]
        },
        {
          "output_type": "stream",
          "name": "stdout",
          "text": [
            "Epoch [618/5000]: Train loss: 51.6178, Valid loss: 34.7003\n"
          ]
        },
        {
          "output_type": "stream",
          "name": "stderr",
          "text": [
            "Epoch [619/5000]: 100%|██████████| 9/9 [00:00<00:00, 68.63it/s, loss=55.2]\n"
          ]
        },
        {
          "output_type": "stream",
          "name": "stdout",
          "text": [
            "Epoch [619/5000]: Train loss: 50.4687, Valid loss: 36.5946\n"
          ]
        },
        {
          "output_type": "stream",
          "name": "stderr",
          "text": [
            "Epoch [620/5000]: 100%|██████████| 9/9 [00:00<00:00, 61.07it/s, loss=44.6]\n"
          ]
        },
        {
          "output_type": "stream",
          "name": "stdout",
          "text": [
            "Epoch [620/5000]: Train loss: 47.0782, Valid loss: 28.5568\n"
          ]
        },
        {
          "output_type": "stream",
          "name": "stderr",
          "text": [
            "Epoch [621/5000]: 100%|██████████| 9/9 [00:00<00:00, 56.03it/s, loss=46.4]\n"
          ]
        },
        {
          "output_type": "stream",
          "name": "stdout",
          "text": [
            "Epoch [621/5000]: Train loss: 48.8848, Valid loss: 39.0916\n"
          ]
        },
        {
          "output_type": "stream",
          "name": "stderr",
          "text": [
            "Epoch [622/5000]: 100%|██████████| 9/9 [00:00<00:00, 54.83it/s, loss=53.9]\n"
          ]
        },
        {
          "output_type": "stream",
          "name": "stdout",
          "text": [
            "Epoch [622/5000]: Train loss: 49.5619, Valid loss: 33.2204\n"
          ]
        },
        {
          "output_type": "stream",
          "name": "stderr",
          "text": [
            "Epoch [623/5000]: 100%|██████████| 9/9 [00:00<00:00, 60.81it/s, loss=43.5]\n"
          ]
        },
        {
          "output_type": "stream",
          "name": "stdout",
          "text": [
            "Epoch [623/5000]: Train loss: 49.8891, Valid loss: 28.1245\n",
            "Saving model with loss 28.125...\n"
          ]
        },
        {
          "output_type": "stream",
          "name": "stderr",
          "text": [
            "Epoch [624/5000]: 100%|██████████| 9/9 [00:00<00:00, 51.61it/s, loss=59.3]\n"
          ]
        },
        {
          "output_type": "stream",
          "name": "stdout",
          "text": [
            "Epoch [624/5000]: Train loss: 50.7013, Valid loss: 28.6484\n"
          ]
        },
        {
          "output_type": "stream",
          "name": "stderr",
          "text": [
            "Epoch [625/5000]: 100%|██████████| 9/9 [00:00<00:00, 61.70it/s, loss=44.3]\n"
          ]
        },
        {
          "output_type": "stream",
          "name": "stdout",
          "text": [
            "Epoch [625/5000]: Train loss: 47.6442, Valid loss: 36.8749\n"
          ]
        },
        {
          "output_type": "stream",
          "name": "stderr",
          "text": [
            "Epoch [626/5000]: 100%|██████████| 9/9 [00:00<00:00, 53.15it/s, loss=59.8]\n"
          ]
        },
        {
          "output_type": "stream",
          "name": "stdout",
          "text": [
            "Epoch [626/5000]: Train loss: 49.7090, Valid loss: 31.6987\n"
          ]
        },
        {
          "output_type": "stream",
          "name": "stderr",
          "text": [
            "Epoch [627/5000]: 100%|██████████| 9/9 [00:00<00:00, 66.18it/s, loss=76.4]\n"
          ]
        },
        {
          "output_type": "stream",
          "name": "stdout",
          "text": [
            "Epoch [627/5000]: Train loss: 52.1672, Valid loss: 36.4800\n"
          ]
        },
        {
          "output_type": "stream",
          "name": "stderr",
          "text": [
            "Epoch [628/5000]: 100%|██████████| 9/9 [00:00<00:00, 69.60it/s, loss=51.8]\n"
          ]
        },
        {
          "output_type": "stream",
          "name": "stdout",
          "text": [
            "Epoch [628/5000]: Train loss: 49.5053, Valid loss: 32.5507\n"
          ]
        },
        {
          "output_type": "stream",
          "name": "stderr",
          "text": [
            "Epoch [629/5000]: 100%|██████████| 9/9 [00:00<00:00, 69.98it/s, loss=42.3]\n"
          ]
        },
        {
          "output_type": "stream",
          "name": "stdout",
          "text": [
            "Epoch [629/5000]: Train loss: 47.1778, Valid loss: 31.7108\n"
          ]
        },
        {
          "output_type": "stream",
          "name": "stderr",
          "text": [
            "Epoch [630/5000]: 100%|██████████| 9/9 [00:00<00:00, 63.20it/s, loss=52.8]\n"
          ]
        },
        {
          "output_type": "stream",
          "name": "stdout",
          "text": [
            "Epoch [630/5000]: Train loss: 45.2618, Valid loss: 37.8508\n"
          ]
        },
        {
          "output_type": "stream",
          "name": "stderr",
          "text": [
            "Epoch [631/5000]: 100%|██████████| 9/9 [00:00<00:00, 57.91it/s, loss=53.2]\n"
          ]
        },
        {
          "output_type": "stream",
          "name": "stdout",
          "text": [
            "Epoch [631/5000]: Train loss: 48.2415, Valid loss: 34.1647\n"
          ]
        },
        {
          "output_type": "stream",
          "name": "stderr",
          "text": [
            "Epoch [632/5000]: 100%|██████████| 9/9 [00:00<00:00, 64.28it/s, loss=35.3]\n"
          ]
        },
        {
          "output_type": "stream",
          "name": "stdout",
          "text": [
            "Epoch [632/5000]: Train loss: 49.4896, Valid loss: 33.6765\n"
          ]
        },
        {
          "output_type": "stream",
          "name": "stderr",
          "text": [
            "Epoch [633/5000]: 100%|██████████| 9/9 [00:00<00:00, 69.56it/s, loss=44.8]\n"
          ]
        },
        {
          "output_type": "stream",
          "name": "stdout",
          "text": [
            "Epoch [633/5000]: Train loss: 47.4686, Valid loss: 29.6264\n"
          ]
        },
        {
          "output_type": "stream",
          "name": "stderr",
          "text": [
            "Epoch [634/5000]: 100%|██████████| 9/9 [00:00<00:00, 58.53it/s, loss=59.6]\n"
          ]
        },
        {
          "output_type": "stream",
          "name": "stdout",
          "text": [
            "Epoch [634/5000]: Train loss: 50.9453, Valid loss: 34.8541\n"
          ]
        },
        {
          "output_type": "stream",
          "name": "stderr",
          "text": [
            "Epoch [635/5000]: 100%|██████████| 9/9 [00:00<00:00, 65.24it/s, loss=44.4]\n"
          ]
        },
        {
          "output_type": "stream",
          "name": "stdout",
          "text": [
            "Epoch [635/5000]: Train loss: 45.9243, Valid loss: 28.0135\n",
            "Saving model with loss 28.014...\n"
          ]
        },
        {
          "output_type": "stream",
          "name": "stderr",
          "text": [
            "Epoch [636/5000]: 100%|██████████| 9/9 [00:00<00:00, 67.45it/s, loss=45.9]\n"
          ]
        },
        {
          "output_type": "stream",
          "name": "stdout",
          "text": [
            "Epoch [636/5000]: Train loss: 46.0797, Valid loss: 33.5857\n"
          ]
        },
        {
          "output_type": "stream",
          "name": "stderr",
          "text": [
            "Epoch [637/5000]: 100%|██████████| 9/9 [00:00<00:00, 52.38it/s, loss=57.1]\n"
          ]
        },
        {
          "output_type": "stream",
          "name": "stdout",
          "text": [
            "Epoch [637/5000]: Train loss: 47.4327, Valid loss: 26.9340\n",
            "Saving model with loss 26.934...\n"
          ]
        },
        {
          "output_type": "stream",
          "name": "stderr",
          "text": [
            "Epoch [638/5000]: 100%|██████████| 9/9 [00:00<00:00, 52.67it/s, loss=60.6]\n"
          ]
        },
        {
          "output_type": "stream",
          "name": "stdout",
          "text": [
            "Epoch [638/5000]: Train loss: 50.2888, Valid loss: 35.0949\n"
          ]
        },
        {
          "output_type": "stream",
          "name": "stderr",
          "text": [
            "Epoch [639/5000]: 100%|██████████| 9/9 [00:00<00:00, 54.90it/s, loss=39.6]\n"
          ]
        },
        {
          "output_type": "stream",
          "name": "stdout",
          "text": [
            "Epoch [639/5000]: Train loss: 46.5423, Valid loss: 30.5859\n"
          ]
        },
        {
          "output_type": "stream",
          "name": "stderr",
          "text": [
            "Epoch [640/5000]: 100%|██████████| 9/9 [00:00<00:00, 61.58it/s, loss=46.6]\n"
          ]
        },
        {
          "output_type": "stream",
          "name": "stdout",
          "text": [
            "Epoch [640/5000]: Train loss: 48.5934, Valid loss: 30.9683\n"
          ]
        },
        {
          "output_type": "stream",
          "name": "stderr",
          "text": [
            "Epoch [641/5000]: 100%|██████████| 9/9 [00:00<00:00, 64.06it/s, loss=49.3]\n"
          ]
        },
        {
          "output_type": "stream",
          "name": "stdout",
          "text": [
            "Epoch [641/5000]: Train loss: 48.9363, Valid loss: 38.0487\n"
          ]
        },
        {
          "output_type": "stream",
          "name": "stderr",
          "text": [
            "Epoch [642/5000]: 100%|██████████| 9/9 [00:00<00:00, 59.97it/s, loss=46.2]\n"
          ]
        },
        {
          "output_type": "stream",
          "name": "stdout",
          "text": [
            "Epoch [642/5000]: Train loss: 46.5050, Valid loss: 29.6110\n"
          ]
        },
        {
          "output_type": "stream",
          "name": "stderr",
          "text": [
            "Epoch [643/5000]: 100%|██████████| 9/9 [00:00<00:00, 60.67it/s, loss=36.7]\n"
          ]
        },
        {
          "output_type": "stream",
          "name": "stdout",
          "text": [
            "Epoch [643/5000]: Train loss: 48.3628, Valid loss: 29.9682\n"
          ]
        },
        {
          "output_type": "stream",
          "name": "stderr",
          "text": [
            "Epoch [644/5000]: 100%|██████████| 9/9 [00:00<00:00, 63.41it/s, loss=52.3]\n"
          ]
        },
        {
          "output_type": "stream",
          "name": "stdout",
          "text": [
            "Epoch [644/5000]: Train loss: 48.1508, Valid loss: 32.9619\n"
          ]
        },
        {
          "output_type": "stream",
          "name": "stderr",
          "text": [
            "Epoch [645/5000]: 100%|██████████| 9/9 [00:00<00:00, 56.43it/s, loss=52]\n"
          ]
        },
        {
          "output_type": "stream",
          "name": "stdout",
          "text": [
            "Epoch [645/5000]: Train loss: 48.9182, Valid loss: 33.6134\n"
          ]
        },
        {
          "output_type": "stream",
          "name": "stderr",
          "text": [
            "Epoch [646/5000]: 100%|██████████| 9/9 [00:00<00:00, 56.56it/s, loss=69.4]\n"
          ]
        },
        {
          "output_type": "stream",
          "name": "stdout",
          "text": [
            "Epoch [646/5000]: Train loss: 49.1300, Valid loss: 32.0788\n"
          ]
        },
        {
          "output_type": "stream",
          "name": "stderr",
          "text": [
            "Epoch [647/5000]: 100%|██████████| 9/9 [00:00<00:00, 60.57it/s, loss=52.7]\n"
          ]
        },
        {
          "output_type": "stream",
          "name": "stdout",
          "text": [
            "Epoch [647/5000]: Train loss: 47.8385, Valid loss: 28.9418\n"
          ]
        },
        {
          "output_type": "stream",
          "name": "stderr",
          "text": [
            "Epoch [648/5000]: 100%|██████████| 9/9 [00:00<00:00, 52.56it/s, loss=46]\n"
          ]
        },
        {
          "output_type": "stream",
          "name": "stdout",
          "text": [
            "Epoch [648/5000]: Train loss: 49.1289, Valid loss: 29.6378\n"
          ]
        },
        {
          "output_type": "stream",
          "name": "stderr",
          "text": [
            "Epoch [649/5000]: 100%|██████████| 9/9 [00:00<00:00, 55.50it/s, loss=53.2]\n"
          ]
        },
        {
          "output_type": "stream",
          "name": "stdout",
          "text": [
            "Epoch [649/5000]: Train loss: 48.4531, Valid loss: 31.7299\n"
          ]
        },
        {
          "output_type": "stream",
          "name": "stderr",
          "text": [
            "Epoch [650/5000]: 100%|██████████| 9/9 [00:00<00:00, 60.22it/s, loss=44.7]\n"
          ]
        },
        {
          "output_type": "stream",
          "name": "stdout",
          "text": [
            "Epoch [650/5000]: Train loss: 46.3455, Valid loss: 31.1242\n"
          ]
        },
        {
          "output_type": "stream",
          "name": "stderr",
          "text": [
            "Epoch [651/5000]: 100%|██████████| 9/9 [00:00<00:00, 55.57it/s, loss=58.5]\n"
          ]
        },
        {
          "output_type": "stream",
          "name": "stdout",
          "text": [
            "Epoch [651/5000]: Train loss: 48.5547, Valid loss: 31.4920\n"
          ]
        },
        {
          "output_type": "stream",
          "name": "stderr",
          "text": [
            "Epoch [652/5000]: 100%|██████████| 9/9 [00:00<00:00, 60.41it/s, loss=38.5]\n"
          ]
        },
        {
          "output_type": "stream",
          "name": "stdout",
          "text": [
            "Epoch [652/5000]: Train loss: 44.5728, Valid loss: 31.6169\n"
          ]
        },
        {
          "output_type": "stream",
          "name": "stderr",
          "text": [
            "Epoch [653/5000]: 100%|██████████| 9/9 [00:00<00:00, 67.03it/s, loss=32]\n"
          ]
        },
        {
          "output_type": "stream",
          "name": "stdout",
          "text": [
            "Epoch [653/5000]: Train loss: 42.9498, Valid loss: 36.9553\n"
          ]
        },
        {
          "output_type": "stream",
          "name": "stderr",
          "text": [
            "Epoch [654/5000]: 100%|██████████| 9/9 [00:00<00:00, 72.77it/s, loss=53.3]\n"
          ]
        },
        {
          "output_type": "stream",
          "name": "stdout",
          "text": [
            "Epoch [654/5000]: Train loss: 48.0594, Valid loss: 30.1771\n"
          ]
        },
        {
          "output_type": "stream",
          "name": "stderr",
          "text": [
            "Epoch [655/5000]: 100%|██████████| 9/9 [00:00<00:00, 24.12it/s, loss=32.9]\n"
          ]
        },
        {
          "output_type": "stream",
          "name": "stdout",
          "text": [
            "Epoch [655/5000]: Train loss: 44.6897, Valid loss: 34.8776\n"
          ]
        },
        {
          "output_type": "stream",
          "name": "stderr",
          "text": [
            "Epoch [656/5000]: 100%|██████████| 9/9 [00:00<00:00, 72.84it/s, loss=57.7]\n"
          ]
        },
        {
          "output_type": "stream",
          "name": "stdout",
          "text": [
            "Epoch [656/5000]: Train loss: 45.6913, Valid loss: 29.8391\n"
          ]
        },
        {
          "output_type": "stream",
          "name": "stderr",
          "text": [
            "Epoch [657/5000]: 100%|██████████| 9/9 [00:00<00:00, 57.05it/s, loss=53.5]\n"
          ]
        },
        {
          "output_type": "stream",
          "name": "stdout",
          "text": [
            "Epoch [657/5000]: Train loss: 44.1291, Valid loss: 25.3196\n",
            "Saving model with loss 25.320...\n"
          ]
        },
        {
          "output_type": "stream",
          "name": "stderr",
          "text": [
            "Epoch [658/5000]: 100%|██████████| 9/9 [00:00<00:00, 67.46it/s, loss=50.1]\n"
          ]
        },
        {
          "output_type": "stream",
          "name": "stdout",
          "text": [
            "Epoch [658/5000]: Train loss: 47.4672, Valid loss: 24.6075\n",
            "Saving model with loss 24.608...\n"
          ]
        },
        {
          "output_type": "stream",
          "name": "stderr",
          "text": [
            "Epoch [659/5000]: 100%|██████████| 9/9 [00:00<00:00, 53.73it/s, loss=51.5]\n"
          ]
        },
        {
          "output_type": "stream",
          "name": "stdout",
          "text": [
            "Epoch [659/5000]: Train loss: 47.6352, Valid loss: 32.8589\n"
          ]
        },
        {
          "output_type": "stream",
          "name": "stderr",
          "text": [
            "Epoch [660/5000]: 100%|██████████| 9/9 [00:00<00:00, 52.12it/s, loss=58.1]\n"
          ]
        },
        {
          "output_type": "stream",
          "name": "stdout",
          "text": [
            "Epoch [660/5000]: Train loss: 45.1920, Valid loss: 30.7645\n"
          ]
        },
        {
          "output_type": "stream",
          "name": "stderr",
          "text": [
            "Epoch [661/5000]: 100%|██████████| 9/9 [00:00<00:00, 58.34it/s, loss=33.9]\n"
          ]
        },
        {
          "output_type": "stream",
          "name": "stdout",
          "text": [
            "Epoch [661/5000]: Train loss: 43.4189, Valid loss: 25.1427\n"
          ]
        },
        {
          "output_type": "stream",
          "name": "stderr",
          "text": [
            "Epoch [662/5000]: 100%|██████████| 9/9 [00:00<00:00, 67.06it/s, loss=52.1]\n"
          ]
        },
        {
          "output_type": "stream",
          "name": "stdout",
          "text": [
            "Epoch [662/5000]: Train loss: 46.2183, Valid loss: 29.3679\n"
          ]
        },
        {
          "output_type": "stream",
          "name": "stderr",
          "text": [
            "Epoch [663/5000]: 100%|██████████| 9/9 [00:00<00:00, 69.36it/s, loss=49.4]\n"
          ]
        },
        {
          "output_type": "stream",
          "name": "stdout",
          "text": [
            "Epoch [663/5000]: Train loss: 47.4566, Valid loss: 33.4413\n"
          ]
        },
        {
          "output_type": "stream",
          "name": "stderr",
          "text": [
            "Epoch [664/5000]: 100%|██████████| 9/9 [00:00<00:00, 76.50it/s, loss=57]\n"
          ]
        },
        {
          "output_type": "stream",
          "name": "stdout",
          "text": [
            "Epoch [664/5000]: Train loss: 47.2445, Valid loss: 28.8974\n"
          ]
        },
        {
          "output_type": "stream",
          "name": "stderr",
          "text": [
            "Epoch [665/5000]: 100%|██████████| 9/9 [00:00<00:00, 69.96it/s, loss=43.4]\n"
          ]
        },
        {
          "output_type": "stream",
          "name": "stdout",
          "text": [
            "Epoch [665/5000]: Train loss: 45.4659, Valid loss: 32.8833\n"
          ]
        },
        {
          "output_type": "stream",
          "name": "stderr",
          "text": [
            "Epoch [666/5000]: 100%|██████████| 9/9 [00:00<00:00, 66.37it/s, loss=50]\n"
          ]
        },
        {
          "output_type": "stream",
          "name": "stdout",
          "text": [
            "Epoch [666/5000]: Train loss: 44.9716, Valid loss: 30.8489\n"
          ]
        },
        {
          "output_type": "stream",
          "name": "stderr",
          "text": [
            "Epoch [667/5000]: 100%|██████████| 9/9 [00:00<00:00, 59.10it/s, loss=55]\n"
          ]
        },
        {
          "output_type": "stream",
          "name": "stdout",
          "text": [
            "Epoch [667/5000]: Train loss: 46.0142, Valid loss: 28.6435\n"
          ]
        },
        {
          "output_type": "stream",
          "name": "stderr",
          "text": [
            "Epoch [668/5000]: 100%|██████████| 9/9 [00:00<00:00, 56.84it/s, loss=29.6]\n"
          ]
        },
        {
          "output_type": "stream",
          "name": "stdout",
          "text": [
            "Epoch [668/5000]: Train loss: 42.5256, Valid loss: 32.8704\n"
          ]
        },
        {
          "output_type": "stream",
          "name": "stderr",
          "text": [
            "Epoch [669/5000]: 100%|██████████| 9/9 [00:00<00:00, 65.86it/s, loss=44.4]\n"
          ]
        },
        {
          "output_type": "stream",
          "name": "stdout",
          "text": [
            "Epoch [669/5000]: Train loss: 47.1375, Valid loss: 32.1998\n"
          ]
        },
        {
          "output_type": "stream",
          "name": "stderr",
          "text": [
            "Epoch [670/5000]: 100%|██████████| 9/9 [00:00<00:00, 65.14it/s, loss=47.2]\n"
          ]
        },
        {
          "output_type": "stream",
          "name": "stdout",
          "text": [
            "Epoch [670/5000]: Train loss: 46.0016, Valid loss: 27.8376\n"
          ]
        },
        {
          "output_type": "stream",
          "name": "stderr",
          "text": [
            "Epoch [671/5000]: 100%|██████████| 9/9 [00:00<00:00, 55.69it/s, loss=54.9]\n"
          ]
        },
        {
          "output_type": "stream",
          "name": "stdout",
          "text": [
            "Epoch [671/5000]: Train loss: 47.2258, Valid loss: 32.7210\n"
          ]
        },
        {
          "output_type": "stream",
          "name": "stderr",
          "text": [
            "Epoch [672/5000]: 100%|██████████| 9/9 [00:00<00:00, 58.83it/s, loss=46.3]\n"
          ]
        },
        {
          "output_type": "stream",
          "name": "stdout",
          "text": [
            "Epoch [672/5000]: Train loss: 44.8131, Valid loss: 28.9799\n"
          ]
        },
        {
          "output_type": "stream",
          "name": "stderr",
          "text": [
            "Epoch [673/5000]: 100%|██████████| 9/9 [00:00<00:00, 61.28it/s, loss=35.4]\n"
          ]
        },
        {
          "output_type": "stream",
          "name": "stdout",
          "text": [
            "Epoch [673/5000]: Train loss: 45.6572, Valid loss: 28.2817\n"
          ]
        },
        {
          "output_type": "stream",
          "name": "stderr",
          "text": [
            "Epoch [674/5000]: 100%|██████████| 9/9 [00:00<00:00, 73.59it/s, loss=46.7]\n"
          ]
        },
        {
          "output_type": "stream",
          "name": "stdout",
          "text": [
            "Epoch [674/5000]: Train loss: 45.1976, Valid loss: 28.8221\n"
          ]
        },
        {
          "output_type": "stream",
          "name": "stderr",
          "text": [
            "Epoch [675/5000]: 100%|██████████| 9/9 [00:00<00:00, 56.57it/s, loss=40.6]\n"
          ]
        },
        {
          "output_type": "stream",
          "name": "stdout",
          "text": [
            "Epoch [675/5000]: Train loss: 45.9889, Valid loss: 27.5305\n"
          ]
        },
        {
          "output_type": "stream",
          "name": "stderr",
          "text": [
            "Epoch [676/5000]: 100%|██████████| 9/9 [00:00<00:00, 65.12it/s, loss=57]\n"
          ]
        },
        {
          "output_type": "stream",
          "name": "stdout",
          "text": [
            "Epoch [676/5000]: Train loss: 46.4299, Valid loss: 28.0451\n"
          ]
        },
        {
          "output_type": "stream",
          "name": "stderr",
          "text": [
            "Epoch [677/5000]: 100%|██████████| 9/9 [00:00<00:00, 62.97it/s, loss=45.4]\n"
          ]
        },
        {
          "output_type": "stream",
          "name": "stdout",
          "text": [
            "Epoch [677/5000]: Train loss: 46.3435, Valid loss: 27.7403\n"
          ]
        },
        {
          "output_type": "stream",
          "name": "stderr",
          "text": [
            "Epoch [678/5000]: 100%|██████████| 9/9 [00:00<00:00, 54.97it/s, loss=50.5]\n"
          ]
        },
        {
          "output_type": "stream",
          "name": "stdout",
          "text": [
            "Epoch [678/5000]: Train loss: 45.9147, Valid loss: 29.6600\n"
          ]
        },
        {
          "output_type": "stream",
          "name": "stderr",
          "text": [
            "Epoch [679/5000]: 100%|██████████| 9/9 [00:00<00:00, 75.55it/s, loss=46]\n"
          ]
        },
        {
          "output_type": "stream",
          "name": "stdout",
          "text": [
            "Epoch [679/5000]: Train loss: 46.7042, Valid loss: 28.4008\n"
          ]
        },
        {
          "output_type": "stream",
          "name": "stderr",
          "text": [
            "Epoch [680/5000]: 100%|██████████| 9/9 [00:00<00:00, 64.78it/s, loss=46.4]\n"
          ]
        },
        {
          "output_type": "stream",
          "name": "stdout",
          "text": [
            "Epoch [680/5000]: Train loss: 46.9411, Valid loss: 27.6683\n"
          ]
        },
        {
          "output_type": "stream",
          "name": "stderr",
          "text": [
            "Epoch [681/5000]: 100%|██████████| 9/9 [00:00<00:00, 70.58it/s, loss=43.7]\n"
          ]
        },
        {
          "output_type": "stream",
          "name": "stdout",
          "text": [
            "Epoch [681/5000]: Train loss: 45.2207, Valid loss: 33.8329\n"
          ]
        },
        {
          "output_type": "stream",
          "name": "stderr",
          "text": [
            "Epoch [682/5000]: 100%|██████████| 9/9 [00:00<00:00, 64.48it/s, loss=48.2]\n"
          ]
        },
        {
          "output_type": "stream",
          "name": "stdout",
          "text": [
            "Epoch [682/5000]: Train loss: 45.2648, Valid loss: 33.0534\n"
          ]
        },
        {
          "output_type": "stream",
          "name": "stderr",
          "text": [
            "Epoch [683/5000]: 100%|██████████| 9/9 [00:00<00:00, 65.29it/s, loss=42]\n"
          ]
        },
        {
          "output_type": "stream",
          "name": "stdout",
          "text": [
            "Epoch [683/5000]: Train loss: 43.7526, Valid loss: 32.1604\n"
          ]
        },
        {
          "output_type": "stream",
          "name": "stderr",
          "text": [
            "Epoch [684/5000]: 100%|██████████| 9/9 [00:00<00:00, 63.58it/s, loss=53.4]\n"
          ]
        },
        {
          "output_type": "stream",
          "name": "stdout",
          "text": [
            "Epoch [684/5000]: Train loss: 46.4884, Valid loss: 26.9456\n"
          ]
        },
        {
          "output_type": "stream",
          "name": "stderr",
          "text": [
            "Epoch [685/5000]: 100%|██████████| 9/9 [00:00<00:00, 67.27it/s, loss=38.2]\n"
          ]
        },
        {
          "output_type": "stream",
          "name": "stdout",
          "text": [
            "Epoch [685/5000]: Train loss: 43.8819, Valid loss: 28.8734\n"
          ]
        },
        {
          "output_type": "stream",
          "name": "stderr",
          "text": [
            "Epoch [686/5000]: 100%|██████████| 9/9 [00:00<00:00, 61.32it/s, loss=38.5]\n"
          ]
        },
        {
          "output_type": "stream",
          "name": "stdout",
          "text": [
            "Epoch [686/5000]: Train loss: 44.2614, Valid loss: 29.6091\n"
          ]
        },
        {
          "output_type": "stream",
          "name": "stderr",
          "text": [
            "Epoch [687/5000]: 100%|██████████| 9/9 [00:00<00:00, 68.28it/s, loss=36.3]\n"
          ]
        },
        {
          "output_type": "stream",
          "name": "stdout",
          "text": [
            "Epoch [687/5000]: Train loss: 43.0625, Valid loss: 32.7139\n"
          ]
        },
        {
          "output_type": "stream",
          "name": "stderr",
          "text": [
            "Epoch [688/5000]: 100%|██████████| 9/9 [00:00<00:00, 68.26it/s, loss=50.5]\n"
          ]
        },
        {
          "output_type": "stream",
          "name": "stdout",
          "text": [
            "Epoch [688/5000]: Train loss: 46.1415, Valid loss: 24.9226\n"
          ]
        },
        {
          "output_type": "stream",
          "name": "stderr",
          "text": [
            "Epoch [689/5000]: 100%|██████████| 9/9 [00:00<00:00, 64.93it/s, loss=48.1]\n"
          ]
        },
        {
          "output_type": "stream",
          "name": "stdout",
          "text": [
            "Epoch [689/5000]: Train loss: 44.5408, Valid loss: 29.5164\n"
          ]
        },
        {
          "output_type": "stream",
          "name": "stderr",
          "text": [
            "Epoch [690/5000]: 100%|██████████| 9/9 [00:00<00:00, 67.56it/s, loss=39.7]\n"
          ]
        },
        {
          "output_type": "stream",
          "name": "stdout",
          "text": [
            "Epoch [690/5000]: Train loss: 42.9036, Valid loss: 32.4401\n"
          ]
        },
        {
          "output_type": "stream",
          "name": "stderr",
          "text": [
            "Epoch [691/5000]: 100%|██████████| 9/9 [00:00<00:00, 57.97it/s, loss=49.2]\n"
          ]
        },
        {
          "output_type": "stream",
          "name": "stdout",
          "text": [
            "Epoch [691/5000]: Train loss: 47.3078, Valid loss: 28.1887\n"
          ]
        },
        {
          "output_type": "stream",
          "name": "stderr",
          "text": [
            "Epoch [692/5000]: 100%|██████████| 9/9 [00:00<00:00, 78.11it/s, loss=63]\n"
          ]
        },
        {
          "output_type": "stream",
          "name": "stdout",
          "text": [
            "Epoch [692/5000]: Train loss: 46.9321, Valid loss: 27.5962\n"
          ]
        },
        {
          "output_type": "stream",
          "name": "stderr",
          "text": [
            "Epoch [693/5000]: 100%|██████████| 9/9 [00:00<00:00, 69.57it/s, loss=47.4]\n"
          ]
        },
        {
          "output_type": "stream",
          "name": "stdout",
          "text": [
            "Epoch [693/5000]: Train loss: 43.4849, Valid loss: 29.1181\n"
          ]
        },
        {
          "output_type": "stream",
          "name": "stderr",
          "text": [
            "Epoch [694/5000]: 100%|██████████| 9/9 [00:00<00:00, 56.37it/s, loss=43.9]\n"
          ]
        },
        {
          "output_type": "stream",
          "name": "stdout",
          "text": [
            "Epoch [694/5000]: Train loss: 42.9870, Valid loss: 39.4126\n"
          ]
        },
        {
          "output_type": "stream",
          "name": "stderr",
          "text": [
            "Epoch [695/5000]: 100%|██████████| 9/9 [00:00<00:00, 62.59it/s, loss=33]\n"
          ]
        },
        {
          "output_type": "stream",
          "name": "stdout",
          "text": [
            "Epoch [695/5000]: Train loss: 43.8235, Valid loss: 27.5665\n"
          ]
        },
        {
          "output_type": "stream",
          "name": "stderr",
          "text": [
            "Epoch [696/5000]: 100%|██████████| 9/9 [00:00<00:00, 52.99it/s, loss=59.4]\n"
          ]
        },
        {
          "output_type": "stream",
          "name": "stdout",
          "text": [
            "Epoch [696/5000]: Train loss: 45.6411, Valid loss: 28.8348\n"
          ]
        },
        {
          "output_type": "stream",
          "name": "stderr",
          "text": [
            "Epoch [697/5000]: 100%|██████████| 9/9 [00:00<00:00, 58.07it/s, loss=47.3]\n"
          ]
        },
        {
          "output_type": "stream",
          "name": "stdout",
          "text": [
            "Epoch [697/5000]: Train loss: 44.3580, Valid loss: 29.8115\n"
          ]
        },
        {
          "output_type": "stream",
          "name": "stderr",
          "text": [
            "Epoch [698/5000]: 100%|██████████| 9/9 [00:00<00:00, 57.22it/s, loss=57.9]\n"
          ]
        },
        {
          "output_type": "stream",
          "name": "stdout",
          "text": [
            "Epoch [698/5000]: Train loss: 44.7174, Valid loss: 29.0813\n"
          ]
        },
        {
          "output_type": "stream",
          "name": "stderr",
          "text": [
            "Epoch [699/5000]: 100%|██████████| 9/9 [00:00<00:00, 62.39it/s, loss=49]\n"
          ]
        },
        {
          "output_type": "stream",
          "name": "stdout",
          "text": [
            "Epoch [699/5000]: Train loss: 47.3376, Valid loss: 33.8958\n"
          ]
        },
        {
          "output_type": "stream",
          "name": "stderr",
          "text": [
            "Epoch [700/5000]: 100%|██████████| 9/9 [00:00<00:00, 65.89it/s, loss=53.2]\n"
          ]
        },
        {
          "output_type": "stream",
          "name": "stdout",
          "text": [
            "Epoch [700/5000]: Train loss: 44.3098, Valid loss: 26.8571\n"
          ]
        },
        {
          "output_type": "stream",
          "name": "stderr",
          "text": [
            "Epoch [701/5000]: 100%|██████████| 9/9 [00:00<00:00, 52.95it/s, loss=34.6]\n"
          ]
        },
        {
          "output_type": "stream",
          "name": "stdout",
          "text": [
            "Epoch [701/5000]: Train loss: 43.5833, Valid loss: 31.8945\n"
          ]
        },
        {
          "output_type": "stream",
          "name": "stderr",
          "text": [
            "Epoch [702/5000]: 100%|██████████| 9/9 [00:00<00:00, 53.92it/s, loss=38.6]\n"
          ]
        },
        {
          "output_type": "stream",
          "name": "stdout",
          "text": [
            "Epoch [702/5000]: Train loss: 42.1082, Valid loss: 31.4778\n"
          ]
        },
        {
          "output_type": "stream",
          "name": "stderr",
          "text": [
            "Epoch [703/5000]: 100%|██████████| 9/9 [00:00<00:00, 59.29it/s, loss=47.7]\n"
          ]
        },
        {
          "output_type": "stream",
          "name": "stdout",
          "text": [
            "Epoch [703/5000]: Train loss: 43.2766, Valid loss: 30.5965\n"
          ]
        },
        {
          "output_type": "stream",
          "name": "stderr",
          "text": [
            "Epoch [704/5000]: 100%|██████████| 9/9 [00:00<00:00, 54.08it/s, loss=46.6]\n"
          ]
        },
        {
          "output_type": "stream",
          "name": "stdout",
          "text": [
            "Epoch [704/5000]: Train loss: 45.0402, Valid loss: 30.3843\n"
          ]
        },
        {
          "output_type": "stream",
          "name": "stderr",
          "text": [
            "Epoch [705/5000]: 100%|██████████| 9/9 [00:00<00:00, 59.55it/s, loss=40.3]\n"
          ]
        },
        {
          "output_type": "stream",
          "name": "stdout",
          "text": [
            "Epoch [705/5000]: Train loss: 43.6402, Valid loss: 41.3362\n"
          ]
        },
        {
          "output_type": "stream",
          "name": "stderr",
          "text": [
            "Epoch [706/5000]: 100%|██████████| 9/9 [00:00<00:00, 63.72it/s, loss=40.7]\n"
          ]
        },
        {
          "output_type": "stream",
          "name": "stdout",
          "text": [
            "Epoch [706/5000]: Train loss: 45.0669, Valid loss: 28.1431\n"
          ]
        },
        {
          "output_type": "stream",
          "name": "stderr",
          "text": [
            "Epoch [707/5000]: 100%|██████████| 9/9 [00:00<00:00, 69.46it/s, loss=39.4]\n"
          ]
        },
        {
          "output_type": "stream",
          "name": "stdout",
          "text": [
            "Epoch [707/5000]: Train loss: 43.0276, Valid loss: 26.5203\n"
          ]
        },
        {
          "output_type": "stream",
          "name": "stderr",
          "text": [
            "Epoch [708/5000]: 100%|██████████| 9/9 [00:00<00:00, 66.47it/s, loss=38.8]\n"
          ]
        },
        {
          "output_type": "stream",
          "name": "stdout",
          "text": [
            "Epoch [708/5000]: Train loss: 45.0271, Valid loss: 32.9807\n"
          ]
        },
        {
          "output_type": "stream",
          "name": "stderr",
          "text": [
            "Epoch [709/5000]: 100%|██████████| 9/9 [00:00<00:00, 67.97it/s, loss=50.2]\n"
          ]
        },
        {
          "output_type": "stream",
          "name": "stdout",
          "text": [
            "Epoch [709/5000]: Train loss: 44.1447, Valid loss: 24.2166\n",
            "Saving model with loss 24.217...\n"
          ]
        },
        {
          "output_type": "stream",
          "name": "stderr",
          "text": [
            "Epoch [710/5000]: 100%|██████████| 9/9 [00:00<00:00, 51.84it/s, loss=49.6]\n"
          ]
        },
        {
          "output_type": "stream",
          "name": "stdout",
          "text": [
            "Epoch [710/5000]: Train loss: 43.0161, Valid loss: 30.6890\n"
          ]
        },
        {
          "output_type": "stream",
          "name": "stderr",
          "text": [
            "Epoch [711/5000]: 100%|██████████| 9/9 [00:00<00:00, 67.55it/s, loss=42.5]\n"
          ]
        },
        {
          "output_type": "stream",
          "name": "stdout",
          "text": [
            "Epoch [711/5000]: Train loss: 43.8794, Valid loss: 27.3064\n"
          ]
        },
        {
          "output_type": "stream",
          "name": "stderr",
          "text": [
            "Epoch [712/5000]: 100%|██████████| 9/9 [00:00<00:00, 56.25it/s, loss=38]\n"
          ]
        },
        {
          "output_type": "stream",
          "name": "stdout",
          "text": [
            "Epoch [712/5000]: Train loss: 42.0225, Valid loss: 25.1937\n"
          ]
        },
        {
          "output_type": "stream",
          "name": "stderr",
          "text": [
            "Epoch [713/5000]: 100%|██████████| 9/9 [00:00<00:00, 53.87it/s, loss=44.5]\n"
          ]
        },
        {
          "output_type": "stream",
          "name": "stdout",
          "text": [
            "Epoch [713/5000]: Train loss: 41.8809, Valid loss: 27.9436\n"
          ]
        },
        {
          "output_type": "stream",
          "name": "stderr",
          "text": [
            "Epoch [714/5000]: 100%|██████████| 9/9 [00:00<00:00, 53.83it/s, loss=35.6]\n"
          ]
        },
        {
          "output_type": "stream",
          "name": "stdout",
          "text": [
            "Epoch [714/5000]: Train loss: 42.7349, Valid loss: 26.7863\n"
          ]
        },
        {
          "output_type": "stream",
          "name": "stderr",
          "text": [
            "Epoch [715/5000]: 100%|██████████| 9/9 [00:00<00:00, 55.57it/s, loss=36.9]\n"
          ]
        },
        {
          "output_type": "stream",
          "name": "stdout",
          "text": [
            "Epoch [715/5000]: Train loss: 44.3275, Valid loss: 31.3318\n"
          ]
        },
        {
          "output_type": "stream",
          "name": "stderr",
          "text": [
            "Epoch [716/5000]: 100%|██████████| 9/9 [00:00<00:00, 53.33it/s, loss=44]\n"
          ]
        },
        {
          "output_type": "stream",
          "name": "stdout",
          "text": [
            "Epoch [716/5000]: Train loss: 44.4163, Valid loss: 26.8223\n"
          ]
        },
        {
          "output_type": "stream",
          "name": "stderr",
          "text": [
            "Epoch [717/5000]: 100%|██████████| 9/9 [00:00<00:00, 58.06it/s, loss=42.6]\n"
          ]
        },
        {
          "output_type": "stream",
          "name": "stdout",
          "text": [
            "Epoch [717/5000]: Train loss: 41.3408, Valid loss: 28.7124\n"
          ]
        },
        {
          "output_type": "stream",
          "name": "stderr",
          "text": [
            "Epoch [718/5000]: 100%|██████████| 9/9 [00:00<00:00, 74.35it/s, loss=45.4]\n"
          ]
        },
        {
          "output_type": "stream",
          "name": "stdout",
          "text": [
            "Epoch [718/5000]: Train loss: 43.3655, Valid loss: 25.8861\n"
          ]
        },
        {
          "output_type": "stream",
          "name": "stderr",
          "text": [
            "Epoch [719/5000]: 100%|██████████| 9/9 [00:00<00:00, 54.45it/s, loss=41.7]\n"
          ]
        },
        {
          "output_type": "stream",
          "name": "stdout",
          "text": [
            "Epoch [719/5000]: Train loss: 43.5489, Valid loss: 25.6318\n"
          ]
        },
        {
          "output_type": "stream",
          "name": "stderr",
          "text": [
            "Epoch [720/5000]: 100%|██████████| 9/9 [00:00<00:00, 74.24it/s, loss=43.2]\n"
          ]
        },
        {
          "output_type": "stream",
          "name": "stdout",
          "text": [
            "Epoch [720/5000]: Train loss: 41.5911, Valid loss: 30.3381\n"
          ]
        },
        {
          "output_type": "stream",
          "name": "stderr",
          "text": [
            "Epoch [721/5000]: 100%|██████████| 9/9 [00:00<00:00, 71.58it/s, loss=46.9]\n"
          ]
        },
        {
          "output_type": "stream",
          "name": "stdout",
          "text": [
            "Epoch [721/5000]: Train loss: 42.0970, Valid loss: 23.9224\n",
            "Saving model with loss 23.922...\n"
          ]
        },
        {
          "output_type": "stream",
          "name": "stderr",
          "text": [
            "Epoch [722/5000]: 100%|██████████| 9/9 [00:00<00:00, 52.57it/s, loss=37.9]\n"
          ]
        },
        {
          "output_type": "stream",
          "name": "stdout",
          "text": [
            "Epoch [722/5000]: Train loss: 42.7641, Valid loss: 26.3496\n"
          ]
        },
        {
          "output_type": "stream",
          "name": "stderr",
          "text": [
            "Epoch [723/5000]: 100%|██████████| 9/9 [00:00<00:00, 61.16it/s, loss=29.9]\n"
          ]
        },
        {
          "output_type": "stream",
          "name": "stdout",
          "text": [
            "Epoch [723/5000]: Train loss: 40.6641, Valid loss: 30.6045\n"
          ]
        },
        {
          "output_type": "stream",
          "name": "stderr",
          "text": [
            "Epoch [724/5000]: 100%|██████████| 9/9 [00:00<00:00, 70.43it/s, loss=43.7]\n"
          ]
        },
        {
          "output_type": "stream",
          "name": "stdout",
          "text": [
            "Epoch [724/5000]: Train loss: 42.4798, Valid loss: 32.7402\n"
          ]
        },
        {
          "output_type": "stream",
          "name": "stderr",
          "text": [
            "Epoch [725/5000]: 100%|██████████| 9/9 [00:00<00:00, 69.42it/s, loss=42.6]\n"
          ]
        },
        {
          "output_type": "stream",
          "name": "stdout",
          "text": [
            "Epoch [725/5000]: Train loss: 42.1409, Valid loss: 32.1578\n"
          ]
        },
        {
          "output_type": "stream",
          "name": "stderr",
          "text": [
            "Epoch [726/5000]: 100%|██████████| 9/9 [00:00<00:00, 77.69it/s, loss=42.2]\n"
          ]
        },
        {
          "output_type": "stream",
          "name": "stdout",
          "text": [
            "Epoch [726/5000]: Train loss: 43.7378, Valid loss: 22.1856\n",
            "Saving model with loss 22.186...\n"
          ]
        },
        {
          "output_type": "stream",
          "name": "stderr",
          "text": [
            "Epoch [727/5000]: 100%|██████████| 9/9 [00:00<00:00, 66.81it/s, loss=47.9]\n"
          ]
        },
        {
          "output_type": "stream",
          "name": "stdout",
          "text": [
            "Epoch [727/5000]: Train loss: 44.6414, Valid loss: 26.8224\n"
          ]
        },
        {
          "output_type": "stream",
          "name": "stderr",
          "text": [
            "Epoch [728/5000]: 100%|██████████| 9/9 [00:00<00:00, 80.65it/s, loss=48.5]\n"
          ]
        },
        {
          "output_type": "stream",
          "name": "stdout",
          "text": [
            "Epoch [728/5000]: Train loss: 43.8535, Valid loss: 21.9538\n",
            "Saving model with loss 21.954...\n"
          ]
        },
        {
          "output_type": "stream",
          "name": "stderr",
          "text": [
            "Epoch [729/5000]: 100%|██████████| 9/9 [00:00<00:00, 59.25it/s, loss=64.5]\n"
          ]
        },
        {
          "output_type": "stream",
          "name": "stdout",
          "text": [
            "Epoch [729/5000]: Train loss: 43.0360, Valid loss: 29.7644\n"
          ]
        },
        {
          "output_type": "stream",
          "name": "stderr",
          "text": [
            "Epoch [730/5000]: 100%|██████████| 9/9 [00:00<00:00, 57.22it/s, loss=42.9]\n"
          ]
        },
        {
          "output_type": "stream",
          "name": "stdout",
          "text": [
            "Epoch [730/5000]: Train loss: 41.8992, Valid loss: 26.2853\n"
          ]
        },
        {
          "output_type": "stream",
          "name": "stderr",
          "text": [
            "Epoch [731/5000]: 100%|██████████| 9/9 [00:00<00:00, 67.10it/s, loss=37.3]\n"
          ]
        },
        {
          "output_type": "stream",
          "name": "stdout",
          "text": [
            "Epoch [731/5000]: Train loss: 42.2086, Valid loss: 24.1505\n"
          ]
        },
        {
          "output_type": "stream",
          "name": "stderr",
          "text": [
            "Epoch [732/5000]: 100%|██████████| 9/9 [00:00<00:00, 70.83it/s, loss=47.1]\n"
          ]
        },
        {
          "output_type": "stream",
          "name": "stdout",
          "text": [
            "Epoch [732/5000]: Train loss: 44.9935, Valid loss: 25.4891\n"
          ]
        },
        {
          "output_type": "stream",
          "name": "stderr",
          "text": [
            "Epoch [733/5000]: 100%|██████████| 9/9 [00:00<00:00, 66.15it/s, loss=23.1]\n"
          ]
        },
        {
          "output_type": "stream",
          "name": "stdout",
          "text": [
            "Epoch [733/5000]: Train loss: 40.4823, Valid loss: 25.7836\n"
          ]
        },
        {
          "output_type": "stream",
          "name": "stderr",
          "text": [
            "Epoch [734/5000]: 100%|██████████| 9/9 [00:00<00:00, 48.48it/s, loss=50.4]\n"
          ]
        },
        {
          "output_type": "stream",
          "name": "stdout",
          "text": [
            "Epoch [734/5000]: Train loss: 43.0119, Valid loss: 30.9329\n"
          ]
        },
        {
          "output_type": "stream",
          "name": "stderr",
          "text": [
            "Epoch [735/5000]: 100%|██████████| 9/9 [00:00<00:00, 58.71it/s, loss=50.4]\n"
          ]
        },
        {
          "output_type": "stream",
          "name": "stdout",
          "text": [
            "Epoch [735/5000]: Train loss: 43.0955, Valid loss: 28.2090\n"
          ]
        },
        {
          "output_type": "stream",
          "name": "stderr",
          "text": [
            "Epoch [736/5000]: 100%|██████████| 9/9 [00:00<00:00, 24.11it/s, loss=40.8]\n"
          ]
        },
        {
          "output_type": "stream",
          "name": "stdout",
          "text": [
            "Epoch [736/5000]: Train loss: 43.8375, Valid loss: 29.0750\n"
          ]
        },
        {
          "output_type": "stream",
          "name": "stderr",
          "text": [
            "Epoch [737/5000]: 100%|██████████| 9/9 [00:00<00:00, 61.07it/s, loss=44.2]\n"
          ]
        },
        {
          "output_type": "stream",
          "name": "stdout",
          "text": [
            "Epoch [737/5000]: Train loss: 41.5539, Valid loss: 27.8211\n"
          ]
        },
        {
          "output_type": "stream",
          "name": "stderr",
          "text": [
            "Epoch [738/5000]: 100%|██████████| 9/9 [00:00<00:00, 79.63it/s, loss=42.7]\n"
          ]
        },
        {
          "output_type": "stream",
          "name": "stdout",
          "text": [
            "Epoch [738/5000]: Train loss: 43.6860, Valid loss: 26.2906\n"
          ]
        },
        {
          "output_type": "stream",
          "name": "stderr",
          "text": [
            "Epoch [739/5000]: 100%|██████████| 9/9 [00:00<00:00, 73.49it/s, loss=51.5]\n"
          ]
        },
        {
          "output_type": "stream",
          "name": "stdout",
          "text": [
            "Epoch [739/5000]: Train loss: 41.7786, Valid loss: 27.3248\n"
          ]
        },
        {
          "output_type": "stream",
          "name": "stderr",
          "text": [
            "Epoch [740/5000]: 100%|██████████| 9/9 [00:00<00:00, 69.59it/s, loss=42.4]\n"
          ]
        },
        {
          "output_type": "stream",
          "name": "stdout",
          "text": [
            "Epoch [740/5000]: Train loss: 41.2931, Valid loss: 29.5712\n"
          ]
        },
        {
          "output_type": "stream",
          "name": "stderr",
          "text": [
            "Epoch [741/5000]: 100%|██████████| 9/9 [00:00<00:00, 61.37it/s, loss=40.5]\n"
          ]
        },
        {
          "output_type": "stream",
          "name": "stdout",
          "text": [
            "Epoch [741/5000]: Train loss: 41.3374, Valid loss: 27.6045\n"
          ]
        },
        {
          "output_type": "stream",
          "name": "stderr",
          "text": [
            "Epoch [742/5000]: 100%|██████████| 9/9 [00:00<00:00, 56.26it/s, loss=32.8]\n"
          ]
        },
        {
          "output_type": "stream",
          "name": "stdout",
          "text": [
            "Epoch [742/5000]: Train loss: 40.9992, Valid loss: 24.1865\n"
          ]
        },
        {
          "output_type": "stream",
          "name": "stderr",
          "text": [
            "Epoch [743/5000]: 100%|██████████| 9/9 [00:00<00:00, 66.75it/s, loss=34.4]\n"
          ]
        },
        {
          "output_type": "stream",
          "name": "stdout",
          "text": [
            "Epoch [743/5000]: Train loss: 41.9774, Valid loss: 30.8774\n"
          ]
        },
        {
          "output_type": "stream",
          "name": "stderr",
          "text": [
            "Epoch [744/5000]: 100%|██████████| 9/9 [00:00<00:00, 68.58it/s, loss=37.4]\n"
          ]
        },
        {
          "output_type": "stream",
          "name": "stdout",
          "text": [
            "Epoch [744/5000]: Train loss: 41.3625, Valid loss: 24.6451\n"
          ]
        },
        {
          "output_type": "stream",
          "name": "stderr",
          "text": [
            "Epoch [745/5000]: 100%|██████████| 9/9 [00:00<00:00, 58.72it/s, loss=51.9]\n"
          ]
        },
        {
          "output_type": "stream",
          "name": "stdout",
          "text": [
            "Epoch [745/5000]: Train loss: 44.4579, Valid loss: 28.9423\n"
          ]
        },
        {
          "output_type": "stream",
          "name": "stderr",
          "text": [
            "Epoch [746/5000]: 100%|██████████| 9/9 [00:00<00:00, 58.94it/s, loss=30.2]\n"
          ]
        },
        {
          "output_type": "stream",
          "name": "stdout",
          "text": [
            "Epoch [746/5000]: Train loss: 39.4695, Valid loss: 29.1735\n"
          ]
        },
        {
          "output_type": "stream",
          "name": "stderr",
          "text": [
            "Epoch [747/5000]: 100%|██████████| 9/9 [00:00<00:00, 55.87it/s, loss=51.5]\n"
          ]
        },
        {
          "output_type": "stream",
          "name": "stdout",
          "text": [
            "Epoch [747/5000]: Train loss: 43.2383, Valid loss: 31.7324\n"
          ]
        },
        {
          "output_type": "stream",
          "name": "stderr",
          "text": [
            "Epoch [748/5000]: 100%|██████████| 9/9 [00:00<00:00, 54.38it/s, loss=54.1]\n"
          ]
        },
        {
          "output_type": "stream",
          "name": "stdout",
          "text": [
            "Epoch [748/5000]: Train loss: 43.4550, Valid loss: 23.8658\n"
          ]
        },
        {
          "output_type": "stream",
          "name": "stderr",
          "text": [
            "Epoch [749/5000]: 100%|██████████| 9/9 [00:00<00:00, 54.60it/s, loss=26.4]\n"
          ]
        },
        {
          "output_type": "stream",
          "name": "stdout",
          "text": [
            "Epoch [749/5000]: Train loss: 40.2892, Valid loss: 24.7560\n"
          ]
        },
        {
          "output_type": "stream",
          "name": "stderr",
          "text": [
            "Epoch [750/5000]: 100%|██████████| 9/9 [00:00<00:00, 59.38it/s, loss=35.2]\n"
          ]
        },
        {
          "output_type": "stream",
          "name": "stdout",
          "text": [
            "Epoch [750/5000]: Train loss: 41.1645, Valid loss: 25.5195\n"
          ]
        },
        {
          "output_type": "stream",
          "name": "stderr",
          "text": [
            "Epoch [751/5000]: 100%|██████████| 9/9 [00:00<00:00, 53.19it/s, loss=34.4]"
          ]
        },
        {
          "output_type": "stream",
          "name": "stdout",
          "text": [
            "Epoch [751/5000]: Train loss: 39.8759, Valid loss: 25.0081\n"
          ]
        },
        {
          "output_type": "stream",
          "name": "stderr",
          "text": [
            "\n",
            "Epoch [752/5000]: 100%|██████████| 9/9 [00:00<00:00, 69.48it/s, loss=35.2]\n"
          ]
        },
        {
          "output_type": "stream",
          "name": "stdout",
          "text": [
            "Epoch [752/5000]: Train loss: 41.1292, Valid loss: 30.8274\n"
          ]
        },
        {
          "output_type": "stream",
          "name": "stderr",
          "text": [
            "Epoch [753/5000]: 100%|██████████| 9/9 [00:00<00:00, 60.01it/s, loss=48.3]\n"
          ]
        },
        {
          "output_type": "stream",
          "name": "stdout",
          "text": [
            "Epoch [753/5000]: Train loss: 40.4534, Valid loss: 26.2257\n"
          ]
        },
        {
          "output_type": "stream",
          "name": "stderr",
          "text": [
            "Epoch [754/5000]: 100%|██████████| 9/9 [00:00<00:00, 65.49it/s, loss=38.8]\n"
          ]
        },
        {
          "output_type": "stream",
          "name": "stdout",
          "text": [
            "Epoch [754/5000]: Train loss: 40.0882, Valid loss: 26.5412\n"
          ]
        },
        {
          "output_type": "stream",
          "name": "stderr",
          "text": [
            "Epoch [755/5000]: 100%|██████████| 9/9 [00:00<00:00, 65.31it/s, loss=39.3]\n"
          ]
        },
        {
          "output_type": "stream",
          "name": "stdout",
          "text": [
            "Epoch [755/5000]: Train loss: 41.4102, Valid loss: 26.6810\n"
          ]
        },
        {
          "output_type": "stream",
          "name": "stderr",
          "text": [
            "Epoch [756/5000]: 100%|██████████| 9/9 [00:00<00:00, 68.96it/s, loss=34.9]\n"
          ]
        },
        {
          "output_type": "stream",
          "name": "stdout",
          "text": [
            "Epoch [756/5000]: Train loss: 39.8130, Valid loss: 26.2184\n"
          ]
        },
        {
          "output_type": "stream",
          "name": "stderr",
          "text": [
            "Epoch [757/5000]: 100%|██████████| 9/9 [00:00<00:00, 73.40it/s, loss=36.2]\n"
          ]
        },
        {
          "output_type": "stream",
          "name": "stdout",
          "text": [
            "Epoch [757/5000]: Train loss: 40.4475, Valid loss: 23.1915\n"
          ]
        },
        {
          "output_type": "stream",
          "name": "stderr",
          "text": [
            "Epoch [758/5000]: 100%|██████████| 9/9 [00:00<00:00, 58.16it/s, loss=54.9]\n"
          ]
        },
        {
          "output_type": "stream",
          "name": "stdout",
          "text": [
            "Epoch [758/5000]: Train loss: 43.1280, Valid loss: 29.6179\n"
          ]
        },
        {
          "output_type": "stream",
          "name": "stderr",
          "text": [
            "Epoch [759/5000]: 100%|██████████| 9/9 [00:00<00:00, 65.54it/s, loss=39.3]\n"
          ]
        },
        {
          "output_type": "stream",
          "name": "stdout",
          "text": [
            "Epoch [759/5000]: Train loss: 39.2812, Valid loss: 25.3496\n"
          ]
        },
        {
          "output_type": "stream",
          "name": "stderr",
          "text": [
            "Epoch [760/5000]: 100%|██████████| 9/9 [00:00<00:00, 66.21it/s, loss=43.9]\n"
          ]
        },
        {
          "output_type": "stream",
          "name": "stdout",
          "text": [
            "Epoch [760/5000]: Train loss: 41.6691, Valid loss: 26.7757\n"
          ]
        },
        {
          "output_type": "stream",
          "name": "stderr",
          "text": [
            "Epoch [761/5000]: 100%|██████████| 9/9 [00:00<00:00, 68.16it/s, loss=38.2]\n"
          ]
        },
        {
          "output_type": "stream",
          "name": "stdout",
          "text": [
            "Epoch [761/5000]: Train loss: 43.5441, Valid loss: 25.8533\n"
          ]
        },
        {
          "output_type": "stream",
          "name": "stderr",
          "text": [
            "Epoch [762/5000]: 100%|██████████| 9/9 [00:00<00:00, 66.96it/s, loss=32]\n"
          ]
        },
        {
          "output_type": "stream",
          "name": "stdout",
          "text": [
            "Epoch [762/5000]: Train loss: 40.0663, Valid loss: 24.6674\n"
          ]
        },
        {
          "output_type": "stream",
          "name": "stderr",
          "text": [
            "Epoch [763/5000]: 100%|██████████| 9/9 [00:00<00:00, 70.24it/s, loss=32.3]\n"
          ]
        },
        {
          "output_type": "stream",
          "name": "stdout",
          "text": [
            "Epoch [763/5000]: Train loss: 38.0353, Valid loss: 21.9000\n",
            "Saving model with loss 21.900...\n"
          ]
        },
        {
          "output_type": "stream",
          "name": "stderr",
          "text": [
            "Epoch [764/5000]: 100%|██████████| 9/9 [00:00<00:00, 63.13it/s, loss=41.4]\n"
          ]
        },
        {
          "output_type": "stream",
          "name": "stdout",
          "text": [
            "Epoch [764/5000]: Train loss: 39.4630, Valid loss: 32.5235\n"
          ]
        },
        {
          "output_type": "stream",
          "name": "stderr",
          "text": [
            "Epoch [765/5000]: 100%|██████████| 9/9 [00:00<00:00, 58.98it/s, loss=52.4]\n"
          ]
        },
        {
          "output_type": "stream",
          "name": "stdout",
          "text": [
            "Epoch [765/5000]: Train loss: 41.3431, Valid loss: 29.7704\n"
          ]
        },
        {
          "output_type": "stream",
          "name": "stderr",
          "text": [
            "Epoch [766/5000]: 100%|██████████| 9/9 [00:00<00:00, 73.37it/s, loss=43.8]\n"
          ]
        },
        {
          "output_type": "stream",
          "name": "stdout",
          "text": [
            "Epoch [766/5000]: Train loss: 41.1621, Valid loss: 27.9663\n"
          ]
        },
        {
          "output_type": "stream",
          "name": "stderr",
          "text": [
            "Epoch [767/5000]: 100%|██████████| 9/9 [00:00<00:00, 61.27it/s, loss=41.4]\n"
          ]
        },
        {
          "output_type": "stream",
          "name": "stdout",
          "text": [
            "Epoch [767/5000]: Train loss: 42.7606, Valid loss: 26.6815\n"
          ]
        },
        {
          "output_type": "stream",
          "name": "stderr",
          "text": [
            "Epoch [768/5000]: 100%|██████████| 9/9 [00:00<00:00, 57.11it/s, loss=40.7]\n"
          ]
        },
        {
          "output_type": "stream",
          "name": "stdout",
          "text": [
            "Epoch [768/5000]: Train loss: 39.5324, Valid loss: 27.6118\n"
          ]
        },
        {
          "output_type": "stream",
          "name": "stderr",
          "text": [
            "Epoch [769/5000]: 100%|██████████| 9/9 [00:00<00:00, 51.46it/s, loss=33.5]\n"
          ]
        },
        {
          "output_type": "stream",
          "name": "stdout",
          "text": [
            "Epoch [769/5000]: Train loss: 40.9963, Valid loss: 29.1636\n"
          ]
        },
        {
          "output_type": "stream",
          "name": "stderr",
          "text": [
            "Epoch [770/5000]: 100%|██████████| 9/9 [00:00<00:00, 60.06it/s, loss=45.6]\n"
          ]
        },
        {
          "output_type": "stream",
          "name": "stdout",
          "text": [
            "Epoch [770/5000]: Train loss: 41.6480, Valid loss: 28.7167\n"
          ]
        },
        {
          "output_type": "stream",
          "name": "stderr",
          "text": [
            "Epoch [771/5000]: 100%|██████████| 9/9 [00:00<00:00, 65.54it/s, loss=40.7]\n"
          ]
        },
        {
          "output_type": "stream",
          "name": "stdout",
          "text": [
            "Epoch [771/5000]: Train loss: 40.0296, Valid loss: 28.6323\n"
          ]
        },
        {
          "output_type": "stream",
          "name": "stderr",
          "text": [
            "Epoch [772/5000]: 100%|██████████| 9/9 [00:00<00:00, 62.42it/s, loss=35.6]\n"
          ]
        },
        {
          "output_type": "stream",
          "name": "stdout",
          "text": [
            "Epoch [772/5000]: Train loss: 39.4357, Valid loss: 28.0743\n"
          ]
        },
        {
          "output_type": "stream",
          "name": "stderr",
          "text": [
            "Epoch [773/5000]: 100%|██████████| 9/9 [00:00<00:00, 60.26it/s, loss=42.9]\n"
          ]
        },
        {
          "output_type": "stream",
          "name": "stdout",
          "text": [
            "Epoch [773/5000]: Train loss: 38.4512, Valid loss: 27.1986\n"
          ]
        },
        {
          "output_type": "stream",
          "name": "stderr",
          "text": [
            "Epoch [774/5000]: 100%|██████████| 9/9 [00:00<00:00, 56.04it/s, loss=38.3]\n"
          ]
        },
        {
          "output_type": "stream",
          "name": "stdout",
          "text": [
            "Epoch [774/5000]: Train loss: 35.9444, Valid loss: 30.0089\n"
          ]
        },
        {
          "output_type": "stream",
          "name": "stderr",
          "text": [
            "Epoch [775/5000]: 100%|██████████| 9/9 [00:00<00:00, 56.53it/s, loss=48.2]\n"
          ]
        },
        {
          "output_type": "stream",
          "name": "stdout",
          "text": [
            "Epoch [775/5000]: Train loss: 38.7427, Valid loss: 30.7761\n"
          ]
        },
        {
          "output_type": "stream",
          "name": "stderr",
          "text": [
            "Epoch [776/5000]: 100%|██████████| 9/9 [00:00<00:00, 54.99it/s, loss=34.8]\n"
          ]
        },
        {
          "output_type": "stream",
          "name": "stdout",
          "text": [
            "Epoch [776/5000]: Train loss: 39.4011, Valid loss: 27.1775\n"
          ]
        },
        {
          "output_type": "stream",
          "name": "stderr",
          "text": [
            "Epoch [777/5000]: 100%|██████████| 9/9 [00:00<00:00, 52.54it/s, loss=35.3]\n"
          ]
        },
        {
          "output_type": "stream",
          "name": "stdout",
          "text": [
            "Epoch [777/5000]: Train loss: 40.8023, Valid loss: 28.4050\n"
          ]
        },
        {
          "output_type": "stream",
          "name": "stderr",
          "text": [
            "Epoch [778/5000]: 100%|██████████| 9/9 [00:00<00:00, 65.20it/s, loss=58.5]\n"
          ]
        },
        {
          "output_type": "stream",
          "name": "stdout",
          "text": [
            "Epoch [778/5000]: Train loss: 42.1220, Valid loss: 24.1942\n"
          ]
        },
        {
          "output_type": "stream",
          "name": "stderr",
          "text": [
            "Epoch [779/5000]: 100%|██████████| 9/9 [00:00<00:00, 71.91it/s, loss=55]\n"
          ]
        },
        {
          "output_type": "stream",
          "name": "stdout",
          "text": [
            "Epoch [779/5000]: Train loss: 42.1508, Valid loss: 30.8924\n"
          ]
        },
        {
          "output_type": "stream",
          "name": "stderr",
          "text": [
            "Epoch [780/5000]: 100%|██████████| 9/9 [00:00<00:00, 73.10it/s, loss=41.5]\n"
          ]
        },
        {
          "output_type": "stream",
          "name": "stdout",
          "text": [
            "Epoch [780/5000]: Train loss: 40.1158, Valid loss: 27.4918\n"
          ]
        },
        {
          "output_type": "stream",
          "name": "stderr",
          "text": [
            "Epoch [781/5000]: 100%|██████████| 9/9 [00:00<00:00, 63.96it/s, loss=34.2]\n"
          ]
        },
        {
          "output_type": "stream",
          "name": "stdout",
          "text": [
            "Epoch [781/5000]: Train loss: 38.7618, Valid loss: 27.3666\n"
          ]
        },
        {
          "output_type": "stream",
          "name": "stderr",
          "text": [
            "Epoch [782/5000]: 100%|██████████| 9/9 [00:00<00:00, 70.31it/s, loss=35.8]\n"
          ]
        },
        {
          "output_type": "stream",
          "name": "stdout",
          "text": [
            "Epoch [782/5000]: Train loss: 40.7084, Valid loss: 27.1895\n"
          ]
        },
        {
          "output_type": "stream",
          "name": "stderr",
          "text": [
            "Epoch [783/5000]: 100%|██████████| 9/9 [00:00<00:00, 67.49it/s, loss=39]\n"
          ]
        },
        {
          "output_type": "stream",
          "name": "stdout",
          "text": [
            "Epoch [783/5000]: Train loss: 40.0658, Valid loss: 22.3577\n"
          ]
        },
        {
          "output_type": "stream",
          "name": "stderr",
          "text": [
            "Epoch [784/5000]: 100%|██████████| 9/9 [00:00<00:00, 74.64it/s, loss=45.2]\n"
          ]
        },
        {
          "output_type": "stream",
          "name": "stdout",
          "text": [
            "Epoch [784/5000]: Train loss: 39.7105, Valid loss: 24.8049\n"
          ]
        },
        {
          "output_type": "stream",
          "name": "stderr",
          "text": [
            "Epoch [785/5000]: 100%|██████████| 9/9 [00:00<00:00, 64.92it/s, loss=31.4]\n"
          ]
        },
        {
          "output_type": "stream",
          "name": "stdout",
          "text": [
            "Epoch [785/5000]: Train loss: 38.6222, Valid loss: 22.9644\n"
          ]
        },
        {
          "output_type": "stream",
          "name": "stderr",
          "text": [
            "Epoch [786/5000]: 100%|██████████| 9/9 [00:00<00:00, 60.08it/s, loss=52.3]\n"
          ]
        },
        {
          "output_type": "stream",
          "name": "stdout",
          "text": [
            "Epoch [786/5000]: Train loss: 40.5239, Valid loss: 22.0299\n"
          ]
        },
        {
          "output_type": "stream",
          "name": "stderr",
          "text": [
            "Epoch [787/5000]: 100%|██████████| 9/9 [00:00<00:00, 60.36it/s, loss=34.6]\n"
          ]
        },
        {
          "output_type": "stream",
          "name": "stdout",
          "text": [
            "Epoch [787/5000]: Train loss: 38.3347, Valid loss: 25.2834\n"
          ]
        },
        {
          "output_type": "stream",
          "name": "stderr",
          "text": [
            "Epoch [788/5000]: 100%|██████████| 9/9 [00:00<00:00, 50.90it/s, loss=33.5]\n"
          ]
        },
        {
          "output_type": "stream",
          "name": "stdout",
          "text": [
            "Epoch [788/5000]: Train loss: 38.7863, Valid loss: 24.4955\n"
          ]
        },
        {
          "output_type": "stream",
          "name": "stderr",
          "text": [
            "Epoch [789/5000]: 100%|██████████| 9/9 [00:00<00:00, 51.73it/s, loss=36.7]\n"
          ]
        },
        {
          "output_type": "stream",
          "name": "stdout",
          "text": [
            "Epoch [789/5000]: Train loss: 39.7256, Valid loss: 23.5250\n"
          ]
        },
        {
          "output_type": "stream",
          "name": "stderr",
          "text": [
            "Epoch [790/5000]: 100%|██████████| 9/9 [00:00<00:00, 59.35it/s, loss=39.5]\n"
          ]
        },
        {
          "output_type": "stream",
          "name": "stdout",
          "text": [
            "Epoch [790/5000]: Train loss: 39.5542, Valid loss: 30.5864\n"
          ]
        },
        {
          "output_type": "stream",
          "name": "stderr",
          "text": [
            "Epoch [791/5000]: 100%|██████████| 9/9 [00:00<00:00, 59.15it/s, loss=41.6]\n"
          ]
        },
        {
          "output_type": "stream",
          "name": "stdout",
          "text": [
            "Epoch [791/5000]: Train loss: 39.5579, Valid loss: 23.3341\n"
          ]
        },
        {
          "output_type": "stream",
          "name": "stderr",
          "text": [
            "Epoch [792/5000]: 100%|██████████| 9/9 [00:00<00:00, 65.29it/s, loss=39.1]\n"
          ]
        },
        {
          "output_type": "stream",
          "name": "stdout",
          "text": [
            "Epoch [792/5000]: Train loss: 39.0074, Valid loss: 24.6069\n"
          ]
        },
        {
          "output_type": "stream",
          "name": "stderr",
          "text": [
            "Epoch [793/5000]: 100%|██████████| 9/9 [00:00<00:00, 55.63it/s, loss=48.5]\n"
          ]
        },
        {
          "output_type": "stream",
          "name": "stdout",
          "text": [
            "Epoch [793/5000]: Train loss: 39.6120, Valid loss: 23.8581\n"
          ]
        },
        {
          "output_type": "stream",
          "name": "stderr",
          "text": [
            "Epoch [794/5000]: 100%|██████████| 9/9 [00:00<00:00, 56.31it/s, loss=43.9]\n"
          ]
        },
        {
          "output_type": "stream",
          "name": "stdout",
          "text": [
            "Epoch [794/5000]: Train loss: 40.6892, Valid loss: 27.8076\n"
          ]
        },
        {
          "output_type": "stream",
          "name": "stderr",
          "text": [
            "Epoch [795/5000]: 100%|██████████| 9/9 [00:00<00:00, 66.82it/s, loss=45]\n"
          ]
        },
        {
          "output_type": "stream",
          "name": "stdout",
          "text": [
            "Epoch [795/5000]: Train loss: 39.3267, Valid loss: 23.5184\n"
          ]
        },
        {
          "output_type": "stream",
          "name": "stderr",
          "text": [
            "Epoch [796/5000]: 100%|██████████| 9/9 [00:00<00:00, 73.75it/s, loss=32]\n"
          ]
        },
        {
          "output_type": "stream",
          "name": "stdout",
          "text": [
            "Epoch [796/5000]: Train loss: 39.1336, Valid loss: 26.2767\n"
          ]
        },
        {
          "output_type": "stream",
          "name": "stderr",
          "text": [
            "Epoch [797/5000]: 100%|██████████| 9/9 [00:00<00:00, 65.07it/s, loss=37.9]\n"
          ]
        },
        {
          "output_type": "stream",
          "name": "stdout",
          "text": [
            "Epoch [797/5000]: Train loss: 39.2611, Valid loss: 27.1827\n"
          ]
        },
        {
          "output_type": "stream",
          "name": "stderr",
          "text": [
            "Epoch [798/5000]: 100%|██████████| 9/9 [00:00<00:00, 50.06it/s, loss=36.5]\n"
          ]
        },
        {
          "output_type": "stream",
          "name": "stdout",
          "text": [
            "Epoch [798/5000]: Train loss: 37.1069, Valid loss: 21.6978\n",
            "Saving model with loss 21.698...\n"
          ]
        },
        {
          "output_type": "stream",
          "name": "stderr",
          "text": [
            "Epoch [799/5000]: 100%|██████████| 9/9 [00:00<00:00, 53.95it/s, loss=48.2]\n"
          ]
        },
        {
          "output_type": "stream",
          "name": "stdout",
          "text": [
            "Epoch [799/5000]: Train loss: 41.4789, Valid loss: 25.9671\n"
          ]
        },
        {
          "output_type": "stream",
          "name": "stderr",
          "text": [
            "Epoch [800/5000]: 100%|██████████| 9/9 [00:00<00:00, 54.66it/s, loss=28.5]\n"
          ]
        },
        {
          "output_type": "stream",
          "name": "stdout",
          "text": [
            "Epoch [800/5000]: Train loss: 39.7966, Valid loss: 23.9482\n"
          ]
        },
        {
          "output_type": "stream",
          "name": "stderr",
          "text": [
            "Epoch [801/5000]: 100%|██████████| 9/9 [00:00<00:00, 73.04it/s, loss=39.2]\n"
          ]
        },
        {
          "output_type": "stream",
          "name": "stdout",
          "text": [
            "Epoch [801/5000]: Train loss: 40.1634, Valid loss: 26.0161\n"
          ]
        },
        {
          "output_type": "stream",
          "name": "stderr",
          "text": [
            "Epoch [802/5000]: 100%|██████████| 9/9 [00:00<00:00, 67.55it/s, loss=40.5]\n"
          ]
        },
        {
          "output_type": "stream",
          "name": "stdout",
          "text": [
            "Epoch [802/5000]: Train loss: 40.5505, Valid loss: 26.6955\n"
          ]
        },
        {
          "output_type": "stream",
          "name": "stderr",
          "text": [
            "Epoch [803/5000]: 100%|██████████| 9/9 [00:00<00:00, 56.16it/s, loss=62]\n"
          ]
        },
        {
          "output_type": "stream",
          "name": "stdout",
          "text": [
            "Epoch [803/5000]: Train loss: 40.1063, Valid loss: 28.1537\n"
          ]
        },
        {
          "output_type": "stream",
          "name": "stderr",
          "text": [
            "Epoch [804/5000]: 100%|██████████| 9/9 [00:00<00:00, 55.35it/s, loss=39.6]\n"
          ]
        },
        {
          "output_type": "stream",
          "name": "stdout",
          "text": [
            "Epoch [804/5000]: Train loss: 42.1414, Valid loss: 28.3266\n"
          ]
        },
        {
          "output_type": "stream",
          "name": "stderr",
          "text": [
            "Epoch [805/5000]: 100%|██████████| 9/9 [00:00<00:00, 62.53it/s, loss=45.3]\n"
          ]
        },
        {
          "output_type": "stream",
          "name": "stdout",
          "text": [
            "Epoch [805/5000]: Train loss: 40.0962, Valid loss: 25.3066\n"
          ]
        },
        {
          "output_type": "stream",
          "name": "stderr",
          "text": [
            "Epoch [806/5000]: 100%|██████████| 9/9 [00:00<00:00, 62.51it/s, loss=38]\n"
          ]
        },
        {
          "output_type": "stream",
          "name": "stdout",
          "text": [
            "Epoch [806/5000]: Train loss: 37.9379, Valid loss: 24.7080\n"
          ]
        },
        {
          "output_type": "stream",
          "name": "stderr",
          "text": [
            "Epoch [807/5000]: 100%|██████████| 9/9 [00:00<00:00, 57.29it/s, loss=27.3]\n"
          ]
        },
        {
          "output_type": "stream",
          "name": "stdout",
          "text": [
            "Epoch [807/5000]: Train loss: 37.8205, Valid loss: 22.4848\n"
          ]
        },
        {
          "output_type": "stream",
          "name": "stderr",
          "text": [
            "Epoch [808/5000]: 100%|██████████| 9/9 [00:00<00:00, 62.68it/s, loss=29.7]\n"
          ]
        },
        {
          "output_type": "stream",
          "name": "stdout",
          "text": [
            "Epoch [808/5000]: Train loss: 37.7482, Valid loss: 25.6711\n"
          ]
        },
        {
          "output_type": "stream",
          "name": "stderr",
          "text": [
            "Epoch [809/5000]: 100%|██████████| 9/9 [00:00<00:00, 61.11it/s, loss=40.7]\n"
          ]
        },
        {
          "output_type": "stream",
          "name": "stdout",
          "text": [
            "Epoch [809/5000]: Train loss: 39.8437, Valid loss: 25.6125\n"
          ]
        },
        {
          "output_type": "stream",
          "name": "stderr",
          "text": [
            "Epoch [810/5000]: 100%|██████████| 9/9 [00:00<00:00, 71.07it/s, loss=27.4]\n"
          ]
        },
        {
          "output_type": "stream",
          "name": "stdout",
          "text": [
            "Epoch [810/5000]: Train loss: 37.3181, Valid loss: 25.8170\n"
          ]
        },
        {
          "output_type": "stream",
          "name": "stderr",
          "text": [
            "Epoch [811/5000]: 100%|██████████| 9/9 [00:00<00:00, 69.66it/s, loss=42]\n"
          ]
        },
        {
          "output_type": "stream",
          "name": "stdout",
          "text": [
            "Epoch [811/5000]: Train loss: 40.2392, Valid loss: 23.9890\n"
          ]
        },
        {
          "output_type": "stream",
          "name": "stderr",
          "text": [
            "Epoch [812/5000]: 100%|██████████| 9/9 [00:00<00:00, 57.94it/s, loss=35.1]\n"
          ]
        },
        {
          "output_type": "stream",
          "name": "stdout",
          "text": [
            "Epoch [812/5000]: Train loss: 38.7426, Valid loss: 24.6451\n"
          ]
        },
        {
          "output_type": "stream",
          "name": "stderr",
          "text": [
            "Epoch [813/5000]: 100%|██████████| 9/9 [00:00<00:00, 62.16it/s, loss=42.8]\n"
          ]
        },
        {
          "output_type": "stream",
          "name": "stdout",
          "text": [
            "Epoch [813/5000]: Train loss: 40.6149, Valid loss: 28.0238\n"
          ]
        },
        {
          "output_type": "stream",
          "name": "stderr",
          "text": [
            "Epoch [814/5000]: 100%|██████████| 9/9 [00:00<00:00, 65.99it/s, loss=34]\n"
          ]
        },
        {
          "output_type": "stream",
          "name": "stdout",
          "text": [
            "Epoch [814/5000]: Train loss: 36.5077, Valid loss: 23.6029\n"
          ]
        },
        {
          "output_type": "stream",
          "name": "stderr",
          "text": [
            "Epoch [815/5000]: 100%|██████████| 9/9 [00:00<00:00, 57.07it/s, loss=35.6]\n"
          ]
        },
        {
          "output_type": "stream",
          "name": "stdout",
          "text": [
            "Epoch [815/5000]: Train loss: 39.9037, Valid loss: 27.0131\n"
          ]
        },
        {
          "output_type": "stream",
          "name": "stderr",
          "text": [
            "Epoch [816/5000]: 100%|██████████| 9/9 [00:00<00:00, 67.68it/s, loss=31.2]\n"
          ]
        },
        {
          "output_type": "stream",
          "name": "stdout",
          "text": [
            "Epoch [816/5000]: Train loss: 37.4429, Valid loss: 24.9073\n"
          ]
        },
        {
          "output_type": "stream",
          "name": "stderr",
          "text": [
            "Epoch [817/5000]: 100%|██████████| 9/9 [00:00<00:00, 67.44it/s, loss=39.4]\n"
          ]
        },
        {
          "output_type": "stream",
          "name": "stdout",
          "text": [
            "Epoch [817/5000]: Train loss: 37.6892, Valid loss: 20.8492\n",
            "Saving model with loss 20.849...\n"
          ]
        },
        {
          "output_type": "stream",
          "name": "stderr",
          "text": [
            "Epoch [818/5000]: 100%|██████████| 9/9 [00:00<00:00, 26.30it/s, loss=34.5]\n"
          ]
        },
        {
          "output_type": "stream",
          "name": "stdout",
          "text": [
            "Epoch [818/5000]: Train loss: 38.8709, Valid loss: 23.9017\n"
          ]
        },
        {
          "output_type": "stream",
          "name": "stderr",
          "text": [
            "Epoch [819/5000]: 100%|██████████| 9/9 [00:00<00:00, 67.81it/s, loss=40.2]\n"
          ]
        },
        {
          "output_type": "stream",
          "name": "stdout",
          "text": [
            "Epoch [819/5000]: Train loss: 37.7930, Valid loss: 24.4966\n"
          ]
        },
        {
          "output_type": "stream",
          "name": "stderr",
          "text": [
            "Epoch [820/5000]: 100%|██████████| 9/9 [00:00<00:00, 60.58it/s, loss=40.3]\n"
          ]
        },
        {
          "output_type": "stream",
          "name": "stdout",
          "text": [
            "Epoch [820/5000]: Train loss: 38.6129, Valid loss: 22.1957\n"
          ]
        },
        {
          "output_type": "stream",
          "name": "stderr",
          "text": [
            "Epoch [821/5000]: 100%|██████████| 9/9 [00:00<00:00, 54.68it/s, loss=30.9]\n"
          ]
        },
        {
          "output_type": "stream",
          "name": "stdout",
          "text": [
            "Epoch [821/5000]: Train loss: 38.9340, Valid loss: 24.4400\n"
          ]
        },
        {
          "output_type": "stream",
          "name": "stderr",
          "text": [
            "Epoch [822/5000]: 100%|██████████| 9/9 [00:00<00:00, 64.83it/s, loss=39.3]\n"
          ]
        },
        {
          "output_type": "stream",
          "name": "stdout",
          "text": [
            "Epoch [822/5000]: Train loss: 38.8807, Valid loss: 21.9141\n"
          ]
        },
        {
          "output_type": "stream",
          "name": "stderr",
          "text": [
            "Epoch [823/5000]: 100%|██████████| 9/9 [00:00<00:00, 68.65it/s, loss=32.9]\n"
          ]
        },
        {
          "output_type": "stream",
          "name": "stdout",
          "text": [
            "Epoch [823/5000]: Train loss: 36.1215, Valid loss: 24.4708\n"
          ]
        },
        {
          "output_type": "stream",
          "name": "stderr",
          "text": [
            "Epoch [824/5000]: 100%|██████████| 9/9 [00:00<00:00, 64.72it/s, loss=26.2]\n"
          ]
        },
        {
          "output_type": "stream",
          "name": "stdout",
          "text": [
            "Epoch [824/5000]: Train loss: 36.0168, Valid loss: 22.6154\n"
          ]
        },
        {
          "output_type": "stream",
          "name": "stderr",
          "text": [
            "Epoch [825/5000]: 100%|██████████| 9/9 [00:00<00:00, 67.65it/s, loss=41.7]\n"
          ]
        },
        {
          "output_type": "stream",
          "name": "stdout",
          "text": [
            "Epoch [825/5000]: Train loss: 37.6280, Valid loss: 25.3021\n"
          ]
        },
        {
          "output_type": "stream",
          "name": "stderr",
          "text": [
            "Epoch [826/5000]: 100%|██████████| 9/9 [00:00<00:00, 59.61it/s, loss=33]\n"
          ]
        },
        {
          "output_type": "stream",
          "name": "stdout",
          "text": [
            "Epoch [826/5000]: Train loss: 37.8938, Valid loss: 24.5987\n"
          ]
        },
        {
          "output_type": "stream",
          "name": "stderr",
          "text": [
            "Epoch [827/5000]: 100%|██████████| 9/9 [00:00<00:00, 66.51it/s, loss=45.4]\n"
          ]
        },
        {
          "output_type": "stream",
          "name": "stdout",
          "text": [
            "Epoch [827/5000]: Train loss: 39.6207, Valid loss: 25.3596\n"
          ]
        },
        {
          "output_type": "stream",
          "name": "stderr",
          "text": [
            "Epoch [828/5000]: 100%|██████████| 9/9 [00:00<00:00, 69.10it/s, loss=52.5]\n"
          ]
        },
        {
          "output_type": "stream",
          "name": "stdout",
          "text": [
            "Epoch [828/5000]: Train loss: 37.1137, Valid loss: 26.1001\n"
          ]
        },
        {
          "output_type": "stream",
          "name": "stderr",
          "text": [
            "Epoch [829/5000]: 100%|██████████| 9/9 [00:00<00:00, 70.39it/s, loss=31.5]\n"
          ]
        },
        {
          "output_type": "stream",
          "name": "stdout",
          "text": [
            "Epoch [829/5000]: Train loss: 40.0639, Valid loss: 24.0161\n"
          ]
        },
        {
          "output_type": "stream",
          "name": "stderr",
          "text": [
            "Epoch [830/5000]: 100%|██████████| 9/9 [00:00<00:00, 70.39it/s, loss=34.5]\n"
          ]
        },
        {
          "output_type": "stream",
          "name": "stdout",
          "text": [
            "Epoch [830/5000]: Train loss: 37.5607, Valid loss: 28.4773\n"
          ]
        },
        {
          "output_type": "stream",
          "name": "stderr",
          "text": [
            "Epoch [831/5000]: 100%|██████████| 9/9 [00:00<00:00, 66.85it/s, loss=36.1]\n"
          ]
        },
        {
          "output_type": "stream",
          "name": "stdout",
          "text": [
            "Epoch [831/5000]: Train loss: 37.1993, Valid loss: 28.2570\n"
          ]
        },
        {
          "output_type": "stream",
          "name": "stderr",
          "text": [
            "Epoch [832/5000]: 100%|██████████| 9/9 [00:00<00:00, 56.71it/s, loss=35.4]\n"
          ]
        },
        {
          "output_type": "stream",
          "name": "stdout",
          "text": [
            "Epoch [832/5000]: Train loss: 37.0616, Valid loss: 23.0792\n"
          ]
        },
        {
          "output_type": "stream",
          "name": "stderr",
          "text": [
            "Epoch [833/5000]: 100%|██████████| 9/9 [00:00<00:00, 55.98it/s, loss=45.6]\n"
          ]
        },
        {
          "output_type": "stream",
          "name": "stdout",
          "text": [
            "Epoch [833/5000]: Train loss: 38.1787, Valid loss: 19.6822\n",
            "Saving model with loss 19.682...\n"
          ]
        },
        {
          "output_type": "stream",
          "name": "stderr",
          "text": [
            "Epoch [834/5000]: 100%|██████████| 9/9 [00:00<00:00, 51.59it/s, loss=49]\n"
          ]
        },
        {
          "output_type": "stream",
          "name": "stdout",
          "text": [
            "Epoch [834/5000]: Train loss: 36.8573, Valid loss: 23.1785\n"
          ]
        },
        {
          "output_type": "stream",
          "name": "stderr",
          "text": [
            "Epoch [835/5000]: 100%|██████████| 9/9 [00:00<00:00, 55.08it/s, loss=46.1]\n"
          ]
        },
        {
          "output_type": "stream",
          "name": "stdout",
          "text": [
            "Epoch [835/5000]: Train loss: 38.1715, Valid loss: 20.8995\n"
          ]
        },
        {
          "output_type": "stream",
          "name": "stderr",
          "text": [
            "Epoch [836/5000]: 100%|██████████| 9/9 [00:00<00:00, 65.03it/s, loss=37.4]\n"
          ]
        },
        {
          "output_type": "stream",
          "name": "stdout",
          "text": [
            "Epoch [836/5000]: Train loss: 37.4828, Valid loss: 28.5725\n"
          ]
        },
        {
          "output_type": "stream",
          "name": "stderr",
          "text": [
            "Epoch [837/5000]: 100%|██████████| 9/9 [00:00<00:00, 66.90it/s, loss=37.5]\n"
          ]
        },
        {
          "output_type": "stream",
          "name": "stdout",
          "text": [
            "Epoch [837/5000]: Train loss: 36.8029, Valid loss: 19.0546\n",
            "Saving model with loss 19.055...\n"
          ]
        },
        {
          "output_type": "stream",
          "name": "stderr",
          "text": [
            "Epoch [838/5000]: 100%|██████████| 9/9 [00:00<00:00, 58.37it/s, loss=48.8]\n"
          ]
        },
        {
          "output_type": "stream",
          "name": "stdout",
          "text": [
            "Epoch [838/5000]: Train loss: 35.9394, Valid loss: 23.5917\n"
          ]
        },
        {
          "output_type": "stream",
          "name": "stderr",
          "text": [
            "Epoch [839/5000]: 100%|██████████| 9/9 [00:00<00:00, 64.82it/s, loss=40.6]\n"
          ]
        },
        {
          "output_type": "stream",
          "name": "stdout",
          "text": [
            "Epoch [839/5000]: Train loss: 37.1583, Valid loss: 20.7230\n"
          ]
        },
        {
          "output_type": "stream",
          "name": "stderr",
          "text": [
            "Epoch [840/5000]: 100%|██████████| 9/9 [00:00<00:00, 57.53it/s, loss=29.1]\n"
          ]
        },
        {
          "output_type": "stream",
          "name": "stdout",
          "text": [
            "Epoch [840/5000]: Train loss: 36.1405, Valid loss: 21.2109\n"
          ]
        },
        {
          "output_type": "stream",
          "name": "stderr",
          "text": [
            "Epoch [841/5000]: 100%|██████████| 9/9 [00:00<00:00, 76.33it/s, loss=35.6]\n"
          ]
        },
        {
          "output_type": "stream",
          "name": "stdout",
          "text": [
            "Epoch [841/5000]: Train loss: 36.7870, Valid loss: 21.0855\n"
          ]
        },
        {
          "output_type": "stream",
          "name": "stderr",
          "text": [
            "Epoch [842/5000]: 100%|██████████| 9/9 [00:00<00:00, 73.97it/s, loss=35.3]\n"
          ]
        },
        {
          "output_type": "stream",
          "name": "stdout",
          "text": [
            "Epoch [842/5000]: Train loss: 37.7114, Valid loss: 26.6354\n"
          ]
        },
        {
          "output_type": "stream",
          "name": "stderr",
          "text": [
            "Epoch [843/5000]: 100%|██████████| 9/9 [00:00<00:00, 76.90it/s, loss=47.4]\n"
          ]
        },
        {
          "output_type": "stream",
          "name": "stdout",
          "text": [
            "Epoch [843/5000]: Train loss: 35.8478, Valid loss: 26.1312\n"
          ]
        },
        {
          "output_type": "stream",
          "name": "stderr",
          "text": [
            "Epoch [844/5000]: 100%|██████████| 9/9 [00:00<00:00, 63.27it/s, loss=34.1]\n"
          ]
        },
        {
          "output_type": "stream",
          "name": "stdout",
          "text": [
            "Epoch [844/5000]: Train loss: 36.4336, Valid loss: 24.0480\n"
          ]
        },
        {
          "output_type": "stream",
          "name": "stderr",
          "text": [
            "Epoch [845/5000]: 100%|██████████| 9/9 [00:00<00:00, 62.36it/s, loss=37.7]\n"
          ]
        },
        {
          "output_type": "stream",
          "name": "stdout",
          "text": [
            "Epoch [845/5000]: Train loss: 35.7513, Valid loss: 22.1048\n"
          ]
        },
        {
          "output_type": "stream",
          "name": "stderr",
          "text": [
            "Epoch [846/5000]: 100%|██████████| 9/9 [00:00<00:00, 56.78it/s, loss=38.5]\n"
          ]
        },
        {
          "output_type": "stream",
          "name": "stdout",
          "text": [
            "Epoch [846/5000]: Train loss: 36.4109, Valid loss: 22.2247\n"
          ]
        },
        {
          "output_type": "stream",
          "name": "stderr",
          "text": [
            "Epoch [847/5000]: 100%|██████████| 9/9 [00:00<00:00, 59.52it/s, loss=49.3]\n"
          ]
        },
        {
          "output_type": "stream",
          "name": "stdout",
          "text": [
            "Epoch [847/5000]: Train loss: 37.5778, Valid loss: 22.9675\n"
          ]
        },
        {
          "output_type": "stream",
          "name": "stderr",
          "text": [
            "Epoch [848/5000]: 100%|██████████| 9/9 [00:00<00:00, 72.17it/s, loss=42.2]\n"
          ]
        },
        {
          "output_type": "stream",
          "name": "stdout",
          "text": [
            "Epoch [848/5000]: Train loss: 38.0660, Valid loss: 18.7945\n",
            "Saving model with loss 18.795...\n"
          ]
        },
        {
          "output_type": "stream",
          "name": "stderr",
          "text": [
            "Epoch [849/5000]: 100%|██████████| 9/9 [00:00<00:00, 70.62it/s, loss=42.5]\n"
          ]
        },
        {
          "output_type": "stream",
          "name": "stdout",
          "text": [
            "Epoch [849/5000]: Train loss: 37.6590, Valid loss: 21.7123\n"
          ]
        },
        {
          "output_type": "stream",
          "name": "stderr",
          "text": [
            "Epoch [850/5000]: 100%|██████████| 9/9 [00:00<00:00, 55.22it/s, loss=34.2]\n"
          ]
        },
        {
          "output_type": "stream",
          "name": "stdout",
          "text": [
            "Epoch [850/5000]: Train loss: 33.5294, Valid loss: 27.5865\n"
          ]
        },
        {
          "output_type": "stream",
          "name": "stderr",
          "text": [
            "Epoch [851/5000]: 100%|██████████| 9/9 [00:00<00:00, 66.16it/s, loss=39.2]\n"
          ]
        },
        {
          "output_type": "stream",
          "name": "stdout",
          "text": [
            "Epoch [851/5000]: Train loss: 37.1631, Valid loss: 25.9057\n"
          ]
        },
        {
          "output_type": "stream",
          "name": "stderr",
          "text": [
            "Epoch [852/5000]: 100%|██████████| 9/9 [00:00<00:00, 69.50it/s, loss=41.3]\n"
          ]
        },
        {
          "output_type": "stream",
          "name": "stdout",
          "text": [
            "Epoch [852/5000]: Train loss: 36.3462, Valid loss: 20.8271\n"
          ]
        },
        {
          "output_type": "stream",
          "name": "stderr",
          "text": [
            "Epoch [853/5000]: 100%|██████████| 9/9 [00:00<00:00, 73.89it/s, loss=40.4]\n"
          ]
        },
        {
          "output_type": "stream",
          "name": "stdout",
          "text": [
            "Epoch [853/5000]: Train loss: 38.5022, Valid loss: 24.8717\n"
          ]
        },
        {
          "output_type": "stream",
          "name": "stderr",
          "text": [
            "Epoch [854/5000]: 100%|██████████| 9/9 [00:00<00:00, 55.68it/s, loss=41]\n"
          ]
        },
        {
          "output_type": "stream",
          "name": "stdout",
          "text": [
            "Epoch [854/5000]: Train loss: 36.7734, Valid loss: 23.1911\n"
          ]
        },
        {
          "output_type": "stream",
          "name": "stderr",
          "text": [
            "Epoch [855/5000]: 100%|██████████| 9/9 [00:00<00:00, 56.77it/s, loss=31.7]\n"
          ]
        },
        {
          "output_type": "stream",
          "name": "stdout",
          "text": [
            "Epoch [855/5000]: Train loss: 35.7596, Valid loss: 22.8599\n"
          ]
        },
        {
          "output_type": "stream",
          "name": "stderr",
          "text": [
            "Epoch [856/5000]: 100%|██████████| 9/9 [00:00<00:00, 57.86it/s, loss=33.8]\n"
          ]
        },
        {
          "output_type": "stream",
          "name": "stdout",
          "text": [
            "Epoch [856/5000]: Train loss: 36.1545, Valid loss: 26.8099\n"
          ]
        },
        {
          "output_type": "stream",
          "name": "stderr",
          "text": [
            "Epoch [857/5000]: 100%|██████████| 9/9 [00:00<00:00, 59.48it/s, loss=31.1]\n"
          ]
        },
        {
          "output_type": "stream",
          "name": "stdout",
          "text": [
            "Epoch [857/5000]: Train loss: 34.8996, Valid loss: 20.0375\n"
          ]
        },
        {
          "output_type": "stream",
          "name": "stderr",
          "text": [
            "Epoch [858/5000]: 100%|██████████| 9/9 [00:00<00:00, 60.42it/s, loss=38.6]\n"
          ]
        },
        {
          "output_type": "stream",
          "name": "stdout",
          "text": [
            "Epoch [858/5000]: Train loss: 36.2161, Valid loss: 21.5582\n"
          ]
        },
        {
          "output_type": "stream",
          "name": "stderr",
          "text": [
            "Epoch [859/5000]: 100%|██████████| 9/9 [00:00<00:00, 65.51it/s, loss=43.4]\n"
          ]
        },
        {
          "output_type": "stream",
          "name": "stdout",
          "text": [
            "Epoch [859/5000]: Train loss: 35.7113, Valid loss: 22.8655\n"
          ]
        },
        {
          "output_type": "stream",
          "name": "stderr",
          "text": [
            "Epoch [860/5000]: 100%|██████████| 9/9 [00:00<00:00, 69.84it/s, loss=30.6]\n"
          ]
        },
        {
          "output_type": "stream",
          "name": "stdout",
          "text": [
            "Epoch [860/5000]: Train loss: 35.8749, Valid loss: 19.4802\n"
          ]
        },
        {
          "output_type": "stream",
          "name": "stderr",
          "text": [
            "Epoch [861/5000]: 100%|██████████| 9/9 [00:00<00:00, 56.69it/s, loss=36.3]\n"
          ]
        },
        {
          "output_type": "stream",
          "name": "stdout",
          "text": [
            "Epoch [861/5000]: Train loss: 35.7749, Valid loss: 25.0639\n"
          ]
        },
        {
          "output_type": "stream",
          "name": "stderr",
          "text": [
            "Epoch [862/5000]: 100%|██████████| 9/9 [00:00<00:00, 62.65it/s, loss=33.9]\n"
          ]
        },
        {
          "output_type": "stream",
          "name": "stdout",
          "text": [
            "Epoch [862/5000]: Train loss: 35.0836, Valid loss: 24.6446\n"
          ]
        },
        {
          "output_type": "stream",
          "name": "stderr",
          "text": [
            "Epoch [863/5000]: 100%|██████████| 9/9 [00:00<00:00, 56.32it/s, loss=42.3]\n"
          ]
        },
        {
          "output_type": "stream",
          "name": "stdout",
          "text": [
            "Epoch [863/5000]: Train loss: 36.2436, Valid loss: 20.6824\n"
          ]
        },
        {
          "output_type": "stream",
          "name": "stderr",
          "text": [
            "Epoch [864/5000]: 100%|██████████| 9/9 [00:00<00:00, 57.62it/s, loss=38.5]\n"
          ]
        },
        {
          "output_type": "stream",
          "name": "stdout",
          "text": [
            "Epoch [864/5000]: Train loss: 35.6394, Valid loss: 21.6916\n"
          ]
        },
        {
          "output_type": "stream",
          "name": "stderr",
          "text": [
            "Epoch [865/5000]: 100%|██████████| 9/9 [00:00<00:00, 50.45it/s, loss=28.8]"
          ]
        },
        {
          "output_type": "stream",
          "name": "stdout",
          "text": [
            "Epoch [865/5000]: Train loss: 34.8943, Valid loss: 19.8147"
          ]
        },
        {
          "output_type": "stream",
          "name": "stderr",
          "text": [
            "\n"
          ]
        },
        {
          "output_type": "stream",
          "name": "stdout",
          "text": [
            "\n"
          ]
        },
        {
          "output_type": "stream",
          "name": "stderr",
          "text": [
            "Epoch [866/5000]: 100%|██████████| 9/9 [00:00<00:00, 52.53it/s, loss=33.4]\n"
          ]
        },
        {
          "output_type": "stream",
          "name": "stdout",
          "text": [
            "Epoch [866/5000]: Train loss: 37.1054, Valid loss: 18.2683\n",
            "Saving model with loss 18.268...\n"
          ]
        },
        {
          "output_type": "stream",
          "name": "stderr",
          "text": [
            "Epoch [867/5000]: 100%|██████████| 9/9 [00:00<00:00, 63.71it/s, loss=28.6]\n"
          ]
        },
        {
          "output_type": "stream",
          "name": "stdout",
          "text": [
            "Epoch [867/5000]: Train loss: 33.8762, Valid loss: 21.3828\n"
          ]
        },
        {
          "output_type": "stream",
          "name": "stderr",
          "text": [
            "Epoch [868/5000]: 100%|██████████| 9/9 [00:00<00:00, 68.75it/s, loss=38.4]\n"
          ]
        },
        {
          "output_type": "stream",
          "name": "stdout",
          "text": [
            "Epoch [868/5000]: Train loss: 35.5723, Valid loss: 19.0225\n"
          ]
        },
        {
          "output_type": "stream",
          "name": "stderr",
          "text": [
            "Epoch [869/5000]: 100%|██████████| 9/9 [00:00<00:00, 73.87it/s, loss=47.2]\n"
          ]
        },
        {
          "output_type": "stream",
          "name": "stdout",
          "text": [
            "Epoch [869/5000]: Train loss: 36.7338, Valid loss: 20.0717\n"
          ]
        },
        {
          "output_type": "stream",
          "name": "stderr",
          "text": [
            "Epoch [870/5000]: 100%|██████████| 9/9 [00:00<00:00, 71.24it/s, loss=38.1]\n"
          ]
        },
        {
          "output_type": "stream",
          "name": "stdout",
          "text": [
            "Epoch [870/5000]: Train loss: 37.6916, Valid loss: 19.6879\n"
          ]
        },
        {
          "output_type": "stream",
          "name": "stderr",
          "text": [
            "Epoch [871/5000]: 100%|██████████| 9/9 [00:00<00:00, 68.63it/s, loss=45.6]\n"
          ]
        },
        {
          "output_type": "stream",
          "name": "stdout",
          "text": [
            "Epoch [871/5000]: Train loss: 37.4747, Valid loss: 20.9935\n"
          ]
        },
        {
          "output_type": "stream",
          "name": "stderr",
          "text": [
            "Epoch [872/5000]: 100%|██████████| 9/9 [00:00<00:00, 70.50it/s, loss=47.8]\n"
          ]
        },
        {
          "output_type": "stream",
          "name": "stdout",
          "text": [
            "Epoch [872/5000]: Train loss: 36.3978, Valid loss: 19.9600\n"
          ]
        },
        {
          "output_type": "stream",
          "name": "stderr",
          "text": [
            "Epoch [873/5000]: 100%|██████████| 9/9 [00:00<00:00, 74.12it/s, loss=42.2]\n"
          ]
        },
        {
          "output_type": "stream",
          "name": "stdout",
          "text": [
            "Epoch [873/5000]: Train loss: 34.1670, Valid loss: 21.5120\n"
          ]
        },
        {
          "output_type": "stream",
          "name": "stderr",
          "text": [
            "Epoch [874/5000]: 100%|██████████| 9/9 [00:00<00:00, 71.59it/s, loss=50.8]\n"
          ]
        },
        {
          "output_type": "stream",
          "name": "stdout",
          "text": [
            "Epoch [874/5000]: Train loss: 35.9082, Valid loss: 23.5189\n"
          ]
        },
        {
          "output_type": "stream",
          "name": "stderr",
          "text": [
            "Epoch [875/5000]: 100%|██████████| 9/9 [00:00<00:00, 71.87it/s, loss=24.9]\n"
          ]
        },
        {
          "output_type": "stream",
          "name": "stdout",
          "text": [
            "Epoch [875/5000]: Train loss: 35.2271, Valid loss: 27.0817\n"
          ]
        },
        {
          "output_type": "stream",
          "name": "stderr",
          "text": [
            "Epoch [876/5000]: 100%|██████████| 9/9 [00:00<00:00, 55.52it/s, loss=47.2]\n"
          ]
        },
        {
          "output_type": "stream",
          "name": "stdout",
          "text": [
            "Epoch [876/5000]: Train loss: 34.2962, Valid loss: 21.1080\n"
          ]
        },
        {
          "output_type": "stream",
          "name": "stderr",
          "text": [
            "Epoch [877/5000]: 100%|██████████| 9/9 [00:00<00:00, 63.06it/s, loss=29]\n"
          ]
        },
        {
          "output_type": "stream",
          "name": "stdout",
          "text": [
            "Epoch [877/5000]: Train loss: 36.2118, Valid loss: 21.6711\n"
          ]
        },
        {
          "output_type": "stream",
          "name": "stderr",
          "text": [
            "Epoch [878/5000]: 100%|██████████| 9/9 [00:00<00:00, 72.86it/s, loss=30.7]\n"
          ]
        },
        {
          "output_type": "stream",
          "name": "stdout",
          "text": [
            "Epoch [878/5000]: Train loss: 35.4617, Valid loss: 21.6061\n"
          ]
        },
        {
          "output_type": "stream",
          "name": "stderr",
          "text": [
            "Epoch [879/5000]: 100%|██████████| 9/9 [00:00<00:00, 72.82it/s, loss=33.8]\n"
          ]
        },
        {
          "output_type": "stream",
          "name": "stdout",
          "text": [
            "Epoch [879/5000]: Train loss: 34.2816, Valid loss: 21.7248\n"
          ]
        },
        {
          "output_type": "stream",
          "name": "stderr",
          "text": [
            "Epoch [880/5000]: 100%|██████████| 9/9 [00:00<00:00, 58.70it/s, loss=35.8]\n"
          ]
        },
        {
          "output_type": "stream",
          "name": "stdout",
          "text": [
            "Epoch [880/5000]: Train loss: 36.2013, Valid loss: 23.2761\n"
          ]
        },
        {
          "output_type": "stream",
          "name": "stderr",
          "text": [
            "Epoch [881/5000]: 100%|██████████| 9/9 [00:00<00:00, 60.90it/s, loss=39.9]\n"
          ]
        },
        {
          "output_type": "stream",
          "name": "stdout",
          "text": [
            "Epoch [881/5000]: Train loss: 35.2178, Valid loss: 23.6163\n"
          ]
        },
        {
          "output_type": "stream",
          "name": "stderr",
          "text": [
            "Epoch [882/5000]: 100%|██████████| 9/9 [00:00<00:00, 68.03it/s, loss=32.9]\n"
          ]
        },
        {
          "output_type": "stream",
          "name": "stdout",
          "text": [
            "Epoch [882/5000]: Train loss: 35.0715, Valid loss: 18.6481\n"
          ]
        },
        {
          "output_type": "stream",
          "name": "stderr",
          "text": [
            "Epoch [883/5000]: 100%|██████████| 9/9 [00:00<00:00, 70.74it/s, loss=38.9]\n"
          ]
        },
        {
          "output_type": "stream",
          "name": "stdout",
          "text": [
            "Epoch [883/5000]: Train loss: 36.7044, Valid loss: 20.4234\n"
          ]
        },
        {
          "output_type": "stream",
          "name": "stderr",
          "text": [
            "Epoch [884/5000]: 100%|██████████| 9/9 [00:00<00:00, 63.24it/s, loss=41.4]\n"
          ]
        },
        {
          "output_type": "stream",
          "name": "stdout",
          "text": [
            "Epoch [884/5000]: Train loss: 35.8723, Valid loss: 21.5284\n"
          ]
        },
        {
          "output_type": "stream",
          "name": "stderr",
          "text": [
            "Epoch [885/5000]: 100%|██████████| 9/9 [00:00<00:00, 69.78it/s, loss=39]\n"
          ]
        },
        {
          "output_type": "stream",
          "name": "stdout",
          "text": [
            "Epoch [885/5000]: Train loss: 34.6788, Valid loss: 20.8297\n"
          ]
        },
        {
          "output_type": "stream",
          "name": "stderr",
          "text": [
            "Epoch [886/5000]: 100%|██████████| 9/9 [00:00<00:00, 70.94it/s, loss=39.8]\n"
          ]
        },
        {
          "output_type": "stream",
          "name": "stdout",
          "text": [
            "Epoch [886/5000]: Train loss: 35.9999, Valid loss: 19.1880\n"
          ]
        },
        {
          "output_type": "stream",
          "name": "stderr",
          "text": [
            "Epoch [887/5000]: 100%|██████████| 9/9 [00:00<00:00, 63.29it/s, loss=44.3]\n"
          ]
        },
        {
          "output_type": "stream",
          "name": "stdout",
          "text": [
            "Epoch [887/5000]: Train loss: 35.9964, Valid loss: 23.4405\n"
          ]
        },
        {
          "output_type": "stream",
          "name": "stderr",
          "text": [
            "Epoch [888/5000]: 100%|██████████| 9/9 [00:00<00:00, 64.11it/s, loss=25.3]\n"
          ]
        },
        {
          "output_type": "stream",
          "name": "stdout",
          "text": [
            "Epoch [888/5000]: Train loss: 32.2547, Valid loss: 21.0562\n"
          ]
        },
        {
          "output_type": "stream",
          "name": "stderr",
          "text": [
            "Epoch [889/5000]: 100%|██████████| 9/9 [00:00<00:00, 60.52it/s, loss=43.7]\n"
          ]
        },
        {
          "output_type": "stream",
          "name": "stdout",
          "text": [
            "Epoch [889/5000]: Train loss: 34.7291, Valid loss: 19.3829\n"
          ]
        },
        {
          "output_type": "stream",
          "name": "stderr",
          "text": [
            "Epoch [890/5000]: 100%|██████████| 9/9 [00:00<00:00, 58.52it/s, loss=49.2]\n"
          ]
        },
        {
          "output_type": "stream",
          "name": "stdout",
          "text": [
            "Epoch [890/5000]: Train loss: 35.5443, Valid loss: 21.4870\n"
          ]
        },
        {
          "output_type": "stream",
          "name": "stderr",
          "text": [
            "Epoch [891/5000]: 100%|██████████| 9/9 [00:00<00:00, 57.13it/s, loss=34.8]\n"
          ]
        },
        {
          "output_type": "stream",
          "name": "stdout",
          "text": [
            "Epoch [891/5000]: Train loss: 36.5698, Valid loss: 19.3246\n"
          ]
        },
        {
          "output_type": "stream",
          "name": "stderr",
          "text": [
            "Epoch [892/5000]: 100%|██████████| 9/9 [00:00<00:00, 54.56it/s, loss=37.3]\n"
          ]
        },
        {
          "output_type": "stream",
          "name": "stdout",
          "text": [
            "Epoch [892/5000]: Train loss: 36.6379, Valid loss: 18.7907\n"
          ]
        },
        {
          "output_type": "stream",
          "name": "stderr",
          "text": [
            "Epoch [893/5000]: 100%|██████████| 9/9 [00:00<00:00, 58.01it/s, loss=34]\n"
          ]
        },
        {
          "output_type": "stream",
          "name": "stdout",
          "text": [
            "Epoch [893/5000]: Train loss: 33.8341, Valid loss: 25.7793\n"
          ]
        },
        {
          "output_type": "stream",
          "name": "stderr",
          "text": [
            "Epoch [894/5000]: 100%|██████████| 9/9 [00:00<00:00, 53.48it/s, loss=27.9]\n"
          ]
        },
        {
          "output_type": "stream",
          "name": "stdout",
          "text": [
            "Epoch [894/5000]: Train loss: 33.7681, Valid loss: 20.1445\n"
          ]
        },
        {
          "output_type": "stream",
          "name": "stderr",
          "text": [
            "Epoch [895/5000]: 100%|██████████| 9/9 [00:00<00:00, 50.99it/s, loss=22.9]\n"
          ]
        },
        {
          "output_type": "stream",
          "name": "stdout",
          "text": [
            "Epoch [895/5000]: Train loss: 32.3261, Valid loss: 19.6205\n"
          ]
        },
        {
          "output_type": "stream",
          "name": "stderr",
          "text": [
            "Epoch [896/5000]: 100%|██████████| 9/9 [00:00<00:00, 59.02it/s, loss=45]\n"
          ]
        },
        {
          "output_type": "stream",
          "name": "stdout",
          "text": [
            "Epoch [896/5000]: Train loss: 33.3618, Valid loss: 19.7309\n"
          ]
        },
        {
          "output_type": "stream",
          "name": "stderr",
          "text": [
            "Epoch [897/5000]: 100%|██████████| 9/9 [00:00<00:00, 60.37it/s, loss=27.3]\n"
          ]
        },
        {
          "output_type": "stream",
          "name": "stdout",
          "text": [
            "Epoch [897/5000]: Train loss: 33.2113, Valid loss: 19.0106\n"
          ]
        },
        {
          "output_type": "stream",
          "name": "stderr",
          "text": [
            "Epoch [898/5000]: 100%|██████████| 9/9 [00:00<00:00, 50.00it/s, loss=39.6]\n"
          ]
        },
        {
          "output_type": "stream",
          "name": "stdout",
          "text": [
            "Epoch [898/5000]: Train loss: 35.1796, Valid loss: 20.3591\n"
          ]
        },
        {
          "output_type": "stream",
          "name": "stderr",
          "text": [
            "Epoch [899/5000]: 100%|██████████| 9/9 [00:00<00:00, 58.30it/s, loss=36]\n"
          ]
        },
        {
          "output_type": "stream",
          "name": "stdout",
          "text": [
            "Epoch [899/5000]: Train loss: 35.2470, Valid loss: 17.6698\n",
            "Saving model with loss 17.670...\n"
          ]
        },
        {
          "output_type": "stream",
          "name": "stderr",
          "text": [
            "Epoch [900/5000]: 100%|██████████| 9/9 [00:00<00:00, 64.01it/s, loss=36.2]\n"
          ]
        },
        {
          "output_type": "stream",
          "name": "stdout",
          "text": [
            "Epoch [900/5000]: Train loss: 34.2612, Valid loss: 17.3027\n",
            "Saving model with loss 17.303...\n"
          ]
        },
        {
          "output_type": "stream",
          "name": "stderr",
          "text": [
            "Epoch [901/5000]: 100%|██████████| 9/9 [00:00<00:00, 26.53it/s, loss=25.5]\n"
          ]
        },
        {
          "output_type": "stream",
          "name": "stdout",
          "text": [
            "Epoch [901/5000]: Train loss: 32.4663, Valid loss: 20.6198\n"
          ]
        },
        {
          "output_type": "stream",
          "name": "stderr",
          "text": [
            "Epoch [902/5000]: 100%|██████████| 9/9 [00:00<00:00, 71.87it/s, loss=41.1]\n"
          ]
        },
        {
          "output_type": "stream",
          "name": "stdout",
          "text": [
            "Epoch [902/5000]: Train loss: 35.1523, Valid loss: 19.9412\n"
          ]
        },
        {
          "output_type": "stream",
          "name": "stderr",
          "text": [
            "Epoch [903/5000]: 100%|██████████| 9/9 [00:00<00:00, 60.74it/s, loss=25.7]\n"
          ]
        },
        {
          "output_type": "stream",
          "name": "stdout",
          "text": [
            "Epoch [903/5000]: Train loss: 32.8467, Valid loss: 19.7458\n"
          ]
        },
        {
          "output_type": "stream",
          "name": "stderr",
          "text": [
            "Epoch [904/5000]: 100%|██████████| 9/9 [00:00<00:00, 60.13it/s, loss=34]\n"
          ]
        },
        {
          "output_type": "stream",
          "name": "stdout",
          "text": [
            "Epoch [904/5000]: Train loss: 34.5421, Valid loss: 20.5146\n"
          ]
        },
        {
          "output_type": "stream",
          "name": "stderr",
          "text": [
            "Epoch [905/5000]: 100%|██████████| 9/9 [00:00<00:00, 61.47it/s, loss=33.5]\n"
          ]
        },
        {
          "output_type": "stream",
          "name": "stdout",
          "text": [
            "Epoch [905/5000]: Train loss: 33.9731, Valid loss: 18.0505\n"
          ]
        },
        {
          "output_type": "stream",
          "name": "stderr",
          "text": [
            "Epoch [906/5000]: 100%|██████████| 9/9 [00:00<00:00, 54.93it/s, loss=40.9]\n"
          ]
        },
        {
          "output_type": "stream",
          "name": "stdout",
          "text": [
            "Epoch [906/5000]: Train loss: 35.5243, Valid loss: 19.2336\n"
          ]
        },
        {
          "output_type": "stream",
          "name": "stderr",
          "text": [
            "Epoch [907/5000]: 100%|██████████| 9/9 [00:00<00:00, 64.95it/s, loss=45.2]\n"
          ]
        },
        {
          "output_type": "stream",
          "name": "stdout",
          "text": [
            "Epoch [907/5000]: Train loss: 34.5398, Valid loss: 16.6798\n",
            "Saving model with loss 16.680...\n"
          ]
        },
        {
          "output_type": "stream",
          "name": "stderr",
          "text": [
            "Epoch [908/5000]: 100%|██████████| 9/9 [00:00<00:00, 65.16it/s, loss=33.1]\n"
          ]
        },
        {
          "output_type": "stream",
          "name": "stdout",
          "text": [
            "Epoch [908/5000]: Train loss: 32.7245, Valid loss: 22.2087\n"
          ]
        },
        {
          "output_type": "stream",
          "name": "stderr",
          "text": [
            "Epoch [909/5000]: 100%|██████████| 9/9 [00:00<00:00, 70.13it/s, loss=27.1]\n"
          ]
        },
        {
          "output_type": "stream",
          "name": "stdout",
          "text": [
            "Epoch [909/5000]: Train loss: 32.3291, Valid loss: 19.9793\n"
          ]
        },
        {
          "output_type": "stream",
          "name": "stderr",
          "text": [
            "Epoch [910/5000]: 100%|██████████| 9/9 [00:00<00:00, 65.38it/s, loss=42.2]\n"
          ]
        },
        {
          "output_type": "stream",
          "name": "stdout",
          "text": [
            "Epoch [910/5000]: Train loss: 34.0392, Valid loss: 22.0736\n"
          ]
        },
        {
          "output_type": "stream",
          "name": "stderr",
          "text": [
            "Epoch [911/5000]: 100%|██████████| 9/9 [00:00<00:00, 62.62it/s, loss=42.1]\n"
          ]
        },
        {
          "output_type": "stream",
          "name": "stdout",
          "text": [
            "Epoch [911/5000]: Train loss: 34.3684, Valid loss: 17.3479\n"
          ]
        },
        {
          "output_type": "stream",
          "name": "stderr",
          "text": [
            "Epoch [912/5000]: 100%|██████████| 9/9 [00:00<00:00, 54.58it/s, loss=29.5]\n"
          ]
        },
        {
          "output_type": "stream",
          "name": "stdout",
          "text": [
            "Epoch [912/5000]: Train loss: 33.5415, Valid loss: 21.8979\n"
          ]
        },
        {
          "output_type": "stream",
          "name": "stderr",
          "text": [
            "Epoch [913/5000]: 100%|██████████| 9/9 [00:00<00:00, 56.00it/s, loss=26.5]\n"
          ]
        },
        {
          "output_type": "stream",
          "name": "stdout",
          "text": [
            "Epoch [913/5000]: Train loss: 33.0589, Valid loss: 21.6221\n"
          ]
        },
        {
          "output_type": "stream",
          "name": "stderr",
          "text": [
            "Epoch [914/5000]: 100%|██████████| 9/9 [00:00<00:00, 56.27it/s, loss=34.8]\n"
          ]
        },
        {
          "output_type": "stream",
          "name": "stdout",
          "text": [
            "Epoch [914/5000]: Train loss: 31.7456, Valid loss: 16.9072\n"
          ]
        },
        {
          "output_type": "stream",
          "name": "stderr",
          "text": [
            "Epoch [915/5000]: 100%|██████████| 9/9 [00:00<00:00, 60.50it/s, loss=22.9]\n"
          ]
        },
        {
          "output_type": "stream",
          "name": "stdout",
          "text": [
            "Epoch [915/5000]: Train loss: 33.0875, Valid loss: 19.1029\n"
          ]
        },
        {
          "output_type": "stream",
          "name": "stderr",
          "text": [
            "Epoch [916/5000]: 100%|██████████| 9/9 [00:00<00:00, 55.61it/s, loss=42.7]\n"
          ]
        },
        {
          "output_type": "stream",
          "name": "stdout",
          "text": [
            "Epoch [916/5000]: Train loss: 33.1308, Valid loss: 21.8755\n"
          ]
        },
        {
          "output_type": "stream",
          "name": "stderr",
          "text": [
            "Epoch [917/5000]: 100%|██████████| 9/9 [00:00<00:00, 60.30it/s, loss=36.1]\n"
          ]
        },
        {
          "output_type": "stream",
          "name": "stdout",
          "text": [
            "Epoch [917/5000]: Train loss: 33.3993, Valid loss: 26.6352\n"
          ]
        },
        {
          "output_type": "stream",
          "name": "stderr",
          "text": [
            "Epoch [918/5000]: 100%|██████████| 9/9 [00:00<00:00, 52.89it/s, loss=32.5]\n"
          ]
        },
        {
          "output_type": "stream",
          "name": "stdout",
          "text": [
            "Epoch [918/5000]: Train loss: 32.6344, Valid loss: 23.1491\n"
          ]
        },
        {
          "output_type": "stream",
          "name": "stderr",
          "text": [
            "Epoch [919/5000]: 100%|██████████| 9/9 [00:00<00:00, 59.87it/s, loss=37.1]\n"
          ]
        },
        {
          "output_type": "stream",
          "name": "stdout",
          "text": [
            "Epoch [919/5000]: Train loss: 33.7532, Valid loss: 18.6477\n"
          ]
        },
        {
          "output_type": "stream",
          "name": "stderr",
          "text": [
            "Epoch [920/5000]: 100%|██████████| 9/9 [00:00<00:00, 65.91it/s, loss=32.1]\n"
          ]
        },
        {
          "output_type": "stream",
          "name": "stdout",
          "text": [
            "Epoch [920/5000]: Train loss: 33.7021, Valid loss: 20.6160\n"
          ]
        },
        {
          "output_type": "stream",
          "name": "stderr",
          "text": [
            "Epoch [921/5000]: 100%|██████████| 9/9 [00:00<00:00, 69.24it/s, loss=25.1]\n"
          ]
        },
        {
          "output_type": "stream",
          "name": "stdout",
          "text": [
            "Epoch [921/5000]: Train loss: 32.9166, Valid loss: 19.6115\n"
          ]
        },
        {
          "output_type": "stream",
          "name": "stderr",
          "text": [
            "Epoch [922/5000]: 100%|██████████| 9/9 [00:00<00:00, 72.31it/s, loss=30.9]\n"
          ]
        },
        {
          "output_type": "stream",
          "name": "stdout",
          "text": [
            "Epoch [922/5000]: Train loss: 33.9306, Valid loss: 17.6121\n"
          ]
        },
        {
          "output_type": "stream",
          "name": "stderr",
          "text": [
            "Epoch [923/5000]: 100%|██████████| 9/9 [00:00<00:00, 68.81it/s, loss=28.2]\n"
          ]
        },
        {
          "output_type": "stream",
          "name": "stdout",
          "text": [
            "Epoch [923/5000]: Train loss: 33.1990, Valid loss: 18.8243\n"
          ]
        },
        {
          "output_type": "stream",
          "name": "stderr",
          "text": [
            "Epoch [924/5000]: 100%|██████████| 9/9 [00:00<00:00, 65.64it/s, loss=16]\n"
          ]
        },
        {
          "output_type": "stream",
          "name": "stdout",
          "text": [
            "Epoch [924/5000]: Train loss: 31.5295, Valid loss: 16.9320\n"
          ]
        },
        {
          "output_type": "stream",
          "name": "stderr",
          "text": [
            "Epoch [925/5000]: 100%|██████████| 9/9 [00:00<00:00, 68.89it/s, loss=34.1]\n"
          ]
        },
        {
          "output_type": "stream",
          "name": "stdout",
          "text": [
            "Epoch [925/5000]: Train loss: 33.8929, Valid loss: 20.1877\n"
          ]
        },
        {
          "output_type": "stream",
          "name": "stderr",
          "text": [
            "Epoch [926/5000]: 100%|██████████| 9/9 [00:00<00:00, 56.33it/s, loss=36.2]\n"
          ]
        },
        {
          "output_type": "stream",
          "name": "stdout",
          "text": [
            "Epoch [926/5000]: Train loss: 31.8277, Valid loss: 21.0585\n"
          ]
        },
        {
          "output_type": "stream",
          "name": "stderr",
          "text": [
            "Epoch [927/5000]: 100%|██████████| 9/9 [00:00<00:00, 52.12it/s, loss=37.2]\n"
          ]
        },
        {
          "output_type": "stream",
          "name": "stdout",
          "text": [
            "Epoch [927/5000]: Train loss: 34.3010, Valid loss: 19.1754\n"
          ]
        },
        {
          "output_type": "stream",
          "name": "stderr",
          "text": [
            "Epoch [928/5000]: 100%|██████████| 9/9 [00:00<00:00, 59.06it/s, loss=29.1]\n"
          ]
        },
        {
          "output_type": "stream",
          "name": "stdout",
          "text": [
            "Epoch [928/5000]: Train loss: 34.8763, Valid loss: 21.5145\n"
          ]
        },
        {
          "output_type": "stream",
          "name": "stderr",
          "text": [
            "Epoch [929/5000]: 100%|██████████| 9/9 [00:00<00:00, 72.53it/s, loss=44.9]\n"
          ]
        },
        {
          "output_type": "stream",
          "name": "stdout",
          "text": [
            "Epoch [929/5000]: Train loss: 33.9863, Valid loss: 19.5305\n"
          ]
        },
        {
          "output_type": "stream",
          "name": "stderr",
          "text": [
            "Epoch [930/5000]: 100%|██████████| 9/9 [00:00<00:00, 60.90it/s, loss=34.1]\n"
          ]
        },
        {
          "output_type": "stream",
          "name": "stdout",
          "text": [
            "Epoch [930/5000]: Train loss: 32.5561, Valid loss: 18.0257\n"
          ]
        },
        {
          "output_type": "stream",
          "name": "stderr",
          "text": [
            "Epoch [931/5000]: 100%|██████████| 9/9 [00:00<00:00, 60.99it/s, loss=29.6]\n"
          ]
        },
        {
          "output_type": "stream",
          "name": "stdout",
          "text": [
            "Epoch [931/5000]: Train loss: 31.7333, Valid loss: 18.6969\n"
          ]
        },
        {
          "output_type": "stream",
          "name": "stderr",
          "text": [
            "Epoch [932/5000]: 100%|██████████| 9/9 [00:00<00:00, 55.50it/s, loss=35.9]\n"
          ]
        },
        {
          "output_type": "stream",
          "name": "stdout",
          "text": [
            "Epoch [932/5000]: Train loss: 35.9059, Valid loss: 16.4510\n",
            "Saving model with loss 16.451...\n"
          ]
        },
        {
          "output_type": "stream",
          "name": "stderr",
          "text": [
            "Epoch [933/5000]: 100%|██████████| 9/9 [00:00<00:00, 58.51it/s, loss=38.1]\n"
          ]
        },
        {
          "output_type": "stream",
          "name": "stdout",
          "text": [
            "Epoch [933/5000]: Train loss: 32.1569, Valid loss: 20.5884\n"
          ]
        },
        {
          "output_type": "stream",
          "name": "stderr",
          "text": [
            "Epoch [934/5000]: 100%|██████████| 9/9 [00:00<00:00, 57.95it/s, loss=38.2]\n"
          ]
        },
        {
          "output_type": "stream",
          "name": "stdout",
          "text": [
            "Epoch [934/5000]: Train loss: 34.2191, Valid loss: 18.9805\n"
          ]
        },
        {
          "output_type": "stream",
          "name": "stderr",
          "text": [
            "Epoch [935/5000]: 100%|██████████| 9/9 [00:00<00:00, 61.80it/s, loss=44.2]\n"
          ]
        },
        {
          "output_type": "stream",
          "name": "stdout",
          "text": [
            "Epoch [935/5000]: Train loss: 32.1070, Valid loss: 19.8330\n"
          ]
        },
        {
          "output_type": "stream",
          "name": "stderr",
          "text": [
            "Epoch [936/5000]: 100%|██████████| 9/9 [00:00<00:00, 55.05it/s, loss=29.9]\n"
          ]
        },
        {
          "output_type": "stream",
          "name": "stdout",
          "text": [
            "Epoch [936/5000]: Train loss: 32.5315, Valid loss: 19.7108\n"
          ]
        },
        {
          "output_type": "stream",
          "name": "stderr",
          "text": [
            "Epoch [937/5000]: 100%|██████████| 9/9 [00:00<00:00, 70.50it/s, loss=21]\n"
          ]
        },
        {
          "output_type": "stream",
          "name": "stdout",
          "text": [
            "Epoch [937/5000]: Train loss: 32.0407, Valid loss: 17.4605\n"
          ]
        },
        {
          "output_type": "stream",
          "name": "stderr",
          "text": [
            "Epoch [938/5000]: 100%|██████████| 9/9 [00:00<00:00, 67.59it/s, loss=28]\n"
          ]
        },
        {
          "output_type": "stream",
          "name": "stdout",
          "text": [
            "Epoch [938/5000]: Train loss: 33.6138, Valid loss: 15.9341\n",
            "Saving model with loss 15.934...\n"
          ]
        },
        {
          "output_type": "stream",
          "name": "stderr",
          "text": [
            "Epoch [939/5000]: 100%|██████████| 9/9 [00:00<00:00, 66.07it/s, loss=32.3]\n"
          ]
        },
        {
          "output_type": "stream",
          "name": "stdout",
          "text": [
            "Epoch [939/5000]: Train loss: 32.9154, Valid loss: 21.7428\n"
          ]
        },
        {
          "output_type": "stream",
          "name": "stderr",
          "text": [
            "Epoch [940/5000]: 100%|██████████| 9/9 [00:00<00:00, 60.10it/s, loss=32.1]\n"
          ]
        },
        {
          "output_type": "stream",
          "name": "stdout",
          "text": [
            "Epoch [940/5000]: Train loss: 31.3216, Valid loss: 19.8913\n"
          ]
        },
        {
          "output_type": "stream",
          "name": "stderr",
          "text": [
            "Epoch [941/5000]: 100%|██████████| 9/9 [00:00<00:00, 56.93it/s, loss=29.8]\n"
          ]
        },
        {
          "output_type": "stream",
          "name": "stdout",
          "text": [
            "Epoch [941/5000]: Train loss: 32.8901, Valid loss: 21.8812\n"
          ]
        },
        {
          "output_type": "stream",
          "name": "stderr",
          "text": [
            "Epoch [942/5000]: 100%|██████████| 9/9 [00:00<00:00, 57.91it/s, loss=30.2]\n"
          ]
        },
        {
          "output_type": "stream",
          "name": "stdout",
          "text": [
            "Epoch [942/5000]: Train loss: 33.0025, Valid loss: 16.9185\n"
          ]
        },
        {
          "output_type": "stream",
          "name": "stderr",
          "text": [
            "Epoch [943/5000]: 100%|██████████| 9/9 [00:00<00:00, 63.62it/s, loss=36.2]\n"
          ]
        },
        {
          "output_type": "stream",
          "name": "stdout",
          "text": [
            "Epoch [943/5000]: Train loss: 33.0547, Valid loss: 18.3116\n"
          ]
        },
        {
          "output_type": "stream",
          "name": "stderr",
          "text": [
            "Epoch [944/5000]: 100%|██████████| 9/9 [00:00<00:00, 66.64it/s, loss=28.7]\n"
          ]
        },
        {
          "output_type": "stream",
          "name": "stdout",
          "text": [
            "Epoch [944/5000]: Train loss: 31.4438, Valid loss: 21.4236\n"
          ]
        },
        {
          "output_type": "stream",
          "name": "stderr",
          "text": [
            "Epoch [945/5000]: 100%|██████████| 9/9 [00:00<00:00, 73.53it/s, loss=33.1]\n"
          ]
        },
        {
          "output_type": "stream",
          "name": "stdout",
          "text": [
            "Epoch [945/5000]: Train loss: 30.1470, Valid loss: 15.9183\n",
            "Saving model with loss 15.918...\n"
          ]
        },
        {
          "output_type": "stream",
          "name": "stderr",
          "text": [
            "Epoch [946/5000]: 100%|██████████| 9/9 [00:00<00:00, 58.37it/s, loss=35.7]\n"
          ]
        },
        {
          "output_type": "stream",
          "name": "stdout",
          "text": [
            "Epoch [946/5000]: Train loss: 33.3185, Valid loss: 19.5546\n"
          ]
        },
        {
          "output_type": "stream",
          "name": "stderr",
          "text": [
            "Epoch [947/5000]: 100%|██████████| 9/9 [00:00<00:00, 62.25it/s, loss=40.5]\n"
          ]
        },
        {
          "output_type": "stream",
          "name": "stdout",
          "text": [
            "Epoch [947/5000]: Train loss: 32.2556, Valid loss: 20.9282\n"
          ]
        },
        {
          "output_type": "stream",
          "name": "stderr",
          "text": [
            "Epoch [948/5000]: 100%|██████████| 9/9 [00:00<00:00, 63.77it/s, loss=32.6]\n"
          ]
        },
        {
          "output_type": "stream",
          "name": "stdout",
          "text": [
            "Epoch [948/5000]: Train loss: 32.0524, Valid loss: 15.6561\n",
            "Saving model with loss 15.656...\n"
          ]
        },
        {
          "output_type": "stream",
          "name": "stderr",
          "text": [
            "Epoch [949/5000]: 100%|██████████| 9/9 [00:00<00:00, 65.19it/s, loss=40.3]\n"
          ]
        },
        {
          "output_type": "stream",
          "name": "stdout",
          "text": [
            "Epoch [949/5000]: Train loss: 34.4300, Valid loss: 21.0147\n"
          ]
        },
        {
          "output_type": "stream",
          "name": "stderr",
          "text": [
            "Epoch [950/5000]: 100%|██████████| 9/9 [00:00<00:00, 70.71it/s, loss=30.1]\n"
          ]
        },
        {
          "output_type": "stream",
          "name": "stdout",
          "text": [
            "Epoch [950/5000]: Train loss: 33.1030, Valid loss: 17.7732\n"
          ]
        },
        {
          "output_type": "stream",
          "name": "stderr",
          "text": [
            "Epoch [951/5000]: 100%|██████████| 9/9 [00:00<00:00, 71.00it/s, loss=34.2]\n"
          ]
        },
        {
          "output_type": "stream",
          "name": "stdout",
          "text": [
            "Epoch [951/5000]: Train loss: 34.9678, Valid loss: 19.2887\n"
          ]
        },
        {
          "output_type": "stream",
          "name": "stderr",
          "text": [
            "Epoch [952/5000]: 100%|██████████| 9/9 [00:00<00:00, 67.81it/s, loss=44]\n"
          ]
        },
        {
          "output_type": "stream",
          "name": "stdout",
          "text": [
            "Epoch [952/5000]: Train loss: 32.5175, Valid loss: 18.9502\n"
          ]
        },
        {
          "output_type": "stream",
          "name": "stderr",
          "text": [
            "Epoch [953/5000]: 100%|██████████| 9/9 [00:00<00:00, 64.19it/s, loss=26.9]\n"
          ]
        },
        {
          "output_type": "stream",
          "name": "stdout",
          "text": [
            "Epoch [953/5000]: Train loss: 31.1693, Valid loss: 16.9471\n"
          ]
        },
        {
          "output_type": "stream",
          "name": "stderr",
          "text": [
            "Epoch [954/5000]: 100%|██████████| 9/9 [00:00<00:00, 54.61it/s, loss=34.1]\n"
          ]
        },
        {
          "output_type": "stream",
          "name": "stdout",
          "text": [
            "Epoch [954/5000]: Train loss: 33.4431, Valid loss: 21.2323\n"
          ]
        },
        {
          "output_type": "stream",
          "name": "stderr",
          "text": [
            "Epoch [955/5000]: 100%|██████████| 9/9 [00:00<00:00, 72.24it/s, loss=42.6]\n"
          ]
        },
        {
          "output_type": "stream",
          "name": "stdout",
          "text": [
            "Epoch [955/5000]: Train loss: 32.8002, Valid loss: 22.0191\n"
          ]
        },
        {
          "output_type": "stream",
          "name": "stderr",
          "text": [
            "Epoch [956/5000]: 100%|██████████| 9/9 [00:00<00:00, 62.61it/s, loss=30.1]\n"
          ]
        },
        {
          "output_type": "stream",
          "name": "stdout",
          "text": [
            "Epoch [956/5000]: Train loss: 32.5418, Valid loss: 20.6917\n"
          ]
        },
        {
          "output_type": "stream",
          "name": "stderr",
          "text": [
            "Epoch [957/5000]: 100%|██████████| 9/9 [00:00<00:00, 70.25it/s, loss=24.8]\n"
          ]
        },
        {
          "output_type": "stream",
          "name": "stdout",
          "text": [
            "Epoch [957/5000]: Train loss: 31.9068, Valid loss: 19.0166\n"
          ]
        },
        {
          "output_type": "stream",
          "name": "stderr",
          "text": [
            "Epoch [958/5000]: 100%|██████████| 9/9 [00:00<00:00, 62.33it/s, loss=27.3]\n"
          ]
        },
        {
          "output_type": "stream",
          "name": "stdout",
          "text": [
            "Epoch [958/5000]: Train loss: 30.1502, Valid loss: 16.0924\n"
          ]
        },
        {
          "output_type": "stream",
          "name": "stderr",
          "text": [
            "Epoch [959/5000]: 100%|██████████| 9/9 [00:00<00:00, 73.50it/s, loss=33.3]\n"
          ]
        },
        {
          "output_type": "stream",
          "name": "stdout",
          "text": [
            "Epoch [959/5000]: Train loss: 33.0211, Valid loss: 16.0312\n"
          ]
        },
        {
          "output_type": "stream",
          "name": "stderr",
          "text": [
            "Epoch [960/5000]: 100%|██████████| 9/9 [00:00<00:00, 71.06it/s, loss=25.4]\n"
          ]
        },
        {
          "output_type": "stream",
          "name": "stdout",
          "text": [
            "Epoch [960/5000]: Train loss: 29.3850, Valid loss: 22.3713\n"
          ]
        },
        {
          "output_type": "stream",
          "name": "stderr",
          "text": [
            "Epoch [961/5000]: 100%|██████████| 9/9 [00:00<00:00, 73.69it/s, loss=30.2]\n"
          ]
        },
        {
          "output_type": "stream",
          "name": "stdout",
          "text": [
            "Epoch [961/5000]: Train loss: 29.1392, Valid loss: 17.0919\n"
          ]
        },
        {
          "output_type": "stream",
          "name": "stderr",
          "text": [
            "Epoch [962/5000]: 100%|██████████| 9/9 [00:00<00:00, 68.78it/s, loss=39.3]\n"
          ]
        },
        {
          "output_type": "stream",
          "name": "stdout",
          "text": [
            "Epoch [962/5000]: Train loss: 31.9995, Valid loss: 16.7613\n"
          ]
        },
        {
          "output_type": "stream",
          "name": "stderr",
          "text": [
            "Epoch [963/5000]: 100%|██████████| 9/9 [00:00<00:00, 69.47it/s, loss=22.9]\n"
          ]
        },
        {
          "output_type": "stream",
          "name": "stdout",
          "text": [
            "Epoch [963/5000]: Train loss: 32.4826, Valid loss: 17.4978\n"
          ]
        },
        {
          "output_type": "stream",
          "name": "stderr",
          "text": [
            "Epoch [964/5000]: 100%|██████████| 9/9 [00:00<00:00, 65.16it/s, loss=32.7]\n"
          ]
        },
        {
          "output_type": "stream",
          "name": "stdout",
          "text": [
            "Epoch [964/5000]: Train loss: 32.8580, Valid loss: 20.1836\n"
          ]
        },
        {
          "output_type": "stream",
          "name": "stderr",
          "text": [
            "Epoch [965/5000]: 100%|██████████| 9/9 [00:00<00:00, 61.95it/s, loss=34.7]\n"
          ]
        },
        {
          "output_type": "stream",
          "name": "stdout",
          "text": [
            "Epoch [965/5000]: Train loss: 33.5114, Valid loss: 20.1753\n"
          ]
        },
        {
          "output_type": "stream",
          "name": "stderr",
          "text": [
            "Epoch [966/5000]: 100%|██████████| 9/9 [00:00<00:00, 66.83it/s, loss=22.3]\n"
          ]
        },
        {
          "output_type": "stream",
          "name": "stdout",
          "text": [
            "Epoch [966/5000]: Train loss: 30.6983, Valid loss: 16.5505\n"
          ]
        },
        {
          "output_type": "stream",
          "name": "stderr",
          "text": [
            "Epoch [967/5000]: 100%|██████████| 9/9 [00:00<00:00, 57.50it/s, loss=28.8]\n"
          ]
        },
        {
          "output_type": "stream",
          "name": "stdout",
          "text": [
            "Epoch [967/5000]: Train loss: 32.3137, Valid loss: 20.1995\n"
          ]
        },
        {
          "output_type": "stream",
          "name": "stderr",
          "text": [
            "Epoch [968/5000]: 100%|██████████| 9/9 [00:00<00:00, 65.88it/s, loss=22.9]\n"
          ]
        },
        {
          "output_type": "stream",
          "name": "stdout",
          "text": [
            "Epoch [968/5000]: Train loss: 29.9282, Valid loss: 15.8202\n"
          ]
        },
        {
          "output_type": "stream",
          "name": "stderr",
          "text": [
            "Epoch [969/5000]: 100%|██████████| 9/9 [00:00<00:00, 61.57it/s, loss=31.1]\n"
          ]
        },
        {
          "output_type": "stream",
          "name": "stdout",
          "text": [
            "Epoch [969/5000]: Train loss: 30.9712, Valid loss: 19.1461\n"
          ]
        },
        {
          "output_type": "stream",
          "name": "stderr",
          "text": [
            "Epoch [970/5000]: 100%|██████████| 9/9 [00:00<00:00, 66.70it/s, loss=27.8]\n"
          ]
        },
        {
          "output_type": "stream",
          "name": "stdout",
          "text": [
            "Epoch [970/5000]: Train loss: 30.0467, Valid loss: 18.1245\n"
          ]
        },
        {
          "output_type": "stream",
          "name": "stderr",
          "text": [
            "Epoch [971/5000]: 100%|██████████| 9/9 [00:00<00:00, 56.31it/s, loss=33.4]\n"
          ]
        },
        {
          "output_type": "stream",
          "name": "stdout",
          "text": [
            "Epoch [971/5000]: Train loss: 32.2414, Valid loss: 18.1006\n"
          ]
        },
        {
          "output_type": "stream",
          "name": "stderr",
          "text": [
            "Epoch [972/5000]: 100%|██████████| 9/9 [00:00<00:00, 56.01it/s, loss=40.6]\n"
          ]
        },
        {
          "output_type": "stream",
          "name": "stdout",
          "text": [
            "Epoch [972/5000]: Train loss: 31.2170, Valid loss: 19.8713\n"
          ]
        },
        {
          "output_type": "stream",
          "name": "stderr",
          "text": [
            "Epoch [973/5000]: 100%|██████████| 9/9 [00:00<00:00, 66.61it/s, loss=32.3]\n"
          ]
        },
        {
          "output_type": "stream",
          "name": "stdout",
          "text": [
            "Epoch [973/5000]: Train loss: 32.4941, Valid loss: 15.1323\n",
            "Saving model with loss 15.132...\n"
          ]
        },
        {
          "output_type": "stream",
          "name": "stderr",
          "text": [
            "Epoch [974/5000]: 100%|██████████| 9/9 [00:00<00:00, 69.85it/s, loss=27.9]\n"
          ]
        },
        {
          "output_type": "stream",
          "name": "stdout",
          "text": [
            "Epoch [974/5000]: Train loss: 30.8464, Valid loss: 18.5845\n"
          ]
        },
        {
          "output_type": "stream",
          "name": "stderr",
          "text": [
            "Epoch [975/5000]: 100%|██████████| 9/9 [00:00<00:00, 64.03it/s, loss=35.1]\n"
          ]
        },
        {
          "output_type": "stream",
          "name": "stdout",
          "text": [
            "Epoch [975/5000]: Train loss: 34.5594, Valid loss: 17.1939\n"
          ]
        },
        {
          "output_type": "stream",
          "name": "stderr",
          "text": [
            "Epoch [976/5000]: 100%|██████████| 9/9 [00:00<00:00, 56.80it/s, loss=31.7]\n"
          ]
        },
        {
          "output_type": "stream",
          "name": "stdout",
          "text": [
            "Epoch [976/5000]: Train loss: 31.9786, Valid loss: 18.8173\n"
          ]
        },
        {
          "output_type": "stream",
          "name": "stderr",
          "text": [
            "Epoch [977/5000]: 100%|██████████| 9/9 [00:00<00:00, 47.12it/s, loss=22.3]\n"
          ]
        },
        {
          "output_type": "stream",
          "name": "stdout",
          "text": [
            "Epoch [977/5000]: Train loss: 29.9566, Valid loss: 18.1471\n"
          ]
        },
        {
          "output_type": "stream",
          "name": "stderr",
          "text": [
            "Epoch [978/5000]: 100%|██████████| 9/9 [00:00<00:00, 54.64it/s, loss=33.2]\n"
          ]
        },
        {
          "output_type": "stream",
          "name": "stdout",
          "text": [
            "Epoch [978/5000]: Train loss: 32.4167, Valid loss: 16.3783\n"
          ]
        },
        {
          "output_type": "stream",
          "name": "stderr",
          "text": [
            "Epoch [979/5000]: 100%|██████████| 9/9 [00:00<00:00, 73.89it/s, loss=24.2]\n"
          ]
        },
        {
          "output_type": "stream",
          "name": "stdout",
          "text": [
            "Epoch [979/5000]: Train loss: 31.8654, Valid loss: 16.6341\n"
          ]
        },
        {
          "output_type": "stream",
          "name": "stderr",
          "text": [
            "Epoch [980/5000]: 100%|██████████| 9/9 [00:00<00:00, 72.59it/s, loss=28.4]\n"
          ]
        },
        {
          "output_type": "stream",
          "name": "stdout",
          "text": [
            "Epoch [980/5000]: Train loss: 30.1703, Valid loss: 18.0865\n"
          ]
        },
        {
          "output_type": "stream",
          "name": "stderr",
          "text": [
            "Epoch [981/5000]: 100%|██████████| 9/9 [00:00<00:00, 71.61it/s, loss=35.1]\n"
          ]
        },
        {
          "output_type": "stream",
          "name": "stdout",
          "text": [
            "Epoch [981/5000]: Train loss: 30.9790, Valid loss: 16.4472\n"
          ]
        },
        {
          "output_type": "stream",
          "name": "stderr",
          "text": [
            "Epoch [982/5000]: 100%|██████████| 9/9 [00:00<00:00, 66.50it/s, loss=51.8]\n"
          ]
        },
        {
          "output_type": "stream",
          "name": "stdout",
          "text": [
            "Epoch [982/5000]: Train loss: 34.0254, Valid loss: 16.7601\n"
          ]
        },
        {
          "output_type": "stream",
          "name": "stderr",
          "text": [
            "Epoch [983/5000]: 100%|██████████| 9/9 [00:00<00:00, 25.21it/s, loss=38.2]\n"
          ]
        },
        {
          "output_type": "stream",
          "name": "stdout",
          "text": [
            "Epoch [983/5000]: Train loss: 32.7844, Valid loss: 16.3250\n"
          ]
        },
        {
          "output_type": "stream",
          "name": "stderr",
          "text": [
            "Epoch [984/5000]: 100%|██████████| 9/9 [00:00<00:00, 58.34it/s, loss=35.2]\n"
          ]
        },
        {
          "output_type": "stream",
          "name": "stdout",
          "text": [
            "Epoch [984/5000]: Train loss: 31.6417, Valid loss: 16.2878\n"
          ]
        },
        {
          "output_type": "stream",
          "name": "stderr",
          "text": [
            "Epoch [985/5000]: 100%|██████████| 9/9 [00:00<00:00, 52.96it/s, loss=31.4]\n"
          ]
        },
        {
          "output_type": "stream",
          "name": "stdout",
          "text": [
            "Epoch [985/5000]: Train loss: 32.2882, Valid loss: 18.0070\n"
          ]
        },
        {
          "output_type": "stream",
          "name": "stderr",
          "text": [
            "Epoch [986/5000]: 100%|██████████| 9/9 [00:00<00:00, 53.50it/s, loss=33.1]\n"
          ]
        },
        {
          "output_type": "stream",
          "name": "stdout",
          "text": [
            "Epoch [986/5000]: Train loss: 30.9143, Valid loss: 17.5264\n"
          ]
        },
        {
          "output_type": "stream",
          "name": "stderr",
          "text": [
            "Epoch [987/5000]: 100%|██████████| 9/9 [00:00<00:00, 55.82it/s, loss=25.1]\n"
          ]
        },
        {
          "output_type": "stream",
          "name": "stdout",
          "text": [
            "Epoch [987/5000]: Train loss: 29.8204, Valid loss: 17.6958\n"
          ]
        },
        {
          "output_type": "stream",
          "name": "stderr",
          "text": [
            "Epoch [988/5000]: 100%|██████████| 9/9 [00:00<00:00, 63.62it/s, loss=29.9]\n"
          ]
        },
        {
          "output_type": "stream",
          "name": "stdout",
          "text": [
            "Epoch [988/5000]: Train loss: 30.7323, Valid loss: 17.1664\n"
          ]
        },
        {
          "output_type": "stream",
          "name": "stderr",
          "text": [
            "Epoch [989/5000]: 100%|██████████| 9/9 [00:00<00:00, 65.76it/s, loss=28.5]\n"
          ]
        },
        {
          "output_type": "stream",
          "name": "stdout",
          "text": [
            "Epoch [989/5000]: Train loss: 30.3499, Valid loss: 19.7236\n"
          ]
        },
        {
          "output_type": "stream",
          "name": "stderr",
          "text": [
            "Epoch [990/5000]: 100%|██████████| 9/9 [00:00<00:00, 53.20it/s, loss=34.2]\n"
          ]
        },
        {
          "output_type": "stream",
          "name": "stdout",
          "text": [
            "Epoch [990/5000]: Train loss: 31.1353, Valid loss: 19.3773\n"
          ]
        },
        {
          "output_type": "stream",
          "name": "stderr",
          "text": [
            "Epoch [991/5000]: 100%|██████████| 9/9 [00:00<00:00, 54.13it/s, loss=23.7]\n"
          ]
        },
        {
          "output_type": "stream",
          "name": "stdout",
          "text": [
            "Epoch [991/5000]: Train loss: 29.5182, Valid loss: 17.8957\n"
          ]
        },
        {
          "output_type": "stream",
          "name": "stderr",
          "text": [
            "Epoch [992/5000]: 100%|██████████| 9/9 [00:00<00:00, 66.13it/s, loss=37.5]\n"
          ]
        },
        {
          "output_type": "stream",
          "name": "stdout",
          "text": [
            "Epoch [992/5000]: Train loss: 31.8902, Valid loss: 22.2992\n"
          ]
        },
        {
          "output_type": "stream",
          "name": "stderr",
          "text": [
            "Epoch [993/5000]: 100%|██████████| 9/9 [00:00<00:00, 63.39it/s, loss=31.5]\n"
          ]
        },
        {
          "output_type": "stream",
          "name": "stdout",
          "text": [
            "Epoch [993/5000]: Train loss: 30.9465, Valid loss: 18.0872\n"
          ]
        },
        {
          "output_type": "stream",
          "name": "stderr",
          "text": [
            "Epoch [994/5000]: 100%|██████████| 9/9 [00:00<00:00, 51.48it/s, loss=29.8]\n"
          ]
        },
        {
          "output_type": "stream",
          "name": "stdout",
          "text": [
            "Epoch [994/5000]: Train loss: 30.3592, Valid loss: 21.7446\n"
          ]
        },
        {
          "output_type": "stream",
          "name": "stderr",
          "text": [
            "Epoch [995/5000]: 100%|██████████| 9/9 [00:00<00:00, 59.05it/s, loss=41.1]\n"
          ]
        },
        {
          "output_type": "stream",
          "name": "stdout",
          "text": [
            "Epoch [995/5000]: Train loss: 32.2460, Valid loss: 17.1689\n"
          ]
        },
        {
          "output_type": "stream",
          "name": "stderr",
          "text": [
            "Epoch [996/5000]: 100%|██████████| 9/9 [00:00<00:00, 59.98it/s, loss=39.6]\n"
          ]
        },
        {
          "output_type": "stream",
          "name": "stdout",
          "text": [
            "Epoch [996/5000]: Train loss: 32.6889, Valid loss: 21.8614\n"
          ]
        },
        {
          "output_type": "stream",
          "name": "stderr",
          "text": [
            "Epoch [997/5000]: 100%|██████████| 9/9 [00:00<00:00, 57.95it/s, loss=34]\n"
          ]
        },
        {
          "output_type": "stream",
          "name": "stdout",
          "text": [
            "Epoch [997/5000]: Train loss: 29.9443, Valid loss: 17.8136\n"
          ]
        },
        {
          "output_type": "stream",
          "name": "stderr",
          "text": [
            "Epoch [998/5000]: 100%|██████████| 9/9 [00:00<00:00, 56.50it/s, loss=29.1]\n"
          ]
        },
        {
          "output_type": "stream",
          "name": "stdout",
          "text": [
            "Epoch [998/5000]: Train loss: 29.2250, Valid loss: 16.6945\n"
          ]
        },
        {
          "output_type": "stream",
          "name": "stderr",
          "text": [
            "Epoch [999/5000]: 100%|██████████| 9/9 [00:00<00:00, 69.95it/s, loss=31]\n"
          ]
        },
        {
          "output_type": "stream",
          "name": "stdout",
          "text": [
            "Epoch [999/5000]: Train loss: 32.4538, Valid loss: 16.7578\n"
          ]
        },
        {
          "output_type": "stream",
          "name": "stderr",
          "text": [
            "Epoch [1000/5000]: 100%|██████████| 9/9 [00:00<00:00, 51.43it/s, loss=23.4]\n"
          ]
        },
        {
          "output_type": "stream",
          "name": "stdout",
          "text": [
            "Epoch [1000/5000]: Train loss: 30.6258, Valid loss: 18.2468\n"
          ]
        },
        {
          "output_type": "stream",
          "name": "stderr",
          "text": [
            "Epoch [1001/5000]: 100%|██████████| 9/9 [00:00<00:00, 65.72it/s, loss=25.4]\n"
          ]
        },
        {
          "output_type": "stream",
          "name": "stdout",
          "text": [
            "Epoch [1001/5000]: Train loss: 30.8895, Valid loss: 17.2419\n"
          ]
        },
        {
          "output_type": "stream",
          "name": "stderr",
          "text": [
            "Epoch [1002/5000]: 100%|██████████| 9/9 [00:00<00:00, 67.18it/s, loss=25.3]\n"
          ]
        },
        {
          "output_type": "stream",
          "name": "stdout",
          "text": [
            "Epoch [1002/5000]: Train loss: 30.7522, Valid loss: 21.3464\n"
          ]
        },
        {
          "output_type": "stream",
          "name": "stderr",
          "text": [
            "Epoch [1003/5000]: 100%|██████████| 9/9 [00:00<00:00, 71.81it/s, loss=25.2]\n"
          ]
        },
        {
          "output_type": "stream",
          "name": "stdout",
          "text": [
            "Epoch [1003/5000]: Train loss: 28.9490, Valid loss: 18.1377\n"
          ]
        },
        {
          "output_type": "stream",
          "name": "stderr",
          "text": [
            "Epoch [1004/5000]: 100%|██████████| 9/9 [00:00<00:00, 58.98it/s, loss=26.5]\n"
          ]
        },
        {
          "output_type": "stream",
          "name": "stdout",
          "text": [
            "Epoch [1004/5000]: Train loss: 30.2585, Valid loss: 18.6950\n"
          ]
        },
        {
          "output_type": "stream",
          "name": "stderr",
          "text": [
            "Epoch [1005/5000]: 100%|██████████| 9/9 [00:00<00:00, 61.09it/s, loss=37.3]\n"
          ]
        },
        {
          "output_type": "stream",
          "name": "stdout",
          "text": [
            "Epoch [1005/5000]: Train loss: 31.8715, Valid loss: 16.3544\n"
          ]
        },
        {
          "output_type": "stream",
          "name": "stderr",
          "text": [
            "Epoch [1006/5000]: 100%|██████████| 9/9 [00:00<00:00, 71.04it/s, loss=24.6]\n"
          ]
        },
        {
          "output_type": "stream",
          "name": "stdout",
          "text": [
            "Epoch [1006/5000]: Train loss: 29.8579, Valid loss: 16.2271\n"
          ]
        },
        {
          "output_type": "stream",
          "name": "stderr",
          "text": [
            "Epoch [1007/5000]: 100%|██████████| 9/9 [00:00<00:00, 55.99it/s, loss=19.8]\n"
          ]
        },
        {
          "output_type": "stream",
          "name": "stdout",
          "text": [
            "Epoch [1007/5000]: Train loss: 30.2562, Valid loss: 18.2317\n"
          ]
        },
        {
          "output_type": "stream",
          "name": "stderr",
          "text": [
            "Epoch [1008/5000]: 100%|██████████| 9/9 [00:00<00:00, 58.75it/s, loss=38.3]\n"
          ]
        },
        {
          "output_type": "stream",
          "name": "stdout",
          "text": [
            "Epoch [1008/5000]: Train loss: 30.8705, Valid loss: 17.7053\n"
          ]
        },
        {
          "output_type": "stream",
          "name": "stderr",
          "text": [
            "Epoch [1009/5000]: 100%|██████████| 9/9 [00:00<00:00, 60.43it/s, loss=32.5]\n"
          ]
        },
        {
          "output_type": "stream",
          "name": "stdout",
          "text": [
            "Epoch [1009/5000]: Train loss: 30.3419, Valid loss: 18.1356\n"
          ]
        },
        {
          "output_type": "stream",
          "name": "stderr",
          "text": [
            "Epoch [1010/5000]: 100%|██████████| 9/9 [00:00<00:00, 58.19it/s, loss=25.5]\n"
          ]
        },
        {
          "output_type": "stream",
          "name": "stdout",
          "text": [
            "Epoch [1010/5000]: Train loss: 28.7206, Valid loss: 18.3067\n"
          ]
        },
        {
          "output_type": "stream",
          "name": "stderr",
          "text": [
            "Epoch [1011/5000]: 100%|██████████| 9/9 [00:00<00:00, 59.81it/s, loss=26]\n"
          ]
        },
        {
          "output_type": "stream",
          "name": "stdout",
          "text": [
            "Epoch [1011/5000]: Train loss: 29.2445, Valid loss: 20.1880\n"
          ]
        },
        {
          "output_type": "stream",
          "name": "stderr",
          "text": [
            "Epoch [1012/5000]: 100%|██████████| 9/9 [00:00<00:00, 66.82it/s, loss=35.8]\n"
          ]
        },
        {
          "output_type": "stream",
          "name": "stdout",
          "text": [
            "Epoch [1012/5000]: Train loss: 29.4862, Valid loss: 16.2257\n"
          ]
        },
        {
          "output_type": "stream",
          "name": "stderr",
          "text": [
            "Epoch [1013/5000]: 100%|██████████| 9/9 [00:00<00:00, 61.54it/s, loss=29.2]\n"
          ]
        },
        {
          "output_type": "stream",
          "name": "stdout",
          "text": [
            "Epoch [1013/5000]: Train loss: 29.8510, Valid loss: 17.7825\n"
          ]
        },
        {
          "output_type": "stream",
          "name": "stderr",
          "text": [
            "Epoch [1014/5000]: 100%|██████████| 9/9 [00:00<00:00, 69.68it/s, loss=28.8]\n"
          ]
        },
        {
          "output_type": "stream",
          "name": "stdout",
          "text": [
            "Epoch [1014/5000]: Train loss: 29.7930, Valid loss: 17.1916\n"
          ]
        },
        {
          "output_type": "stream",
          "name": "stderr",
          "text": [
            "Epoch [1015/5000]: 100%|██████████| 9/9 [00:00<00:00, 70.83it/s, loss=27.1]\n"
          ]
        },
        {
          "output_type": "stream",
          "name": "stdout",
          "text": [
            "Epoch [1015/5000]: Train loss: 29.3119, Valid loss: 17.6826\n"
          ]
        },
        {
          "output_type": "stream",
          "name": "stderr",
          "text": [
            "Epoch [1016/5000]: 100%|██████████| 9/9 [00:00<00:00, 68.02it/s, loss=40.7]\n"
          ]
        },
        {
          "output_type": "stream",
          "name": "stdout",
          "text": [
            "Epoch [1016/5000]: Train loss: 31.4383, Valid loss: 18.0612\n"
          ]
        },
        {
          "output_type": "stream",
          "name": "stderr",
          "text": [
            "Epoch [1017/5000]: 100%|██████████| 9/9 [00:00<00:00, 51.48it/s, loss=30.3]"
          ]
        },
        {
          "output_type": "stream",
          "name": "stdout",
          "text": [
            "Epoch [1017/5000]: Train loss: 29.3827, Valid loss: 21.2456"
          ]
        },
        {
          "output_type": "stream",
          "name": "stderr",
          "text": [
            "\n"
          ]
        },
        {
          "output_type": "stream",
          "name": "stdout",
          "text": [
            "\n"
          ]
        },
        {
          "output_type": "stream",
          "name": "stderr",
          "text": [
            "Epoch [1018/5000]: 100%|██████████| 9/9 [00:00<00:00, 63.65it/s, loss=35.7]\n"
          ]
        },
        {
          "output_type": "stream",
          "name": "stdout",
          "text": [
            "Epoch [1018/5000]: Train loss: 33.4959, Valid loss: 16.1353\n"
          ]
        },
        {
          "output_type": "stream",
          "name": "stderr",
          "text": [
            "Epoch [1019/5000]: 100%|██████████| 9/9 [00:00<00:00, 58.63it/s, loss=33.5]\n"
          ]
        },
        {
          "output_type": "stream",
          "name": "stdout",
          "text": [
            "Epoch [1019/5000]: Train loss: 30.1376, Valid loss: 15.1302\n",
            "Saving model with loss 15.130...\n"
          ]
        },
        {
          "output_type": "stream",
          "name": "stderr",
          "text": [
            "Epoch [1020/5000]: 100%|██████████| 9/9 [00:00<00:00, 68.41it/s, loss=27.9]\n"
          ]
        },
        {
          "output_type": "stream",
          "name": "stdout",
          "text": [
            "Epoch [1020/5000]: Train loss: 30.9785, Valid loss: 17.0124\n"
          ]
        },
        {
          "output_type": "stream",
          "name": "stderr",
          "text": [
            "Epoch [1021/5000]: 100%|██████████| 9/9 [00:00<00:00, 54.58it/s, loss=33.2]\n"
          ]
        },
        {
          "output_type": "stream",
          "name": "stdout",
          "text": [
            "Epoch [1021/5000]: Train loss: 30.4573, Valid loss: 18.5537\n"
          ]
        },
        {
          "output_type": "stream",
          "name": "stderr",
          "text": [
            "Epoch [1022/5000]: 100%|██████████| 9/9 [00:00<00:00, 59.18it/s, loss=33.3]\n"
          ]
        },
        {
          "output_type": "stream",
          "name": "stdout",
          "text": [
            "Epoch [1022/5000]: Train loss: 30.4542, Valid loss: 15.6988\n"
          ]
        },
        {
          "output_type": "stream",
          "name": "stderr",
          "text": [
            "Epoch [1023/5000]: 100%|██████████| 9/9 [00:00<00:00, 53.78it/s, loss=29.8]\n"
          ]
        },
        {
          "output_type": "stream",
          "name": "stdout",
          "text": [
            "Epoch [1023/5000]: Train loss: 32.0362, Valid loss: 17.7498\n"
          ]
        },
        {
          "output_type": "stream",
          "name": "stderr",
          "text": [
            "Epoch [1024/5000]: 100%|██████████| 9/9 [00:00<00:00, 70.30it/s, loss=38.8]\n"
          ]
        },
        {
          "output_type": "stream",
          "name": "stdout",
          "text": [
            "Epoch [1024/5000]: Train loss: 31.0328, Valid loss: 18.1481\n"
          ]
        },
        {
          "output_type": "stream",
          "name": "stderr",
          "text": [
            "Epoch [1025/5000]: 100%|██████████| 9/9 [00:00<00:00, 67.01it/s, loss=26.6]\n"
          ]
        },
        {
          "output_type": "stream",
          "name": "stdout",
          "text": [
            "Epoch [1025/5000]: Train loss: 32.5679, Valid loss: 19.2764\n"
          ]
        },
        {
          "output_type": "stream",
          "name": "stderr",
          "text": [
            "Epoch [1026/5000]: 100%|██████████| 9/9 [00:00<00:00, 72.44it/s, loss=38.1]\n"
          ]
        },
        {
          "output_type": "stream",
          "name": "stdout",
          "text": [
            "Epoch [1026/5000]: Train loss: 30.5973, Valid loss: 18.6923\n"
          ]
        },
        {
          "output_type": "stream",
          "name": "stderr",
          "text": [
            "Epoch [1027/5000]: 100%|██████████| 9/9 [00:00<00:00, 73.32it/s, loss=29.3]\n"
          ]
        },
        {
          "output_type": "stream",
          "name": "stdout",
          "text": [
            "Epoch [1027/5000]: Train loss: 29.8753, Valid loss: 19.4216\n"
          ]
        },
        {
          "output_type": "stream",
          "name": "stderr",
          "text": [
            "Epoch [1028/5000]: 100%|██████████| 9/9 [00:00<00:00, 55.08it/s, loss=24.9]\n"
          ]
        },
        {
          "output_type": "stream",
          "name": "stdout",
          "text": [
            "Epoch [1028/5000]: Train loss: 29.7364, Valid loss: 14.8489\n",
            "Saving model with loss 14.849...\n"
          ]
        },
        {
          "output_type": "stream",
          "name": "stderr",
          "text": [
            "Epoch [1029/5000]: 100%|██████████| 9/9 [00:00<00:00, 54.92it/s, loss=27.7]\n"
          ]
        },
        {
          "output_type": "stream",
          "name": "stdout",
          "text": [
            "Epoch [1029/5000]: Train loss: 28.1319, Valid loss: 16.3225\n"
          ]
        },
        {
          "output_type": "stream",
          "name": "stderr",
          "text": [
            "Epoch [1030/5000]: 100%|██████████| 9/9 [00:00<00:00, 66.34it/s, loss=21.7]\n"
          ]
        },
        {
          "output_type": "stream",
          "name": "stdout",
          "text": [
            "Epoch [1030/5000]: Train loss: 28.3144, Valid loss: 21.5970\n"
          ]
        },
        {
          "output_type": "stream",
          "name": "stderr",
          "text": [
            "Epoch [1031/5000]: 100%|██████████| 9/9 [00:00<00:00, 71.50it/s, loss=24.6]\n"
          ]
        },
        {
          "output_type": "stream",
          "name": "stdout",
          "text": [
            "Epoch [1031/5000]: Train loss: 29.2774, Valid loss: 21.3444\n"
          ]
        },
        {
          "output_type": "stream",
          "name": "stderr",
          "text": [
            "Epoch [1032/5000]: 100%|██████████| 9/9 [00:00<00:00, 57.60it/s, loss=28.6]\n"
          ]
        },
        {
          "output_type": "stream",
          "name": "stdout",
          "text": [
            "Epoch [1032/5000]: Train loss: 29.1024, Valid loss: 15.5603\n"
          ]
        },
        {
          "output_type": "stream",
          "name": "stderr",
          "text": [
            "Epoch [1033/5000]: 100%|██████████| 9/9 [00:00<00:00, 53.64it/s, loss=27.7]\n"
          ]
        },
        {
          "output_type": "stream",
          "name": "stdout",
          "text": [
            "Epoch [1033/5000]: Train loss: 28.6811, Valid loss: 16.5524\n"
          ]
        },
        {
          "output_type": "stream",
          "name": "stderr",
          "text": [
            "Epoch [1034/5000]: 100%|██████████| 9/9 [00:00<00:00, 59.47it/s, loss=37.2]\n"
          ]
        },
        {
          "output_type": "stream",
          "name": "stdout",
          "text": [
            "Epoch [1034/5000]: Train loss: 30.0154, Valid loss: 15.4279\n"
          ]
        },
        {
          "output_type": "stream",
          "name": "stderr",
          "text": [
            "Epoch [1035/5000]: 100%|██████████| 9/9 [00:00<00:00, 64.91it/s, loss=33.4]\n"
          ]
        },
        {
          "output_type": "stream",
          "name": "stdout",
          "text": [
            "Epoch [1035/5000]: Train loss: 28.8187, Valid loss: 17.3840\n"
          ]
        },
        {
          "output_type": "stream",
          "name": "stderr",
          "text": [
            "Epoch [1036/5000]: 100%|██████████| 9/9 [00:00<00:00, 59.51it/s, loss=29.1]\n"
          ]
        },
        {
          "output_type": "stream",
          "name": "stdout",
          "text": [
            "Epoch [1036/5000]: Train loss: 31.5648, Valid loss: 17.8797\n"
          ]
        },
        {
          "output_type": "stream",
          "name": "stderr",
          "text": [
            "Epoch [1037/5000]: 100%|██████████| 9/9 [00:00<00:00, 60.22it/s, loss=34.4]\n"
          ]
        },
        {
          "output_type": "stream",
          "name": "stdout",
          "text": [
            "Epoch [1037/5000]: Train loss: 30.4454, Valid loss: 14.1329\n",
            "Saving model with loss 14.133...\n"
          ]
        },
        {
          "output_type": "stream",
          "name": "stderr",
          "text": [
            "Epoch [1038/5000]: 100%|██████████| 9/9 [00:00<00:00, 54.36it/s, loss=30.2]\n"
          ]
        },
        {
          "output_type": "stream",
          "name": "stdout",
          "text": [
            "Epoch [1038/5000]: Train loss: 30.6028, Valid loss: 16.2408\n"
          ]
        },
        {
          "output_type": "stream",
          "name": "stderr",
          "text": [
            "Epoch [1039/5000]: 100%|██████████| 9/9 [00:00<00:00, 66.20it/s, loss=31.8]\n"
          ]
        },
        {
          "output_type": "stream",
          "name": "stdout",
          "text": [
            "Epoch [1039/5000]: Train loss: 29.7693, Valid loss: 17.0798\n"
          ]
        },
        {
          "output_type": "stream",
          "name": "stderr",
          "text": [
            "Epoch [1040/5000]: 100%|██████████| 9/9 [00:00<00:00, 65.65it/s, loss=32.3]\n"
          ]
        },
        {
          "output_type": "stream",
          "name": "stdout",
          "text": [
            "Epoch [1040/5000]: Train loss: 30.4169, Valid loss: 19.3964\n"
          ]
        },
        {
          "output_type": "stream",
          "name": "stderr",
          "text": [
            "Epoch [1041/5000]: 100%|██████████| 9/9 [00:00<00:00, 53.40it/s, loss=38.1]\n"
          ]
        },
        {
          "output_type": "stream",
          "name": "stdout",
          "text": [
            "Epoch [1041/5000]: Train loss: 28.8798, Valid loss: 15.6662\n"
          ]
        },
        {
          "output_type": "stream",
          "name": "stderr",
          "text": [
            "Epoch [1042/5000]: 100%|██████████| 9/9 [00:00<00:00, 60.53it/s, loss=29.3]\n"
          ]
        },
        {
          "output_type": "stream",
          "name": "stdout",
          "text": [
            "Epoch [1042/5000]: Train loss: 28.6224, Valid loss: 16.9780\n"
          ]
        },
        {
          "output_type": "stream",
          "name": "stderr",
          "text": [
            "Epoch [1043/5000]: 100%|██████████| 9/9 [00:00<00:00, 61.16it/s, loss=29.4]\n"
          ]
        },
        {
          "output_type": "stream",
          "name": "stdout",
          "text": [
            "Epoch [1043/5000]: Train loss: 31.5458, Valid loss: 18.1766\n"
          ]
        },
        {
          "output_type": "stream",
          "name": "stderr",
          "text": [
            "Epoch [1044/5000]: 100%|██████████| 9/9 [00:00<00:00, 62.76it/s, loss=20.4]\n"
          ]
        },
        {
          "output_type": "stream",
          "name": "stdout",
          "text": [
            "Epoch [1044/5000]: Train loss: 28.6560, Valid loss: 14.7272\n"
          ]
        },
        {
          "output_type": "stream",
          "name": "stderr",
          "text": [
            "Epoch [1045/5000]: 100%|██████████| 9/9 [00:00<00:00, 60.48it/s, loss=25.9]\n"
          ]
        },
        {
          "output_type": "stream",
          "name": "stdout",
          "text": [
            "Epoch [1045/5000]: Train loss: 31.8311, Valid loss: 18.7435\n"
          ]
        },
        {
          "output_type": "stream",
          "name": "stderr",
          "text": [
            "Epoch [1046/5000]: 100%|██████████| 9/9 [00:00<00:00, 61.38it/s, loss=29.1]\n"
          ]
        },
        {
          "output_type": "stream",
          "name": "stdout",
          "text": [
            "Epoch [1046/5000]: Train loss: 30.9629, Valid loss: 16.8723\n"
          ]
        },
        {
          "output_type": "stream",
          "name": "stderr",
          "text": [
            "Epoch [1047/5000]: 100%|██████████| 9/9 [00:00<00:00, 59.39it/s, loss=19.8]\n"
          ]
        },
        {
          "output_type": "stream",
          "name": "stdout",
          "text": [
            "Epoch [1047/5000]: Train loss: 31.0757, Valid loss: 19.3587\n"
          ]
        },
        {
          "output_type": "stream",
          "name": "stderr",
          "text": [
            "Epoch [1048/5000]: 100%|██████████| 9/9 [00:00<00:00, 54.09it/s, loss=25.3]\n"
          ]
        },
        {
          "output_type": "stream",
          "name": "stdout",
          "text": [
            "Epoch [1048/5000]: Train loss: 28.9388, Valid loss: 18.1474\n"
          ]
        },
        {
          "output_type": "stream",
          "name": "stderr",
          "text": [
            "Epoch [1049/5000]: 100%|██████████| 9/9 [00:00<00:00, 55.90it/s, loss=33.2]\n"
          ]
        },
        {
          "output_type": "stream",
          "name": "stdout",
          "text": [
            "Epoch [1049/5000]: Train loss: 30.4914, Valid loss: 17.6845\n"
          ]
        },
        {
          "output_type": "stream",
          "name": "stderr",
          "text": [
            "Epoch [1050/5000]: 100%|██████████| 9/9 [00:00<00:00, 53.47it/s, loss=30.6]\n"
          ]
        },
        {
          "output_type": "stream",
          "name": "stdout",
          "text": [
            "Epoch [1050/5000]: Train loss: 28.3056, Valid loss: 15.1045\n"
          ]
        },
        {
          "output_type": "stream",
          "name": "stderr",
          "text": [
            "Epoch [1051/5000]: 100%|██████████| 9/9 [00:00<00:00, 55.27it/s, loss=42.7]\n"
          ]
        },
        {
          "output_type": "stream",
          "name": "stdout",
          "text": [
            "Epoch [1051/5000]: Train loss: 32.2728, Valid loss: 16.0677\n"
          ]
        },
        {
          "output_type": "stream",
          "name": "stderr",
          "text": [
            "Epoch [1052/5000]: 100%|██████████| 9/9 [00:00<00:00, 47.35it/s, loss=19.1]\n"
          ]
        },
        {
          "output_type": "stream",
          "name": "stdout",
          "text": [
            "Epoch [1052/5000]: Train loss: 28.7699, Valid loss: 20.0300\n"
          ]
        },
        {
          "output_type": "stream",
          "name": "stderr",
          "text": [
            "Epoch [1053/5000]: 100%|██████████| 9/9 [00:00<00:00, 43.28it/s, loss=26.4]\n"
          ]
        },
        {
          "output_type": "stream",
          "name": "stdout",
          "text": [
            "Epoch [1053/5000]: Train loss: 30.4383, Valid loss: 16.4417\n"
          ]
        },
        {
          "output_type": "stream",
          "name": "stderr",
          "text": [
            "Epoch [1054/5000]: 100%|██████████| 9/9 [00:00<00:00, 57.40it/s, loss=35]\n"
          ]
        },
        {
          "output_type": "stream",
          "name": "stdout",
          "text": [
            "Epoch [1054/5000]: Train loss: 29.6010, Valid loss: 18.4780\n"
          ]
        },
        {
          "output_type": "stream",
          "name": "stderr",
          "text": [
            "Epoch [1055/5000]: 100%|██████████| 9/9 [00:00<00:00, 68.33it/s, loss=35.9]\n"
          ]
        },
        {
          "output_type": "stream",
          "name": "stdout",
          "text": [
            "Epoch [1055/5000]: Train loss: 29.1404, Valid loss: 15.4736\n"
          ]
        },
        {
          "output_type": "stream",
          "name": "stderr",
          "text": [
            "Epoch [1056/5000]: 100%|██████████| 9/9 [00:00<00:00, 54.66it/s, loss=37.9]\n"
          ]
        },
        {
          "output_type": "stream",
          "name": "stdout",
          "text": [
            "Epoch [1056/5000]: Train loss: 30.5384, Valid loss: 16.1668\n"
          ]
        },
        {
          "output_type": "stream",
          "name": "stderr",
          "text": [
            "Epoch [1057/5000]: 100%|██████████| 9/9 [00:00<00:00, 57.95it/s, loss=27.1]\n"
          ]
        },
        {
          "output_type": "stream",
          "name": "stdout",
          "text": [
            "Epoch [1057/5000]: Train loss: 29.5241, Valid loss: 17.8465\n"
          ]
        },
        {
          "output_type": "stream",
          "name": "stderr",
          "text": [
            "Epoch [1058/5000]: 100%|██████████| 9/9 [00:00<00:00, 49.39it/s, loss=27.5]\n"
          ]
        },
        {
          "output_type": "stream",
          "name": "stdout",
          "text": [
            "Epoch [1058/5000]: Train loss: 28.9759, Valid loss: 17.5088\n"
          ]
        },
        {
          "output_type": "stream",
          "name": "stderr",
          "text": [
            "Epoch [1059/5000]: 100%|██████████| 9/9 [00:00<00:00, 57.94it/s, loss=29.2]\n"
          ]
        },
        {
          "output_type": "stream",
          "name": "stdout",
          "text": [
            "Epoch [1059/5000]: Train loss: 29.4442, Valid loss: 19.2894\n"
          ]
        },
        {
          "output_type": "stream",
          "name": "stderr",
          "text": [
            "Epoch [1060/5000]: 100%|██████████| 9/9 [00:00<00:00, 63.52it/s, loss=32.2]\n"
          ]
        },
        {
          "output_type": "stream",
          "name": "stdout",
          "text": [
            "Epoch [1060/5000]: Train loss: 30.4065, Valid loss: 19.7228\n"
          ]
        },
        {
          "output_type": "stream",
          "name": "stderr",
          "text": [
            "Epoch [1061/5000]: 100%|██████████| 9/9 [00:00<00:00, 64.81it/s, loss=31.7]\n"
          ]
        },
        {
          "output_type": "stream",
          "name": "stdout",
          "text": [
            "Epoch [1061/5000]: Train loss: 30.6892, Valid loss: 15.0697\n"
          ]
        },
        {
          "output_type": "stream",
          "name": "stderr",
          "text": [
            "Epoch [1062/5000]: 100%|██████████| 9/9 [00:00<00:00, 68.39it/s, loss=21.5]\n"
          ]
        },
        {
          "output_type": "stream",
          "name": "stdout",
          "text": [
            "Epoch [1062/5000]: Train loss: 30.2052, Valid loss: 16.3549\n"
          ]
        },
        {
          "output_type": "stream",
          "name": "stderr",
          "text": [
            "Epoch [1063/5000]: 100%|██████████| 9/9 [00:00<00:00, 52.75it/s, loss=36.4]\n"
          ]
        },
        {
          "output_type": "stream",
          "name": "stdout",
          "text": [
            "Epoch [1063/5000]: Train loss: 30.1610, Valid loss: 13.5721\n",
            "Saving model with loss 13.572...\n"
          ]
        },
        {
          "output_type": "stream",
          "name": "stderr",
          "text": [
            "Epoch [1064/5000]: 100%|██████████| 9/9 [00:00<00:00, 61.11it/s, loss=25.7]\n"
          ]
        },
        {
          "output_type": "stream",
          "name": "stdout",
          "text": [
            "Epoch [1064/5000]: Train loss: 28.9547, Valid loss: 17.7863\n"
          ]
        },
        {
          "output_type": "stream",
          "name": "stderr",
          "text": [
            "Epoch [1065/5000]: 100%|██████████| 9/9 [00:00<00:00, 53.74it/s, loss=26.6]\n"
          ]
        },
        {
          "output_type": "stream",
          "name": "stdout",
          "text": [
            "Epoch [1065/5000]: Train loss: 26.8284, Valid loss: 15.7524\n"
          ]
        },
        {
          "output_type": "stream",
          "name": "stderr",
          "text": [
            "Epoch [1066/5000]: 100%|██████████| 9/9 [00:00<00:00, 70.37it/s, loss=28.6]\n"
          ]
        },
        {
          "output_type": "stream",
          "name": "stdout",
          "text": [
            "Epoch [1066/5000]: Train loss: 27.6192, Valid loss: 15.5528\n"
          ]
        },
        {
          "output_type": "stream",
          "name": "stderr",
          "text": [
            "Epoch [1067/5000]: 100%|██████████| 9/9 [00:00<00:00, 57.39it/s, loss=35.3]\n"
          ]
        },
        {
          "output_type": "stream",
          "name": "stdout",
          "text": [
            "Epoch [1067/5000]: Train loss: 30.2931, Valid loss: 16.1397\n"
          ]
        },
        {
          "output_type": "stream",
          "name": "stderr",
          "text": [
            "Epoch [1068/5000]: 100%|██████████| 9/9 [00:00<00:00, 55.90it/s, loss=20.6]\n"
          ]
        },
        {
          "output_type": "stream",
          "name": "stdout",
          "text": [
            "Epoch [1068/5000]: Train loss: 28.8666, Valid loss: 15.6934\n"
          ]
        },
        {
          "output_type": "stream",
          "name": "stderr",
          "text": [
            "Epoch [1069/5000]: 100%|██████████| 9/9 [00:00<00:00, 57.46it/s, loss=36.1]\n"
          ]
        },
        {
          "output_type": "stream",
          "name": "stdout",
          "text": [
            "Epoch [1069/5000]: Train loss: 29.2619, Valid loss: 17.2100\n"
          ]
        },
        {
          "output_type": "stream",
          "name": "stderr",
          "text": [
            "Epoch [1070/5000]: 100%|██████████| 9/9 [00:00<00:00, 64.10it/s, loss=30.5]\n"
          ]
        },
        {
          "output_type": "stream",
          "name": "stdout",
          "text": [
            "Epoch [1070/5000]: Train loss: 31.3062, Valid loss: 15.9048\n"
          ]
        },
        {
          "output_type": "stream",
          "name": "stderr",
          "text": [
            "Epoch [1071/5000]: 100%|██████████| 9/9 [00:00<00:00, 58.05it/s, loss=20.2]\n"
          ]
        },
        {
          "output_type": "stream",
          "name": "stdout",
          "text": [
            "Epoch [1071/5000]: Train loss: 27.1412, Valid loss: 16.5711\n"
          ]
        },
        {
          "output_type": "stream",
          "name": "stderr",
          "text": [
            "Epoch [1072/5000]: 100%|██████████| 9/9 [00:00<00:00, 66.54it/s, loss=22.3]\n"
          ]
        },
        {
          "output_type": "stream",
          "name": "stdout",
          "text": [
            "Epoch [1072/5000]: Train loss: 28.0419, Valid loss: 15.4316\n"
          ]
        },
        {
          "output_type": "stream",
          "name": "stderr",
          "text": [
            "Epoch [1073/5000]: 100%|██████████| 9/9 [00:00<00:00, 65.23it/s, loss=32.9]\n"
          ]
        },
        {
          "output_type": "stream",
          "name": "stdout",
          "text": [
            "Epoch [1073/5000]: Train loss: 30.9449, Valid loss: 15.3795\n"
          ]
        },
        {
          "output_type": "stream",
          "name": "stderr",
          "text": [
            "Epoch [1074/5000]: 100%|██████████| 9/9 [00:00<00:00, 65.52it/s, loss=29.7]\n"
          ]
        },
        {
          "output_type": "stream",
          "name": "stdout",
          "text": [
            "Epoch [1074/5000]: Train loss: 27.9981, Valid loss: 14.8155\n"
          ]
        },
        {
          "output_type": "stream",
          "name": "stderr",
          "text": [
            "Epoch [1075/5000]: 100%|██████████| 9/9 [00:00<00:00, 65.64it/s, loss=32.1]\n"
          ]
        },
        {
          "output_type": "stream",
          "name": "stdout",
          "text": [
            "Epoch [1075/5000]: Train loss: 27.9743, Valid loss: 16.4437\n"
          ]
        },
        {
          "output_type": "stream",
          "name": "stderr",
          "text": [
            "Epoch [1076/5000]: 100%|██████████| 9/9 [00:00<00:00, 64.58it/s, loss=31.6]\n"
          ]
        },
        {
          "output_type": "stream",
          "name": "stdout",
          "text": [
            "Epoch [1076/5000]: Train loss: 29.6000, Valid loss: 17.5799\n"
          ]
        },
        {
          "output_type": "stream",
          "name": "stderr",
          "text": [
            "Epoch [1077/5000]: 100%|██████████| 9/9 [00:00<00:00, 65.37it/s, loss=25.5]\n"
          ]
        },
        {
          "output_type": "stream",
          "name": "stdout",
          "text": [
            "Epoch [1077/5000]: Train loss: 29.7485, Valid loss: 16.2857\n"
          ]
        },
        {
          "output_type": "stream",
          "name": "stderr",
          "text": [
            "Epoch [1078/5000]: 100%|██████████| 9/9 [00:00<00:00, 51.39it/s, loss=26.8]\n"
          ]
        },
        {
          "output_type": "stream",
          "name": "stdout",
          "text": [
            "Epoch [1078/5000]: Train loss: 29.3042, Valid loss: 16.0489\n"
          ]
        },
        {
          "output_type": "stream",
          "name": "stderr",
          "text": [
            "Epoch [1079/5000]: 100%|██████████| 9/9 [00:00<00:00, 53.50it/s, loss=30.4]\n"
          ]
        },
        {
          "output_type": "stream",
          "name": "stdout",
          "text": [
            "Epoch [1079/5000]: Train loss: 29.0423, Valid loss: 18.6746\n"
          ]
        },
        {
          "output_type": "stream",
          "name": "stderr",
          "text": [
            "Epoch [1080/5000]: 100%|██████████| 9/9 [00:00<00:00, 55.37it/s, loss=31.5]\n"
          ]
        },
        {
          "output_type": "stream",
          "name": "stdout",
          "text": [
            "Epoch [1080/5000]: Train loss: 29.2904, Valid loss: 14.9112\n"
          ]
        },
        {
          "output_type": "stream",
          "name": "stderr",
          "text": [
            "Epoch [1081/5000]: 100%|██████████| 9/9 [00:00<00:00, 65.18it/s, loss=33.8]\n"
          ]
        },
        {
          "output_type": "stream",
          "name": "stdout",
          "text": [
            "Epoch [1081/5000]: Train loss: 28.6623, Valid loss: 16.2952\n"
          ]
        },
        {
          "output_type": "stream",
          "name": "stderr",
          "text": [
            "Epoch [1082/5000]: 100%|██████████| 9/9 [00:00<00:00, 78.60it/s, loss=26.5]\n"
          ]
        },
        {
          "output_type": "stream",
          "name": "stdout",
          "text": [
            "Epoch [1082/5000]: Train loss: 27.0847, Valid loss: 16.1518\n"
          ]
        },
        {
          "output_type": "stream",
          "name": "stderr",
          "text": [
            "Epoch [1083/5000]: 100%|██████████| 9/9 [00:00<00:00, 59.48it/s, loss=33.4]\n"
          ]
        },
        {
          "output_type": "stream",
          "name": "stdout",
          "text": [
            "Epoch [1083/5000]: Train loss: 27.4003, Valid loss: 19.0089\n"
          ]
        },
        {
          "output_type": "stream",
          "name": "stderr",
          "text": [
            "Epoch [1084/5000]: 100%|██████████| 9/9 [00:00<00:00, 60.87it/s, loss=30]\n"
          ]
        },
        {
          "output_type": "stream",
          "name": "stdout",
          "text": [
            "Epoch [1084/5000]: Train loss: 29.9845, Valid loss: 17.5422\n"
          ]
        },
        {
          "output_type": "stream",
          "name": "stderr",
          "text": [
            "Epoch [1085/5000]: 100%|██████████| 9/9 [00:00<00:00, 72.27it/s, loss=41.1]\n"
          ]
        },
        {
          "output_type": "stream",
          "name": "stdout",
          "text": [
            "Epoch [1085/5000]: Train loss: 29.7694, Valid loss: 16.3306\n"
          ]
        },
        {
          "output_type": "stream",
          "name": "stderr",
          "text": [
            "Epoch [1086/5000]: 100%|██████████| 9/9 [00:00<00:00, 64.16it/s, loss=31.9]\n"
          ]
        },
        {
          "output_type": "stream",
          "name": "stdout",
          "text": [
            "Epoch [1086/5000]: Train loss: 29.2050, Valid loss: 15.7751\n"
          ]
        },
        {
          "output_type": "stream",
          "name": "stderr",
          "text": [
            "Epoch [1087/5000]: 100%|██████████| 9/9 [00:00<00:00, 60.32it/s, loss=22.1]\n"
          ]
        },
        {
          "output_type": "stream",
          "name": "stdout",
          "text": [
            "Epoch [1087/5000]: Train loss: 28.5045, Valid loss: 15.8112\n"
          ]
        },
        {
          "output_type": "stream",
          "name": "stderr",
          "text": [
            "Epoch [1088/5000]: 100%|██████████| 9/9 [00:00<00:00, 71.56it/s, loss=37.5]\n"
          ]
        },
        {
          "output_type": "stream",
          "name": "stdout",
          "text": [
            "Epoch [1088/5000]: Train loss: 27.9111, Valid loss: 18.5698\n"
          ]
        },
        {
          "output_type": "stream",
          "name": "stderr",
          "text": [
            "Epoch [1089/5000]: 100%|██████████| 9/9 [00:00<00:00, 67.98it/s, loss=21.7]\n"
          ]
        },
        {
          "output_type": "stream",
          "name": "stdout",
          "text": [
            "Epoch [1089/5000]: Train loss: 28.4346, Valid loss: 17.3574\n"
          ]
        },
        {
          "output_type": "stream",
          "name": "stderr",
          "text": [
            "Epoch [1090/5000]: 100%|██████████| 9/9 [00:00<00:00, 70.71it/s, loss=18.1]\n"
          ]
        },
        {
          "output_type": "stream",
          "name": "stdout",
          "text": [
            "Epoch [1090/5000]: Train loss: 27.6963, Valid loss: 14.2806\n"
          ]
        },
        {
          "output_type": "stream",
          "name": "stderr",
          "text": [
            "Epoch [1091/5000]: 100%|██████████| 9/9 [00:00<00:00, 72.22it/s, loss=25.3]\n"
          ]
        },
        {
          "output_type": "stream",
          "name": "stdout",
          "text": [
            "Epoch [1091/5000]: Train loss: 29.2717, Valid loss: 15.5467\n"
          ]
        },
        {
          "output_type": "stream",
          "name": "stderr",
          "text": [
            "Epoch [1092/5000]: 100%|██████████| 9/9 [00:00<00:00, 74.43it/s, loss=31.3]\n"
          ]
        },
        {
          "output_type": "stream",
          "name": "stdout",
          "text": [
            "Epoch [1092/5000]: Train loss: 28.6116, Valid loss: 18.0007\n"
          ]
        },
        {
          "output_type": "stream",
          "name": "stderr",
          "text": [
            "Epoch [1093/5000]: 100%|██████████| 9/9 [00:00<00:00, 74.15it/s, loss=24.7]\n"
          ]
        },
        {
          "output_type": "stream",
          "name": "stdout",
          "text": [
            "Epoch [1093/5000]: Train loss: 27.2310, Valid loss: 14.1491\n"
          ]
        },
        {
          "output_type": "stream",
          "name": "stderr",
          "text": [
            "Epoch [1094/5000]: 100%|██████████| 9/9 [00:00<00:00, 68.00it/s, loss=38.5]\n"
          ]
        },
        {
          "output_type": "stream",
          "name": "stdout",
          "text": [
            "Epoch [1094/5000]: Train loss: 30.0564, Valid loss: 14.9807\n"
          ]
        },
        {
          "output_type": "stream",
          "name": "stderr",
          "text": [
            "Epoch [1095/5000]: 100%|██████████| 9/9 [00:00<00:00, 65.17it/s, loss=23.5]\n"
          ]
        },
        {
          "output_type": "stream",
          "name": "stdout",
          "text": [
            "Epoch [1095/5000]: Train loss: 26.5012, Valid loss: 17.7995\n"
          ]
        },
        {
          "output_type": "stream",
          "name": "stderr",
          "text": [
            "Epoch [1096/5000]: 100%|██████████| 9/9 [00:00<00:00, 50.67it/s, loss=31.2]\n"
          ]
        },
        {
          "output_type": "stream",
          "name": "stdout",
          "text": [
            "Epoch [1096/5000]: Train loss: 28.9344, Valid loss: 15.4645\n"
          ]
        },
        {
          "output_type": "stream",
          "name": "stderr",
          "text": [
            "Epoch [1097/5000]: 100%|██████████| 9/9 [00:00<00:00, 58.03it/s, loss=22.2]\n"
          ]
        },
        {
          "output_type": "stream",
          "name": "stdout",
          "text": [
            "Epoch [1097/5000]: Train loss: 28.8637, Valid loss: 14.4127\n"
          ]
        },
        {
          "output_type": "stream",
          "name": "stderr",
          "text": [
            "Epoch [1098/5000]: 100%|██████████| 9/9 [00:00<00:00, 67.24it/s, loss=22.6]\n"
          ]
        },
        {
          "output_type": "stream",
          "name": "stdout",
          "text": [
            "Epoch [1098/5000]: Train loss: 28.9837, Valid loss: 16.6404\n"
          ]
        },
        {
          "output_type": "stream",
          "name": "stderr",
          "text": [
            "Epoch [1099/5000]: 100%|██████████| 9/9 [00:00<00:00, 56.76it/s, loss=24.6]\n"
          ]
        },
        {
          "output_type": "stream",
          "name": "stdout",
          "text": [
            "Epoch [1099/5000]: Train loss: 28.8972, Valid loss: 16.9793\n"
          ]
        },
        {
          "output_type": "stream",
          "name": "stderr",
          "text": [
            "Epoch [1100/5000]: 100%|██████████| 9/9 [00:00<00:00, 57.08it/s, loss=37.1]\n"
          ]
        },
        {
          "output_type": "stream",
          "name": "stdout",
          "text": [
            "Epoch [1100/5000]: Train loss: 28.7307, Valid loss: 17.1609\n"
          ]
        },
        {
          "output_type": "stream",
          "name": "stderr",
          "text": [
            "Epoch [1101/5000]: 100%|██████████| 9/9 [00:00<00:00, 55.31it/s, loss=27.7]\n"
          ]
        },
        {
          "output_type": "stream",
          "name": "stdout",
          "text": [
            "Epoch [1101/5000]: Train loss: 31.0873, Valid loss: 18.3501\n"
          ]
        },
        {
          "output_type": "stream",
          "name": "stderr",
          "text": [
            "Epoch [1102/5000]: 100%|██████████| 9/9 [00:00<00:00, 58.92it/s, loss=24.3]\n"
          ]
        },
        {
          "output_type": "stream",
          "name": "stdout",
          "text": [
            "Epoch [1102/5000]: Train loss: 28.0577, Valid loss: 14.1248\n"
          ]
        },
        {
          "output_type": "stream",
          "name": "stderr",
          "text": [
            "Epoch [1103/5000]: 100%|██████████| 9/9 [00:00<00:00, 53.63it/s, loss=28.5]\n"
          ]
        },
        {
          "output_type": "stream",
          "name": "stdout",
          "text": [
            "Epoch [1103/5000]: Train loss: 28.0403, Valid loss: 15.4477\n"
          ]
        },
        {
          "output_type": "stream",
          "name": "stderr",
          "text": [
            "Epoch [1104/5000]: 100%|██████████| 9/9 [00:00<00:00, 70.28it/s, loss=40]\n"
          ]
        },
        {
          "output_type": "stream",
          "name": "stdout",
          "text": [
            "Epoch [1104/5000]: Train loss: 30.2249, Valid loss: 15.9382\n"
          ]
        },
        {
          "output_type": "stream",
          "name": "stderr",
          "text": [
            "Epoch [1105/5000]: 100%|██████████| 9/9 [00:00<00:00, 65.97it/s, loss=28.8]\n"
          ]
        },
        {
          "output_type": "stream",
          "name": "stdout",
          "text": [
            "Epoch [1105/5000]: Train loss: 29.3747, Valid loss: 15.8158\n"
          ]
        },
        {
          "output_type": "stream",
          "name": "stderr",
          "text": [
            "Epoch [1106/5000]: 100%|██████████| 9/9 [00:00<00:00, 68.29it/s, loss=28.6]\n"
          ]
        },
        {
          "output_type": "stream",
          "name": "stdout",
          "text": [
            "Epoch [1106/5000]: Train loss: 29.0623, Valid loss: 18.9132\n"
          ]
        },
        {
          "output_type": "stream",
          "name": "stderr",
          "text": [
            "Epoch [1107/5000]: 100%|██████████| 9/9 [00:00<00:00, 55.99it/s, loss=23.4]\n"
          ]
        },
        {
          "output_type": "stream",
          "name": "stdout",
          "text": [
            "Epoch [1107/5000]: Train loss: 28.7081, Valid loss: 14.8654\n"
          ]
        },
        {
          "output_type": "stream",
          "name": "stderr",
          "text": [
            "Epoch [1108/5000]: 100%|██████████| 9/9 [00:00<00:00, 61.92it/s, loss=26]\n"
          ]
        },
        {
          "output_type": "stream",
          "name": "stdout",
          "text": [
            "Epoch [1108/5000]: Train loss: 28.2829, Valid loss: 18.3004\n"
          ]
        },
        {
          "output_type": "stream",
          "name": "stderr",
          "text": [
            "Epoch [1109/5000]: 100%|██████████| 9/9 [00:00<00:00, 70.08it/s, loss=19.2]\n"
          ]
        },
        {
          "output_type": "stream",
          "name": "stdout",
          "text": [
            "Epoch [1109/5000]: Train loss: 27.8850, Valid loss: 18.4424\n"
          ]
        },
        {
          "output_type": "stream",
          "name": "stderr",
          "text": [
            "Epoch [1110/5000]: 100%|██████████| 9/9 [00:00<00:00, 64.59it/s, loss=18.9]\n"
          ]
        },
        {
          "output_type": "stream",
          "name": "stdout",
          "text": [
            "Epoch [1110/5000]: Train loss: 26.1564, Valid loss: 18.0689\n"
          ]
        },
        {
          "output_type": "stream",
          "name": "stderr",
          "text": [
            "Epoch [1111/5000]: 100%|██████████| 9/9 [00:00<00:00, 70.58it/s, loss=28.1]\n"
          ]
        },
        {
          "output_type": "stream",
          "name": "stdout",
          "text": [
            "Epoch [1111/5000]: Train loss: 26.8777, Valid loss: 16.4703\n"
          ]
        },
        {
          "output_type": "stream",
          "name": "stderr",
          "text": [
            "Epoch [1112/5000]: 100%|██████████| 9/9 [00:00<00:00, 61.30it/s, loss=32.6]\n"
          ]
        },
        {
          "output_type": "stream",
          "name": "stdout",
          "text": [
            "Epoch [1112/5000]: Train loss: 29.8791, Valid loss: 15.9303\n"
          ]
        },
        {
          "output_type": "stream",
          "name": "stderr",
          "text": [
            "Epoch [1113/5000]: 100%|██████████| 9/9 [00:00<00:00, 54.32it/s, loss=26.8]\n"
          ]
        },
        {
          "output_type": "stream",
          "name": "stdout",
          "text": [
            "Epoch [1113/5000]: Train loss: 28.6572, Valid loss: 13.5925\n"
          ]
        },
        {
          "output_type": "stream",
          "name": "stderr",
          "text": [
            "Epoch [1114/5000]: 100%|██████████| 9/9 [00:00<00:00, 67.00it/s, loss=33.2]\n"
          ]
        },
        {
          "output_type": "stream",
          "name": "stdout",
          "text": [
            "Epoch [1114/5000]: Train loss: 26.3954, Valid loss: 19.5984\n"
          ]
        },
        {
          "output_type": "stream",
          "name": "stderr",
          "text": [
            "Epoch [1115/5000]: 100%|██████████| 9/9 [00:00<00:00, 66.71it/s, loss=25.4]\n"
          ]
        },
        {
          "output_type": "stream",
          "name": "stdout",
          "text": [
            "Epoch [1115/5000]: Train loss: 27.5249, Valid loss: 15.3447\n"
          ]
        },
        {
          "output_type": "stream",
          "name": "stderr",
          "text": [
            "Epoch [1116/5000]: 100%|██████████| 9/9 [00:00<00:00, 64.93it/s, loss=31.6]\n"
          ]
        },
        {
          "output_type": "stream",
          "name": "stdout",
          "text": [
            "Epoch [1116/5000]: Train loss: 28.8965, Valid loss: 15.9798\n"
          ]
        },
        {
          "output_type": "stream",
          "name": "stderr",
          "text": [
            "Epoch [1117/5000]: 100%|██████████| 9/9 [00:00<00:00, 58.30it/s, loss=24]\n"
          ]
        },
        {
          "output_type": "stream",
          "name": "stdout",
          "text": [
            "Epoch [1117/5000]: Train loss: 27.9385, Valid loss: 18.5398\n"
          ]
        },
        {
          "output_type": "stream",
          "name": "stderr",
          "text": [
            "Epoch [1118/5000]: 100%|██████████| 9/9 [00:00<00:00, 55.28it/s, loss=29.7]\n"
          ]
        },
        {
          "output_type": "stream",
          "name": "stdout",
          "text": [
            "Epoch [1118/5000]: Train loss: 27.7557, Valid loss: 13.7726\n"
          ]
        },
        {
          "output_type": "stream",
          "name": "stderr",
          "text": [
            "Epoch [1119/5000]: 100%|██████████| 9/9 [00:00<00:00, 62.09it/s, loss=31.8]\n"
          ]
        },
        {
          "output_type": "stream",
          "name": "stdout",
          "text": [
            "Epoch [1119/5000]: Train loss: 28.3221, Valid loss: 16.9309\n"
          ]
        },
        {
          "output_type": "stream",
          "name": "stderr",
          "text": [
            "Epoch [1120/5000]: 100%|██████████| 9/9 [00:00<00:00, 55.55it/s, loss=29.2]\n"
          ]
        },
        {
          "output_type": "stream",
          "name": "stdout",
          "text": [
            "Epoch [1120/5000]: Train loss: 29.1161, Valid loss: 14.0666\n"
          ]
        },
        {
          "output_type": "stream",
          "name": "stderr",
          "text": [
            "Epoch [1121/5000]: 100%|██████████| 9/9 [00:00<00:00, 63.37it/s, loss=28.2]\n"
          ]
        },
        {
          "output_type": "stream",
          "name": "stdout",
          "text": [
            "Epoch [1121/5000]: Train loss: 28.7620, Valid loss: 13.3232\n",
            "Saving model with loss 13.323...\n"
          ]
        },
        {
          "output_type": "stream",
          "name": "stderr",
          "text": [
            "Epoch [1122/5000]: 100%|██████████| 9/9 [00:00<00:00, 53.72it/s, loss=24.2]\n"
          ]
        },
        {
          "output_type": "stream",
          "name": "stdout",
          "text": [
            "Epoch [1122/5000]: Train loss: 29.1881, Valid loss: 17.3295\n"
          ]
        },
        {
          "output_type": "stream",
          "name": "stderr",
          "text": [
            "Epoch [1123/5000]: 100%|██████████| 9/9 [00:00<00:00, 67.98it/s, loss=31.7]\n"
          ]
        },
        {
          "output_type": "stream",
          "name": "stdout",
          "text": [
            "Epoch [1123/5000]: Train loss: 26.6297, Valid loss: 16.2867\n"
          ]
        },
        {
          "output_type": "stream",
          "name": "stderr",
          "text": [
            "Epoch [1124/5000]: 100%|██████████| 9/9 [00:00<00:00, 72.40it/s, loss=27.3]\n"
          ]
        },
        {
          "output_type": "stream",
          "name": "stdout",
          "text": [
            "Epoch [1124/5000]: Train loss: 28.1892, Valid loss: 16.8897\n"
          ]
        },
        {
          "output_type": "stream",
          "name": "stderr",
          "text": [
            "Epoch [1125/5000]: 100%|██████████| 9/9 [00:00<00:00, 56.31it/s, loss=25.4]\n"
          ]
        },
        {
          "output_type": "stream",
          "name": "stdout",
          "text": [
            "Epoch [1125/5000]: Train loss: 27.4194, Valid loss: 20.2705\n"
          ]
        },
        {
          "output_type": "stream",
          "name": "stderr",
          "text": [
            "Epoch [1126/5000]: 100%|██████████| 9/9 [00:00<00:00, 58.94it/s, loss=23.4]\n"
          ]
        },
        {
          "output_type": "stream",
          "name": "stdout",
          "text": [
            "Epoch [1126/5000]: Train loss: 29.0659, Valid loss: 17.6597\n"
          ]
        },
        {
          "output_type": "stream",
          "name": "stderr",
          "text": [
            "Epoch [1127/5000]: 100%|██████████| 9/9 [00:00<00:00, 56.86it/s, loss=26.4]\n"
          ]
        },
        {
          "output_type": "stream",
          "name": "stdout",
          "text": [
            "Epoch [1127/5000]: Train loss: 27.6986, Valid loss: 15.0232\n"
          ]
        },
        {
          "output_type": "stream",
          "name": "stderr",
          "text": [
            "Epoch [1128/5000]: 100%|██████████| 9/9 [00:00<00:00, 52.64it/s, loss=28.9]\n"
          ]
        },
        {
          "output_type": "stream",
          "name": "stdout",
          "text": [
            "Epoch [1128/5000]: Train loss: 29.2662, Valid loss: 16.0032\n"
          ]
        },
        {
          "output_type": "stream",
          "name": "stderr",
          "text": [
            "Epoch [1129/5000]: 100%|██████████| 9/9 [00:00<00:00, 62.16it/s, loss=28]\n"
          ]
        },
        {
          "output_type": "stream",
          "name": "stdout",
          "text": [
            "Epoch [1129/5000]: Train loss: 27.3717, Valid loss: 14.6885\n"
          ]
        },
        {
          "output_type": "stream",
          "name": "stderr",
          "text": [
            "Epoch [1130/5000]: 100%|██████████| 9/9 [00:00<00:00, 62.38it/s, loss=22.5]\n"
          ]
        },
        {
          "output_type": "stream",
          "name": "stdout",
          "text": [
            "Epoch [1130/5000]: Train loss: 27.0723, Valid loss: 14.9505\n"
          ]
        },
        {
          "output_type": "stream",
          "name": "stderr",
          "text": [
            "Epoch [1131/5000]: 100%|██████████| 9/9 [00:00<00:00, 68.12it/s, loss=21.4]\n"
          ]
        },
        {
          "output_type": "stream",
          "name": "stdout",
          "text": [
            "Epoch [1131/5000]: Train loss: 29.0223, Valid loss: 15.5296\n"
          ]
        },
        {
          "output_type": "stream",
          "name": "stderr",
          "text": [
            "Epoch [1132/5000]: 100%|██████████| 9/9 [00:00<00:00, 64.28it/s, loss=27.3]\n"
          ]
        },
        {
          "output_type": "stream",
          "name": "stdout",
          "text": [
            "Epoch [1132/5000]: Train loss: 28.7518, Valid loss: 18.0692\n"
          ]
        },
        {
          "output_type": "stream",
          "name": "stderr",
          "text": [
            "Epoch [1133/5000]: 100%|██████████| 9/9 [00:00<00:00, 68.38it/s, loss=30.4]\n"
          ]
        },
        {
          "output_type": "stream",
          "name": "stdout",
          "text": [
            "Epoch [1133/5000]: Train loss: 27.4817, Valid loss: 15.8539\n"
          ]
        },
        {
          "output_type": "stream",
          "name": "stderr",
          "text": [
            "Epoch [1134/5000]: 100%|██████████| 9/9 [00:00<00:00, 68.43it/s, loss=25.4]\n"
          ]
        },
        {
          "output_type": "stream",
          "name": "stdout",
          "text": [
            "Epoch [1134/5000]: Train loss: 27.9099, Valid loss: 16.1482\n"
          ]
        },
        {
          "output_type": "stream",
          "name": "stderr",
          "text": [
            "Epoch [1135/5000]: 100%|██████████| 9/9 [00:00<00:00, 73.79it/s, loss=26.1]\n"
          ]
        },
        {
          "output_type": "stream",
          "name": "stdout",
          "text": [
            "Epoch [1135/5000]: Train loss: 27.1660, Valid loss: 14.8295\n"
          ]
        },
        {
          "output_type": "stream",
          "name": "stderr",
          "text": [
            "Epoch [1136/5000]: 100%|██████████| 9/9 [00:00<00:00, 74.72it/s, loss=29]\n"
          ]
        },
        {
          "output_type": "stream",
          "name": "stdout",
          "text": [
            "Epoch [1136/5000]: Train loss: 27.8552, Valid loss: 14.0090\n"
          ]
        },
        {
          "output_type": "stream",
          "name": "stderr",
          "text": [
            "Epoch [1137/5000]: 100%|██████████| 9/9 [00:00<00:00, 56.51it/s, loss=29.9]\n"
          ]
        },
        {
          "output_type": "stream",
          "name": "stdout",
          "text": [
            "Epoch [1137/5000]: Train loss: 28.0272, Valid loss: 15.0349\n"
          ]
        },
        {
          "output_type": "stream",
          "name": "stderr",
          "text": [
            "Epoch [1138/5000]: 100%|██████████| 9/9 [00:00<00:00, 54.40it/s, loss=25.7]\n"
          ]
        },
        {
          "output_type": "stream",
          "name": "stdout",
          "text": [
            "Epoch [1138/5000]: Train loss: 27.1834, Valid loss: 16.1165\n"
          ]
        },
        {
          "output_type": "stream",
          "name": "stderr",
          "text": [
            "Epoch [1139/5000]: 100%|██████████| 9/9 [00:00<00:00, 52.95it/s, loss=35.6]\n"
          ]
        },
        {
          "output_type": "stream",
          "name": "stdout",
          "text": [
            "Epoch [1139/5000]: Train loss: 29.2683, Valid loss: 15.5065\n"
          ]
        },
        {
          "output_type": "stream",
          "name": "stderr",
          "text": [
            "Epoch [1140/5000]: 100%|██████████| 9/9 [00:00<00:00, 53.95it/s, loss=30.2]\n"
          ]
        },
        {
          "output_type": "stream",
          "name": "stdout",
          "text": [
            "Epoch [1140/5000]: Train loss: 28.2969, Valid loss: 16.3782\n"
          ]
        },
        {
          "output_type": "stream",
          "name": "stderr",
          "text": [
            "Epoch [1141/5000]: 100%|██████████| 9/9 [00:00<00:00, 52.88it/s, loss=40.4]\n"
          ]
        },
        {
          "output_type": "stream",
          "name": "stdout",
          "text": [
            "Epoch [1141/5000]: Train loss: 31.0692, Valid loss: 14.6641\n"
          ]
        },
        {
          "output_type": "stream",
          "name": "stderr",
          "text": [
            "Epoch [1142/5000]: 100%|██████████| 9/9 [00:00<00:00, 56.32it/s, loss=27.9]\n"
          ]
        },
        {
          "output_type": "stream",
          "name": "stdout",
          "text": [
            "Epoch [1142/5000]: Train loss: 27.5186, Valid loss: 16.7748\n"
          ]
        },
        {
          "output_type": "stream",
          "name": "stderr",
          "text": [
            "Epoch [1143/5000]: 100%|██████████| 9/9 [00:00<00:00, 55.34it/s, loss=31.9]\n"
          ]
        },
        {
          "output_type": "stream",
          "name": "stdout",
          "text": [
            "Epoch [1143/5000]: Train loss: 28.1221, Valid loss: 13.0839\n",
            "Saving model with loss 13.084...\n"
          ]
        },
        {
          "output_type": "stream",
          "name": "stderr",
          "text": [
            "Epoch [1144/5000]: 100%|██████████| 9/9 [00:00<00:00, 55.07it/s, loss=28.9]\n"
          ]
        },
        {
          "output_type": "stream",
          "name": "stdout",
          "text": [
            "Epoch [1144/5000]: Train loss: 26.4373, Valid loss: 17.0066\n"
          ]
        },
        {
          "output_type": "stream",
          "name": "stderr",
          "text": [
            "Epoch [1145/5000]: 100%|██████████| 9/9 [00:00<00:00, 59.62it/s, loss=22.4]\n"
          ]
        },
        {
          "output_type": "stream",
          "name": "stdout",
          "text": [
            "Epoch [1145/5000]: Train loss: 28.7813, Valid loss: 18.5416\n"
          ]
        },
        {
          "output_type": "stream",
          "name": "stderr",
          "text": [
            "Epoch [1146/5000]: 100%|██████████| 9/9 [00:00<00:00, 61.28it/s, loss=27.4]\n"
          ]
        },
        {
          "output_type": "stream",
          "name": "stdout",
          "text": [
            "Epoch [1146/5000]: Train loss: 27.9541, Valid loss: 15.5397\n"
          ]
        },
        {
          "output_type": "stream",
          "name": "stderr",
          "text": [
            "Epoch [1147/5000]: 100%|██████████| 9/9 [00:00<00:00, 22.39it/s, loss=28.5]\n"
          ]
        },
        {
          "output_type": "stream",
          "name": "stdout",
          "text": [
            "Epoch [1147/5000]: Train loss: 27.3342, Valid loss: 16.3097\n"
          ]
        },
        {
          "output_type": "stream",
          "name": "stderr",
          "text": [
            "Epoch [1148/5000]: 100%|██████████| 9/9 [00:00<00:00, 66.08it/s, loss=30.3]\n"
          ]
        },
        {
          "output_type": "stream",
          "name": "stdout",
          "text": [
            "Epoch [1148/5000]: Train loss: 27.6820, Valid loss: 14.8987\n"
          ]
        },
        {
          "output_type": "stream",
          "name": "stderr",
          "text": [
            "Epoch [1149/5000]: 100%|██████████| 9/9 [00:00<00:00, 52.83it/s, loss=22]\n"
          ]
        },
        {
          "output_type": "stream",
          "name": "stdout",
          "text": [
            "Epoch [1149/5000]: Train loss: 26.6966, Valid loss: 14.6357\n"
          ]
        },
        {
          "output_type": "stream",
          "name": "stderr",
          "text": [
            "Epoch [1150/5000]: 100%|██████████| 9/9 [00:00<00:00, 55.23it/s, loss=26.7]\n"
          ]
        },
        {
          "output_type": "stream",
          "name": "stdout",
          "text": [
            "Epoch [1150/5000]: Train loss: 26.0338, Valid loss: 16.2613\n"
          ]
        },
        {
          "output_type": "stream",
          "name": "stderr",
          "text": [
            "Epoch [1151/5000]: 100%|██████████| 9/9 [00:00<00:00, 58.13it/s, loss=20.1]\n"
          ]
        },
        {
          "output_type": "stream",
          "name": "stdout",
          "text": [
            "Epoch [1151/5000]: Train loss: 27.0394, Valid loss: 14.9465\n"
          ]
        },
        {
          "output_type": "stream",
          "name": "stderr",
          "text": [
            "Epoch [1152/5000]: 100%|██████████| 9/9 [00:00<00:00, 63.86it/s, loss=20.3]\n"
          ]
        },
        {
          "output_type": "stream",
          "name": "stdout",
          "text": [
            "Epoch [1152/5000]: Train loss: 28.3592, Valid loss: 16.5118\n"
          ]
        },
        {
          "output_type": "stream",
          "name": "stderr",
          "text": [
            "Epoch [1153/5000]: 100%|██████████| 9/9 [00:00<00:00, 64.79it/s, loss=27.7]\n"
          ]
        },
        {
          "output_type": "stream",
          "name": "stdout",
          "text": [
            "Epoch [1153/5000]: Train loss: 28.3151, Valid loss: 14.0752\n"
          ]
        },
        {
          "output_type": "stream",
          "name": "stderr",
          "text": [
            "Epoch [1154/5000]: 100%|██████████| 9/9 [00:00<00:00, 56.54it/s, loss=27]\n"
          ]
        },
        {
          "output_type": "stream",
          "name": "stdout",
          "text": [
            "Epoch [1154/5000]: Train loss: 26.7779, Valid loss: 14.8394\n"
          ]
        },
        {
          "output_type": "stream",
          "name": "stderr",
          "text": [
            "Epoch [1155/5000]: 100%|██████████| 9/9 [00:00<00:00, 53.95it/s, loss=36.2]\n"
          ]
        },
        {
          "output_type": "stream",
          "name": "stdout",
          "text": [
            "Epoch [1155/5000]: Train loss: 29.4632, Valid loss: 13.6866\n"
          ]
        },
        {
          "output_type": "stream",
          "name": "stderr",
          "text": [
            "Epoch [1156/5000]: 100%|██████████| 9/9 [00:00<00:00, 49.06it/s, loss=28.8]\n"
          ]
        },
        {
          "output_type": "stream",
          "name": "stdout",
          "text": [
            "Epoch [1156/5000]: Train loss: 29.1192, Valid loss: 16.3941\n"
          ]
        },
        {
          "output_type": "stream",
          "name": "stderr",
          "text": [
            "Epoch [1157/5000]: 100%|██████████| 9/9 [00:00<00:00, 55.34it/s, loss=21.3]\n"
          ]
        },
        {
          "output_type": "stream",
          "name": "stdout",
          "text": [
            "Epoch [1157/5000]: Train loss: 26.2242, Valid loss: 13.9774\n"
          ]
        },
        {
          "output_type": "stream",
          "name": "stderr",
          "text": [
            "Epoch [1158/5000]: 100%|██████████| 9/9 [00:00<00:00, 52.61it/s, loss=30.1]\n"
          ]
        },
        {
          "output_type": "stream",
          "name": "stdout",
          "text": [
            "Epoch [1158/5000]: Train loss: 27.0514, Valid loss: 18.2023\n"
          ]
        },
        {
          "output_type": "stream",
          "name": "stderr",
          "text": [
            "Epoch [1159/5000]: 100%|██████████| 9/9 [00:00<00:00, 65.11it/s, loss=28.8]\n"
          ]
        },
        {
          "output_type": "stream",
          "name": "stdout",
          "text": [
            "Epoch [1159/5000]: Train loss: 28.9592, Valid loss: 15.4511\n"
          ]
        },
        {
          "output_type": "stream",
          "name": "stderr",
          "text": [
            "Epoch [1160/5000]: 100%|██████████| 9/9 [00:00<00:00, 54.15it/s, loss=20]\n"
          ]
        },
        {
          "output_type": "stream",
          "name": "stdout",
          "text": [
            "Epoch [1160/5000]: Train loss: 26.7604, Valid loss: 15.1512\n"
          ]
        },
        {
          "output_type": "stream",
          "name": "stderr",
          "text": [
            "Epoch [1161/5000]: 100%|██████████| 9/9 [00:00<00:00, 52.41it/s, loss=33.6]\n"
          ]
        },
        {
          "output_type": "stream",
          "name": "stdout",
          "text": [
            "Epoch [1161/5000]: Train loss: 28.7662, Valid loss: 16.1165\n"
          ]
        },
        {
          "output_type": "stream",
          "name": "stderr",
          "text": [
            "Epoch [1162/5000]: 100%|██████████| 9/9 [00:00<00:00, 55.78it/s, loss=26]\n"
          ]
        },
        {
          "output_type": "stream",
          "name": "stdout",
          "text": [
            "Epoch [1162/5000]: Train loss: 28.1192, Valid loss: 16.1451\n"
          ]
        },
        {
          "output_type": "stream",
          "name": "stderr",
          "text": [
            "Epoch [1163/5000]: 100%|██████████| 9/9 [00:00<00:00, 65.99it/s, loss=18.8]\n"
          ]
        },
        {
          "output_type": "stream",
          "name": "stdout",
          "text": [
            "Epoch [1163/5000]: Train loss: 27.4843, Valid loss: 17.2040\n"
          ]
        },
        {
          "output_type": "stream",
          "name": "stderr",
          "text": [
            "Epoch [1164/5000]: 100%|██████████| 9/9 [00:00<00:00, 59.44it/s, loss=26.2]\n"
          ]
        },
        {
          "output_type": "stream",
          "name": "stdout",
          "text": [
            "Epoch [1164/5000]: Train loss: 27.6053, Valid loss: 14.8459\n"
          ]
        },
        {
          "output_type": "stream",
          "name": "stderr",
          "text": [
            "Epoch [1165/5000]: 100%|██████████| 9/9 [00:00<00:00, 62.10it/s, loss=24.8]\n"
          ]
        },
        {
          "output_type": "stream",
          "name": "stdout",
          "text": [
            "Epoch [1165/5000]: Train loss: 26.0065, Valid loss: 14.3343\n"
          ]
        },
        {
          "output_type": "stream",
          "name": "stderr",
          "text": [
            "Epoch [1166/5000]: 100%|██████████| 9/9 [00:00<00:00, 54.87it/s, loss=27.5]\n"
          ]
        },
        {
          "output_type": "stream",
          "name": "stdout",
          "text": [
            "Epoch [1166/5000]: Train loss: 26.8924, Valid loss: 15.7326\n"
          ]
        },
        {
          "output_type": "stream",
          "name": "stderr",
          "text": [
            "Epoch [1167/5000]: 100%|██████████| 9/9 [00:00<00:00, 55.45it/s, loss=23.3]\n"
          ]
        },
        {
          "output_type": "stream",
          "name": "stdout",
          "text": [
            "Epoch [1167/5000]: Train loss: 26.7155, Valid loss: 14.0207\n"
          ]
        },
        {
          "output_type": "stream",
          "name": "stderr",
          "text": [
            "Epoch [1168/5000]: 100%|██████████| 9/9 [00:00<00:00, 53.44it/s, loss=25.7]\n"
          ]
        },
        {
          "output_type": "stream",
          "name": "stdout",
          "text": [
            "Epoch [1168/5000]: Train loss: 26.8801, Valid loss: 14.7886\n"
          ]
        },
        {
          "output_type": "stream",
          "name": "stderr",
          "text": [
            "Epoch [1169/5000]: 100%|██████████| 9/9 [00:00<00:00, 54.78it/s, loss=23.5]\n"
          ]
        },
        {
          "output_type": "stream",
          "name": "stdout",
          "text": [
            "Epoch [1169/5000]: Train loss: 25.9242, Valid loss: 16.7417\n"
          ]
        },
        {
          "output_type": "stream",
          "name": "stderr",
          "text": [
            "Epoch [1170/5000]: 100%|██████████| 9/9 [00:00<00:00, 58.17it/s, loss=37.1]\n"
          ]
        },
        {
          "output_type": "stream",
          "name": "stdout",
          "text": [
            "Epoch [1170/5000]: Train loss: 27.1897, Valid loss: 14.7325\n"
          ]
        },
        {
          "output_type": "stream",
          "name": "stderr",
          "text": [
            "Epoch [1171/5000]: 100%|██████████| 9/9 [00:00<00:00, 62.52it/s, loss=34.8]\n"
          ]
        },
        {
          "output_type": "stream",
          "name": "stdout",
          "text": [
            "Epoch [1171/5000]: Train loss: 28.9083, Valid loss: 16.3269\n"
          ]
        },
        {
          "output_type": "stream",
          "name": "stderr",
          "text": [
            "Epoch [1172/5000]: 100%|██████████| 9/9 [00:00<00:00, 55.23it/s, loss=25.4]\n"
          ]
        },
        {
          "output_type": "stream",
          "name": "stdout",
          "text": [
            "Epoch [1172/5000]: Train loss: 26.4220, Valid loss: 15.1628\n"
          ]
        },
        {
          "output_type": "stream",
          "name": "stderr",
          "text": [
            "Epoch [1173/5000]: 100%|██████████| 9/9 [00:00<00:00, 63.64it/s, loss=25.8]\n"
          ]
        },
        {
          "output_type": "stream",
          "name": "stdout",
          "text": [
            "Epoch [1173/5000]: Train loss: 26.6576, Valid loss: 15.7273\n"
          ]
        },
        {
          "output_type": "stream",
          "name": "stderr",
          "text": [
            "Epoch [1174/5000]: 100%|██████████| 9/9 [00:00<00:00, 68.03it/s, loss=18.6]\n"
          ]
        },
        {
          "output_type": "stream",
          "name": "stdout",
          "text": [
            "Epoch [1174/5000]: Train loss: 26.0275, Valid loss: 17.8421\n"
          ]
        },
        {
          "output_type": "stream",
          "name": "stderr",
          "text": [
            "Epoch [1175/5000]: 100%|██████████| 9/9 [00:00<00:00, 59.28it/s, loss=32.3]\n"
          ]
        },
        {
          "output_type": "stream",
          "name": "stdout",
          "text": [
            "Epoch [1175/5000]: Train loss: 29.0708, Valid loss: 15.1627\n"
          ]
        },
        {
          "output_type": "stream",
          "name": "stderr",
          "text": [
            "Epoch [1176/5000]: 100%|██████████| 9/9 [00:00<00:00, 63.77it/s, loss=23.6]\n"
          ]
        },
        {
          "output_type": "stream",
          "name": "stdout",
          "text": [
            "Epoch [1176/5000]: Train loss: 27.5717, Valid loss: 13.0593\n",
            "Saving model with loss 13.059...\n"
          ]
        },
        {
          "output_type": "stream",
          "name": "stderr",
          "text": [
            "Epoch [1177/5000]: 100%|██████████| 9/9 [00:00<00:00, 51.38it/s, loss=34.6]\n"
          ]
        },
        {
          "output_type": "stream",
          "name": "stdout",
          "text": [
            "Epoch [1177/5000]: Train loss: 27.7010, Valid loss: 13.7703\n"
          ]
        },
        {
          "output_type": "stream",
          "name": "stderr",
          "text": [
            "Epoch [1178/5000]: 100%|██████████| 9/9 [00:00<00:00, 54.62it/s, loss=28.3]\n"
          ]
        },
        {
          "output_type": "stream",
          "name": "stdout",
          "text": [
            "Epoch [1178/5000]: Train loss: 27.5412, Valid loss: 14.6556\n"
          ]
        },
        {
          "output_type": "stream",
          "name": "stderr",
          "text": [
            "Epoch [1179/5000]: 100%|██████████| 9/9 [00:00<00:00, 50.30it/s, loss=24.4]\n"
          ]
        },
        {
          "output_type": "stream",
          "name": "stdout",
          "text": [
            "Epoch [1179/5000]: Train loss: 26.7752, Valid loss: 18.1096\n"
          ]
        },
        {
          "output_type": "stream",
          "name": "stderr",
          "text": [
            "Epoch [1180/5000]: 100%|██████████| 9/9 [00:00<00:00, 55.09it/s, loss=28.9]\n"
          ]
        },
        {
          "output_type": "stream",
          "name": "stdout",
          "text": [
            "Epoch [1180/5000]: Train loss: 26.7627, Valid loss: 17.0729\n"
          ]
        },
        {
          "output_type": "stream",
          "name": "stderr",
          "text": [
            "Epoch [1181/5000]: 100%|██████████| 9/9 [00:00<00:00, 56.98it/s, loss=23.4]\n"
          ]
        },
        {
          "output_type": "stream",
          "name": "stdout",
          "text": [
            "Epoch [1181/5000]: Train loss: 26.0564, Valid loss: 14.9524\n"
          ]
        },
        {
          "output_type": "stream",
          "name": "stderr",
          "text": [
            "Epoch [1182/5000]: 100%|██████████| 9/9 [00:00<00:00, 57.59it/s, loss=22.1]\n"
          ]
        },
        {
          "output_type": "stream",
          "name": "stdout",
          "text": [
            "Epoch [1182/5000]: Train loss: 25.9037, Valid loss: 16.3646\n"
          ]
        },
        {
          "output_type": "stream",
          "name": "stderr",
          "text": [
            "Epoch [1183/5000]: 100%|██████████| 9/9 [00:00<00:00, 72.94it/s, loss=38.9]\n"
          ]
        },
        {
          "output_type": "stream",
          "name": "stdout",
          "text": [
            "Epoch [1183/5000]: Train loss: 27.8722, Valid loss: 16.6861\n"
          ]
        },
        {
          "output_type": "stream",
          "name": "stderr",
          "text": [
            "Epoch [1184/5000]: 100%|██████████| 9/9 [00:00<00:00, 73.25it/s, loss=32.8]\n"
          ]
        },
        {
          "output_type": "stream",
          "name": "stdout",
          "text": [
            "Epoch [1184/5000]: Train loss: 29.7379, Valid loss: 14.6722\n"
          ]
        },
        {
          "output_type": "stream",
          "name": "stderr",
          "text": [
            "Epoch [1185/5000]: 100%|██████████| 9/9 [00:00<00:00, 63.30it/s, loss=22.3]\n"
          ]
        },
        {
          "output_type": "stream",
          "name": "stdout",
          "text": [
            "Epoch [1185/5000]: Train loss: 27.8321, Valid loss: 16.9342\n"
          ]
        },
        {
          "output_type": "stream",
          "name": "stderr",
          "text": [
            "Epoch [1186/5000]: 100%|██████████| 9/9 [00:00<00:00, 60.00it/s, loss=30.5]\n"
          ]
        },
        {
          "output_type": "stream",
          "name": "stdout",
          "text": [
            "Epoch [1186/5000]: Train loss: 27.6417, Valid loss: 18.5016\n"
          ]
        },
        {
          "output_type": "stream",
          "name": "stderr",
          "text": [
            "Epoch [1187/5000]: 100%|██████████| 9/9 [00:00<00:00, 63.79it/s, loss=23]\n"
          ]
        },
        {
          "output_type": "stream",
          "name": "stdout",
          "text": [
            "Epoch [1187/5000]: Train loss: 26.5215, Valid loss: 16.8170\n"
          ]
        },
        {
          "output_type": "stream",
          "name": "stderr",
          "text": [
            "Epoch [1188/5000]: 100%|██████████| 9/9 [00:00<00:00, 50.17it/s, loss=27.8]\n"
          ]
        },
        {
          "output_type": "stream",
          "name": "stdout",
          "text": [
            "Epoch [1188/5000]: Train loss: 27.9041, Valid loss: 16.1504\n"
          ]
        },
        {
          "output_type": "stream",
          "name": "stderr",
          "text": [
            "Epoch [1189/5000]: 100%|██████████| 9/9 [00:00<00:00, 71.07it/s, loss=30.5]\n"
          ]
        },
        {
          "output_type": "stream",
          "name": "stdout",
          "text": [
            "Epoch [1189/5000]: Train loss: 26.5179, Valid loss: 16.2047\n"
          ]
        },
        {
          "output_type": "stream",
          "name": "stderr",
          "text": [
            "Epoch [1190/5000]: 100%|██████████| 9/9 [00:00<00:00, 66.31it/s, loss=23.8]\n"
          ]
        },
        {
          "output_type": "stream",
          "name": "stdout",
          "text": [
            "Epoch [1190/5000]: Train loss: 27.2623, Valid loss: 14.9352\n"
          ]
        },
        {
          "output_type": "stream",
          "name": "stderr",
          "text": [
            "Epoch [1191/5000]: 100%|██████████| 9/9 [00:00<00:00, 65.52it/s, loss=32.2]\n"
          ]
        },
        {
          "output_type": "stream",
          "name": "stdout",
          "text": [
            "Epoch [1191/5000]: Train loss: 27.5001, Valid loss: 15.6705\n"
          ]
        },
        {
          "output_type": "stream",
          "name": "stderr",
          "text": [
            "Epoch [1192/5000]: 100%|██████████| 9/9 [00:00<00:00, 60.84it/s, loss=23.9]\n"
          ]
        },
        {
          "output_type": "stream",
          "name": "stdout",
          "text": [
            "Epoch [1192/5000]: Train loss: 26.9423, Valid loss: 14.4933\n"
          ]
        },
        {
          "output_type": "stream",
          "name": "stderr",
          "text": [
            "Epoch [1193/5000]: 100%|██████████| 9/9 [00:00<00:00, 60.54it/s, loss=33.8]\n"
          ]
        },
        {
          "output_type": "stream",
          "name": "stdout",
          "text": [
            "Epoch [1193/5000]: Train loss: 28.6828, Valid loss: 19.1626\n"
          ]
        },
        {
          "output_type": "stream",
          "name": "stderr",
          "text": [
            "Epoch [1194/5000]: 100%|██████████| 9/9 [00:00<00:00, 57.59it/s, loss=26.4]\n"
          ]
        },
        {
          "output_type": "stream",
          "name": "stdout",
          "text": [
            "Epoch [1194/5000]: Train loss: 26.5764, Valid loss: 15.5026\n"
          ]
        },
        {
          "output_type": "stream",
          "name": "stderr",
          "text": [
            "Epoch [1195/5000]: 100%|██████████| 9/9 [00:00<00:00, 67.12it/s, loss=21.9]\n"
          ]
        },
        {
          "output_type": "stream",
          "name": "stdout",
          "text": [
            "Epoch [1195/5000]: Train loss: 26.7923, Valid loss: 15.0847\n"
          ]
        },
        {
          "output_type": "stream",
          "name": "stderr",
          "text": [
            "Epoch [1196/5000]: 100%|██████████| 9/9 [00:00<00:00, 59.12it/s, loss=26.6]\n"
          ]
        },
        {
          "output_type": "stream",
          "name": "stdout",
          "text": [
            "Epoch [1196/5000]: Train loss: 26.8180, Valid loss: 16.5892\n"
          ]
        },
        {
          "output_type": "stream",
          "name": "stderr",
          "text": [
            "Epoch [1197/5000]: 100%|██████████| 9/9 [00:00<00:00, 53.63it/s, loss=25.8]\n"
          ]
        },
        {
          "output_type": "stream",
          "name": "stdout",
          "text": [
            "Epoch [1197/5000]: Train loss: 26.4501, Valid loss: 16.0350\n"
          ]
        },
        {
          "output_type": "stream",
          "name": "stderr",
          "text": [
            "Epoch [1198/5000]: 100%|██████████| 9/9 [00:00<00:00, 57.58it/s, loss=29.7]\n"
          ]
        },
        {
          "output_type": "stream",
          "name": "stdout",
          "text": [
            "Epoch [1198/5000]: Train loss: 28.9793, Valid loss: 14.9478\n"
          ]
        },
        {
          "output_type": "stream",
          "name": "stderr",
          "text": [
            "Epoch [1199/5000]: 100%|██████████| 9/9 [00:00<00:00, 65.48it/s, loss=27.6]\n"
          ]
        },
        {
          "output_type": "stream",
          "name": "stdout",
          "text": [
            "Epoch [1199/5000]: Train loss: 27.7489, Valid loss: 15.1436\n"
          ]
        },
        {
          "output_type": "stream",
          "name": "stderr",
          "text": [
            "Epoch [1200/5000]: 100%|██████████| 9/9 [00:00<00:00, 64.69it/s, loss=24.1]\n"
          ]
        },
        {
          "output_type": "stream",
          "name": "stdout",
          "text": [
            "Epoch [1200/5000]: Train loss: 27.4412, Valid loss: 15.3766\n"
          ]
        },
        {
          "output_type": "stream",
          "name": "stderr",
          "text": [
            "Epoch [1201/5000]: 100%|██████████| 9/9 [00:00<00:00, 59.86it/s, loss=36.5]\n"
          ]
        },
        {
          "output_type": "stream",
          "name": "stdout",
          "text": [
            "Epoch [1201/5000]: Train loss: 28.3998, Valid loss: 14.0976\n"
          ]
        },
        {
          "output_type": "stream",
          "name": "stderr",
          "text": [
            "Epoch [1202/5000]: 100%|██████████| 9/9 [00:00<00:00, 68.51it/s, loss=30.3]\n"
          ]
        },
        {
          "output_type": "stream",
          "name": "stdout",
          "text": [
            "Epoch [1202/5000]: Train loss: 25.8457, Valid loss: 15.3817\n"
          ]
        },
        {
          "output_type": "stream",
          "name": "stderr",
          "text": [
            "Epoch [1203/5000]: 100%|██████████| 9/9 [00:00<00:00, 65.62it/s, loss=38.2]\n"
          ]
        },
        {
          "output_type": "stream",
          "name": "stdout",
          "text": [
            "Epoch [1203/5000]: Train loss: 27.3175, Valid loss: 15.2268\n"
          ]
        },
        {
          "output_type": "stream",
          "name": "stderr",
          "text": [
            "Epoch [1204/5000]: 100%|██████████| 9/9 [00:00<00:00, 56.36it/s, loss=25.2]\n"
          ]
        },
        {
          "output_type": "stream",
          "name": "stdout",
          "text": [
            "Epoch [1204/5000]: Train loss: 28.8694, Valid loss: 16.5011\n"
          ]
        },
        {
          "output_type": "stream",
          "name": "stderr",
          "text": [
            "Epoch [1205/5000]: 100%|██████████| 9/9 [00:00<00:00, 58.85it/s, loss=35.3]\n"
          ]
        },
        {
          "output_type": "stream",
          "name": "stdout",
          "text": [
            "Epoch [1205/5000]: Train loss: 25.7189, Valid loss: 17.6741\n"
          ]
        },
        {
          "output_type": "stream",
          "name": "stderr",
          "text": [
            "Epoch [1206/5000]: 100%|██████████| 9/9 [00:00<00:00, 56.41it/s, loss=30.4]\n"
          ]
        },
        {
          "output_type": "stream",
          "name": "stdout",
          "text": [
            "Epoch [1206/5000]: Train loss: 26.2434, Valid loss: 15.5402\n"
          ]
        },
        {
          "output_type": "stream",
          "name": "stderr",
          "text": [
            "Epoch [1207/5000]: 100%|██████████| 9/9 [00:00<00:00, 54.41it/s, loss=23]\n"
          ]
        },
        {
          "output_type": "stream",
          "name": "stdout",
          "text": [
            "Epoch [1207/5000]: Train loss: 27.3488, Valid loss: 16.2865\n"
          ]
        },
        {
          "output_type": "stream",
          "name": "stderr",
          "text": [
            "Epoch [1208/5000]: 100%|██████████| 9/9 [00:00<00:00, 60.26it/s, loss=31.1]\n"
          ]
        },
        {
          "output_type": "stream",
          "name": "stdout",
          "text": [
            "Epoch [1208/5000]: Train loss: 28.8392, Valid loss: 17.1435\n"
          ]
        },
        {
          "output_type": "stream",
          "name": "stderr",
          "text": [
            "Epoch [1209/5000]: 100%|██████████| 9/9 [00:00<00:00, 67.10it/s, loss=25.3]\n"
          ]
        },
        {
          "output_type": "stream",
          "name": "stdout",
          "text": [
            "Epoch [1209/5000]: Train loss: 25.9952, Valid loss: 15.8265\n"
          ]
        },
        {
          "output_type": "stream",
          "name": "stderr",
          "text": [
            "Epoch [1210/5000]: 100%|██████████| 9/9 [00:00<00:00, 74.94it/s, loss=23.6]\n"
          ]
        },
        {
          "output_type": "stream",
          "name": "stdout",
          "text": [
            "Epoch [1210/5000]: Train loss: 28.2147, Valid loss: 16.6072\n"
          ]
        },
        {
          "output_type": "stream",
          "name": "stderr",
          "text": [
            "Epoch [1211/5000]: 100%|██████████| 9/9 [00:00<00:00, 70.86it/s, loss=32.2]\n"
          ]
        },
        {
          "output_type": "stream",
          "name": "stdout",
          "text": [
            "Epoch [1211/5000]: Train loss: 29.3317, Valid loss: 17.6670\n"
          ]
        },
        {
          "output_type": "stream",
          "name": "stderr",
          "text": [
            "Epoch [1212/5000]: 100%|██████████| 9/9 [00:00<00:00, 63.73it/s, loss=28.7]\n"
          ]
        },
        {
          "output_type": "stream",
          "name": "stdout",
          "text": [
            "Epoch [1212/5000]: Train loss: 26.2732, Valid loss: 16.0697\n"
          ]
        },
        {
          "output_type": "stream",
          "name": "stderr",
          "text": [
            "Epoch [1213/5000]: 100%|██████████| 9/9 [00:00<00:00, 69.59it/s, loss=27.1]\n"
          ]
        },
        {
          "output_type": "stream",
          "name": "stdout",
          "text": [
            "Epoch [1213/5000]: Train loss: 27.8234, Valid loss: 17.0319\n"
          ]
        },
        {
          "output_type": "stream",
          "name": "stderr",
          "text": [
            "Epoch [1214/5000]: 100%|██████████| 9/9 [00:00<00:00, 71.38it/s, loss=27.5]\n"
          ]
        },
        {
          "output_type": "stream",
          "name": "stdout",
          "text": [
            "Epoch [1214/5000]: Train loss: 27.0111, Valid loss: 13.9816\n"
          ]
        },
        {
          "output_type": "stream",
          "name": "stderr",
          "text": [
            "Epoch [1215/5000]: 100%|██████████| 9/9 [00:00<00:00, 71.35it/s, loss=28.5]\n"
          ]
        },
        {
          "output_type": "stream",
          "name": "stdout",
          "text": [
            "Epoch [1215/5000]: Train loss: 28.3626, Valid loss: 14.2364\n"
          ]
        },
        {
          "output_type": "stream",
          "name": "stderr",
          "text": [
            "Epoch [1216/5000]: 100%|██████████| 9/9 [00:00<00:00, 71.44it/s, loss=36.5]\n"
          ]
        },
        {
          "output_type": "stream",
          "name": "stdout",
          "text": [
            "Epoch [1216/5000]: Train loss: 28.5392, Valid loss: 16.7301\n"
          ]
        },
        {
          "output_type": "stream",
          "name": "stderr",
          "text": [
            "Epoch [1217/5000]: 100%|██████████| 9/9 [00:00<00:00, 73.75it/s, loss=19.1]\n"
          ]
        },
        {
          "output_type": "stream",
          "name": "stdout",
          "text": [
            "Epoch [1217/5000]: Train loss: 27.5989, Valid loss: 16.1188\n"
          ]
        },
        {
          "output_type": "stream",
          "name": "stderr",
          "text": [
            "Epoch [1218/5000]: 100%|██████████| 9/9 [00:00<00:00, 59.16it/s, loss=26.2]\n"
          ]
        },
        {
          "output_type": "stream",
          "name": "stdout",
          "text": [
            "Epoch [1218/5000]: Train loss: 27.3095, Valid loss: 14.5720\n"
          ]
        },
        {
          "output_type": "stream",
          "name": "stderr",
          "text": [
            "Epoch [1219/5000]: 100%|██████████| 9/9 [00:00<00:00, 49.58it/s, loss=29.9]\n"
          ]
        },
        {
          "output_type": "stream",
          "name": "stdout",
          "text": [
            "Epoch [1219/5000]: Train loss: 28.1247, Valid loss: 13.9019\n"
          ]
        },
        {
          "output_type": "stream",
          "name": "stderr",
          "text": [
            "Epoch [1220/5000]: 100%|██████████| 9/9 [00:00<00:00, 53.17it/s, loss=20.7]\n"
          ]
        },
        {
          "output_type": "stream",
          "name": "stdout",
          "text": [
            "Epoch [1220/5000]: Train loss: 25.2018, Valid loss: 15.4098\n"
          ]
        },
        {
          "output_type": "stream",
          "name": "stderr",
          "text": [
            "Epoch [1221/5000]: 100%|██████████| 9/9 [00:00<00:00, 54.51it/s, loss=27.2]\n"
          ]
        },
        {
          "output_type": "stream",
          "name": "stdout",
          "text": [
            "Epoch [1221/5000]: Train loss: 27.0884, Valid loss: 16.8372\n"
          ]
        },
        {
          "output_type": "stream",
          "name": "stderr",
          "text": [
            "Epoch [1222/5000]: 100%|██████████| 9/9 [00:00<00:00, 62.62it/s, loss=24.6]\n"
          ]
        },
        {
          "output_type": "stream",
          "name": "stdout",
          "text": [
            "Epoch [1222/5000]: Train loss: 26.8323, Valid loss: 17.5363\n"
          ]
        },
        {
          "output_type": "stream",
          "name": "stderr",
          "text": [
            "Epoch [1223/5000]: 100%|██████████| 9/9 [00:00<00:00, 67.25it/s, loss=23.7]\n"
          ]
        },
        {
          "output_type": "stream",
          "name": "stdout",
          "text": [
            "Epoch [1223/5000]: Train loss: 25.9478, Valid loss: 15.8533\n"
          ]
        },
        {
          "output_type": "stream",
          "name": "stderr",
          "text": [
            "Epoch [1224/5000]: 100%|██████████| 9/9 [00:00<00:00, 68.17it/s, loss=37.2]\n"
          ]
        },
        {
          "output_type": "stream",
          "name": "stdout",
          "text": [
            "Epoch [1224/5000]: Train loss: 27.9467, Valid loss: 16.5172\n"
          ]
        },
        {
          "output_type": "stream",
          "name": "stderr",
          "text": [
            "Epoch [1225/5000]: 100%|██████████| 9/9 [00:00<00:00, 61.41it/s, loss=19.8]\n"
          ]
        },
        {
          "output_type": "stream",
          "name": "stdout",
          "text": [
            "Epoch [1225/5000]: Train loss: 26.8971, Valid loss: 14.6251\n"
          ]
        },
        {
          "output_type": "stream",
          "name": "stderr",
          "text": [
            "Epoch [1226/5000]: 100%|██████████| 9/9 [00:00<00:00, 63.68it/s, loss=21.7]\n"
          ]
        },
        {
          "output_type": "stream",
          "name": "stdout",
          "text": [
            "Epoch [1226/5000]: Train loss: 26.8899, Valid loss: 15.5092\n"
          ]
        },
        {
          "output_type": "stream",
          "name": "stderr",
          "text": [
            "Epoch [1227/5000]: 100%|██████████| 9/9 [00:00<00:00, 68.04it/s, loss=30.3]\n"
          ]
        },
        {
          "output_type": "stream",
          "name": "stdout",
          "text": [
            "Epoch [1227/5000]: Train loss: 28.1714, Valid loss: 14.2275\n"
          ]
        },
        {
          "output_type": "stream",
          "name": "stderr",
          "text": [
            "Epoch [1228/5000]: 100%|██████████| 9/9 [00:00<00:00, 57.73it/s, loss=22.2]\n"
          ]
        },
        {
          "output_type": "stream",
          "name": "stdout",
          "text": [
            "Epoch [1228/5000]: Train loss: 27.5352, Valid loss: 13.8822\n"
          ]
        },
        {
          "output_type": "stream",
          "name": "stderr",
          "text": [
            "Epoch [1229/5000]: 100%|██████████| 9/9 [00:00<00:00, 71.24it/s, loss=32.9]\n"
          ]
        },
        {
          "output_type": "stream",
          "name": "stdout",
          "text": [
            "Epoch [1229/5000]: Train loss: 26.9588, Valid loss: 17.0927\n"
          ]
        },
        {
          "output_type": "stream",
          "name": "stderr",
          "text": [
            "Epoch [1230/5000]: 100%|██████████| 9/9 [00:00<00:00, 23.69it/s, loss=26]\n"
          ]
        },
        {
          "output_type": "stream",
          "name": "stdout",
          "text": [
            "Epoch [1230/5000]: Train loss: 28.0279, Valid loss: 17.6869\n"
          ]
        },
        {
          "output_type": "stream",
          "name": "stderr",
          "text": [
            "Epoch [1231/5000]: 100%|██████████| 9/9 [00:00<00:00, 54.25it/s, loss=33.2]\n"
          ]
        },
        {
          "output_type": "stream",
          "name": "stdout",
          "text": [
            "Epoch [1231/5000]: Train loss: 25.7957, Valid loss: 17.2917\n"
          ]
        },
        {
          "output_type": "stream",
          "name": "stderr",
          "text": [
            "Epoch [1232/5000]: 100%|██████████| 9/9 [00:00<00:00, 56.14it/s, loss=26.3]\n"
          ]
        },
        {
          "output_type": "stream",
          "name": "stdout",
          "text": [
            "Epoch [1232/5000]: Train loss: 26.7579, Valid loss: 16.0723\n"
          ]
        },
        {
          "output_type": "stream",
          "name": "stderr",
          "text": [
            "Epoch [1233/5000]: 100%|██████████| 9/9 [00:00<00:00, 72.12it/s, loss=25.9]\n"
          ]
        },
        {
          "output_type": "stream",
          "name": "stdout",
          "text": [
            "Epoch [1233/5000]: Train loss: 26.3766, Valid loss: 16.4392\n"
          ]
        },
        {
          "output_type": "stream",
          "name": "stderr",
          "text": [
            "Epoch [1234/5000]: 100%|██████████| 9/9 [00:00<00:00, 73.54it/s, loss=22.3]\n"
          ]
        },
        {
          "output_type": "stream",
          "name": "stdout",
          "text": [
            "Epoch [1234/5000]: Train loss: 28.1089, Valid loss: 15.0934\n"
          ]
        },
        {
          "output_type": "stream",
          "name": "stderr",
          "text": [
            "Epoch [1235/5000]: 100%|██████████| 9/9 [00:00<00:00, 67.37it/s, loss=39.1]\n"
          ]
        },
        {
          "output_type": "stream",
          "name": "stdout",
          "text": [
            "Epoch [1235/5000]: Train loss: 26.6867, Valid loss: 14.1239\n"
          ]
        },
        {
          "output_type": "stream",
          "name": "stderr",
          "text": [
            "Epoch [1236/5000]: 100%|██████████| 9/9 [00:00<00:00, 59.68it/s, loss=20.9]\n"
          ]
        },
        {
          "output_type": "stream",
          "name": "stdout",
          "text": [
            "Epoch [1236/5000]: Train loss: 26.9628, Valid loss: 13.5981\n"
          ]
        },
        {
          "output_type": "stream",
          "name": "stderr",
          "text": [
            "Epoch [1237/5000]: 100%|██████████| 9/9 [00:00<00:00, 69.29it/s, loss=28.9]\n"
          ]
        },
        {
          "output_type": "stream",
          "name": "stdout",
          "text": [
            "Epoch [1237/5000]: Train loss: 26.7879, Valid loss: 13.6369\n"
          ]
        },
        {
          "output_type": "stream",
          "name": "stderr",
          "text": [
            "Epoch [1238/5000]: 100%|██████████| 9/9 [00:00<00:00, 73.04it/s, loss=26.8]\n"
          ]
        },
        {
          "output_type": "stream",
          "name": "stdout",
          "text": [
            "Epoch [1238/5000]: Train loss: 26.9196, Valid loss: 17.7825\n"
          ]
        },
        {
          "output_type": "stream",
          "name": "stderr",
          "text": [
            "Epoch [1239/5000]: 100%|██████████| 9/9 [00:00<00:00, 73.81it/s, loss=23.3]\n"
          ]
        },
        {
          "output_type": "stream",
          "name": "stdout",
          "text": [
            "Epoch [1239/5000]: Train loss: 26.3111, Valid loss: 15.2752\n"
          ]
        },
        {
          "output_type": "stream",
          "name": "stderr",
          "text": [
            "Epoch [1240/5000]: 100%|██████████| 9/9 [00:00<00:00, 69.49it/s, loss=22.8]\n"
          ]
        },
        {
          "output_type": "stream",
          "name": "stdout",
          "text": [
            "Epoch [1240/5000]: Train loss: 25.4885, Valid loss: 13.4486\n"
          ]
        },
        {
          "output_type": "stream",
          "name": "stderr",
          "text": [
            "Epoch [1241/5000]: 100%|██████████| 9/9 [00:00<00:00, 69.41it/s, loss=24.7]\n"
          ]
        },
        {
          "output_type": "stream",
          "name": "stdout",
          "text": [
            "Epoch [1241/5000]: Train loss: 26.3765, Valid loss: 15.7699\n"
          ]
        },
        {
          "output_type": "stream",
          "name": "stderr",
          "text": [
            "Epoch [1242/5000]: 100%|██████████| 9/9 [00:00<00:00, 70.04it/s, loss=22.7]\n"
          ]
        },
        {
          "output_type": "stream",
          "name": "stdout",
          "text": [
            "Epoch [1242/5000]: Train loss: 25.5025, Valid loss: 16.4304\n"
          ]
        },
        {
          "output_type": "stream",
          "name": "stderr",
          "text": [
            "Epoch [1243/5000]: 100%|██████████| 9/9 [00:00<00:00, 65.26it/s, loss=31.3]\n"
          ]
        },
        {
          "output_type": "stream",
          "name": "stdout",
          "text": [
            "Epoch [1243/5000]: Train loss: 26.0620, Valid loss: 13.6571\n"
          ]
        },
        {
          "output_type": "stream",
          "name": "stderr",
          "text": [
            "Epoch [1244/5000]: 100%|██████████| 9/9 [00:00<00:00, 68.14it/s, loss=34.3]\n"
          ]
        },
        {
          "output_type": "stream",
          "name": "stdout",
          "text": [
            "Epoch [1244/5000]: Train loss: 27.5094, Valid loss: 17.3395\n"
          ]
        },
        {
          "output_type": "stream",
          "name": "stderr",
          "text": [
            "Epoch [1245/5000]: 100%|██████████| 9/9 [00:00<00:00, 70.58it/s, loss=29]\n"
          ]
        },
        {
          "output_type": "stream",
          "name": "stdout",
          "text": [
            "Epoch [1245/5000]: Train loss: 27.1415, Valid loss: 13.2386\n"
          ]
        },
        {
          "output_type": "stream",
          "name": "stderr",
          "text": [
            "Epoch [1246/5000]: 100%|██████████| 9/9 [00:00<00:00, 52.87it/s, loss=29.6]\n"
          ]
        },
        {
          "output_type": "stream",
          "name": "stdout",
          "text": [
            "Epoch [1246/5000]: Train loss: 27.0141, Valid loss: 15.7344\n"
          ]
        },
        {
          "output_type": "stream",
          "name": "stderr",
          "text": [
            "Epoch [1247/5000]: 100%|██████████| 9/9 [00:00<00:00, 55.86it/s, loss=25.9]\n"
          ]
        },
        {
          "output_type": "stream",
          "name": "stdout",
          "text": [
            "Epoch [1247/5000]: Train loss: 25.9936, Valid loss: 15.1939\n"
          ]
        },
        {
          "output_type": "stream",
          "name": "stderr",
          "text": [
            "Epoch [1248/5000]: 100%|██████████| 9/9 [00:00<00:00, 55.69it/s, loss=26.4]\n"
          ]
        },
        {
          "output_type": "stream",
          "name": "stdout",
          "text": [
            "Epoch [1248/5000]: Train loss: 27.7708, Valid loss: 15.6936\n"
          ]
        },
        {
          "output_type": "stream",
          "name": "stderr",
          "text": [
            "Epoch [1249/5000]: 100%|██████████| 9/9 [00:00<00:00, 62.73it/s, loss=23.9]\n"
          ]
        },
        {
          "output_type": "stream",
          "name": "stdout",
          "text": [
            "Epoch [1249/5000]: Train loss: 26.4463, Valid loss: 16.7113\n"
          ]
        },
        {
          "output_type": "stream",
          "name": "stderr",
          "text": [
            "Epoch [1250/5000]: 100%|██████████| 9/9 [00:00<00:00, 57.87it/s, loss=26.1]\n"
          ]
        },
        {
          "output_type": "stream",
          "name": "stdout",
          "text": [
            "Epoch [1250/5000]: Train loss: 24.5747, Valid loss: 15.2929\n"
          ]
        },
        {
          "output_type": "stream",
          "name": "stderr",
          "text": [
            "Epoch [1251/5000]: 100%|██████████| 9/9 [00:00<00:00, 64.89it/s, loss=22.5]\n"
          ]
        },
        {
          "output_type": "stream",
          "name": "stdout",
          "text": [
            "Epoch [1251/5000]: Train loss: 26.0343, Valid loss: 15.1702\n"
          ]
        },
        {
          "output_type": "stream",
          "name": "stderr",
          "text": [
            "Epoch [1252/5000]: 100%|██████████| 9/9 [00:00<00:00, 59.15it/s, loss=31.8]\n"
          ]
        },
        {
          "output_type": "stream",
          "name": "stdout",
          "text": [
            "Epoch [1252/5000]: Train loss: 27.0180, Valid loss: 17.7556\n"
          ]
        },
        {
          "output_type": "stream",
          "name": "stderr",
          "text": [
            "Epoch [1253/5000]: 100%|██████████| 9/9 [00:00<00:00, 56.71it/s, loss=35.8]\n"
          ]
        },
        {
          "output_type": "stream",
          "name": "stdout",
          "text": [
            "Epoch [1253/5000]: Train loss: 27.0812, Valid loss: 15.1039\n"
          ]
        },
        {
          "output_type": "stream",
          "name": "stderr",
          "text": [
            "Epoch [1254/5000]: 100%|██████████| 9/9 [00:00<00:00, 65.44it/s, loss=31.1]\n"
          ]
        },
        {
          "output_type": "stream",
          "name": "stdout",
          "text": [
            "Epoch [1254/5000]: Train loss: 25.6147, Valid loss: 13.8778\n"
          ]
        },
        {
          "output_type": "stream",
          "name": "stderr",
          "text": [
            "Epoch [1255/5000]: 100%|██████████| 9/9 [00:00<00:00, 67.86it/s, loss=33.4]\n"
          ]
        },
        {
          "output_type": "stream",
          "name": "stdout",
          "text": [
            "Epoch [1255/5000]: Train loss: 27.4960, Valid loss: 13.1329\n"
          ]
        },
        {
          "output_type": "stream",
          "name": "stderr",
          "text": [
            "Epoch [1256/5000]: 100%|██████████| 9/9 [00:00<00:00, 73.95it/s, loss=23.5]\n"
          ]
        },
        {
          "output_type": "stream",
          "name": "stdout",
          "text": [
            "Epoch [1256/5000]: Train loss: 26.4073, Valid loss: 14.0863\n"
          ]
        },
        {
          "output_type": "stream",
          "name": "stderr",
          "text": [
            "Epoch [1257/5000]: 100%|██████████| 9/9 [00:00<00:00, 47.07it/s, loss=24.8]\n"
          ]
        },
        {
          "output_type": "stream",
          "name": "stdout",
          "text": [
            "Epoch [1257/5000]: Train loss: 28.6050, Valid loss: 16.0706\n"
          ]
        },
        {
          "output_type": "stream",
          "name": "stderr",
          "text": [
            "Epoch [1258/5000]: 100%|██████████| 9/9 [00:00<00:00, 65.02it/s, loss=19.6]\n"
          ]
        },
        {
          "output_type": "stream",
          "name": "stdout",
          "text": [
            "Epoch [1258/5000]: Train loss: 25.2339, Valid loss: 14.4442\n"
          ]
        },
        {
          "output_type": "stream",
          "name": "stderr",
          "text": [
            "Epoch [1259/5000]: 100%|██████████| 9/9 [00:00<00:00, 61.46it/s, loss=29.2]\n"
          ]
        },
        {
          "output_type": "stream",
          "name": "stdout",
          "text": [
            "Epoch [1259/5000]: Train loss: 27.0134, Valid loss: 17.1813\n"
          ]
        },
        {
          "output_type": "stream",
          "name": "stderr",
          "text": [
            "Epoch [1260/5000]: 100%|██████████| 9/9 [00:00<00:00, 57.75it/s, loss=21.5]\n"
          ]
        },
        {
          "output_type": "stream",
          "name": "stdout",
          "text": [
            "Epoch [1260/5000]: Train loss: 25.5295, Valid loss: 13.7557\n"
          ]
        },
        {
          "output_type": "stream",
          "name": "stderr",
          "text": [
            "Epoch [1261/5000]: 100%|██████████| 9/9 [00:00<00:00, 55.20it/s, loss=23.1]\n"
          ]
        },
        {
          "output_type": "stream",
          "name": "stdout",
          "text": [
            "Epoch [1261/5000]: Train loss: 26.5021, Valid loss: 14.8642\n"
          ]
        },
        {
          "output_type": "stream",
          "name": "stderr",
          "text": [
            "Epoch [1262/5000]: 100%|██████████| 9/9 [00:00<00:00, 70.24it/s, loss=25.4]\n"
          ]
        },
        {
          "output_type": "stream",
          "name": "stdout",
          "text": [
            "Epoch [1262/5000]: Train loss: 25.3722, Valid loss: 14.1114\n"
          ]
        },
        {
          "output_type": "stream",
          "name": "stderr",
          "text": [
            "Epoch [1263/5000]: 100%|██████████| 9/9 [00:00<00:00, 74.44it/s, loss=23.9]\n"
          ]
        },
        {
          "output_type": "stream",
          "name": "stdout",
          "text": [
            "Epoch [1263/5000]: Train loss: 27.1997, Valid loss: 16.4492\n"
          ]
        },
        {
          "output_type": "stream",
          "name": "stderr",
          "text": [
            "Epoch [1264/5000]: 100%|██████████| 9/9 [00:00<00:00, 74.84it/s, loss=27.9]\n"
          ]
        },
        {
          "output_type": "stream",
          "name": "stdout",
          "text": [
            "Epoch [1264/5000]: Train loss: 28.9870, Valid loss: 14.6884\n"
          ]
        },
        {
          "output_type": "stream",
          "name": "stderr",
          "text": [
            "Epoch [1265/5000]: 100%|██████████| 9/9 [00:00<00:00, 79.39it/s, loss=30.3]\n"
          ]
        },
        {
          "output_type": "stream",
          "name": "stdout",
          "text": [
            "Epoch [1265/5000]: Train loss: 26.4846, Valid loss: 16.5025\n"
          ]
        },
        {
          "output_type": "stream",
          "name": "stderr",
          "text": [
            "Epoch [1266/5000]: 100%|██████████| 9/9 [00:00<00:00, 52.53it/s, loss=22.2]\n"
          ]
        },
        {
          "output_type": "stream",
          "name": "stdout",
          "text": [
            "Epoch [1266/5000]: Train loss: 26.8812, Valid loss: 15.0209\n"
          ]
        },
        {
          "output_type": "stream",
          "name": "stderr",
          "text": [
            "Epoch [1267/5000]: 100%|██████████| 9/9 [00:00<00:00, 56.29it/s, loss=19.8]\n"
          ]
        },
        {
          "output_type": "stream",
          "name": "stdout",
          "text": [
            "Epoch [1267/5000]: Train loss: 26.1283, Valid loss: 16.4636\n"
          ]
        },
        {
          "output_type": "stream",
          "name": "stderr",
          "text": [
            "Epoch [1268/5000]: 100%|██████████| 9/9 [00:00<00:00, 60.70it/s, loss=21.1]\n"
          ]
        },
        {
          "output_type": "stream",
          "name": "stdout",
          "text": [
            "Epoch [1268/5000]: Train loss: 26.6255, Valid loss: 14.4091\n"
          ]
        },
        {
          "output_type": "stream",
          "name": "stderr",
          "text": [
            "Epoch [1269/5000]: 100%|██████████| 9/9 [00:00<00:00, 68.29it/s, loss=25.3]\n"
          ]
        },
        {
          "output_type": "stream",
          "name": "stdout",
          "text": [
            "Epoch [1269/5000]: Train loss: 26.4036, Valid loss: 16.1661\n"
          ]
        },
        {
          "output_type": "stream",
          "name": "stderr",
          "text": [
            "Epoch [1270/5000]: 100%|██████████| 9/9 [00:00<00:00, 51.58it/s, loss=24.6]\n"
          ]
        },
        {
          "output_type": "stream",
          "name": "stdout",
          "text": [
            "Epoch [1270/5000]: Train loss: 25.4231, Valid loss: 15.4843\n"
          ]
        },
        {
          "output_type": "stream",
          "name": "stderr",
          "text": [
            "Epoch [1271/5000]: 100%|██████████| 9/9 [00:00<00:00, 56.47it/s, loss=30.7]\n"
          ]
        },
        {
          "output_type": "stream",
          "name": "stdout",
          "text": [
            "Epoch [1271/5000]: Train loss: 26.7717, Valid loss: 15.8618\n"
          ]
        },
        {
          "output_type": "stream",
          "name": "stderr",
          "text": [
            "Epoch [1272/5000]: 100%|██████████| 9/9 [00:00<00:00, 61.52it/s, loss=29]\n"
          ]
        },
        {
          "output_type": "stream",
          "name": "stdout",
          "text": [
            "Epoch [1272/5000]: Train loss: 26.2117, Valid loss: 15.1355\n"
          ]
        },
        {
          "output_type": "stream",
          "name": "stderr",
          "text": [
            "Epoch [1273/5000]: 100%|██████████| 9/9 [00:00<00:00, 60.63it/s, loss=17.6]\n"
          ]
        },
        {
          "output_type": "stream",
          "name": "stdout",
          "text": [
            "Epoch [1273/5000]: Train loss: 24.6971, Valid loss: 14.3773\n"
          ]
        },
        {
          "output_type": "stream",
          "name": "stderr",
          "text": [
            "Epoch [1274/5000]: 100%|██████████| 9/9 [00:00<00:00, 50.83it/s, loss=41]\n"
          ]
        },
        {
          "output_type": "stream",
          "name": "stdout",
          "text": [
            "Epoch [1274/5000]: Train loss: 26.7036, Valid loss: 15.1842\n"
          ]
        },
        {
          "output_type": "stream",
          "name": "stderr",
          "text": [
            "Epoch [1275/5000]: 100%|██████████| 9/9 [00:00<00:00, 55.06it/s, loss=25.8]\n"
          ]
        },
        {
          "output_type": "stream",
          "name": "stdout",
          "text": [
            "Epoch [1275/5000]: Train loss: 25.4895, Valid loss: 14.8975\n"
          ]
        },
        {
          "output_type": "stream",
          "name": "stderr",
          "text": [
            "Epoch [1276/5000]: 100%|██████████| 9/9 [00:00<00:00, 55.24it/s, loss=32.2]\n"
          ]
        },
        {
          "output_type": "stream",
          "name": "stdout",
          "text": [
            "Epoch [1276/5000]: Train loss: 26.8652, Valid loss: 16.2616\n"
          ]
        },
        {
          "output_type": "stream",
          "name": "stderr",
          "text": [
            "Epoch [1277/5000]: 100%|██████████| 9/9 [00:00<00:00, 59.93it/s, loss=26.8]\n"
          ]
        },
        {
          "output_type": "stream",
          "name": "stdout",
          "text": [
            "Epoch [1277/5000]: Train loss: 27.2591, Valid loss: 15.2909\n"
          ]
        },
        {
          "output_type": "stream",
          "name": "stderr",
          "text": [
            "Epoch [1278/5000]: 100%|██████████| 9/9 [00:00<00:00, 58.73it/s, loss=22.7]\n"
          ]
        },
        {
          "output_type": "stream",
          "name": "stdout",
          "text": [
            "Epoch [1278/5000]: Train loss: 26.8478, Valid loss: 14.6063\n"
          ]
        },
        {
          "output_type": "stream",
          "name": "stderr",
          "text": [
            "Epoch [1279/5000]: 100%|██████████| 9/9 [00:00<00:00, 53.06it/s, loss=26]\n"
          ]
        },
        {
          "output_type": "stream",
          "name": "stdout",
          "text": [
            "Epoch [1279/5000]: Train loss: 26.1761, Valid loss: 16.0731\n"
          ]
        },
        {
          "output_type": "stream",
          "name": "stderr",
          "text": [
            "Epoch [1280/5000]: 100%|██████████| 9/9 [00:00<00:00, 67.40it/s, loss=32.7]\n"
          ]
        },
        {
          "output_type": "stream",
          "name": "stdout",
          "text": [
            "Epoch [1280/5000]: Train loss: 27.1615, Valid loss: 15.2279\n"
          ]
        },
        {
          "output_type": "stream",
          "name": "stderr",
          "text": [
            "Epoch [1281/5000]: 100%|██████████| 9/9 [00:00<00:00, 66.60it/s, loss=34.3]\n"
          ]
        },
        {
          "output_type": "stream",
          "name": "stdout",
          "text": [
            "Epoch [1281/5000]: Train loss: 27.2841, Valid loss: 17.1201\n"
          ]
        },
        {
          "output_type": "stream",
          "name": "stderr",
          "text": [
            "Epoch [1282/5000]: 100%|██████████| 9/9 [00:00<00:00, 70.87it/s, loss=18.5]\n"
          ]
        },
        {
          "output_type": "stream",
          "name": "stdout",
          "text": [
            "Epoch [1282/5000]: Train loss: 25.5151, Valid loss: 19.4136\n"
          ]
        },
        {
          "output_type": "stream",
          "name": "stderr",
          "text": [
            "Epoch [1283/5000]: 100%|██████████| 9/9 [00:00<00:00, 69.87it/s, loss=26.4]\n"
          ]
        },
        {
          "output_type": "stream",
          "name": "stdout",
          "text": [
            "Epoch [1283/5000]: Train loss: 25.8830, Valid loss: 14.2986\n"
          ]
        },
        {
          "output_type": "stream",
          "name": "stderr",
          "text": [
            "Epoch [1284/5000]: 100%|██████████| 9/9 [00:00<00:00, 63.18it/s, loss=23.4]\n"
          ]
        },
        {
          "output_type": "stream",
          "name": "stdout",
          "text": [
            "Epoch [1284/5000]: Train loss: 25.6090, Valid loss: 17.5742\n"
          ]
        },
        {
          "output_type": "stream",
          "name": "stderr",
          "text": [
            "Epoch [1285/5000]: 100%|██████████| 9/9 [00:00<00:00, 54.63it/s, loss=21.4]\n"
          ]
        },
        {
          "output_type": "stream",
          "name": "stdout",
          "text": [
            "Epoch [1285/5000]: Train loss: 25.3931, Valid loss: 15.7483\n"
          ]
        },
        {
          "output_type": "stream",
          "name": "stderr",
          "text": [
            "Epoch [1286/5000]: 100%|██████████| 9/9 [00:00<00:00, 54.19it/s, loss=24.3]\n"
          ]
        },
        {
          "output_type": "stream",
          "name": "stdout",
          "text": [
            "Epoch [1286/5000]: Train loss: 25.3895, Valid loss: 15.7497\n"
          ]
        },
        {
          "output_type": "stream",
          "name": "stderr",
          "text": [
            "Epoch [1287/5000]: 100%|██████████| 9/9 [00:00<00:00, 63.02it/s, loss=25.8]\n"
          ]
        },
        {
          "output_type": "stream",
          "name": "stdout",
          "text": [
            "Epoch [1287/5000]: Train loss: 25.2172, Valid loss: 17.0044\n"
          ]
        },
        {
          "output_type": "stream",
          "name": "stderr",
          "text": [
            "Epoch [1288/5000]: 100%|██████████| 9/9 [00:00<00:00, 53.35it/s, loss=20.2]\n"
          ]
        },
        {
          "output_type": "stream",
          "name": "stdout",
          "text": [
            "Epoch [1288/5000]: Train loss: 24.2478, Valid loss: 15.6014\n"
          ]
        },
        {
          "output_type": "stream",
          "name": "stderr",
          "text": [
            "Epoch [1289/5000]: 100%|██████████| 9/9 [00:00<00:00, 53.78it/s, loss=26]\n"
          ]
        },
        {
          "output_type": "stream",
          "name": "stdout",
          "text": [
            "Epoch [1289/5000]: Train loss: 25.3210, Valid loss: 18.8536\n"
          ]
        },
        {
          "output_type": "stream",
          "name": "stderr",
          "text": [
            "Epoch [1290/5000]: 100%|██████████| 9/9 [00:00<00:00, 70.99it/s, loss=24.7]\n"
          ]
        },
        {
          "output_type": "stream",
          "name": "stdout",
          "text": [
            "Epoch [1290/5000]: Train loss: 27.1411, Valid loss: 16.6049\n"
          ]
        },
        {
          "output_type": "stream",
          "name": "stderr",
          "text": [
            "Epoch [1291/5000]: 100%|██████████| 9/9 [00:00<00:00, 70.95it/s, loss=36.4]\n"
          ]
        },
        {
          "output_type": "stream",
          "name": "stdout",
          "text": [
            "Epoch [1291/5000]: Train loss: 27.0053, Valid loss: 15.6642\n"
          ]
        },
        {
          "output_type": "stream",
          "name": "stderr",
          "text": [
            "Epoch [1292/5000]: 100%|██████████| 9/9 [00:00<00:00, 58.65it/s, loss=21.4]\n"
          ]
        },
        {
          "output_type": "stream",
          "name": "stdout",
          "text": [
            "Epoch [1292/5000]: Train loss: 25.7453, Valid loss: 16.2222\n"
          ]
        },
        {
          "output_type": "stream",
          "name": "stderr",
          "text": [
            "Epoch [1293/5000]: 100%|██████████| 9/9 [00:00<00:00, 59.97it/s, loss=32.2]\n"
          ]
        },
        {
          "output_type": "stream",
          "name": "stdout",
          "text": [
            "Epoch [1293/5000]: Train loss: 26.0421, Valid loss: 13.8765\n"
          ]
        },
        {
          "output_type": "stream",
          "name": "stderr",
          "text": [
            "Epoch [1294/5000]: 100%|██████████| 9/9 [00:00<00:00, 68.27it/s, loss=23.6]\n"
          ]
        },
        {
          "output_type": "stream",
          "name": "stdout",
          "text": [
            "Epoch [1294/5000]: Train loss: 25.3942, Valid loss: 15.8410\n"
          ]
        },
        {
          "output_type": "stream",
          "name": "stderr",
          "text": [
            "Epoch [1295/5000]: 100%|██████████| 9/9 [00:00<00:00, 62.16it/s, loss=23.6]\n"
          ]
        },
        {
          "output_type": "stream",
          "name": "stdout",
          "text": [
            "Epoch [1295/5000]: Train loss: 26.6929, Valid loss: 16.7437\n"
          ]
        },
        {
          "output_type": "stream",
          "name": "stderr",
          "text": [
            "Epoch [1296/5000]: 100%|██████████| 9/9 [00:00<00:00, 63.52it/s, loss=20.1]\n"
          ]
        },
        {
          "output_type": "stream",
          "name": "stdout",
          "text": [
            "Epoch [1296/5000]: Train loss: 27.6787, Valid loss: 16.0759\n"
          ]
        },
        {
          "output_type": "stream",
          "name": "stderr",
          "text": [
            "Epoch [1297/5000]: 100%|██████████| 9/9 [00:00<00:00, 73.27it/s, loss=20.9]\n"
          ]
        },
        {
          "output_type": "stream",
          "name": "stdout",
          "text": [
            "Epoch [1297/5000]: Train loss: 25.3122, Valid loss: 17.5893\n"
          ]
        },
        {
          "output_type": "stream",
          "name": "stderr",
          "text": [
            "Epoch [1298/5000]: 100%|██████████| 9/9 [00:00<00:00, 61.19it/s, loss=25.9]\n"
          ]
        },
        {
          "output_type": "stream",
          "name": "stdout",
          "text": [
            "Epoch [1298/5000]: Train loss: 27.2435, Valid loss: 13.4428\n"
          ]
        },
        {
          "output_type": "stream",
          "name": "stderr",
          "text": [
            "Epoch [1299/5000]: 100%|██████████| 9/9 [00:00<00:00, 55.06it/s, loss=29.4]\n"
          ]
        },
        {
          "output_type": "stream",
          "name": "stdout",
          "text": [
            "Epoch [1299/5000]: Train loss: 25.7695, Valid loss: 18.0339\n"
          ]
        },
        {
          "output_type": "stream",
          "name": "stderr",
          "text": [
            "Epoch [1300/5000]: 100%|██████████| 9/9 [00:00<00:00, 65.75it/s, loss=25.3]\n"
          ]
        },
        {
          "output_type": "stream",
          "name": "stdout",
          "text": [
            "Epoch [1300/5000]: Train loss: 26.3478, Valid loss: 18.4185\n"
          ]
        },
        {
          "output_type": "stream",
          "name": "stderr",
          "text": [
            "Epoch [1301/5000]: 100%|██████████| 9/9 [00:00<00:00, 50.45it/s, loss=28]\n"
          ]
        },
        {
          "output_type": "stream",
          "name": "stdout",
          "text": [
            "Epoch [1301/5000]: Train loss: 24.7195, Valid loss: 15.2332\n"
          ]
        },
        {
          "output_type": "stream",
          "name": "stderr",
          "text": [
            "Epoch [1302/5000]: 100%|██████████| 9/9 [00:00<00:00, 59.77it/s, loss=15.2]\n"
          ]
        },
        {
          "output_type": "stream",
          "name": "stdout",
          "text": [
            "Epoch [1302/5000]: Train loss: 26.0975, Valid loss: 16.6136\n"
          ]
        },
        {
          "output_type": "stream",
          "name": "stderr",
          "text": [
            "Epoch [1303/5000]: 100%|██████████| 9/9 [00:00<00:00, 59.61it/s, loss=22.6]\n"
          ]
        },
        {
          "output_type": "stream",
          "name": "stdout",
          "text": [
            "Epoch [1303/5000]: Train loss: 24.7159, Valid loss: 13.6418\n"
          ]
        },
        {
          "output_type": "stream",
          "name": "stderr",
          "text": [
            "Epoch [1304/5000]: 100%|██████████| 9/9 [00:00<00:00, 49.26it/s, loss=15.5]\n"
          ]
        },
        {
          "output_type": "stream",
          "name": "stdout",
          "text": [
            "Epoch [1304/5000]: Train loss: 25.5275, Valid loss: 19.6797\n"
          ]
        },
        {
          "output_type": "stream",
          "name": "stderr",
          "text": [
            "Epoch [1305/5000]: 100%|██████████| 9/9 [00:00<00:00, 57.70it/s, loss=21.1]\n"
          ]
        },
        {
          "output_type": "stream",
          "name": "stdout",
          "text": [
            "Epoch [1305/5000]: Train loss: 25.9070, Valid loss: 17.8769\n"
          ]
        },
        {
          "output_type": "stream",
          "name": "stderr",
          "text": [
            "Epoch [1306/5000]: 100%|██████████| 9/9 [00:00<00:00, 58.17it/s, loss=25.8]\n"
          ]
        },
        {
          "output_type": "stream",
          "name": "stdout",
          "text": [
            "Epoch [1306/5000]: Train loss: 26.5655, Valid loss: 15.9915\n"
          ]
        },
        {
          "output_type": "stream",
          "name": "stderr",
          "text": [
            "Epoch [1307/5000]: 100%|██████████| 9/9 [00:00<00:00, 62.56it/s, loss=24.6]\n"
          ]
        },
        {
          "output_type": "stream",
          "name": "stdout",
          "text": [
            "Epoch [1307/5000]: Train loss: 26.2734, Valid loss: 17.2455\n"
          ]
        },
        {
          "output_type": "stream",
          "name": "stderr",
          "text": [
            "Epoch [1308/5000]: 100%|██████████| 9/9 [00:00<00:00, 53.71it/s, loss=31.5]\n"
          ]
        },
        {
          "output_type": "stream",
          "name": "stdout",
          "text": [
            "Epoch [1308/5000]: Train loss: 26.4984, Valid loss: 16.4314\n"
          ]
        },
        {
          "output_type": "stream",
          "name": "stderr",
          "text": [
            "Epoch [1309/5000]: 100%|██████████| 9/9 [00:00<00:00, 58.09it/s, loss=19.7]\n"
          ]
        },
        {
          "output_type": "stream",
          "name": "stdout",
          "text": [
            "Epoch [1309/5000]: Train loss: 24.4895, Valid loss: 16.7271\n"
          ]
        },
        {
          "output_type": "stream",
          "name": "stderr",
          "text": [
            "Epoch [1310/5000]: 100%|██████████| 9/9 [00:00<00:00, 70.40it/s, loss=32.4]\n"
          ]
        },
        {
          "output_type": "stream",
          "name": "stdout",
          "text": [
            "Epoch [1310/5000]: Train loss: 26.4112, Valid loss: 17.9776\n"
          ]
        },
        {
          "output_type": "stream",
          "name": "stderr",
          "text": [
            "Epoch [1311/5000]: 100%|██████████| 9/9 [00:00<00:00, 76.44it/s, loss=20.3]\n"
          ]
        },
        {
          "output_type": "stream",
          "name": "stdout",
          "text": [
            "Epoch [1311/5000]: Train loss: 25.3606, Valid loss: 16.3537\n"
          ]
        },
        {
          "output_type": "stream",
          "name": "stderr",
          "text": [
            "Epoch [1312/5000]: 100%|██████████| 9/9 [00:00<00:00, 27.42it/s, loss=22.2]\n"
          ]
        },
        {
          "output_type": "stream",
          "name": "stdout",
          "text": [
            "Epoch [1312/5000]: Train loss: 26.5973, Valid loss: 15.9666\n"
          ]
        },
        {
          "output_type": "stream",
          "name": "stderr",
          "text": [
            "Epoch [1313/5000]: 100%|██████████| 9/9 [00:00<00:00, 58.77it/s, loss=28.2]\n"
          ]
        },
        {
          "output_type": "stream",
          "name": "stdout",
          "text": [
            "Epoch [1313/5000]: Train loss: 26.5284, Valid loss: 15.9039\n"
          ]
        },
        {
          "output_type": "stream",
          "name": "stderr",
          "text": [
            "Epoch [1314/5000]: 100%|██████████| 9/9 [00:00<00:00, 58.15it/s, loss=22.9]\n"
          ]
        },
        {
          "output_type": "stream",
          "name": "stdout",
          "text": [
            "Epoch [1314/5000]: Train loss: 25.1537, Valid loss: 17.6744\n"
          ]
        },
        {
          "output_type": "stream",
          "name": "stderr",
          "text": [
            "Epoch [1315/5000]: 100%|██████████| 9/9 [00:00<00:00, 66.43it/s, loss=23.1]\n"
          ]
        },
        {
          "output_type": "stream",
          "name": "stdout",
          "text": [
            "Epoch [1315/5000]: Train loss: 24.4552, Valid loss: 14.4810\n"
          ]
        },
        {
          "output_type": "stream",
          "name": "stderr",
          "text": [
            "Epoch [1316/5000]: 100%|██████████| 9/9 [00:00<00:00, 73.26it/s, loss=20.3]\n"
          ]
        },
        {
          "output_type": "stream",
          "name": "stdout",
          "text": [
            "Epoch [1316/5000]: Train loss: 25.3951, Valid loss: 14.3091\n"
          ]
        },
        {
          "output_type": "stream",
          "name": "stderr",
          "text": [
            "Epoch [1317/5000]: 100%|██████████| 9/9 [00:00<00:00, 76.04it/s, loss=29.3]\n"
          ]
        },
        {
          "output_type": "stream",
          "name": "stdout",
          "text": [
            "Epoch [1317/5000]: Train loss: 25.5551, Valid loss: 14.7605\n"
          ]
        },
        {
          "output_type": "stream",
          "name": "stderr",
          "text": [
            "Epoch [1318/5000]: 100%|██████████| 9/9 [00:00<00:00, 75.24it/s, loss=20.5]\n"
          ]
        },
        {
          "output_type": "stream",
          "name": "stdout",
          "text": [
            "Epoch [1318/5000]: Train loss: 24.8549, Valid loss: 16.4603\n"
          ]
        },
        {
          "output_type": "stream",
          "name": "stderr",
          "text": [
            "Epoch [1319/5000]: 100%|██████████| 9/9 [00:00<00:00, 73.41it/s, loss=23.2]\n"
          ]
        },
        {
          "output_type": "stream",
          "name": "stdout",
          "text": [
            "Epoch [1319/5000]: Train loss: 24.1205, Valid loss: 16.2682\n"
          ]
        },
        {
          "output_type": "stream",
          "name": "stderr",
          "text": [
            "Epoch [1320/5000]: 100%|██████████| 9/9 [00:00<00:00, 67.95it/s, loss=23.6]\n"
          ]
        },
        {
          "output_type": "stream",
          "name": "stdout",
          "text": [
            "Epoch [1320/5000]: Train loss: 25.3380, Valid loss: 14.1558\n"
          ]
        },
        {
          "output_type": "stream",
          "name": "stderr",
          "text": [
            "Epoch [1321/5000]: 100%|██████████| 9/9 [00:00<00:00, 66.33it/s, loss=15.3]\n"
          ]
        },
        {
          "output_type": "stream",
          "name": "stdout",
          "text": [
            "Epoch [1321/5000]: Train loss: 24.7141, Valid loss: 16.0301\n"
          ]
        },
        {
          "output_type": "stream",
          "name": "stderr",
          "text": [
            "Epoch [1322/5000]: 100%|██████████| 9/9 [00:00<00:00, 66.54it/s, loss=22.1]\n"
          ]
        },
        {
          "output_type": "stream",
          "name": "stdout",
          "text": [
            "Epoch [1322/5000]: Train loss: 26.7243, Valid loss: 16.2882\n"
          ]
        },
        {
          "output_type": "stream",
          "name": "stderr",
          "text": [
            "Epoch [1323/5000]: 100%|██████████| 9/9 [00:00<00:00, 66.46it/s, loss=26.5]\n"
          ]
        },
        {
          "output_type": "stream",
          "name": "stdout",
          "text": [
            "Epoch [1323/5000]: Train loss: 25.0350, Valid loss: 15.8782\n"
          ]
        },
        {
          "output_type": "stream",
          "name": "stderr",
          "text": [
            "Epoch [1324/5000]: 100%|██████████| 9/9 [00:00<00:00, 56.96it/s, loss=22.4]\n"
          ]
        },
        {
          "output_type": "stream",
          "name": "stdout",
          "text": [
            "Epoch [1324/5000]: Train loss: 25.9635, Valid loss: 15.2351\n"
          ]
        },
        {
          "output_type": "stream",
          "name": "stderr",
          "text": [
            "Epoch [1325/5000]: 100%|██████████| 9/9 [00:00<00:00, 57.71it/s, loss=18.6]\n"
          ]
        },
        {
          "output_type": "stream",
          "name": "stdout",
          "text": [
            "Epoch [1325/5000]: Train loss: 25.7421, Valid loss: 15.1646\n"
          ]
        },
        {
          "output_type": "stream",
          "name": "stderr",
          "text": [
            "Epoch [1326/5000]: 100%|██████████| 9/9 [00:00<00:00, 73.45it/s, loss=27.5]\n"
          ]
        },
        {
          "output_type": "stream",
          "name": "stdout",
          "text": [
            "Epoch [1326/5000]: Train loss: 27.1041, Valid loss: 16.1231\n"
          ]
        },
        {
          "output_type": "stream",
          "name": "stderr",
          "text": [
            "Epoch [1327/5000]: 100%|██████████| 9/9 [00:00<00:00, 71.30it/s, loss=28.6]\n"
          ]
        },
        {
          "output_type": "stream",
          "name": "stdout",
          "text": [
            "Epoch [1327/5000]: Train loss: 25.8718, Valid loss: 16.2916\n"
          ]
        },
        {
          "output_type": "stream",
          "name": "stderr",
          "text": [
            "Epoch [1328/5000]: 100%|██████████| 9/9 [00:00<00:00, 60.82it/s, loss=30.4]\n"
          ]
        },
        {
          "output_type": "stream",
          "name": "stdout",
          "text": [
            "Epoch [1328/5000]: Train loss: 25.3960, Valid loss: 14.2651\n"
          ]
        },
        {
          "output_type": "stream",
          "name": "stderr",
          "text": [
            "Epoch [1329/5000]: 100%|██████████| 9/9 [00:00<00:00, 75.71it/s, loss=25.1]\n"
          ]
        },
        {
          "output_type": "stream",
          "name": "stdout",
          "text": [
            "Epoch [1329/5000]: Train loss: 26.3424, Valid loss: 16.1449\n"
          ]
        },
        {
          "output_type": "stream",
          "name": "stderr",
          "text": [
            "Epoch [1330/5000]: 100%|██████████| 9/9 [00:00<00:00, 76.36it/s, loss=39.9]\n"
          ]
        },
        {
          "output_type": "stream",
          "name": "stdout",
          "text": [
            "Epoch [1330/5000]: Train loss: 26.8097, Valid loss: 15.3272\n"
          ]
        },
        {
          "output_type": "stream",
          "name": "stderr",
          "text": [
            "Epoch [1331/5000]: 100%|██████████| 9/9 [00:00<00:00, 75.66it/s, loss=21.9]\n"
          ]
        },
        {
          "output_type": "stream",
          "name": "stdout",
          "text": [
            "Epoch [1331/5000]: Train loss: 25.1966, Valid loss: 15.4094\n"
          ]
        },
        {
          "output_type": "stream",
          "name": "stderr",
          "text": [
            "Epoch [1332/5000]: 100%|██████████| 9/9 [00:00<00:00, 73.79it/s, loss=21.3]\n"
          ]
        },
        {
          "output_type": "stream",
          "name": "stdout",
          "text": [
            "Epoch [1332/5000]: Train loss: 24.7170, Valid loss: 14.9912\n"
          ]
        },
        {
          "output_type": "stream",
          "name": "stderr",
          "text": [
            "Epoch [1333/5000]: 100%|██████████| 9/9 [00:00<00:00, 74.76it/s, loss=18.1]\n"
          ]
        },
        {
          "output_type": "stream",
          "name": "stdout",
          "text": [
            "Epoch [1333/5000]: Train loss: 23.1521, Valid loss: 15.3649\n"
          ]
        },
        {
          "output_type": "stream",
          "name": "stderr",
          "text": [
            "Epoch [1334/5000]: 100%|██████████| 9/9 [00:00<00:00, 74.87it/s, loss=21.9]\n"
          ]
        },
        {
          "output_type": "stream",
          "name": "stdout",
          "text": [
            "Epoch [1334/5000]: Train loss: 26.2759, Valid loss: 17.2638\n"
          ]
        },
        {
          "output_type": "stream",
          "name": "stderr",
          "text": [
            "Epoch [1335/5000]: 100%|██████████| 9/9 [00:00<00:00, 72.06it/s, loss=29.4]\n"
          ]
        },
        {
          "output_type": "stream",
          "name": "stdout",
          "text": [
            "Epoch [1335/5000]: Train loss: 25.8827, Valid loss: 17.6748\n"
          ]
        },
        {
          "output_type": "stream",
          "name": "stderr",
          "text": [
            "Epoch [1336/5000]:  89%|████████▉ | 8/9 [00:00<00:00, 72.07it/s, loss=25.4]"
          ]
        }
      ],
      "source": [
        "model = My_Model(input_dim=x_train.shape[1]).to(device) # put your model and data on the same computation device.\n",
        "trainer(train_loader, valid_loader, model, config, device)"
      ]
    },
    {
      "cell_type": "markdown",
      "metadata": {
        "id": "Ik09KPqU-di-"
      },
      "source": [
        "# Plot learning curves with `tensorboard` (optional)\n",
        "\n",
        "`tensorboard` is a tool that allows you to visualize your training progress.\n",
        "\n",
        "If this block does not display your learning curve, please wait for few minutes, and re-run this block. It might take some time to load your logging information. "
      ]
    },
    {
      "cell_type": "code",
      "execution_count": null,
      "metadata": {
        "id": "loA4nKmLGQ-n"
      },
      "outputs": [],
      "source": [
        "%reload_ext tensorboard\n",
        "%tensorboard --logdir=./runs/"
      ]
    },
    {
      "cell_type": "markdown",
      "metadata": {
        "id": "yhAHGqC9-woK"
      },
      "source": [
        "# Testing\n",
        "The predictions of your model on testing set will be stored at `pred.csv`."
      ]
    },
    {
      "cell_type": "code",
      "execution_count": null,
      "metadata": {
        "id": "Q5eVdpbvAlAe"
      },
      "outputs": [],
      "source": [
        "def save_pred(preds, file):\n",
        "    ''' Save predictions to specified file '''\n",
        "    with open(file, 'w') as fp:\n",
        "        writer = csv.writer(fp)\n",
        "        writer.writerow(['id', 'tested_positive'])\n",
        "        for i, p in enumerate(preds):\n",
        "            writer.writerow([i, p])\n",
        "\n",
        "model = My_Model(input_dim=x_train.shape[1]).to(device)\n",
        "model.load_state_dict(torch.load(config['save_path']))\n",
        "preds = predict(test_loader, model, device) \n",
        "save_pred(preds, 'pred.csv')         "
      ]
    },
    {
      "cell_type": "markdown",
      "source": [
        "# Reference\n",
        "This notebook uses code written by Heng-Jui Chang @ NTUEE (https://github.com/ga642381/ML2021-Spring/blob/main/HW01/HW01.ipynb)"
      ],
      "metadata": {
        "id": "IJ_k5rY0GvSV"
      }
    }
  ],
  "metadata": {
    "accelerator": "GPU",
    "colab": {
      "collapsed_sections": [],
      "name": "ML2022Spring - HW1.ipynb",
      "provenance": [],
      "include_colab_link": true
    },
    "kernelspec": {
      "display_name": "Python 3",
      "name": "python3"
    },
    "language_info": {
      "name": "python"
    }
  },
  "nbformat": 4,
  "nbformat_minor": 0
}